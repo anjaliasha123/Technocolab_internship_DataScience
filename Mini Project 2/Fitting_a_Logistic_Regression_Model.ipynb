{
  "nbformat": 4,
  "nbformat_minor": 0,
  "metadata": {
    "kernelspec": {
      "display_name": "Python 3",
      "language": "python",
      "name": "python3"
    },
    "language_info": {
      "codemirror_mode": {
        "name": "ipython",
        "version": 3
      },
      "file_extension": ".py",
      "mimetype": "text/x-python",
      "name": "python",
      "nbconvert_exporter": "python",
      "pygments_lexer": "ipython3",
      "version": "3.7.4"
    },
    "colab": {
      "name": "Fitting_a_Logistic_Regression_Model.ipynb",
      "provenance": []
    }
  },
  "cells": [
    {
      "cell_type": "markdown",
      "metadata": {
        "id": "VY6SJquj4bhF",
        "colab_type": "text"
      },
      "source": [
        "**Run the following two cells before you begin.**"
      ]
    },
    {
      "cell_type": "code",
      "metadata": {
        "id": "GC4zz92d4bhM",
        "colab_type": "code",
        "colab": {
          "base_uri": "https://localhost:8080/",
          "height": 34
        },
        "outputId": "57304556-d812-448a-c40c-f8daf7e096a8"
      },
      "source": [
        "%autosave 10"
      ],
      "execution_count": 46,
      "outputs": [
        {
          "output_type": "display_data",
          "data": {
            "application/javascript": [
              "IPython.notebook.set_autosave_interval(10000)"
            ]
          },
          "metadata": {
            "tags": []
          }
        },
        {
          "output_type": "stream",
          "text": [
            "Autosaving every 10 seconds\n"
          ],
          "name": "stdout"
        }
      ]
    },
    {
      "cell_type": "code",
      "metadata": {
        "id": "OHkfkT0R4bh4",
        "colab_type": "code",
        "colab": {}
      },
      "source": [
        "import pandas as pd\n",
        "import numpy as np"
      ],
      "execution_count": 47,
      "outputs": []
    },
    {
      "cell_type": "markdown",
      "metadata": {
        "id": "cNEXaUbc4bis",
        "colab_type": "text"
      },
      "source": [
        "______________________________________________________________________\n",
        "**First, import your data set and define the sigmoid function.**\n",
        "<details>\n",
        "    <summary>Hint:</summary>\n",
        "    The definition of the sigmoid is $f(x) = \\frac{1}{1 + e^{-X}}$.\n",
        "</details>"
      ]
    },
    {
      "cell_type": "code",
      "metadata": {
        "id": "ZJ5W7YoL4bix",
        "colab_type": "code",
        "colab": {}
      },
      "source": [
        "# Import the data set\n",
        "data = pd.read_csv('cleaned_data.csv')"
      ],
      "execution_count": 48,
      "outputs": []
    },
    {
      "cell_type": "code",
      "metadata": {
        "id": "gDwAd142_hPf",
        "colab_type": "code",
        "colab": {}
      },
      "source": [
        "data.isnull().sum()"
      ],
      "execution_count": null,
      "outputs": []
    },
    {
      "cell_type": "code",
      "metadata": {
        "id": "cQjsqs-p4bjG",
        "colab_type": "code",
        "colab": {}
      },
      "source": [
        "# Define the sigmoid function\n",
        "def sigmoid_fun(x):\n",
        "  return (1/(1+np.exp(-x)))"
      ],
      "execution_count": 50,
      "outputs": []
    },
    {
      "cell_type": "markdown",
      "metadata": {
        "id": "E3upEwUZ4bjc",
        "colab_type": "text"
      },
      "source": [
        "**Now, create a train/test split (80/20) with `PAY_1` and `LIMIT_BAL` as features and `default payment next month` as values. Use a random state of 24.**"
      ]
    },
    {
      "cell_type": "code",
      "metadata": {
        "id": "RPhpM2304bjg",
        "colab_type": "code",
        "colab": {}
      },
      "source": [
        "# Create a train/test split\n",
        "from sklearn.model_selection import train_test_split\n",
        "X_train,X_test,y_train,y_test = train_test_split(data[['PAY_1','LIMIT_BAL']].values,data['default payment next month'].values,test_size=0.2,random_state=24)"
      ],
      "execution_count": 178,
      "outputs": []
    },
    {
      "cell_type": "markdown",
      "metadata": {
        "id": "Q9gg0Ttk4bkD",
        "colab_type": "text"
      },
      "source": [
        "______________________________________________________________________\n",
        "**Next, import LogisticRegression, with the default options, but set the solver to `'liblinear'`.**"
      ]
    },
    {
      "cell_type": "code",
      "metadata": {
        "id": "ptBxLEo24bkO",
        "colab_type": "code",
        "colab": {}
      },
      "source": [
        "from sklearn.linear_model import LogisticRegression\n",
        "lr = LogisticRegression(solver='liblinear')"
      ],
      "execution_count": 179,
      "outputs": []
    },
    {
      "cell_type": "markdown",
      "metadata": {
        "id": "VhVa5Wds4blD",
        "colab_type": "text"
      },
      "source": [
        "______________________________________________________________________\n",
        "**Now, train on the training data and obtain predicted classes, as well as class probabilities, using the testing data.**"
      ]
    },
    {
      "cell_type": "code",
      "metadata": {
        "id": "j1W6dCe24blI",
        "colab_type": "code",
        "colab": {
          "base_uri": "https://localhost:8080/",
          "height": 102
        },
        "outputId": "4380e174-4777-4b34-c886-a3f7cf7f529e"
      },
      "source": [
        "# Fit the logistic regression model on training data\n",
        "lr.fit(X_train,y_train)\n"
      ],
      "execution_count": 180,
      "outputs": [
        {
          "output_type": "execute_result",
          "data": {
            "text/plain": [
              "LogisticRegression(C=1.0, class_weight=None, dual=False, fit_intercept=True,\n",
              "                   intercept_scaling=1, l1_ratio=None, max_iter=100,\n",
              "                   multi_class='auto', n_jobs=None, penalty='l2',\n",
              "                   random_state=None, solver='liblinear', tol=0.0001, verbose=0,\n",
              "                   warm_start=False)"
            ]
          },
          "metadata": {
            "tags": []
          },
          "execution_count": 180
        }
      ]
    },
    {
      "cell_type": "code",
      "metadata": {
        "id": "H9MezPZf4bl1",
        "colab_type": "code",
        "colab": {
          "base_uri": "https://localhost:8080/",
          "height": 34
        },
        "outputId": "5da4f5af-1c45-4fa8-a22f-1e95784cc517"
      },
      "source": [
        "# Make predictions using `.predict()`\n",
        "pred = lr.predict(X_test)\n",
        "pred"
      ],
      "execution_count": 181,
      "outputs": [
        {
          "output_type": "execute_result",
          "data": {
            "text/plain": [
              "array([0, 0, 0, ..., 0, 0, 0])"
            ]
          },
          "metadata": {
            "tags": []
          },
          "execution_count": 181
        }
      ]
    },
    {
      "cell_type": "code",
      "metadata": {
        "id": "Tuq89llD88P2",
        "colab_type": "code",
        "colab": {
          "base_uri": "https://localhost:8080/",
          "height": 34
        },
        "outputId": "0bfb3805-fac1-43cc-a5ce-3a1e848f0ded"
      },
      "source": [
        "y_test.values"
      ],
      "execution_count": 139,
      "outputs": [
        {
          "output_type": "execute_result",
          "data": {
            "text/plain": [
              "array([0, 0, 0, ..., 0, 0, 1])"
            ]
          },
          "metadata": {
            "tags": []
          },
          "execution_count": 139
        }
      ]
    },
    {
      "cell_type": "code",
      "metadata": {
        "id": "mDADnXvV4bmX",
        "colab_type": "code",
        "colab": {
          "base_uri": "https://localhost:8080/",
          "height": 136
        },
        "outputId": "59a11cf7-62b0-4ac5-dccd-9a23694d24cd"
      },
      "source": [
        "# Find class probabilities using `.predict_proba()`\n",
        "pred_prob = lr.predict_proba(X_test) \n",
        "pred_prob"
      ],
      "execution_count": 182,
      "outputs": [
        {
          "output_type": "execute_result",
          "data": {
            "text/plain": [
              "array([[0.74826924, 0.25173076],\n",
              "       [0.584297  , 0.415703  ],\n",
              "       [0.79604453, 0.20395547],\n",
              "       ...,\n",
              "       [0.584297  , 0.415703  ],\n",
              "       [0.82721498, 0.17278502],\n",
              "       [0.66393435, 0.33606565]])"
            ]
          },
          "metadata": {
            "tags": []
          },
          "execution_count": 182
        }
      ]
    },
    {
      "cell_type": "markdown",
      "metadata": {
        "id": "FMq7ift44bms",
        "colab_type": "text"
      },
      "source": [
        "______________________________________________________________________\n",
        "**Then, pull out the coefficients and intercept from the trained model and manually calculate predicted probabilities. You'll need to add a column of 1s to your features, to multiply by the intercept.**"
      ]
    },
    {
      "cell_type": "code",
      "metadata": {
        "id": "torcAmgv4bmv",
        "colab_type": "code",
        "colab": {}
      },
      "source": [
        "# Add column of 1s to features\n",
        "X_test_df = pd.DataFrame(X_test,columns=['PAY_1','LIMIT_BAL'],  index=None)\n",
        "X_test_df['1s']=1"
      ],
      "execution_count": 201,
      "outputs": []
    },
    {
      "cell_type": "code",
      "metadata": {
        "id": "EK7OiE7yBnMK",
        "colab_type": "code",
        "colab": {
          "base_uri": "https://localhost:8080/",
          "height": 419
        },
        "outputId": "a6cc2fbf-7be9-4ae1-813c-2d079c684d23"
      },
      "source": [
        "X_test_df"
      ],
      "execution_count": 202,
      "outputs": [
        {
          "output_type": "execute_result",
          "data": {
            "text/html": [
              "<div>\n",
              "<style scoped>\n",
              "    .dataframe tbody tr th:only-of-type {\n",
              "        vertical-align: middle;\n",
              "    }\n",
              "\n",
              "    .dataframe tbody tr th {\n",
              "        vertical-align: top;\n",
              "    }\n",
              "\n",
              "    .dataframe thead th {\n",
              "        text-align: right;\n",
              "    }\n",
              "</style>\n",
              "<table border=\"1\" class=\"dataframe\">\n",
              "  <thead>\n",
              "    <tr style=\"text-align: right;\">\n",
              "      <th></th>\n",
              "      <th>PAY_1</th>\n",
              "      <th>LIMIT_BAL</th>\n",
              "      <th>1s</th>\n",
              "    </tr>\n",
              "  </thead>\n",
              "  <tbody>\n",
              "    <tr>\n",
              "      <th>0</th>\n",
              "      <td>2</td>\n",
              "      <td>160000</td>\n",
              "      <td>1</td>\n",
              "    </tr>\n",
              "    <tr>\n",
              "      <th>1</th>\n",
              "      <td>1</td>\n",
              "      <td>50000</td>\n",
              "      <td>1</td>\n",
              "    </tr>\n",
              "    <tr>\n",
              "      <th>2</th>\n",
              "      <td>-1</td>\n",
              "      <td>200000</td>\n",
              "      <td>1</td>\n",
              "    </tr>\n",
              "    <tr>\n",
              "      <th>3</th>\n",
              "      <td>3</td>\n",
              "      <td>200000</td>\n",
              "      <td>1</td>\n",
              "    </tr>\n",
              "    <tr>\n",
              "      <th>4</th>\n",
              "      <td>1</td>\n",
              "      <td>50000</td>\n",
              "      <td>1</td>\n",
              "    </tr>\n",
              "    <tr>\n",
              "      <th>...</th>\n",
              "      <td>...</td>\n",
              "      <td>...</td>\n",
              "      <td>...</td>\n",
              "    </tr>\n",
              "    <tr>\n",
              "      <th>5328</th>\n",
              "      <td>0</td>\n",
              "      <td>140000</td>\n",
              "      <td>1</td>\n",
              "    </tr>\n",
              "    <tr>\n",
              "      <th>5329</th>\n",
              "      <td>-1</td>\n",
              "      <td>50000</td>\n",
              "      <td>1</td>\n",
              "    </tr>\n",
              "    <tr>\n",
              "      <th>5330</th>\n",
              "      <td>-1</td>\n",
              "      <td>50000</td>\n",
              "      <td>1</td>\n",
              "    </tr>\n",
              "    <tr>\n",
              "      <th>5331</th>\n",
              "      <td>1</td>\n",
              "      <td>230000</td>\n",
              "      <td>1</td>\n",
              "    </tr>\n",
              "    <tr>\n",
              "      <th>5332</th>\n",
              "      <td>2</td>\n",
              "      <td>100000</td>\n",
              "      <td>1</td>\n",
              "    </tr>\n",
              "  </tbody>\n",
              "</table>\n",
              "<p>5333 rows × 3 columns</p>\n",
              "</div>"
            ],
            "text/plain": [
              "      PAY_1  LIMIT_BAL  1s\n",
              "0         2     160000   1\n",
              "1         1      50000   1\n",
              "2        -1     200000   1\n",
              "3         3     200000   1\n",
              "4         1      50000   1\n",
              "...     ...        ...  ..\n",
              "5328      0     140000   1\n",
              "5329     -1      50000   1\n",
              "5330     -1      50000   1\n",
              "5331      1     230000   1\n",
              "5332      2     100000   1\n",
              "\n",
              "[5333 rows x 3 columns]"
            ]
          },
          "metadata": {
            "tags": []
          },
          "execution_count": 202
        }
      ]
    },
    {
      "cell_type": "code",
      "metadata": {
        "id": "9x10sF5b4bnK",
        "colab_type": "code",
        "colab": {
          "base_uri": "https://localhost:8080/",
          "height": 34
        },
        "outputId": "c5c00087-2f37-4563-fa8f-cfbc09f0e67e"
      },
      "source": [
        "# Get coefficients and intercepts from trained model\n",
        "coef = lr.coef_\n",
        "coef"
      ],
      "execution_count": 194,
      "outputs": [
        {
          "output_type": "execute_result",
          "data": {
            "text/plain": [
              "array([[ 8.27451187e-11, -6.80876727e-06]])"
            ]
          },
          "metadata": {
            "tags": []
          },
          "execution_count": 194
        }
      ]
    },
    {
      "cell_type": "code",
      "metadata": {
        "id": "QtcZWl-FAuEn",
        "colab_type": "code",
        "colab": {
          "base_uri": "https://localhost:8080/",
          "height": 34
        },
        "outputId": "0cfc43d6-effb-4c01-9d6a-c5938dbaed94"
      },
      "source": [
        "intr = lr.intercept_\n",
        "intr"
      ],
      "execution_count": 195,
      "outputs": [
        {
          "output_type": "execute_result",
          "data": {
            "text/plain": [
              "array([-6.57647457e-11])"
            ]
          },
          "metadata": {
            "tags": []
          },
          "execution_count": 195
        }
      ]
    },
    {
      "cell_type": "code",
      "metadata": {
        "id": "GC49xqzZC2NW",
        "colab_type": "code",
        "colab": {
          "base_uri": "https://localhost:8080/",
          "height": 221
        },
        "outputId": "c272fcb3-0dcb-4dcc-91d4-c53736f7d957"
      },
      "source": [
        "X_test_df['prob'] = (intr[0]*X_test_df['1s']+X_test_df['PAY_1']*coef[0][0]+X_test_df['LIMIT_BAL']*coef[0][1])\n",
        "X_test_df['prob']"
      ],
      "execution_count": 211,
      "outputs": [
        {
          "output_type": "execute_result",
          "data": {
            "text/plain": [
              "0      -1.089403\n",
              "1      -0.340438\n",
              "2      -1.361753\n",
              "3      -1.361753\n",
              "4      -0.340438\n",
              "          ...   \n",
              "5328   -0.953227\n",
              "5329   -0.340438\n",
              "5330   -0.340438\n",
              "5331   -1.566016\n",
              "5332   -0.680877\n",
              "Name: prob, Length: 5333, dtype: float64"
            ]
          },
          "metadata": {
            "tags": []
          },
          "execution_count": 211
        }
      ]
    },
    {
      "cell_type": "code",
      "metadata": {
        "id": "61nSA5eI4bns",
        "colab_type": "code",
        "colab": {
          "base_uri": "https://localhost:8080/",
          "height": 221
        },
        "outputId": "a4d64895-c092-40a2-f77c-1c5de57b7b0c"
      },
      "source": [
        "# Manually calculate predicted probabilities\n",
        "X_test_df['after_sigmoid'] = X_test_df['prob'].apply(sigmoid_fun)\n",
        "X_test_df['after_sigmoid']"
      ],
      "execution_count": 212,
      "outputs": [
        {
          "output_type": "execute_result",
          "data": {
            "text/plain": [
              "0       0.251731\n",
              "1       0.415703\n",
              "2       0.203955\n",
              "3       0.203955\n",
              "4       0.415703\n",
              "          ...   \n",
              "5328    0.278236\n",
              "5329    0.415703\n",
              "5330    0.415703\n",
              "5331    0.172785\n",
              "5332    0.336066\n",
              "Name: after_sigmoid, Length: 5333, dtype: float64"
            ]
          },
          "metadata": {
            "tags": []
          },
          "execution_count": 212
        }
      ]
    },
    {
      "cell_type": "markdown",
      "metadata": {
        "id": "GfK1UcP34boG",
        "colab_type": "text"
      },
      "source": [
        "______________________________________________________________________\n",
        "**Next, using a threshold of `0.5`, manually calculate predicted classes. Compare this to the class predictions output by scikit-learn.**"
      ]
    },
    {
      "cell_type": "code",
      "metadata": {
        "id": "uypXZGNZ4boK",
        "colab_type": "code",
        "colab": {}
      },
      "source": [
        "# Manually calculate predicted classes\n",
        "X_test_df['bool']=X_test_df['after_sigmoid']>0.5\n",
        "arr_pred = np.array((X_test_df['bool']))"
      ],
      "execution_count": 215,
      "outputs": []
    },
    {
      "cell_type": "code",
      "metadata": {
        "id": "zDwP4aj44bod",
        "colab_type": "code",
        "colab": {
          "base_uri": "https://localhost:8080/",
          "height": 34
        },
        "outputId": "71049683-ec2d-4582-cfd0-47299b91e275"
      },
      "source": [
        "# Compare to scikit-learn's predicted classes\n",
        "np.array_equal(pred, arr_pred)"
      ],
      "execution_count": 217,
      "outputs": [
        {
          "output_type": "execute_result",
          "data": {
            "text/plain": [
              "True"
            ]
          },
          "metadata": {
            "tags": []
          },
          "execution_count": 217
        }
      ]
    },
    {
      "cell_type": "markdown",
      "metadata": {
        "id": "HqJwiKG-4bo0",
        "colab_type": "text"
      },
      "source": [
        "______________________________________________________________________\n",
        "**Finally, calculate ROC AUC using both scikit-learn's predicted probabilities, and your manually predicted probabilities, and compare.**"
      ]
    },
    {
      "cell_type": "code",
      "metadata": {
        "eid": "e7697",
        "id": "AjFxVckj4bo6",
        "colab_type": "code",
        "colab": {
          "base_uri": "https://localhost:8080/",
          "height": 34
        },
        "outputId": "c9031851-06ca-4532-c709-002715642763"
      },
      "source": [
        "# Use scikit-learn's predicted probabilities to calculate ROC AUC\n",
        "from sklearn.metrics import roc_auc_score\n",
        "roc_auc_score(y_test, pred_prob[:,1])"
      ],
      "execution_count": 219,
      "outputs": [
        {
          "output_type": "execute_result",
          "data": {
            "text/plain": [
              "0.627207450280691"
            ]
          },
          "metadata": {
            "tags": []
          },
          "execution_count": 219
        }
      ]
    },
    {
      "cell_type": "code",
      "metadata": {
        "id": "CqN4jNbs4bpM",
        "colab_type": "code",
        "colab": {
          "base_uri": "https://localhost:8080/",
          "height": 34
        },
        "outputId": "cb991f4b-a80f-4b21-9c90-b0e83c7541d7"
      },
      "source": [
        "# Use manually calculated predicted probabilities to calculate ROC AUC\n",
        "roc_auc_score(y_test, X_test_df['after_sigmoid'])"
      ],
      "execution_count": 220,
      "outputs": [
        {
          "output_type": "execute_result",
          "data": {
            "text/plain": [
              "0.627207450280691"
            ]
          },
          "metadata": {
            "tags": []
          },
          "execution_count": 220
        }
      ]
    }
  ]
}