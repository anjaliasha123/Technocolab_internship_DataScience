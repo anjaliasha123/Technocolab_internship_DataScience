{
  "nbformat": 4,
  "nbformat_minor": 0,
  "metadata": {
    "kernelspec": {
      "display_name": "Python 3",
      "language": "python",
      "name": "python3"
    },
    "language_info": {
      "codemirror_mode": {
        "name": "ipython",
        "version": 3
      },
      "file_extension": ".py",
      "mimetype": "text/x-python",
      "name": "python",
      "nbconvert_exporter": "python",
      "pygments_lexer": "ipython3",
      "version": "3.7.4"
    },
    "colab": {
      "name": "Performing_Logistic_Regression.ipynb",
      "provenance": []
    }
  },
  "cells": [
    {
      "cell_type": "code",
      "metadata": {
        "id": "nP5M1vFYfzgF",
        "colab_type": "code",
        "colab": {
          "base_uri": "https://localhost:8080/",
          "height": 34
        },
        "outputId": "ad60f70e-f259-4858-ae40-49d469000bcf"
      },
      "source": [
        "%autosave 10"
      ],
      "execution_count": 1,
      "outputs": [
        {
          "output_type": "display_data",
          "data": {
            "application/javascript": [
              "IPython.notebook.set_autosave_interval(10000)"
            ]
          },
          "metadata": {
            "tags": []
          }
        },
        {
          "output_type": "stream",
          "text": [
            "Autosaving every 10 seconds\n"
          ],
          "name": "stdout"
        }
      ]
    },
    {
      "cell_type": "markdown",
      "metadata": {
        "id": "fvf6yDtUfzgs",
        "colab_type": "text"
      },
      "source": [
        "**First, create a dataframe of *cleaned_data.csv*. Then, use scikit-learn's `train_test_split` to make a new set of training and testing data. This time, instead of `EDUCATION`, use `LIMIT_BAL`: the account's credit limit.**"
      ]
    },
    {
      "cell_type": "code",
      "metadata": {
        "eid": "662ef",
        "id": "dP-F3cCDfzgy",
        "colab_type": "code",
        "colab": {}
      },
      "source": [
        "import numpy as np\n",
        "import pandas as pd\n",
        "import matplotlib.pyplot as plt\n"
      ],
      "execution_count": 3,
      "outputs": []
    },
    {
      "cell_type": "code",
      "metadata": {
        "id": "4Xno-kxpgf9v",
        "colab_type": "code",
        "colab": {
          "base_uri": "https://localhost:8080/",
          "height": 646
        },
        "outputId": "6344cb3a-913c-438c-b5cc-e33b58272e0a"
      },
      "source": [
        "data = pd.read_csv('cleaned_data.csv')\n",
        "data.info()"
      ],
      "execution_count": 4,
      "outputs": [
        {
          "output_type": "stream",
          "text": [
            "<class 'pandas.core.frame.DataFrame'>\n",
            "RangeIndex: 26664 entries, 0 to 26663\n",
            "Data columns (total 30 columns):\n",
            " #   Column                      Non-Null Count  Dtype \n",
            "---  ------                      --------------  ----- \n",
            " 0   ID                          26664 non-null  object\n",
            " 1   LIMIT_BAL                   26664 non-null  int64 \n",
            " 2   SEX                         26664 non-null  int64 \n",
            " 3   EDUCATION                   26664 non-null  int64 \n",
            " 4   MARRIAGE                    26664 non-null  int64 \n",
            " 5   AGE                         26664 non-null  int64 \n",
            " 6   PAY_1                       26664 non-null  int64 \n",
            " 7   PAY_2                       26664 non-null  int64 \n",
            " 8   PAY_3                       26664 non-null  int64 \n",
            " 9   PAY_4                       26664 non-null  int64 \n",
            " 10  PAY_5                       26664 non-null  int64 \n",
            " 11  PAY_6                       26664 non-null  int64 \n",
            " 12  BILL_AMT1                   26664 non-null  int64 \n",
            " 13  BILL_AMT2                   26664 non-null  int64 \n",
            " 14  BILL_AMT3                   26664 non-null  int64 \n",
            " 15  BILL_AMT4                   26664 non-null  int64 \n",
            " 16  BILL_AMT5                   26664 non-null  int64 \n",
            " 17  BILL_AMT6                   26664 non-null  int64 \n",
            " 18  PAY_AMT1                    26664 non-null  int64 \n",
            " 19  PAY_AMT2                    26664 non-null  int64 \n",
            " 20  PAY_AMT3                    26664 non-null  int64 \n",
            " 21  PAY_AMT4                    26664 non-null  int64 \n",
            " 22  PAY_AMT5                    26664 non-null  int64 \n",
            " 23  PAY_AMT6                    26664 non-null  int64 \n",
            " 24  default payment next month  26664 non-null  int64 \n",
            " 25  EDUCATION_CAT               26664 non-null  object\n",
            " 26  graduate school             26664 non-null  int64 \n",
            " 27  high school                 26664 non-null  int64 \n",
            " 28  others                      26664 non-null  int64 \n",
            " 29  university                  26664 non-null  int64 \n",
            "dtypes: int64(28), object(2)\n",
            "memory usage: 6.1+ MB\n"
          ],
          "name": "stdout"
        }
      ]
    },
    {
      "cell_type": "code",
      "metadata": {
        "id": "Hn8VeExng90u",
        "colab_type": "code",
        "colab": {}
      },
      "source": [
        "from sklearn.model_selection import train_test_split\n",
        "from sklearn.linear_model import LogisticRegression\n",
        "data = data.dropna()\n",
        "X_train, X_test, y_train, y_test = train_test_split(data['LIMIT_BAL'].values.reshape(-1,1),data['default payment next month'].values,test_size=0.2,random_state=24)\n",
        "model = LogisticRegression()\n"
      ],
      "execution_count": 34,
      "outputs": []
    },
    {
      "cell_type": "markdown",
      "metadata": {
        "id": "QEqzc2Jyfzhc",
        "colab_type": "text"
      },
      "source": [
        "_________________________________________________________________________\n",
        "**Next, train a logistic regression model using the training data from your split.**\n"
      ]
    },
    {
      "cell_type": "code",
      "metadata": {
        "eid": "05e84",
        "id": "mJ4gt9PIfzhf",
        "colab_type": "code",
        "colab": {
          "base_uri": "https://localhost:8080/",
          "height": 102
        },
        "outputId": "8f25625d-98ee-4786-d16e-df34c7a30d92"
      },
      "source": [
        "model.fit(X_train,y_train)\n"
      ],
      "execution_count": 35,
      "outputs": [
        {
          "output_type": "execute_result",
          "data": {
            "text/plain": [
              "LogisticRegression(C=1.0, class_weight=None, dual=False, fit_intercept=True,\n",
              "                   intercept_scaling=1, l1_ratio=None, max_iter=100,\n",
              "                   multi_class='auto', n_jobs=None, penalty='l2',\n",
              "                   random_state=None, solver='lbfgs', tol=0.0001, verbose=0,\n",
              "                   warm_start=False)"
            ]
          },
          "metadata": {
            "tags": []
          },
          "execution_count": 35
        }
      ]
    },
    {
      "cell_type": "markdown",
      "metadata": {
        "id": "APkvKVNTfzh4",
        "colab_type": "text"
      },
      "source": [
        "_________________________________________________________________________\n",
        "**Then, create the array of predicted probabilities for the testing data.**\n"
      ]
    },
    {
      "cell_type": "code",
      "metadata": {
        "eid": "b671b",
        "id": "_4hAtMixfzh_",
        "colab_type": "code",
        "colab": {
          "base_uri": "https://localhost:8080/",
          "height": 34
        },
        "outputId": "58ec17d6-a5a8-4780-da64-e64c222b19a4"
      },
      "source": [
        "pred = model.predict(X_test)\n",
        "pred"
      ],
      "execution_count": 36,
      "outputs": [
        {
          "output_type": "execute_result",
          "data": {
            "text/plain": [
              "array([0, 0, 0, ..., 0, 0, 0])"
            ]
          },
          "metadata": {
            "tags": []
          },
          "execution_count": 36
        }
      ]
    },
    {
      "cell_type": "code",
      "metadata": {
        "id": "VPWRlinYnHuu",
        "colab_type": "code",
        "colab": {}
      },
      "source": [
        "pred_prob = model.predict_proba(X_test)"
      ],
      "execution_count": 37,
      "outputs": []
    },
    {
      "cell_type": "code",
      "metadata": {
        "id": "rEhWlxcCCRnY",
        "colab_type": "code",
        "colab": {
          "base_uri": "https://localhost:8080/",
          "height": 136
        },
        "outputId": "4c68f192-88a8-4e77-f6db-9522c792610f"
      },
      "source": [
        "pred_prob"
      ],
      "execution_count": 38,
      "outputs": [
        {
          "output_type": "execute_result",
          "data": {
            "text/plain": [
              "array([[0.74826949, 0.25173051],\n",
              "       [0.5842971 , 0.4157029 ],\n",
              "       [0.7960448 , 0.2039552 ],\n",
              "       ...,\n",
              "       [0.5842971 , 0.4157029 ],\n",
              "       [0.82721525, 0.17278475],\n",
              "       [0.66393453, 0.33606547]])"
            ]
          },
          "metadata": {
            "tags": []
          },
          "execution_count": 38
        }
      ]
    },
    {
      "cell_type": "code",
      "metadata": {
        "id": "w4l0Yh4dCVC-",
        "colab_type": "code",
        "colab": {
          "base_uri": "https://localhost:8080/",
          "height": 34
        },
        "outputId": "6aaac6b2-867d-4068-e634-30a467098fbe"
      },
      "source": [
        "y_test"
      ],
      "execution_count": 28,
      "outputs": [
        {
          "output_type": "execute_result",
          "data": {
            "text/plain": [
              "array([0, 0, 0, ..., 0, 0, 1])"
            ]
          },
          "metadata": {
            "tags": []
          },
          "execution_count": 28
        }
      ]
    },
    {
      "cell_type": "markdown",
      "metadata": {
        "id": "l7ITpG50fzie",
        "colab_type": "text"
      },
      "source": [
        "_________________________________________________________________________\n",
        "**Next, calculate the ROC AUC using the predicted probabilities and the true labels of the testing data. Compare this to the ROC AUC from using the `EDUCATION` feature.**\n"
      ]
    },
    {
      "cell_type": "code",
      "metadata": {
        "eid": "58476",
        "id": "Qu2oVRZkfzim",
        "colab_type": "code",
        "colab": {
          "base_uri": "https://localhost:8080/",
          "height": 34
        },
        "outputId": "6a6ab7ad-dc80-4adf-88ca-f7d6a1c196e3"
      },
      "source": [
        "# FOR THE LIMIT BALANCE\n",
        "from sklearn.metrics import roc_auc_score\n",
        "roc_auc_score(y_test, pred_prob[:,1])"
      ],
      "execution_count": 39,
      "outputs": [
        {
          "output_type": "execute_result",
          "data": {
            "text/plain": [
              "0.6201990844642832"
            ]
          },
          "metadata": {
            "tags": []
          },
          "execution_count": 39
        }
      ]
    },
    {
      "cell_type": "code",
      "metadata": {
        "id": "JlhVqeodoB6o",
        "colab_type": "code",
        "colab": {
          "base_uri": "https://localhost:8080/",
          "height": 34
        },
        "outputId": "0881eff8-5b9f-42df-9c11-96f6080e6a94"
      },
      "source": [
        "#FOR THE EDUCATION FEATURE\n",
        "X_train, X_test, y_train, y_test = train_test_split(data['EDUCATION'].values.reshape(-1,1),data['default payment next month'].values,test_size=0.2)\n",
        "model = LogisticRegression()\n",
        "model.fit(X_train,y_train)\n",
        "pred = model.predict(X_test)\n",
        "pred_prob = model.predict_proba(X_test)\n",
        "roc_auc_score(y_test, pred_prob[:,1])"
      ],
      "execution_count": 32,
      "outputs": [
        {
          "output_type": "execute_result",
          "data": {
            "text/plain": [
              "0.5313959134304931"
            ]
          },
          "metadata": {
            "tags": []
          },
          "execution_count": 32
        }
      ]
    },
    {
      "cell_type": "markdown",
      "metadata": {
        "id": "ZipNXwIQfzjO",
        "colab_type": "text"
      },
      "source": [
        "_________________________________________________________________________\n",
        "**Now, plot the ROC curve.**\n"
      ]
    },
    {
      "cell_type": "code",
      "metadata": {
        "eid": "289eb",
        "id": "1koJdbWOfzjS",
        "colab_type": "code",
        "colab": {
          "base_uri": "https://localhost:8080/",
          "height": 279
        },
        "outputId": "990394ed-2409-42a1-9457-dc7a2c7fb52d"
      },
      "source": [
        "from sklearn import metrics\n",
        "fpr, tpr, threshold = metrics.roc_curve(y_test, pred_prob[:,1])\n",
        "plt.plot(fpr,tpr,label=\"LIMIT BALANCE\")\n",
        "plt.xlabel('FPR')\n",
        "plt.ylabel('TPR')\n",
        "plt.legend(loc=4)\n",
        "plt.show()"
      ],
      "execution_count": 45,
      "outputs": [
        {
          "output_type": "display_data",
          "data": {
            "image/png": "[encoded data removed]",
            "text/plain": [
              "<Figure size 432x288 with 1 Axes>"
            ]
          },
          "metadata": {
            "tags": [],
            "needs_background": "light"
          }
        }
      ]
    },
    {
      "cell_type": "markdown",
      "metadata": {
        "id": "8vbGzS_9fzkF",
        "colab_type": "text"
      },
      "source": [
        "_________________________________________________________________________\n",
        "**Then, calculate the data for the precision-recall curve on the testing data using scikit-learn functionality.**\n"
      ]
    },
    {
      "cell_type": "code",
      "metadata": {
        "eid": "73fdb",
        "id": "MBkc9hY0fzkS",
        "colab_type": "code",
        "colab": {
          "base_uri": "https://localhost:8080/",
          "height": 34
        },
        "outputId": "5c19e2f3-917d-4d36-d44d-d903d18d0d3d"
      },
      "source": [
        "from sklearn.metrics import average_precision_score\n",
        "average_precision = average_precision_score(y_test, pred_prob[:,1])\n",
        "print(\"The average precision recall score is:\",average_precision)"
      ],
      "execution_count": 46,
      "outputs": [
        {
          "output_type": "stream",
          "text": [
            "The average precision recall score is: 0.29824891448211244\n"
          ],
          "name": "stdout"
        }
      ]
    },
    {
      "cell_type": "markdown",
      "metadata": {
        "id": "mBBfjl-Zfzk1",
        "colab_type": "text"
      },
      "source": [
        "_________________________________________________________________________\n",
        "**Plot the precision-recall curve using matplotlib.**\n"
      ]
    },
    {
      "cell_type": "code",
      "metadata": {
        "ein": "5119c",
        "id": "XvqU0QRNfzk4",
        "colab_type": "code",
        "colab": {
          "base_uri": "https://localhost:8080/",
          "height": 279
        },
        "outputId": "0957c72d-6689-4347-ff9d-717b87f6af31"
      },
      "source": [
        "from sklearn.metrics import precision_recall_curve\n",
        "from sklearn.metrics import plot_precision_recall_curve\n",
        "precision, recall, thresh = precision_recall_curve(y_test, pred_prob[:,1])\n",
        "plt.plot(recall,precision)\n",
        "plt.xlabel('Precision')\n",
        "plt.ylabel('Recall')\n",
        "plt.show()"
      ],
      "execution_count": 47,
      "outputs": [
        {
          "output_type": "display_data",
          "data": {
            "image/png": "[encoded data removed]",
            "text/plain": [
              "<Figure size 432x288 with 1 Axes>"
            ]
          },
          "metadata": {
            "tags": [],
            "needs_background": "light"
          }
        }
      ]
    },
    {
      "cell_type": "markdown",
      "metadata": {
        "id": "MS4iNFAifzlh",
        "colab_type": "text"
      },
      "source": [
        "_________________________________________________________________________\n",
        "**Now, use scikit-learn to calculate the area under the precision-recall curve.**\n"
      ]
    },
    {
      "cell_type": "code",
      "metadata": {
        "eid": "34e7d",
        "id": "tZhYD22-fzlk",
        "colab_type": "code",
        "colab": {
          "base_uri": "https://localhost:8080/",
          "height": 34
        },
        "outputId": "c5db97fd-9d41-4045-a21f-4635dd32733d"
      },
      "source": [
        "metrics.auc(recall,precision)"
      ],
      "execution_count": 49,
      "outputs": [
        {
          "output_type": "execute_result",
          "data": {
            "text/plain": [
              "0.31566964427378624"
            ]
          },
          "metadata": {
            "tags": []
          },
          "execution_count": 49
        }
      ]
    },
    {
      "cell_type": "markdown",
      "metadata": {
        "id": "tWCHEgmLfzl4",
        "colab_type": "text"
      },
      "source": [
        "_________________________________________________________________________\n",
        "**Finally, recalculate the ROC AUC, except this time do it for the training data.**"
      ]
    },
    {
      "cell_type": "code",
      "metadata": {
        "id": "X93pJfuEugti",
        "colab_type": "code",
        "colab": {
          "base_uri": "https://localhost:8080/",
          "height": 34
        },
        "outputId": "ac4193bd-9cfb-409c-f83a-21e1c1eeaab8"
      },
      "source": [
        "mod = model.predict_proba(X_train)\n",
        "metrics.roc_auc_score(y_train,mod[:,1])"
      ],
      "execution_count": 50,
      "outputs": [
        {
          "output_type": "execute_result",
          "data": {
            "text/plain": [
              "0.6182918113358344"
            ]
          },
          "metadata": {
            "tags": []
          },
          "execution_count": 50
        }
      ]
    },
    {
      "cell_type": "markdown",
      "metadata": {
        "id": "ggRw9g5Cfzmy",
        "colab_type": "text"
      },
      "source": [
        "    How is this different, conceptually and quantitatively, from your earlier calculation?\n"
      ]
    },
    {
      "cell_type": "markdown",
      "metadata": {
        "id": "s5nr7OaDFgLD",
        "colab_type": "text"
      },
      "source": [
        "The ROC AUC of both the test and training set is approximately close to each other"
      ]
    }
  ]
}