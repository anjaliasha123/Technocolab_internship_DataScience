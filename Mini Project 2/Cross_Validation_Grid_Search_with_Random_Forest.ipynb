{
  "nbformat": 4,
  "nbformat_minor": 0,
  "metadata": {
    "kernelspec": {
      "display_name": "Python 3",
      "language": "python",
      "name": "python3"
    },
    "language_info": {
      "codemirror_mode": {
        "name": "ipython",
        "version": 3
      },
      "file_extension": ".py",
      "mimetype": "text/x-python",
      "name": "python",
      "nbconvert_exporter": "python",
      "pygments_lexer": "ipython3",
      "version": "3.7.4"
    },
    "colab": {
      "name": "Cross-Validation_Grid_Search_with_Random_Forest.ipynb",
      "provenance": []
    }
  },
  "cells": [
    {
      "cell_type": "markdown",
      "metadata": {
        "id": "klm1XwzST10F",
        "colab_type": "text"
      },
      "source": [
        "**Run the following two cells before you begin.**"
      ]
    },
    {
      "cell_type": "code",
      "metadata": {
        "id": "Cn5WP5rkT10j",
        "colab_type": "code",
        "colab": {
          "base_uri": "https://localhost:8080/",
          "height": 34
        },
        "outputId": "382d21fc-c459-4cfa-9cd5-461ba4dc51c3"
      },
      "source": [
        "%autosave 10"
      ],
      "execution_count": 1,
      "outputs": [
        {
          "output_type": "display_data",
          "data": {
            "application/javascript": [
              "IPython.notebook.set_autosave_interval(10000)"
            ]
          },
          "metadata": {
            "tags": []
          }
        },
        {
          "output_type": "stream",
          "text": [
            "Autosaving every 10 seconds\n"
          ],
          "name": "stdout"
        }
      ]
    },
    {
      "cell_type": "code",
      "metadata": {
        "id": "1fbLQaYBT13m",
        "colab_type": "code",
        "colab": {}
      },
      "source": [
        "import pandas as pd\n",
        "import numpy as np\n",
        "import matplotlib.pyplot as plt\n",
        "\n",
        "%matplotlib inline\n",
        "\n",
        "df = pd.read_csv('cleaned_data.csv')"
      ],
      "execution_count": 2,
      "outputs": []
    },
    {
      "cell_type": "code",
      "metadata": {
        "id": "Xf0btG-5V-i9",
        "colab_type": "code",
        "colab": {
          "base_uri": "https://localhost:8080/",
          "height": 360
        },
        "outputId": "7629ba0c-27a7-4f92-d99d-e028014875db"
      },
      "source": [
        "df.head()"
      ],
      "execution_count": 3,
      "outputs": [
        {
          "output_type": "execute_result",
          "data": {
            "text/html": [
              "<div>\n",
              "<style scoped>\n",
              "    .dataframe tbody tr th:only-of-type {\n",
              "        vertical-align: middle;\n",
              "    }\n",
              "\n",
              "    .dataframe tbody tr th {\n",
              "        vertical-align: top;\n",
              "    }\n",
              "\n",
              "    .dataframe thead th {\n",
              "        text-align: right;\n",
              "    }\n",
              "</style>\n",
              "<table border=\"1\" class=\"dataframe\">\n",
              "  <thead>\n",
              "    <tr style=\"text-align: right;\">\n",
              "      <th></th>\n",
              "      <th>ID</th>\n",
              "      <th>LIMIT_BAL</th>\n",
              "      <th>SEX</th>\n",
              "      <th>EDUCATION</th>\n",
              "      <th>MARRIAGE</th>\n",
              "      <th>AGE</th>\n",
              "      <th>PAY_1</th>\n",
              "      <th>PAY_2</th>\n",
              "      <th>PAY_3</th>\n",
              "      <th>PAY_4</th>\n",
              "      <th>PAY_5</th>\n",
              "      <th>PAY_6</th>\n",
              "      <th>BILL_AMT1</th>\n",
              "      <th>BILL_AMT2</th>\n",
              "      <th>BILL_AMT3</th>\n",
              "      <th>BILL_AMT4</th>\n",
              "      <th>BILL_AMT5</th>\n",
              "      <th>BILL_AMT6</th>\n",
              "      <th>PAY_AMT1</th>\n",
              "      <th>PAY_AMT2</th>\n",
              "      <th>PAY_AMT3</th>\n",
              "      <th>PAY_AMT4</th>\n",
              "      <th>PAY_AMT5</th>\n",
              "      <th>PAY_AMT6</th>\n",
              "      <th>default payment next month</th>\n",
              "      <th>EDUCATION_CAT</th>\n",
              "      <th>graduate school</th>\n",
              "      <th>high school</th>\n",
              "      <th>others</th>\n",
              "      <th>university</th>\n",
              "    </tr>\n",
              "  </thead>\n",
              "  <tbody>\n",
              "    <tr>\n",
              "      <th>0</th>\n",
              "      <td>798fc410-45c1</td>\n",
              "      <td>20000</td>\n",
              "      <td>2</td>\n",
              "      <td>2</td>\n",
              "      <td>1</td>\n",
              "      <td>24</td>\n",
              "      <td>2</td>\n",
              "      <td>2</td>\n",
              "      <td>-1</td>\n",
              "      <td>-1</td>\n",
              "      <td>-2</td>\n",
              "      <td>-2</td>\n",
              "      <td>3913</td>\n",
              "      <td>3102</td>\n",
              "      <td>689</td>\n",
              "      <td>0</td>\n",
              "      <td>0</td>\n",
              "      <td>0</td>\n",
              "      <td>0</td>\n",
              "      <td>689</td>\n",
              "      <td>0</td>\n",
              "      <td>0</td>\n",
              "      <td>0</td>\n",
              "      <td>0</td>\n",
              "      <td>1</td>\n",
              "      <td>university</td>\n",
              "      <td>0</td>\n",
              "      <td>0</td>\n",
              "      <td>0</td>\n",
              "      <td>1</td>\n",
              "    </tr>\n",
              "    <tr>\n",
              "      <th>1</th>\n",
              "      <td>8a8c8f3b-8eb4</td>\n",
              "      <td>120000</td>\n",
              "      <td>2</td>\n",
              "      <td>2</td>\n",
              "      <td>2</td>\n",
              "      <td>26</td>\n",
              "      <td>-1</td>\n",
              "      <td>2</td>\n",
              "      <td>0</td>\n",
              "      <td>0</td>\n",
              "      <td>0</td>\n",
              "      <td>2</td>\n",
              "      <td>2682</td>\n",
              "      <td>1725</td>\n",
              "      <td>2682</td>\n",
              "      <td>3272</td>\n",
              "      <td>3455</td>\n",
              "      <td>3261</td>\n",
              "      <td>0</td>\n",
              "      <td>1000</td>\n",
              "      <td>1000</td>\n",
              "      <td>1000</td>\n",
              "      <td>0</td>\n",
              "      <td>2000</td>\n",
              "      <td>1</td>\n",
              "      <td>university</td>\n",
              "      <td>0</td>\n",
              "      <td>0</td>\n",
              "      <td>0</td>\n",
              "      <td>1</td>\n",
              "    </tr>\n",
              "    <tr>\n",
              "      <th>2</th>\n",
              "      <td>85698822-43f5</td>\n",
              "      <td>90000</td>\n",
              "      <td>2</td>\n",
              "      <td>2</td>\n",
              "      <td>2</td>\n",
              "      <td>34</td>\n",
              "      <td>0</td>\n",
              "      <td>0</td>\n",
              "      <td>0</td>\n",
              "      <td>0</td>\n",
              "      <td>0</td>\n",
              "      <td>0</td>\n",
              "      <td>29239</td>\n",
              "      <td>14027</td>\n",
              "      <td>13559</td>\n",
              "      <td>14331</td>\n",
              "      <td>14948</td>\n",
              "      <td>15549</td>\n",
              "      <td>1518</td>\n",
              "      <td>1500</td>\n",
              "      <td>1000</td>\n",
              "      <td>1000</td>\n",
              "      <td>1000</td>\n",
              "      <td>5000</td>\n",
              "      <td>0</td>\n",
              "      <td>university</td>\n",
              "      <td>0</td>\n",
              "      <td>0</td>\n",
              "      <td>0</td>\n",
              "      <td>1</td>\n",
              "    </tr>\n",
              "    <tr>\n",
              "      <th>3</th>\n",
              "      <td>0737c11b-be42</td>\n",
              "      <td>50000</td>\n",
              "      <td>2</td>\n",
              "      <td>2</td>\n",
              "      <td>1</td>\n",
              "      <td>37</td>\n",
              "      <td>0</td>\n",
              "      <td>0</td>\n",
              "      <td>0</td>\n",
              "      <td>0</td>\n",
              "      <td>0</td>\n",
              "      <td>0</td>\n",
              "      <td>46990</td>\n",
              "      <td>48233</td>\n",
              "      <td>49291</td>\n",
              "      <td>28314</td>\n",
              "      <td>28959</td>\n",
              "      <td>29547</td>\n",
              "      <td>2000</td>\n",
              "      <td>2019</td>\n",
              "      <td>1200</td>\n",
              "      <td>1100</td>\n",
              "      <td>1069</td>\n",
              "      <td>1000</td>\n",
              "      <td>0</td>\n",
              "      <td>university</td>\n",
              "      <td>0</td>\n",
              "      <td>0</td>\n",
              "      <td>0</td>\n",
              "      <td>1</td>\n",
              "    </tr>\n",
              "    <tr>\n",
              "      <th>4</th>\n",
              "      <td>3b7f77cc-dbc0</td>\n",
              "      <td>50000</td>\n",
              "      <td>1</td>\n",
              "      <td>2</td>\n",
              "      <td>1</td>\n",
              "      <td>57</td>\n",
              "      <td>-1</td>\n",
              "      <td>0</td>\n",
              "      <td>-1</td>\n",
              "      <td>0</td>\n",
              "      <td>0</td>\n",
              "      <td>0</td>\n",
              "      <td>8617</td>\n",
              "      <td>5670</td>\n",
              "      <td>35835</td>\n",
              "      <td>20940</td>\n",
              "      <td>19146</td>\n",
              "      <td>19131</td>\n",
              "      <td>2000</td>\n",
              "      <td>36681</td>\n",
              "      <td>10000</td>\n",
              "      <td>9000</td>\n",
              "      <td>689</td>\n",
              "      <td>679</td>\n",
              "      <td>0</td>\n",
              "      <td>university</td>\n",
              "      <td>0</td>\n",
              "      <td>0</td>\n",
              "      <td>0</td>\n",
              "      <td>1</td>\n",
              "    </tr>\n",
              "  </tbody>\n",
              "</table>\n",
              "</div>"
            ],
            "text/plain": [
              "              ID  LIMIT_BAL  SEX  ...  high school  others  university\n",
              "0  798fc410-45c1      20000    2  ...            0       0           1\n",
              "1  8a8c8f3b-8eb4     120000    2  ...            0       0           1\n",
              "2  85698822-43f5      90000    2  ...            0       0           1\n",
              "3  0737c11b-be42      50000    2  ...            0       0           1\n",
              "4  3b7f77cc-dbc0      50000    1  ...            0       0           1\n",
              "\n",
              "[5 rows x 30 columns]"
            ]
          },
          "metadata": {
            "tags": []
          },
          "execution_count": 3
        }
      ]
    },
    {
      "cell_type": "markdown",
      "metadata": {
        "id": "aaYdNu4hT16T",
        "colab_type": "text"
      },
      "source": [
        "**Run the following 3 cells to create a list of features, create a train/test split, and instantiate a random forest classifier.**"
      ]
    },
    {
      "cell_type": "code",
      "metadata": {
        "id": "M1KIzcnxT16d",
        "colab_type": "code",
        "colab": {
          "base_uri": "https://localhost:8080/",
          "height": 323
        },
        "outputId": "b656b5b1-0f53-45ef-9ef3-f938f90e90d7"
      },
      "source": [
        "features_response = df.columns.tolist()\n",
        "items_to_remove = ['ID', 'SEX', 'PAY_2', 'PAY_3', 'PAY_4', 'PAY_5', 'PAY_6',\n",
        "                   'EDUCATION_CAT', 'graduate school', 'high school', 'none',\n",
        "                   'others', 'university']\n",
        "features_response = [item for item in features_response if item not in items_to_remove]\n",
        "features_response"
      ],
      "execution_count": 4,
      "outputs": [
        {
          "output_type": "execute_result",
          "data": {
            "text/plain": [
              "['LIMIT_BAL',\n",
              " 'EDUCATION',\n",
              " 'MARRIAGE',\n",
              " 'AGE',\n",
              " 'PAY_1',\n",
              " 'BILL_AMT1',\n",
              " 'BILL_AMT2',\n",
              " 'BILL_AMT3',\n",
              " 'BILL_AMT4',\n",
              " 'BILL_AMT5',\n",
              " 'BILL_AMT6',\n",
              " 'PAY_AMT1',\n",
              " 'PAY_AMT2',\n",
              " 'PAY_AMT3',\n",
              " 'PAY_AMT4',\n",
              " 'PAY_AMT5',\n",
              " 'PAY_AMT6',\n",
              " 'default payment next month']"
            ]
          },
          "metadata": {
            "tags": []
          },
          "execution_count": 4
        }
      ]
    },
    {
      "cell_type": "code",
      "metadata": {
        "id": "43Ryo0pVT19w",
        "colab_type": "code",
        "colab": {}
      },
      "source": [
        "from sklearn.model_selection import train_test_split\n",
        "\n",
        "X_train, X_test, y_train, y_test = train_test_split(\n",
        "    df[features_response[:-1]].values,\n",
        "    df['default payment next month'].values,\n",
        "    test_size=0.2, random_state=24\n",
        ")"
      ],
      "execution_count": 5,
      "outputs": []
    },
    {
      "cell_type": "code",
      "metadata": {
        "id": "B6smi8VYT1--",
        "colab_type": "code",
        "colab": {}
      },
      "source": [
        "from sklearn.ensemble import RandomForestClassifier\n",
        "\n",
        "rf = RandomForestClassifier(\n",
        "    n_estimators=10, criterion='gini', max_depth=3,\n",
        "    min_samples_split=2, min_samples_leaf=1, min_weight_fraction_leaf=0.0,\n",
        "    max_features='auto', max_leaf_nodes=None, min_impurity_decrease=0.0,\n",
        "    min_impurity_split=None, bootstrap=True, oob_score=False, n_jobs=None,\n",
        "    random_state=4, verbose=0, warm_start=False, class_weight=None\n",
        ")"
      ],
      "execution_count": 6,
      "outputs": []
    },
    {
      "cell_type": "markdown",
      "metadata": {
        "id": "2Je6WjoVT1_0",
        "colab_type": "text"
      },
      "source": [
        "**Create a dictionary representing the grid for the `max_depth` and `n_estimators` hyperparameters that will be searched. Include depths of 3, 6, 9, and 12, and 10, 50, 100, and 200 trees.**"
      ]
    },
    {
      "cell_type": "code",
      "metadata": {
        "id": "_RVu2Nm8T2AB",
        "colab_type": "code",
        "colab": {}
      },
      "source": [
        "param_grid = {'max_depth':[3,6,9,12] , 'n_estimators':[10,50,100,200] }"
      ],
      "execution_count": 7,
      "outputs": []
    },
    {
      "cell_type": "markdown",
      "metadata": {
        "id": "NuUVWp6UT2Aw",
        "colab_type": "text"
      },
      "source": [
        "________________________________________________________________\n",
        "**Instantiate a `GridSearchCV` object using the same options that we have previously in this course, but with the dictionary of hyperparameters created above. Set `verbose=2` to see the output for each fit performed.**"
      ]
    },
    {
      "cell_type": "code",
      "metadata": {
        "id": "_8Q6UZVfT2A3",
        "colab_type": "code",
        "colab": {}
      },
      "source": [
        "from sklearn.model_selection import GridSearchCV\n",
        "gsc = GridSearchCV( estimator=rf, param_grid=param_grid, verbose=2)"
      ],
      "execution_count": 9,
      "outputs": []
    },
    {
      "cell_type": "markdown",
      "metadata": {
        "id": "Ax7vhag1T2Bu",
        "colab_type": "text"
      },
      "source": [
        "____________________________________________________\n",
        "**Fit the `GridSearchCV` object on the training data.**"
      ]
    },
    {
      "cell_type": "code",
      "metadata": {
        "id": "MKXZpA3QT2B0",
        "colab_type": "code",
        "colab": {
          "base_uri": "https://localhost:8080/",
          "height": 1000
        },
        "outputId": "b40f2a1b-cd7e-4222-8587-faa46c7e99cc"
      },
      "source": [
        "cv = gsc.fit(X_train,y_train)"
      ],
      "execution_count": 11,
      "outputs": [
        {
          "output_type": "stream",
          "text": [
            "Fitting 5 folds for each of 16 candidates, totalling 80 fits\n",
            "[CV] max_depth=3, n_estimators=10 ....................................\n",
            "[CV] ..................... max_depth=3, n_estimators=10, total=   0.2s\n",
            "[CV] max_depth=3, n_estimators=10 ....................................\n"
          ],
          "name": "stdout"
        },
        {
          "output_type": "stream",
          "text": [
            "[Parallel(n_jobs=1)]: Using backend SequentialBackend with 1 concurrent workers.\n",
            "[Parallel(n_jobs=1)]: Done   1 out of   1 | elapsed:    0.2s remaining:    0.0s\n"
          ],
          "name": "stderr"
        },
        {
          "output_type": "stream",
          "text": [
            "[CV] ..................... max_depth=3, n_estimators=10, total=   0.2s\n",
            "[CV] max_depth=3, n_estimators=10 ....................................\n",
            "[CV] ..................... max_depth=3, n_estimators=10, total=   0.2s\n",
            "[CV] max_depth=3, n_estimators=10 ....................................\n",
            "[CV] ..................... max_depth=3, n_estimators=10, total=   0.2s\n",
            "[CV] max_depth=3, n_estimators=10 ....................................\n",
            "[CV] ..................... max_depth=3, n_estimators=10, total=   0.2s\n",
            "[CV] max_depth=3, n_estimators=50 ....................................\n",
            "[CV] ..................... max_depth=3, n_estimators=50, total=   0.8s\n",
            "[CV] max_depth=3, n_estimators=50 ....................................\n",
            "[CV] ..................... max_depth=3, n_estimators=50, total=   0.8s\n",
            "[CV] max_depth=3, n_estimators=50 ....................................\n",
            "[CV] ..................... max_depth=3, n_estimators=50, total=   0.8s\n",
            "[CV] max_depth=3, n_estimators=50 ....................................\n",
            "[CV] ..................... max_depth=3, n_estimators=50, total=   0.8s\n",
            "[CV] max_depth=3, n_estimators=50 ....................................\n",
            "[CV] ..................... max_depth=3, n_estimators=50, total=   0.8s\n",
            "[CV] max_depth=3, n_estimators=100 ...................................\n",
            "[CV] .................... max_depth=3, n_estimators=100, total=   1.5s\n",
            "[CV] max_depth=3, n_estimators=100 ...................................\n",
            "[CV] .................... max_depth=3, n_estimators=100, total=   1.5s\n",
            "[CV] max_depth=3, n_estimators=100 ...................................\n",
            "[CV] .................... max_depth=3, n_estimators=100, total=   1.5s\n",
            "[CV] max_depth=3, n_estimators=100 ...................................\n",
            "[CV] .................... max_depth=3, n_estimators=100, total=   1.5s\n",
            "[CV] max_depth=3, n_estimators=100 ...................................\n",
            "[CV] .................... max_depth=3, n_estimators=100, total=   1.5s\n",
            "[CV] max_depth=3, n_estimators=200 ...................................\n",
            "[CV] .................... max_depth=3, n_estimators=200, total=   3.0s\n",
            "[CV] max_depth=3, n_estimators=200 ...................................\n",
            "[CV] .................... max_depth=3, n_estimators=200, total=   3.0s\n",
            "[CV] max_depth=3, n_estimators=200 ...................................\n",
            "[CV] .................... max_depth=3, n_estimators=200, total=   2.9s\n",
            "[CV] max_depth=3, n_estimators=200 ...................................\n",
            "[CV] .................... max_depth=3, n_estimators=200, total=   3.0s\n",
            "[CV] max_depth=3, n_estimators=200 ...................................\n",
            "[CV] .................... max_depth=3, n_estimators=200, total=   3.0s\n",
            "[CV] max_depth=6, n_estimators=10 ....................................\n",
            "[CV] ..................... max_depth=6, n_estimators=10, total=   0.3s\n",
            "[CV] max_depth=6, n_estimators=10 ....................................\n",
            "[CV] ..................... max_depth=6, n_estimators=10, total=   0.3s\n",
            "[CV] max_depth=6, n_estimators=10 ....................................\n",
            "[CV] ..................... max_depth=6, n_estimators=10, total=   0.3s\n",
            "[CV] max_depth=6, n_estimators=10 ....................................\n",
            "[CV] ..................... max_depth=6, n_estimators=10, total=   0.3s\n",
            "[CV] max_depth=6, n_estimators=10 ....................................\n",
            "[CV] ..................... max_depth=6, n_estimators=10, total=   0.3s\n",
            "[CV] max_depth=6, n_estimators=50 ....................................\n",
            "[CV] ..................... max_depth=6, n_estimators=50, total=   1.3s\n",
            "[CV] max_depth=6, n_estimators=50 ....................................\n",
            "[CV] ..................... max_depth=6, n_estimators=50, total=   1.3s\n",
            "[CV] max_depth=6, n_estimators=50 ....................................\n",
            "[CV] ..................... max_depth=6, n_estimators=50, total=   1.3s\n",
            "[CV] max_depth=6, n_estimators=50 ....................................\n",
            "[CV] ..................... max_depth=6, n_estimators=50, total=   1.3s\n",
            "[CV] max_depth=6, n_estimators=50 ....................................\n",
            "[CV] ..................... max_depth=6, n_estimators=50, total=   1.3s\n",
            "[CV] max_depth=6, n_estimators=100 ...................................\n",
            "[CV] .................... max_depth=6, n_estimators=100, total=   2.6s\n",
            "[CV] max_depth=6, n_estimators=100 ...................................\n",
            "[CV] .................... max_depth=6, n_estimators=100, total=   2.5s\n",
            "[CV] max_depth=6, n_estimators=100 ...................................\n",
            "[CV] .................... max_depth=6, n_estimators=100, total=   2.5s\n",
            "[CV] max_depth=6, n_estimators=100 ...................................\n",
            "[CV] .................... max_depth=6, n_estimators=100, total=   2.5s\n",
            "[CV] max_depth=6, n_estimators=100 ...................................\n",
            "[CV] .................... max_depth=6, n_estimators=100, total=   2.5s\n",
            "[CV] max_depth=6, n_estimators=200 ...................................\n",
            "[CV] .................... max_depth=6, n_estimators=200, total=   5.0s\n",
            "[CV] max_depth=6, n_estimators=200 ...................................\n",
            "[CV] .................... max_depth=6, n_estimators=200, total=   5.0s\n",
            "[CV] max_depth=6, n_estimators=200 ...................................\n",
            "[CV] .................... max_depth=6, n_estimators=200, total=   5.1s\n",
            "[CV] max_depth=6, n_estimators=200 ...................................\n",
            "[CV] .................... max_depth=6, n_estimators=200, total=   5.0s\n",
            "[CV] max_depth=6, n_estimators=200 ...................................\n",
            "[CV] .................... max_depth=6, n_estimators=200, total=   5.0s\n",
            "[CV] max_depth=9, n_estimators=10 ....................................\n",
            "[CV] ..................... max_depth=9, n_estimators=10, total=   0.4s\n",
            "[CV] max_depth=9, n_estimators=10 ....................................\n",
            "[CV] ..................... max_depth=9, n_estimators=10, total=   0.4s\n",
            "[CV] max_depth=9, n_estimators=10 ....................................\n",
            "[CV] ..................... max_depth=9, n_estimators=10, total=   0.4s\n",
            "[CV] max_depth=9, n_estimators=10 ....................................\n",
            "[CV] ..................... max_depth=9, n_estimators=10, total=   0.4s\n",
            "[CV] max_depth=9, n_estimators=10 ....................................\n",
            "[CV] ..................... max_depth=9, n_estimators=10, total=   0.4s\n",
            "[CV] max_depth=9, n_estimators=50 ....................................\n",
            "[CV] ..................... max_depth=9, n_estimators=50, total=   1.7s\n",
            "[CV] max_depth=9, n_estimators=50 ....................................\n",
            "[CV] ..................... max_depth=9, n_estimators=50, total=   1.7s\n",
            "[CV] max_depth=9, n_estimators=50 ....................................\n",
            "[CV] ..................... max_depth=9, n_estimators=50, total=   1.7s\n",
            "[CV] max_depth=9, n_estimators=50 ....................................\n",
            "[CV] ..................... max_depth=9, n_estimators=50, total=   1.7s\n",
            "[CV] max_depth=9, n_estimators=50 ....................................\n",
            "[CV] ..................... max_depth=9, n_estimators=50, total=   1.7s\n",
            "[CV] max_depth=9, n_estimators=100 ...................................\n",
            "[CV] .................... max_depth=9, n_estimators=100, total=   3.5s\n",
            "[CV] max_depth=9, n_estimators=100 ...................................\n",
            "[CV] .................... max_depth=9, n_estimators=100, total=   3.4s\n",
            "[CV] max_depth=9, n_estimators=100 ...................................\n",
            "[CV] .................... max_depth=9, n_estimators=100, total=   3.4s\n",
            "[CV] max_depth=9, n_estimators=100 ...................................\n",
            "[CV] .................... max_depth=9, n_estimators=100, total=   3.4s\n",
            "[CV] max_depth=9, n_estimators=100 ...................................\n",
            "[CV] .................... max_depth=9, n_estimators=100, total=   3.4s\n",
            "[CV] max_depth=9, n_estimators=200 ...................................\n",
            "[CV] .................... max_depth=9, n_estimators=200, total=   6.9s\n",
            "[CV] max_depth=9, n_estimators=200 ...................................\n",
            "[CV] .................... max_depth=9, n_estimators=200, total=   6.9s\n",
            "[CV] max_depth=9, n_estimators=200 ...................................\n",
            "[CV] .................... max_depth=9, n_estimators=200, total=   6.8s\n",
            "[CV] max_depth=9, n_estimators=200 ...................................\n",
            "[CV] .................... max_depth=9, n_estimators=200, total=   6.9s\n",
            "[CV] max_depth=9, n_estimators=200 ...................................\n",
            "[CV] .................... max_depth=9, n_estimators=200, total=   6.8s\n",
            "[CV] max_depth=12, n_estimators=10 ...................................\n",
            "[CV] .................... max_depth=12, n_estimators=10, total=   0.4s\n",
            "[CV] max_depth=12, n_estimators=10 ...................................\n",
            "[CV] .................... max_depth=12, n_estimators=10, total=   0.4s\n",
            "[CV] max_depth=12, n_estimators=10 ...................................\n",
            "[CV] .................... max_depth=12, n_estimators=10, total=   0.4s\n",
            "[CV] max_depth=12, n_estimators=10 ...................................\n",
            "[CV] .................... max_depth=12, n_estimators=10, total=   0.4s\n",
            "[CV] max_depth=12, n_estimators=10 ...................................\n",
            "[CV] .................... max_depth=12, n_estimators=10, total=   0.4s\n",
            "[CV] max_depth=12, n_estimators=50 ...................................\n",
            "[CV] .................... max_depth=12, n_estimators=50, total=   2.1s\n",
            "[CV] max_depth=12, n_estimators=50 ...................................\n",
            "[CV] .................... max_depth=12, n_estimators=50, total=   2.1s\n",
            "[CV] max_depth=12, n_estimators=50 ...................................\n",
            "[CV] .................... max_depth=12, n_estimators=50, total=   2.1s\n",
            "[CV] max_depth=12, n_estimators=50 ...................................\n",
            "[CV] .................... max_depth=12, n_estimators=50, total=   2.1s\n",
            "[CV] max_depth=12, n_estimators=50 ...................................\n",
            "[CV] .................... max_depth=12, n_estimators=50, total=   2.2s\n",
            "[CV] max_depth=12, n_estimators=100 ..................................\n",
            "[CV] ................... max_depth=12, n_estimators=100, total=   4.3s\n",
            "[CV] max_depth=12, n_estimators=100 ..................................\n",
            "[CV] ................... max_depth=12, n_estimators=100, total=   4.2s\n",
            "[CV] max_depth=12, n_estimators=100 ..................................\n",
            "[CV] ................... max_depth=12, n_estimators=100, total=   4.2s\n",
            "[CV] max_depth=12, n_estimators=100 ..................................\n",
            "[CV] ................... max_depth=12, n_estimators=100, total=   4.2s\n",
            "[CV] max_depth=12, n_estimators=100 ..................................\n",
            "[CV] ................... max_depth=12, n_estimators=100, total=   4.4s\n",
            "[CV] max_depth=12, n_estimators=200 ..................................\n",
            "[CV] ................... max_depth=12, n_estimators=200, total=   8.5s\n",
            "[CV] max_depth=12, n_estimators=200 ..................................\n",
            "[CV] ................... max_depth=12, n_estimators=200, total=   8.4s\n",
            "[CV] max_depth=12, n_estimators=200 ..................................\n",
            "[CV] ................... max_depth=12, n_estimators=200, total=   8.5s\n",
            "[CV] max_depth=12, n_estimators=200 ..................................\n",
            "[CV] ................... max_depth=12, n_estimators=200, total=   8.5s\n",
            "[CV] max_depth=12, n_estimators=200 ..................................\n",
            "[CV] ................... max_depth=12, n_estimators=200, total=   8.6s\n"
          ],
          "name": "stdout"
        },
        {
          "output_type": "stream",
          "text": [
            "[Parallel(n_jobs=1)]: Done  80 out of  80 | elapsed:  3.5min finished\n"
          ],
          "name": "stderr"
        }
      ]
    },
    {
      "cell_type": "markdown",
      "metadata": {
        "id": "iHlsxUAvT2Co",
        "colab_type": "text"
      },
      "source": [
        "___________________________________________________________\n",
        "**Put the results of the grid search in a pandas DataFrame.**"
      ]
    },
    {
      "cell_type": "code",
      "metadata": {
        "scrolled": true,
        "id": "5iGz3KfcT2Cy",
        "colab_type": "code",
        "colab": {}
      },
      "source": [
        "df_res = pd.DataFrame(cv.cv_results_)"
      ],
      "execution_count": 12,
      "outputs": []
    },
    {
      "cell_type": "code",
      "metadata": {
        "id": "LYtXmh0wg7KT",
        "colab_type": "code",
        "colab": {
          "base_uri": "https://localhost:8080/",
          "height": 479
        },
        "outputId": "ea393f10-439c-4616-ee43-a8caca2a3972"
      },
      "source": [
        "df_res.head()"
      ],
      "execution_count": 13,
      "outputs": [
        {
          "output_type": "execute_result",
          "data": {
            "text/html": [
              "<div>\n",
              "<style scoped>\n",
              "    .dataframe tbody tr th:only-of-type {\n",
              "        vertical-align: middle;\n",
              "    }\n",
              "\n",
              "    .dataframe tbody tr th {\n",
              "        vertical-align: top;\n",
              "    }\n",
              "\n",
              "    .dataframe thead th {\n",
              "        text-align: right;\n",
              "    }\n",
              "</style>\n",
              "<table border=\"1\" class=\"dataframe\">\n",
              "  <thead>\n",
              "    <tr style=\"text-align: right;\">\n",
              "      <th></th>\n",
              "      <th>mean_fit_time</th>\n",
              "      <th>std_fit_time</th>\n",
              "      <th>mean_score_time</th>\n",
              "      <th>std_score_time</th>\n",
              "      <th>param_max_depth</th>\n",
              "      <th>param_n_estimators</th>\n",
              "      <th>params</th>\n",
              "      <th>split0_test_score</th>\n",
              "      <th>split1_test_score</th>\n",
              "      <th>split2_test_score</th>\n",
              "      <th>split3_test_score</th>\n",
              "      <th>split4_test_score</th>\n",
              "      <th>mean_test_score</th>\n",
              "      <th>std_test_score</th>\n",
              "      <th>rank_test_score</th>\n",
              "    </tr>\n",
              "  </thead>\n",
              "  <tbody>\n",
              "    <tr>\n",
              "      <th>0</th>\n",
              "      <td>0.161402</td>\n",
              "      <td>0.006157</td>\n",
              "      <td>0.005262</td>\n",
              "      <td>0.000297</td>\n",
              "      <td>3</td>\n",
              "      <td>10</td>\n",
              "      <td>{'max_depth': 3, 'n_estimators': 10}</td>\n",
              "      <td>0.814390</td>\n",
              "      <td>0.819269</td>\n",
              "      <td>0.816925</td>\n",
              "      <td>0.824426</td>\n",
              "      <td>0.815284</td>\n",
              "      <td>0.818058</td>\n",
              "      <td>0.003590</td>\n",
              "      <td>11</td>\n",
              "    </tr>\n",
              "    <tr>\n",
              "      <th>1</th>\n",
              "      <td>0.764321</td>\n",
              "      <td>0.007494</td>\n",
              "      <td>0.019218</td>\n",
              "      <td>0.002455</td>\n",
              "      <td>3</td>\n",
              "      <td>50</td>\n",
              "      <td>{'max_depth': 3, 'n_estimators': 50}</td>\n",
              "      <td>0.812046</td>\n",
              "      <td>0.815284</td>\n",
              "      <td>0.814346</td>\n",
              "      <td>0.820206</td>\n",
              "      <td>0.813408</td>\n",
              "      <td>0.815058</td>\n",
              "      <td>0.002788</td>\n",
              "      <td>15</td>\n",
              "    </tr>\n",
              "    <tr>\n",
              "      <th>2</th>\n",
              "      <td>1.488956</td>\n",
              "      <td>0.013657</td>\n",
              "      <td>0.032194</td>\n",
              "      <td>0.000494</td>\n",
              "      <td>3</td>\n",
              "      <td>100</td>\n",
              "      <td>{'max_depth': 3, 'n_estimators': 100}</td>\n",
              "      <td>0.810640</td>\n",
              "      <td>0.812705</td>\n",
              "      <td>0.813408</td>\n",
              "      <td>0.820441</td>\n",
              "      <td>0.810830</td>\n",
              "      <td>0.813605</td>\n",
              "      <td>0.003580</td>\n",
              "      <td>16</td>\n",
              "    </tr>\n",
              "    <tr>\n",
              "      <th>3</th>\n",
              "      <td>2.926221</td>\n",
              "      <td>0.037517</td>\n",
              "      <td>0.063788</td>\n",
              "      <td>0.002634</td>\n",
              "      <td>3</td>\n",
              "      <td>200</td>\n",
              "      <td>{'max_depth': 3, 'n_estimators': 200}</td>\n",
              "      <td>0.811577</td>\n",
              "      <td>0.815518</td>\n",
              "      <td>0.814346</td>\n",
              "      <td>0.821378</td>\n",
              "      <td>0.813408</td>\n",
              "      <td>0.815246</td>\n",
              "      <td>0.003326</td>\n",
              "      <td>14</td>\n",
              "    </tr>\n",
              "    <tr>\n",
              "      <th>4</th>\n",
              "      <td>0.254129</td>\n",
              "      <td>0.005626</td>\n",
              "      <td>0.005699</td>\n",
              "      <td>0.000289</td>\n",
              "      <td>6</td>\n",
              "      <td>10</td>\n",
              "      <td>{'max_depth': 6, 'n_estimators': 10}</td>\n",
              "      <td>0.814390</td>\n",
              "      <td>0.818565</td>\n",
              "      <td>0.819972</td>\n",
              "      <td>0.826301</td>\n",
              "      <td>0.819503</td>\n",
              "      <td>0.819746</td>\n",
              "      <td>0.003825</td>\n",
              "      <td>10</td>\n",
              "    </tr>\n",
              "  </tbody>\n",
              "</table>\n",
              "</div>"
            ],
            "text/plain": [
              "   mean_fit_time  std_fit_time  ...  std_test_score  rank_test_score\n",
              "0       0.161402      0.006157  ...        0.003590               11\n",
              "1       0.764321      0.007494  ...        0.002788               15\n",
              "2       1.488956      0.013657  ...        0.003580               16\n",
              "3       2.926221      0.037517  ...        0.003326               14\n",
              "4       0.254129      0.005626  ...        0.003825               10\n",
              "\n",
              "[5 rows x 15 columns]"
            ]
          },
          "metadata": {
            "tags": []
          },
          "execution_count": 13
        }
      ]
    },
    {
      "cell_type": "markdown",
      "metadata": {
        "id": "8X1gRq57T2Dm",
        "colab_type": "text"
      },
      "source": [
        "**Find the best hyperparameters from the cross-validation.**"
      ]
    },
    {
      "cell_type": "code",
      "metadata": {
        "id": "S__q55w1T2Ds",
        "colab_type": "code",
        "colab": {
          "base_uri": "https://localhost:8080/",
          "height": 170
        },
        "outputId": "0dd9cdd9-09c8-4700-d097-e85cf139d6b2"
      },
      "source": [
        "print(\"Best Hyperparameters:\")\n",
        "print(cv.best_estimator_)"
      ],
      "execution_count": 16,
      "outputs": [
        {
          "output_type": "stream",
          "text": [
            "Best Hyperparameters:\n",
            "RandomForestClassifier(bootstrap=True, ccp_alpha=0.0, class_weight=None,\n",
            "                       criterion='gini', max_depth=12, max_features='auto',\n",
            "                       max_leaf_nodes=None, max_samples=None,\n",
            "                       min_impurity_decrease=0.0, min_impurity_split=None,\n",
            "                       min_samples_leaf=1, min_samples_split=2,\n",
            "                       min_weight_fraction_leaf=0.0, n_estimators=200,\n",
            "                       n_jobs=None, oob_score=False, random_state=4, verbose=0,\n",
            "                       warm_start=False)\n"
          ],
          "name": "stdout"
        }
      ]
    },
    {
      "cell_type": "code",
      "metadata": {
        "id": "bJStgeUqppjt",
        "colab_type": "code",
        "colab": {
          "base_uri": "https://localhost:8080/",
          "height": 576
        },
        "outputId": "9688ff36-08f7-4064-a019-e6acc8ae7c08"
      },
      "source": [
        "feat_imp_df = pd.DataFrame({\n",
        "    'Feature name':features_response[:-1],\n",
        "    'Importance':cv.best_estimator_.feature_importances_\n",
        "})\n",
        "feat_imp_df.sort_values('Importance', ascending=False)"
      ],
      "execution_count": 18,
      "outputs": [
        {
          "output_type": "execute_result",
          "data": {
            "text/html": [
              "<div>\n",
              "<style scoped>\n",
              "    .dataframe tbody tr th:only-of-type {\n",
              "        vertical-align: middle;\n",
              "    }\n",
              "\n",
              "    .dataframe tbody tr th {\n",
              "        vertical-align: top;\n",
              "    }\n",
              "\n",
              "    .dataframe thead th {\n",
              "        text-align: right;\n",
              "    }\n",
              "</style>\n",
              "<table border=\"1\" class=\"dataframe\">\n",
              "  <thead>\n",
              "    <tr style=\"text-align: right;\">\n",
              "      <th></th>\n",
              "      <th>Feature name</th>\n",
              "      <th>Importance</th>\n",
              "    </tr>\n",
              "  </thead>\n",
              "  <tbody>\n",
              "    <tr>\n",
              "      <th>4</th>\n",
              "      <td>PAY_1</td>\n",
              "      <td>0.304592</td>\n",
              "    </tr>\n",
              "    <tr>\n",
              "      <th>11</th>\n",
              "      <td>PAY_AMT1</td>\n",
              "      <td>0.060596</td>\n",
              "    </tr>\n",
              "    <tr>\n",
              "      <th>0</th>\n",
              "      <td>LIMIT_BAL</td>\n",
              "      <td>0.059877</td>\n",
              "    </tr>\n",
              "    <tr>\n",
              "      <th>5</th>\n",
              "      <td>BILL_AMT1</td>\n",
              "      <td>0.053973</td>\n",
              "    </tr>\n",
              "    <tr>\n",
              "      <th>6</th>\n",
              "      <td>BILL_AMT2</td>\n",
              "      <td>0.052029</td>\n",
              "    </tr>\n",
              "    <tr>\n",
              "      <th>12</th>\n",
              "      <td>PAY_AMT2</td>\n",
              "      <td>0.051697</td>\n",
              "    </tr>\n",
              "    <tr>\n",
              "      <th>7</th>\n",
              "      <td>BILL_AMT3</td>\n",
              "      <td>0.048639</td>\n",
              "    </tr>\n",
              "    <tr>\n",
              "      <th>13</th>\n",
              "      <td>PAY_AMT3</td>\n",
              "      <td>0.048254</td>\n",
              "    </tr>\n",
              "    <tr>\n",
              "      <th>8</th>\n",
              "      <td>BILL_AMT4</td>\n",
              "      <td>0.046171</td>\n",
              "    </tr>\n",
              "    <tr>\n",
              "      <th>10</th>\n",
              "      <td>BILL_AMT6</td>\n",
              "      <td>0.045718</td>\n",
              "    </tr>\n",
              "    <tr>\n",
              "      <th>9</th>\n",
              "      <td>BILL_AMT5</td>\n",
              "      <td>0.043062</td>\n",
              "    </tr>\n",
              "    <tr>\n",
              "      <th>3</th>\n",
              "      <td>AGE</td>\n",
              "      <td>0.042871</td>\n",
              "    </tr>\n",
              "    <tr>\n",
              "      <th>14</th>\n",
              "      <td>PAY_AMT4</td>\n",
              "      <td>0.042495</td>\n",
              "    </tr>\n",
              "    <tr>\n",
              "      <th>15</th>\n",
              "      <td>PAY_AMT5</td>\n",
              "      <td>0.039981</td>\n",
              "    </tr>\n",
              "    <tr>\n",
              "      <th>16</th>\n",
              "      <td>PAY_AMT6</td>\n",
              "      <td>0.039775</td>\n",
              "    </tr>\n",
              "    <tr>\n",
              "      <th>1</th>\n",
              "      <td>EDUCATION</td>\n",
              "      <td>0.012451</td>\n",
              "    </tr>\n",
              "    <tr>\n",
              "      <th>2</th>\n",
              "      <td>MARRIAGE</td>\n",
              "      <td>0.007819</td>\n",
              "    </tr>\n",
              "  </tbody>\n",
              "</table>\n",
              "</div>"
            ],
            "text/plain": [
              "   Feature name  Importance\n",
              "4         PAY_1    0.304592\n",
              "11     PAY_AMT1    0.060596\n",
              "0     LIMIT_BAL    0.059877\n",
              "5     BILL_AMT1    0.053973\n",
              "6     BILL_AMT2    0.052029\n",
              "12     PAY_AMT2    0.051697\n",
              "7     BILL_AMT3    0.048639\n",
              "13     PAY_AMT3    0.048254\n",
              "8     BILL_AMT4    0.046171\n",
              "10    BILL_AMT6    0.045718\n",
              "9     BILL_AMT5    0.043062\n",
              "3           AGE    0.042871\n",
              "14     PAY_AMT4    0.042495\n",
              "15     PAY_AMT5    0.039981\n",
              "16     PAY_AMT6    0.039775\n",
              "1     EDUCATION    0.012451\n",
              "2      MARRIAGE    0.007819"
            ]
          },
          "metadata": {
            "tags": []
          },
          "execution_count": 18
        }
      ]
    },
    {
      "cell_type": "markdown",
      "metadata": {
        "id": "xbWBtjhsT2Ek",
        "colab_type": "text"
      },
      "source": [
        "________________________________________________________________________________________________________\n",
        "**Create a `pcolormesh` visualization of the mean testing score for each combination of hyperparameters.**\n",
        "\n",
        "<details>\n",
        "    <summary>Hint:</summary>\n",
        "    Remember to reshape the values of the mean testing scores to be a two-dimensional 4x4 grid.\n",
        "</details>"
      ]
    },
    {
      "cell_type": "code",
      "metadata": {
        "id": "VAVQ4Ur4T2E1",
        "colab_type": "code",
        "colab": {
          "base_uri": "https://localhost:8080/",
          "height": 85
        },
        "outputId": "8ef9344e-0d4c-424f-b87c-c24088072bd7"
      },
      "source": [
        "# Create a 5x5 grid\n",
        "xx_example, yy_example = np.meshgrid(range(5), range(5))\n",
        "z_example = np.array(df_res['mean_test_score']).reshape(4,4)\n",
        "z_example"
      ],
      "execution_count": 21,
      "outputs": [
        {
          "output_type": "execute_result",
          "data": {
            "text/plain": [
              "array([[0.8180584 , 0.81505804, 0.81360475, 0.81524559],\n",
              "       [0.81974616, 0.82012116, 0.82049621, 0.82049621],\n",
              "       [0.81735538, 0.82002739, 0.82026178, 0.82054312],\n",
              "       [0.81721443, 0.82049614, 0.82049621, 0.82077745]])"
            ]
          },
          "metadata": {
            "tags": []
          },
          "execution_count": 21
        }
      ]
    },
    {
      "cell_type": "code",
      "metadata": {
        "id": "EDUJKGe8T2Gk",
        "colab_type": "code",
        "colab": {
          "base_uri": "https://localhost:8080/",
          "height": 300
        },
        "outputId": "4db72c36-cd6e-4257-f926-a1c6486040d3"
      },
      "source": [
        "# Set color map to `plt.cm.jet`\n",
        "ax = plt.axes()\n",
        "pcolor_ex = ax.pcolormesh(xx_example, yy_example, z_example, cmap=plt.cm.jet)\n",
        "plt.colorbar(pcolor_ex, label='Color scale')\n",
        "ax.set_xlabel('Maximum depth')\n",
        "ax.set_ylabel('Number of estimators')"
      ],
      "execution_count": 28,
      "outputs": [
        {
          "output_type": "execute_result",
          "data": {
            "text/plain": [
              "Text(0, 0.5, 'Number of estimators')"
            ]
          },
          "metadata": {
            "tags": []
          },
          "execution_count": 28
        },
        {
          "output_type": "display_data",
          "data": {
            "image/png": "[encoded data removed]",
            "text/plain": [
              "<Figure size 432x288 with 2 Axes>"
            ]
          },
          "metadata": {
            "tags": [],
            "needs_background": "light"
          }
        }
      ]
    },
    {
      "cell_type": "code",
      "metadata": {
        "eid": "f0c62",
        "id": "5rWmwQeqT2HR",
        "colab_type": "code",
        "colab": {}
      },
      "source": [
        "# Visualize pcolormesh\n"
      ],
      "execution_count": 27,
      "outputs": []
    },
    {
      "cell_type": "markdown",
      "metadata": {
        "id": "4slkOftcT2H3",
        "colab_type": "text"
      },
      "source": [
        "________________________________________________________________________________________________________\n",
        "**Conclude which set of hyperparameters to use.**"
      ]
    },
    {
      "cell_type": "code",
      "metadata": {
        "id": "BS6Mqu7tT2H_",
        "colab_type": "code",
        "colab": {}
      },
      "source": [
        "# Create a dataframe of the feature names and importance\n",
        "new_df = pd.DataFrame({\n",
        "    'Feature name':features_response[:-1],\n",
        "    'Importance':cv.best_estimator_.feature_importances_\n",
        "})\n"
      ],
      "execution_count": 29,
      "outputs": []
    },
    {
      "cell_type": "code",
      "metadata": {
        "id": "YpH0rghnT2JY",
        "colab_type": "code",
        "colab": {
          "base_uri": "https://localhost:8080/",
          "height": 576
        },
        "outputId": "08890418-4e5b-4b52-e787-41492f2cb7e5"
      },
      "source": [
        "# Sort values by importance\n",
        "feat_imp_df.sort_values('Importance', ascending=False)"
      ],
      "execution_count": 30,
      "outputs": [
        {
          "output_type": "execute_result",
          "data": {
            "text/html": [
              "<div>\n",
              "<style scoped>\n",
              "    .dataframe tbody tr th:only-of-type {\n",
              "        vertical-align: middle;\n",
              "    }\n",
              "\n",
              "    .dataframe tbody tr th {\n",
              "        vertical-align: top;\n",
              "    }\n",
              "\n",
              "    .dataframe thead th {\n",
              "        text-align: right;\n",
              "    }\n",
              "</style>\n",
              "<table border=\"1\" class=\"dataframe\">\n",
              "  <thead>\n",
              "    <tr style=\"text-align: right;\">\n",
              "      <th></th>\n",
              "      <th>Feature name</th>\n",
              "      <th>Importance</th>\n",
              "    </tr>\n",
              "  </thead>\n",
              "  <tbody>\n",
              "    <tr>\n",
              "      <th>4</th>\n",
              "      <td>PAY_1</td>\n",
              "      <td>0.304592</td>\n",
              "    </tr>\n",
              "    <tr>\n",
              "      <th>11</th>\n",
              "      <td>PAY_AMT1</td>\n",
              "      <td>0.060596</td>\n",
              "    </tr>\n",
              "    <tr>\n",
              "      <th>0</th>\n",
              "      <td>LIMIT_BAL</td>\n",
              "      <td>0.059877</td>\n",
              "    </tr>\n",
              "    <tr>\n",
              "      <th>5</th>\n",
              "      <td>BILL_AMT1</td>\n",
              "      <td>0.053973</td>\n",
              "    </tr>\n",
              "    <tr>\n",
              "      <th>6</th>\n",
              "      <td>BILL_AMT2</td>\n",
              "      <td>0.052029</td>\n",
              "    </tr>\n",
              "    <tr>\n",
              "      <th>12</th>\n",
              "      <td>PAY_AMT2</td>\n",
              "      <td>0.051697</td>\n",
              "    </tr>\n",
              "    <tr>\n",
              "      <th>7</th>\n",
              "      <td>BILL_AMT3</td>\n",
              "      <td>0.048639</td>\n",
              "    </tr>\n",
              "    <tr>\n",
              "      <th>13</th>\n",
              "      <td>PAY_AMT3</td>\n",
              "      <td>0.048254</td>\n",
              "    </tr>\n",
              "    <tr>\n",
              "      <th>8</th>\n",
              "      <td>BILL_AMT4</td>\n",
              "      <td>0.046171</td>\n",
              "    </tr>\n",
              "    <tr>\n",
              "      <th>10</th>\n",
              "      <td>BILL_AMT6</td>\n",
              "      <td>0.045718</td>\n",
              "    </tr>\n",
              "    <tr>\n",
              "      <th>9</th>\n",
              "      <td>BILL_AMT5</td>\n",
              "      <td>0.043062</td>\n",
              "    </tr>\n",
              "    <tr>\n",
              "      <th>3</th>\n",
              "      <td>AGE</td>\n",
              "      <td>0.042871</td>\n",
              "    </tr>\n",
              "    <tr>\n",
              "      <th>14</th>\n",
              "      <td>PAY_AMT4</td>\n",
              "      <td>0.042495</td>\n",
              "    </tr>\n",
              "    <tr>\n",
              "      <th>15</th>\n",
              "      <td>PAY_AMT5</td>\n",
              "      <td>0.039981</td>\n",
              "    </tr>\n",
              "    <tr>\n",
              "      <th>16</th>\n",
              "      <td>PAY_AMT6</td>\n",
              "      <td>0.039775</td>\n",
              "    </tr>\n",
              "    <tr>\n",
              "      <th>1</th>\n",
              "      <td>EDUCATION</td>\n",
              "      <td>0.012451</td>\n",
              "    </tr>\n",
              "    <tr>\n",
              "      <th>2</th>\n",
              "      <td>MARRIAGE</td>\n",
              "      <td>0.007819</td>\n",
              "    </tr>\n",
              "  </tbody>\n",
              "</table>\n",
              "</div>"
            ],
            "text/plain": [
              "   Feature name  Importance\n",
              "4         PAY_1    0.304592\n",
              "11     PAY_AMT1    0.060596\n",
              "0     LIMIT_BAL    0.059877\n",
              "5     BILL_AMT1    0.053973\n",
              "6     BILL_AMT2    0.052029\n",
              "12     PAY_AMT2    0.051697\n",
              "7     BILL_AMT3    0.048639\n",
              "13     PAY_AMT3    0.048254\n",
              "8     BILL_AMT4    0.046171\n",
              "10    BILL_AMT6    0.045718\n",
              "9     BILL_AMT5    0.043062\n",
              "3           AGE    0.042871\n",
              "14     PAY_AMT4    0.042495\n",
              "15     PAY_AMT5    0.039981\n",
              "16     PAY_AMT6    0.039775\n",
              "1     EDUCATION    0.012451\n",
              "2      MARRIAGE    0.007819"
            ]
          },
          "metadata": {
            "tags": []
          },
          "execution_count": 30
        }
      ]
    }
  ]
}