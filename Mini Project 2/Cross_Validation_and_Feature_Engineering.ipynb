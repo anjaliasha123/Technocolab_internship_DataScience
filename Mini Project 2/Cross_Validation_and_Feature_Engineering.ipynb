{
  "nbformat": 4,
  "nbformat_minor": 0,
  "metadata": {
    "kernelspec": {
      "display_name": "Python 3",
      "language": "python",
      "name": "python3"
    },
    "language_info": {
      "codemirror_mode": {
        "name": "ipython",
        "version": 3
      },
      "file_extension": ".py",
      "mimetype": "text/x-python",
      "name": "python",
      "nbconvert_exporter": "python",
      "pygments_lexer": "ipython3",
      "version": "3.7.4"
    },
    "colab": {
      "name": "Cross-Validation_and_Feature_Engineering.ipynb",
      "provenance": []
    }
  },
  "cells": [
    {
      "cell_type": "markdown",
      "metadata": {
        "id": "KgECTV9TLdm1",
        "colab_type": "text"
      },
      "source": [
        "**Run the following two cells before you begin.**"
      ]
    },
    {
      "cell_type": "code",
      "metadata": {
        "id": "GcVHBClyLdnC",
        "colab_type": "code",
        "colab": {
          "base_uri": "https://localhost:8080/",
          "height": 34
        },
        "outputId": "5174822f-77da-4f2e-fb98-7d10a8718d6e"
      },
      "source": [
        "%autosave 10"
      ],
      "execution_count": 1,
      "outputs": [
        {
          "output_type": "display_data",
          "data": {
            "application/javascript": [
              "IPython.notebook.set_autosave_interval(10000)"
            ]
          },
          "metadata": {
            "tags": []
          }
        },
        {
          "output_type": "stream",
          "text": [
            "Autosaving every 10 seconds\n"
          ],
          "name": "stdout"
        }
      ]
    },
    {
      "cell_type": "code",
      "metadata": {
        "id": "7Yjh2qCTLdn3",
        "colab_type": "code",
        "colab": {}
      },
      "source": [
        "import pandas as pd\n",
        "import numpy as np\n",
        "import matplotlib.pyplot as plt\n",
        "\n",
        "from sklearn.model_selection import train_test_split, StratifiedKFold\n",
        "from sklearn.preprocessing import MinMaxScaler\n",
        "from sklearn.linear_model import LogisticRegression\n",
        "from sklearn.metrics import roc_auc_score, roc_curve\n",
        "\n",
        "%matplotlib inline"
      ],
      "execution_count": 2,
      "outputs": []
    },
    {
      "cell_type": "markdown",
      "metadata": {
        "id": "7oPBWlnmLdoh",
        "colab_type": "text"
      },
      "source": [
        "**First, import the cleaned data set. Then, select the features from the DataFrame of the case study data.**\n",
        "    \n",
        "These features should be: `'LIMIT_BAL'`, `'EDUCATION'`, `'MARRIAGE'`, `'AGE'`, `'PAY_1'`, `'BILL_AMT1'`, `'BILL_AMT2'`, `'BILL_AMT3'`, `'BILL_AMT4'`, `'BILL_AMT5'`, `'BILL_AMT6'`, `'PAY_AMT1'`, `'PAY_AMT2'`, `'PAY_AMT3'`, `'PAY_AMT4'`, `'PAY_AMT5'`, AND `'PAY_AMT6'`."
      ]
    },
    {
      "cell_type": "code",
      "metadata": {
        "id": "0Q8l7_XCLdom",
        "colab_type": "code",
        "colab": {}
      },
      "source": [
        "# Import data set\n",
        "data = pd.read_csv('cleaned_data.csv' )"
      ],
      "execution_count": 3,
      "outputs": []
    },
    {
      "cell_type": "code",
      "metadata": {
        "id": "K1zOfaXVLdpI",
        "colab_type": "code",
        "colab": {}
      },
      "source": [
        "# Create features list\n",
        "feat_list = ['LIMIT_BAL', 'EDUCATION', 'MARRIAGE', 'AGE', 'PAY_1', 'BILL_AMT1', 'BILL_AMT2', 'BILL_AMT3', 'BILL_AMT4', 'BILL_AMT5', 'BILL_AMT6', 'PAY_AMT1', 'PAY_AMT2', 'PAY_AMT3', 'PAY_AMT4', 'PAY_AMT5','PAY_AMT6']"
      ],
      "execution_count": 4,
      "outputs": []
    },
    {
      "cell_type": "code",
      "metadata": {
        "id": "p8H_G1noPviD",
        "colab_type": "code",
        "colab": {
          "base_uri": "https://localhost:8080/",
          "height": 136
        },
        "outputId": "eeca911c-904f-4d3e-ad14-a87f797c6c1a"
      },
      "source": [
        "data.columns"
      ],
      "execution_count": 5,
      "outputs": [
        {
          "output_type": "execute_result",
          "data": {
            "text/plain": [
              "Index(['ID', 'LIMIT_BAL', 'SEX', 'EDUCATION', 'MARRIAGE', 'AGE', 'PAY_1',\n",
              "       'PAY_2', 'PAY_3', 'PAY_4', 'PAY_5', 'PAY_6', 'BILL_AMT1', 'BILL_AMT2',\n",
              "       'BILL_AMT3', 'BILL_AMT4', 'BILL_AMT5', 'BILL_AMT6', 'PAY_AMT1',\n",
              "       'PAY_AMT2', 'PAY_AMT3', 'PAY_AMT4', 'PAY_AMT5', 'PAY_AMT6',\n",
              "       'default payment next month', 'EDUCATION_CAT', 'graduate school',\n",
              "       'high school', 'others', 'university'],\n",
              "      dtype='object')"
            ]
          },
          "metadata": {
            "tags": []
          },
          "execution_count": 5
        }
      ]
    },
    {
      "cell_type": "markdown",
      "metadata": {
        "id": "2MQFYkHNLdpe",
        "colab_type": "text"
      },
      "source": [
        "_____________________________________________________\n",
        "**Next, make a 80:20 train/test split using a random seed of 24.**"
      ]
    },
    {
      "cell_type": "code",
      "metadata": {
        "id": "d6RtjP9JLdpm",
        "colab_type": "code",
        "colab": {}
      },
      "source": [
        "X_train,X_test,y_train,y_test = train_test_split(data[feat_list],data['default payment next month'],test_size=0.2,random_state=24)"
      ],
      "execution_count": 6,
      "outputs": []
    },
    {
      "cell_type": "markdown",
      "metadata": {
        "id": "hcWbTMV6LdqE",
        "colab_type": "text"
      },
      "source": [
        "_____________________________________________________\n",
        "**Then, instantiate the `MinMaxScaler` to scale the data.**"
      ]
    },
    {
      "cell_type": "code",
      "metadata": {
        "id": "5HxwzJ6gLdqH",
        "colab_type": "code",
        "colab": {}
      },
      "source": [
        "scaler = MinMaxScaler()"
      ],
      "execution_count": 7,
      "outputs": []
    },
    {
      "cell_type": "markdown",
      "metadata": {
        "id": "ixm0-r3bLdqh",
        "colab_type": "text"
      },
      "source": [
        "_____________________________________________________\n",
        "**Next, instantiate a logistic regression model with the `saga` solver, L1 penalty, and set `max_iter` to 1,000 as we want the solver to have enough iterations to find a good solution.**"
      ]
    },
    {
      "cell_type": "code",
      "metadata": {
        "id": "OECjIileLdqq",
        "colab_type": "code",
        "colab": {}
      },
      "source": [
        "lr = LogisticRegression(solver='saga',penalty='l1',max_iter=1000)"
      ],
      "execution_count": 8,
      "outputs": []
    },
    {
      "cell_type": "markdown",
      "metadata": {
        "id": "9FBD4vbDLdrD",
        "colab_type": "text"
      },
      "source": [
        "_____________________________________________________\n",
        "**Next, import the `Pipeline` class and create a `Pipeline` with the scaler and the logistic regression model, using the names `'scaler'` and `'model'` for the steps, respectively.**"
      ]
    },
    {
      "cell_type": "code",
      "metadata": {
        "id": "li2us5zzLdrK",
        "colab_type": "code",
        "colab": {}
      },
      "source": [
        "from sklearn.pipeline import Pipeline\n",
        "pipe = Pipeline(steps = \n",
        "      [\n",
        "       ('scaler',scaler),\n",
        "       ('model',lr)\n",
        "      ]\n",
        ")"
      ],
      "execution_count": 11,
      "outputs": []
    },
    {
      "cell_type": "markdown",
      "metadata": {
        "id": "Lvln_RIfLdrg",
        "colab_type": "text"
      },
      "source": [
        "_____________________________________________________\n",
        "**Now, use the `get_params` method to view the parameters from each stage of the pipeline.**"
      ]
    },
    {
      "cell_type": "code",
      "metadata": {
        "scrolled": false,
        "id": "G8rJVnlRLdrj",
        "colab_type": "code",
        "colab": {
          "base_uri": "https://localhost:8080/",
          "height": 561
        },
        "outputId": "f3061f7b-4a1f-4c06-cec8-788d5f02d7d5"
      },
      "source": [
        "# Use `get_params`\n",
        "params = pipe.get_params()\n",
        "params"
      ],
      "execution_count": 12,
      "outputs": [
        {
          "output_type": "execute_result",
          "data": {
            "text/plain": [
              "{'memory': None,\n",
              " 'model': LogisticRegression(C=1.0, class_weight=None, dual=False, fit_intercept=True,\n",
              "                    intercept_scaling=1, l1_ratio=None, max_iter=1000,\n",
              "                    multi_class='auto', n_jobs=None, penalty='l1',\n",
              "                    random_state=None, solver='saga', tol=0.0001, verbose=0,\n",
              "                    warm_start=False),\n",
              " 'model__C': 1.0,\n",
              " 'model__class_weight': None,\n",
              " 'model__dual': False,\n",
              " 'model__fit_intercept': True,\n",
              " 'model__intercept_scaling': 1,\n",
              " 'model__l1_ratio': None,\n",
              " 'model__max_iter': 1000,\n",
              " 'model__multi_class': 'auto',\n",
              " 'model__n_jobs': None,\n",
              " 'model__penalty': 'l1',\n",
              " 'model__random_state': None,\n",
              " 'model__solver': 'saga',\n",
              " 'model__tol': 0.0001,\n",
              " 'model__verbose': 0,\n",
              " 'model__warm_start': False,\n",
              " 'scaler': MinMaxScaler(copy=True, feature_range=(0, 1)),\n",
              " 'scaler__copy': True,\n",
              " 'scaler__feature_range': (0, 1),\n",
              " 'steps': [('scaler', MinMaxScaler(copy=True, feature_range=(0, 1))),\n",
              "  ('model',\n",
              "   LogisticRegression(C=1.0, class_weight=None, dual=False, fit_intercept=True,\n",
              "                      intercept_scaling=1, l1_ratio=None, max_iter=1000,\n",
              "                      multi_class='auto', n_jobs=None, penalty='l1',\n",
              "                      random_state=None, solver='saga', tol=0.0001, verbose=0,\n",
              "                      warm_start=False))],\n",
              " 'verbose': False}"
            ]
          },
          "metadata": {
            "tags": []
          },
          "execution_count": 12
        }
      ]
    },
    {
      "cell_type": "markdown",
      "metadata": {
        "id": "r6eeuafuLdr4",
        "colab_type": "text"
      },
      "source": [
        "**Use the `set_params` method to change the the `model__C` parameter to 2.**"
      ]
    },
    {
      "cell_type": "code",
      "metadata": {
        "id": "SlcDbq6KLdr_",
        "colab_type": "code",
        "colab": {
          "base_uri": "https://localhost:8080/",
          "height": 34
        },
        "outputId": "923d7bef-490a-4d46-f944-257d3a731185"
      },
      "source": [
        "# View what `model__C` is set to currently\n",
        "params['model__C']"
      ],
      "execution_count": 13,
      "outputs": [
        {
          "output_type": "execute_result",
          "data": {
            "text/plain": [
              "1.0"
            ]
          },
          "metadata": {
            "tags": []
          },
          "execution_count": 13
        }
      ]
    },
    {
      "cell_type": "code",
      "metadata": {
        "id": "EbNIxG2ZLdsd",
        "colab_type": "code",
        "colab": {}
      },
      "source": [
        "# Change `model__C` to 2\n",
        "params['model__C'] = 2.0"
      ],
      "execution_count": 15,
      "outputs": []
    },
    {
      "cell_type": "markdown",
      "metadata": {
        "id": "naGwCkPiLds0",
        "colab_type": "text"
      },
      "source": [
        "_____________________________________________________\n",
        "**Then, create a smaller range of C values to test with cross-validation, as these models will take longer to train and test with more data than our previous activities.**\n",
        "\n",
        "**Use C_vals = [$10^2$, $10$, $1$, $10^{-1}$, $10^{-2}$, $10^{-3}$].**\n",
        "\n",
        "\n",
        "<details>\n",
        "    <summary>Hint:</summary>\n",
        "    Recall that exponents in Python use the ** operator.\n",
        "</details>"
      ]
    },
    {
      "cell_type": "code",
      "metadata": {
        "id": "xDmaqxsLLds3",
        "colab_type": "code",
        "colab": {}
      },
      "source": [
        "C_vals = [10**2,10,1,10**-1,10**-2,10**-3]"
      ],
      "execution_count": 36,
      "outputs": []
    },
    {
      "cell_type": "markdown",
      "metadata": {
        "id": "YD3cV3hQLdtT",
        "colab_type": "text"
      },
      "source": [
        "Now, define `k_folds` using `StratifiedKFold`. The number of folds should be 4. Set the random state to 1."
      ]
    },
    {
      "cell_type": "code",
      "metadata": {
        "id": "xdJpuCqFLdtc",
        "colab_type": "code",
        "colab": {}
      },
      "source": [
        "from sklearn.model_selection import StratifiedKFold as skf\n",
        "k_folds = skf(n_splits=4,shuffle=True,  random_state=1)"
      ],
      "execution_count": 17,
      "outputs": []
    },
    {
      "cell_type": "markdown",
      "metadata": {
        "id": "Pe_bCqPCLdtz",
        "colab_type": "text"
      },
      "source": [
        "_____________________________________________________\n",
        "**Next, make a new version of the `cross_val_C_search` function, called `cross_val_C_search_pipe`. Instead of the model argument, this function will take a pipeline argument. The changes inside the function will be to set the `C` value using `set_params(model__C = <value you want to test>)` on the pipeline, replacing the model with the pipeline for the fit and `predict_proba` methods, and accessing the `C` value using `pipeline.get_params()['model__C']` for the printed status update.**"
      ]
    },
    {
      "cell_type": "code",
      "metadata": {
        "id": "9PNxsc3bLdt5",
        "colab_type": "code",
        "colab": {}
      },
      "source": [
        "def cross_val_C_search_pipe(data,pipe,x):\n",
        "  pipe.set_params(model__C=x)\n",
        "  model = pipe.fit(X_train,y_train)\n",
        "  print('C:',pipe.get_params()['model__C'],end='----------')\n",
        "  pre_prob = model.predict_proba(data)\n",
        "  return pre_prob"
      ],
      "execution_count": 18,
      "outputs": []
    },
    {
      "cell_type": "markdown",
      "metadata": {
        "id": "F3qaHxyHLduM",
        "colab_type": "text"
      },
      "source": [
        "_____________________________________________________\n",
        "**Now, run this function as in the previous activity, but using the new range of `C` values, the pipeline you created, and the features and response variable from the training split of the case study data.**\n",
        "\n",
        "    You may see warnings here, or in later steps, about the non-convergence of the solver; you could experiment with the `tol` or `max_iter`` options to try and achieve convergence, although the results you obtain with `max_iter = 1000` are likely to be sufficient."
      ]
    },
    {
      "cell_type": "code",
      "metadata": {
        "id": "N_JJkBkELduQ",
        "colab_type": "code",
        "colab": {
          "base_uri": "https://localhost:8080/",
          "height": 34
        },
        "outputId": "8f57ecbd-c942-4040-96fa-f597b8248883"
      },
      "source": [
        "for i in C_vals:\n",
        "  cross_val_C_search_pipe(X_test,pipe,i)\n",
        "  "
      ],
      "execution_count": 19,
      "outputs": [
        {
          "output_type": "stream",
          "text": [
            "C: 100----------C: 10----------C: 1----------C: 0.1----------C: 0.01----------C: 0.001----------"
          ],
          "name": "stdout"
        }
      ]
    },
    {
      "cell_type": "markdown",
      "metadata": {
        "id": "XNi3nPeeLdux",
        "colab_type": "text"
      },
      "source": [
        "_____________________________________________________\n",
        "**Plot the average training and testing ROC AUC across folds, for each `np.log(C_vals)` value.**"
      ]
    },
    {
      "cell_type": "code",
      "metadata": {
        "id": "VPUExRKULdu4",
        "colab_type": "code",
        "colab": {
          "base_uri": "https://localhost:8080/",
          "height": 136
        },
        "outputId": "b4b721fc-c118-41dd-93c0-fd976bcbded4"
      },
      "source": [
        "from sklearn import metrics\n",
        "from sklearn.metrics import roc_auc_score\n",
        "#For testing\n",
        "print(\"------------------FOR TESTING------------------------\")\n",
        "test_scores = []\n",
        "for i in C_vals:\n",
        "  prob = cross_val_C_search_pipe(X_test,pipe,i)\n",
        "  score = roc_auc_score(y_test,prob[:,1])\n",
        "  test_scores.append(score)\n",
        "  print(\"C: np.log({}), roc_auc_score: {}\".format(i,score))"
      ],
      "execution_count": 20,
      "outputs": [
        {
          "output_type": "stream",
          "text": [
            "------------------FOR TESTING------------------------\n",
            "C: 100----------C: np.log(100), roc_auc_score: 0.709312643635286\n",
            "C: 10----------C: np.log(10), roc_auc_score: 0.7089462635656987\n",
            "C: 1----------C: np.log(1), roc_auc_score: 0.7058067510915764\n",
            "C: 0.1----------C: np.log(0.1), roc_auc_score: 0.7004449196885769\n",
            "C: 0.01----------C: np.log(0.01), roc_auc_score: 0.7004838786552524\n",
            "C: 0.001----------C: np.log(0.001), roc_auc_score: 0.5\n"
          ],
          "name": "stdout"
        }
      ]
    },
    {
      "cell_type": "code",
      "metadata": {
        "id": "ub8bg7gcGVn2",
        "colab_type": "code",
        "colab": {
          "base_uri": "https://localhost:8080/",
          "height": 136
        },
        "outputId": "5365537c-3dac-48af-c681-8cf37137c70e"
      },
      "source": [
        "print(\"------------------FOR TRAINING------------------------\")\n",
        "train_scores = []\n",
        "for i in C_vals:\n",
        "  prob = cross_val_C_search_pipe(X_train,pipe,i)\n",
        "  score = roc_auc_score(y_train,prob[:,1])\n",
        "  train_scores.append(score)\n",
        "  print(\"C: np.log({}), roc_auc_score: {}\".format(i,score))"
      ],
      "execution_count": 21,
      "outputs": [
        {
          "output_type": "stream",
          "text": [
            "------------------FOR TRAINING------------------------\n",
            "C: 100----------C: np.log(100), roc_auc_score: 0.7197225227736493\n",
            "C: 10----------C: np.log(10), roc_auc_score: 0.7195755649179164\n",
            "C: 1----------C: np.log(1), roc_auc_score: 0.7181527618161343\n",
            "C: 0.1----------C: np.log(0.1), roc_auc_score: 0.7151745448503457\n",
            "C: 0.01----------C: np.log(0.01), roc_auc_score: 0.7164457493220031\n",
            "C: 0.001----------C: np.log(0.001), roc_auc_score: 0.5\n"
          ],
          "name": "stdout"
        }
      ]
    },
    {
      "cell_type": "code",
      "metadata": {
        "id": "2OSQstRW0e-p",
        "colab_type": "code",
        "colab": {
          "base_uri": "https://localhost:8080/",
          "height": 296
        },
        "outputId": "4e6db514-7089-485b-8542-a6b7fedf10d5"
      },
      "source": [
        "import matplotlib.pyplot as plt\n",
        "x = [1,2,3,4,5,6]\n",
        "plt.xticks(x,C_vals)\n",
        "plt.plot(x,test_scores,label = \"Testing\")\n",
        "plt.plot(x,train_scores,label=\"Training\")\n",
        "plt.title(\"Average training and testing AUC scores\")\n",
        "plt.legend()\n",
        "plt.xlabel(\"C_vals\")\n",
        "\n",
        "plt.ylabel('Average auc score')\n",
        "plt.show()"
      ],
      "execution_count": 37,
      "outputs": [
        {
          "output_type": "display_data",
          "data": {
            "image/png": "[encoded data removed]",
            "text/plain": [
              "<Figure size 432x288 with 1 Axes>"
            ]
          },
          "metadata": {
            "tags": [],
            "needs_background": "light"
          }
        }
      ]
    },
    {
      "cell_type": "markdown",
      "metadata": {
        "id": "PpR6wQ5bLdvS",
        "colab_type": "text"
      },
      "source": [
        "_____________________________________________________\n",
        "**Up next, create interaction features for the case study data using scikit-learn's `PolynomialFeatures`. You should use 2 as the degree of polynomial features. Confirm that the number of new features makes sense.**"
      ]
    },
    {
      "cell_type": "code",
      "metadata": {
        "id": "GythH_YBLdvY",
        "colab_type": "code",
        "colab": {
          "base_uri": "https://localhost:8080/",
          "height": 51
        },
        "outputId": "a4c3baab-d323-45f6-aa7b-e04e417b3fb8"
      },
      "source": [
        "from sklearn.preprocessing import PolynomialFeatures\n",
        "make_interactions = PolynomialFeatures(degree=2, interaction_only=True, include_bias=False)\n",
        "make_interactions"
      ],
      "execution_count": 40,
      "outputs": [
        {
          "output_type": "execute_result",
          "data": {
            "text/plain": [
              "PolynomialFeatures(degree=2, include_bias=False, interaction_only=True,\n",
              "                   order='C')"
            ]
          },
          "metadata": {
            "tags": []
          },
          "execution_count": 40
        }
      ]
    },
    {
      "cell_type": "markdown",
      "metadata": {
        "id": "x1xTfeHCLdvw",
        "colab_type": "text"
      },
      "source": [
        "_____________________________________________________\n",
        "**Finally, repeat the cross-validation procedure and observe the model performance now.**"
      ]
    },
    {
      "cell_type": "code",
      "metadata": {
        "id": "OCSsVvakLdv1",
        "colab_type": "code",
        "colab": {}
      },
      "source": [
        "# Using the new features, make a 80:20 train/test split using a random seed of 24.**\n",
        "x_data = make_interactions.fit_transform(data[feat_list])"
      ],
      "execution_count": 43,
      "outputs": []
    },
    {
      "cell_type": "code",
      "metadata": {
        "id": "_9BD1Btc7npL",
        "colab_type": "code",
        "colab": {}
      },
      "source": [
        "X_train,X_test,y_train,y_test = train_test_split(x_data,data['default payment next month'],test_size=0.2,random_state=24)"
      ],
      "execution_count": 49,
      "outputs": []
    },
    {
      "cell_type": "code",
      "metadata": {
        "id": "7JsD8iKdLdwH",
        "colab_type": "code",
        "colab": {
          "base_uri": "https://localhost:8080/",
          "height": 459
        },
        "outputId": "254691ac-0c23-431f-f4e2-9f0da4254782"
      },
      "source": [
        "# Call the cross_val_C_search_pipe() function using the new training data.\n",
        "# All other parameters should remain the same.\n",
        "# Note that this training may take a few minutes due to the larger number of features.\n",
        "from sklearn import metrics\n",
        "from sklearn.metrics import roc_auc_score\n",
        "#For testing\n",
        "print(\"------------------FOR TESTING------------------------\")\n",
        "test_scores = []\n",
        "for i in C_vals:\n",
        "  prob = cross_val_C_search_pipe(X_test,pipe,i)\n",
        "  score = roc_auc_score(y_test,prob[:,1])\n",
        "  test_scores.append(score)\n",
        "  print(\"C: np.log({}), roc_auc_score: {}\".format(i,score))\n",
        "\n",
        "print(\"------------------FOR TRAINING------------------------\")\n",
        "train_scores = []\n",
        "for i in C_vals:\n",
        "  prob = cross_val_C_search_pipe(X_train,pipe,i)\n",
        "  score = roc_auc_score(y_train,prob[:,1])\n",
        "  train_scores.append(score)\n",
        "  print(\"C: np.log({}), roc_auc_score: {}\".format(i,score))"
      ],
      "execution_count": 50,
      "outputs": [
        {
          "output_type": "stream",
          "text": [
            "------------------FOR TESTING------------------------\n"
          ],
          "name": "stdout"
        },
        {
          "output_type": "stream",
          "text": [
            "/usr/local/lib/python3.6/dist-packages/sklearn/linear_model/_sag.py:330: ConvergenceWarning: The max_iter was reached which means the coef_ did not converge\n",
            "  \"the coef_ did not converge\", ConvergenceWarning)\n"
          ],
          "name": "stderr"
        },
        {
          "output_type": "stream",
          "text": [
            "C: 100----------C: np.log(100), roc_auc_score: 0.7297723179963487\n"
          ],
          "name": "stdout"
        },
        {
          "output_type": "stream",
          "text": [
            "/usr/local/lib/python3.6/dist-packages/sklearn/linear_model/_sag.py:330: ConvergenceWarning: The max_iter was reached which means the coef_ did not converge\n",
            "  \"the coef_ did not converge\", ConvergenceWarning)\n"
          ],
          "name": "stderr"
        },
        {
          "output_type": "stream",
          "text": [
            "C: 10----------C: np.log(10), roc_auc_score: 0.7301467799792358\n"
          ],
          "name": "stdout"
        },
        {
          "output_type": "stream",
          "text": [
            "/usr/local/lib/python3.6/dist-packages/sklearn/linear_model/_sag.py:330: ConvergenceWarning: The max_iter was reached which means the coef_ did not converge\n",
            "  \"the coef_ did not converge\", ConvergenceWarning)\n"
          ],
          "name": "stderr"
        },
        {
          "output_type": "stream",
          "text": [
            "C: 1----------C: np.log(1), roc_auc_score: 0.7248361340271345\n",
            "C: 0.1----------C: np.log(0.1), roc_auc_score: 0.7027474360648129\n",
            "C: 0.01----------C: np.log(0.01), roc_auc_score: 0.7004791123986911\n",
            "C: 0.001----------C: np.log(0.001), roc_auc_score: 0.5\n",
            "------------------FOR TRAINING------------------------\n"
          ],
          "name": "stdout"
        },
        {
          "output_type": "stream",
          "text": [
            "/usr/local/lib/python3.6/dist-packages/sklearn/linear_model/_sag.py:330: ConvergenceWarning: The max_iter was reached which means the coef_ did not converge\n",
            "  \"the coef_ did not converge\", ConvergenceWarning)\n"
          ],
          "name": "stderr"
        },
        {
          "output_type": "stream",
          "text": [
            "C: 100----------C: np.log(100), roc_auc_score: 0.7477163966471394\n"
          ],
          "name": "stdout"
        },
        {
          "output_type": "stream",
          "text": [
            "/usr/local/lib/python3.6/dist-packages/sklearn/linear_model/_sag.py:330: ConvergenceWarning: The max_iter was reached which means the coef_ did not converge\n",
            "  \"the coef_ did not converge\", ConvergenceWarning)\n"
          ],
          "name": "stderr"
        },
        {
          "output_type": "stream",
          "text": [
            "C: 10----------C: np.log(10), roc_auc_score: 0.7461362636856563\n"
          ],
          "name": "stdout"
        },
        {
          "output_type": "stream",
          "text": [
            "/usr/local/lib/python3.6/dist-packages/sklearn/linear_model/_sag.py:330: ConvergenceWarning: The max_iter was reached which means the coef_ did not converge\n",
            "  \"the coef_ did not converge\", ConvergenceWarning)\n"
          ],
          "name": "stderr"
        },
        {
          "output_type": "stream",
          "text": [
            "C: 1----------C: np.log(1), roc_auc_score: 0.7377596151900305\n",
            "C: 0.1----------C: np.log(0.1), roc_auc_score: 0.7171655004628855\n",
            "C: 0.01----------C: np.log(0.01), roc_auc_score: 0.7164457493220031\n",
            "C: 0.001----------C: np.log(0.001), roc_auc_score: 0.5\n"
          ],
          "name": "stdout"
        }
      ]
    },
    {
      "cell_type": "code",
      "metadata": {
        "eid": "b4f5a",
        "id": "iNOnZgfiLdwa",
        "colab_type": "code",
        "colab": {
          "base_uri": "https://localhost:8080/",
          "height": 296
        },
        "outputId": "2904f188-3387-4124-fcff-36ffbc8a2924"
      },
      "source": [
        "# Plot the average training and testing ROC AUC across folds, for each C value.\n",
        "import matplotlib.pyplot as plt\n",
        "x = [1,2,3,4,5,6]\n",
        "plt.xticks(x,C_vals)\n",
        "plt.plot(x,test_scores,label = \"Testing\")\n",
        "plt.plot(x,train_scores,label=\"Training\")\n",
        "plt.title(\"Average training and testing AUC scores\")\n",
        "plt.legend()\n",
        "plt.xlabel(\"C_vals\")\n",
        "\n",
        "plt.ylabel('Average auc score')\n",
        "plt.show()"
      ],
      "execution_count": 51,
      "outputs": [
        {
          "output_type": "display_data",
          "data": {
            "image/png": "[encoded data removed]",
            "text/plain": [
              "<Figure size 432x288 with 1 Axes>"
            ]
          },
          "metadata": {
            "tags": [],
            "needs_background": "light"
          }
        }
      ]
    },
    {
      "cell_type": "markdown",
      "metadata": {
        "id": "ixtKZYa8Ldws",
        "colab_type": "text"
      },
      "source": [
        "**Take a look at the above graph. Does the average cross-validation testing performance improve with the interaction features? Is regularization useful?**"
      ]
    },
    {
      "cell_type": "code",
      "metadata": {
        "id": "T6vaAso2-Fca",
        "colab_type": "code",
        "colab": {
          "base_uri": "https://localhost:8080/",
          "height": 34
        },
        "outputId": "1ea1106c-7c9c-4cc9-c83f-79068947eacf"
      },
      "source": [
        "print(\"YES THERE IS FURTHER IMPROVEMENT IN THE PERFORMANCE\")"
      ],
      "execution_count": 52,
      "outputs": [
        {
          "output_type": "stream",
          "text": [
            "YES THERE IS FURTHER IMPROVEMENT IN THE PERFORMANCE\n"
          ],
          "name": "stdout"
        }
      ]
    }
  ]
}