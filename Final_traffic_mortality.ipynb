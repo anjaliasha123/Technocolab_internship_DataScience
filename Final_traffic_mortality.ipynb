{
  "nbformat": 4,
  "nbformat_minor": 0,
  "metadata": {
    "colab": {
      "name": "Final_traffic_mortality.ipynb",
      "provenance": []
    },
    "kernelspec": {
      "name": "python3",
      "display_name": "Python 3"
    }
  },
  "cells": [
    {
      "cell_type": "code",
      "metadata": {
        "id": "Osjmo-chaEVD",
        "colab_type": "code",
        "colab": {}
      },
      "source": [
        "import numpy as np\n",
        "import pandas as pd\n",
        "import matplotlib.pyplot as plt\n",
        "%matplotlib inline"
      ],
      "execution_count": 58,
      "outputs": []
    },
    {
      "cell_type": "markdown",
      "metadata": {
        "id": "Yv_OgYsxa_TR",
        "colab_type": "text"
      },
      "source": [
        "# Importing the data\n",
        "\n",
        "\n",
        "*   We read in the data file\n",
        "*   obtain data information\n",
        "*   Visualize the information\n",
        "\n",
        "\n",
        "\n",
        "\n"
      ]
    },
    {
      "cell_type": "code",
      "metadata": {
        "id": "lhqI0Kd_ayvN",
        "colab_type": "code",
        "colab": {}
      },
      "source": [
        "miles_data = pd.read_csv('miles-driven.csv',sep='|')"
      ],
      "execution_count": 74,
      "outputs": []
    },
    {
      "cell_type": "code",
      "metadata": {
        "id": "u3G7P95JcHxn",
        "colab_type": "code",
        "colab": {
          "base_uri": "https://localhost:8080/",
          "height": 204
        },
        "outputId": "c045c388-efbe-4f52-88bf-d355ee970532"
      },
      "source": [
        "miles_data.head()"
      ],
      "execution_count": 75,
      "outputs": [
        {
          "output_type": "execute_result",
          "data": {
            "text/html": [
              "<div>\n",
              "<style scoped>\n",
              "    .dataframe tbody tr th:only-of-type {\n",
              "        vertical-align: middle;\n",
              "    }\n",
              "\n",
              "    .dataframe tbody tr th {\n",
              "        vertical-align: top;\n",
              "    }\n",
              "\n",
              "    .dataframe thead th {\n",
              "        text-align: right;\n",
              "    }\n",
              "</style>\n",
              "<table border=\"1\" class=\"dataframe\">\n",
              "  <thead>\n",
              "    <tr style=\"text-align: right;\">\n",
              "      <th></th>\n",
              "      <th>state</th>\n",
              "      <th>million_miles_annually</th>\n",
              "    </tr>\n",
              "  </thead>\n",
              "  <tbody>\n",
              "    <tr>\n",
              "      <th>0</th>\n",
              "      <td>Alabama</td>\n",
              "      <td>64914</td>\n",
              "    </tr>\n",
              "    <tr>\n",
              "      <th>1</th>\n",
              "      <td>Alaska</td>\n",
              "      <td>4593</td>\n",
              "    </tr>\n",
              "    <tr>\n",
              "      <th>2</th>\n",
              "      <td>Arizona</td>\n",
              "      <td>59575</td>\n",
              "    </tr>\n",
              "    <tr>\n",
              "      <th>3</th>\n",
              "      <td>Arkansas</td>\n",
              "      <td>32953</td>\n",
              "    </tr>\n",
              "    <tr>\n",
              "      <th>4</th>\n",
              "      <td>California</td>\n",
              "      <td>320784</td>\n",
              "    </tr>\n",
              "  </tbody>\n",
              "</table>\n",
              "</div>"
            ],
            "text/plain": [
              "        state  million_miles_annually\n",
              "0     Alabama                   64914\n",
              "1      Alaska                    4593\n",
              "2     Arizona                   59575\n",
              "3    Arkansas                   32953\n",
              "4  California                  320784"
            ]
          },
          "metadata": {
            "tags": []
          },
          "execution_count": 75
        }
      ]
    },
    {
      "cell_type": "code",
      "metadata": {
        "id": "F7YojIwqcKHG",
        "colab_type": "code",
        "colab": {}
      },
      "source": [
        "road_data = pd.read_csv('road-accidents.csv',comment='#',sep='|')"
      ],
      "execution_count": 76,
      "outputs": []
    },
    {
      "cell_type": "code",
      "metadata": {
        "id": "dVG0rq7ycfI2",
        "colab_type": "code",
        "colab": {
          "base_uri": "https://localhost:8080/",
          "height": 204
        },
        "outputId": "2f7e84b7-0eb0-42ee-ec4b-3a0644fba6fe"
      },
      "source": [
        "road_data.head()"
      ],
      "execution_count": 77,
      "outputs": [
        {
          "output_type": "execute_result",
          "data": {
            "text/html": [
              "<div>\n",
              "<style scoped>\n",
              "    .dataframe tbody tr th:only-of-type {\n",
              "        vertical-align: middle;\n",
              "    }\n",
              "\n",
              "    .dataframe tbody tr th {\n",
              "        vertical-align: top;\n",
              "    }\n",
              "\n",
              "    .dataframe thead th {\n",
              "        text-align: right;\n",
              "    }\n",
              "</style>\n",
              "<table border=\"1\" class=\"dataframe\">\n",
              "  <thead>\n",
              "    <tr style=\"text-align: right;\">\n",
              "      <th></th>\n",
              "      <th>state</th>\n",
              "      <th>drvr_fatl_col_bmiles</th>\n",
              "      <th>perc_fatl_speed</th>\n",
              "      <th>perc_fatl_alcohol</th>\n",
              "      <th>perc_fatl_1st_time</th>\n",
              "    </tr>\n",
              "  </thead>\n",
              "  <tbody>\n",
              "    <tr>\n",
              "      <th>0</th>\n",
              "      <td>Alabama</td>\n",
              "      <td>18.8</td>\n",
              "      <td>39</td>\n",
              "      <td>30</td>\n",
              "      <td>80</td>\n",
              "    </tr>\n",
              "    <tr>\n",
              "      <th>1</th>\n",
              "      <td>Alaska</td>\n",
              "      <td>18.1</td>\n",
              "      <td>41</td>\n",
              "      <td>25</td>\n",
              "      <td>94</td>\n",
              "    </tr>\n",
              "    <tr>\n",
              "      <th>2</th>\n",
              "      <td>Arizona</td>\n",
              "      <td>18.6</td>\n",
              "      <td>35</td>\n",
              "      <td>28</td>\n",
              "      <td>96</td>\n",
              "    </tr>\n",
              "    <tr>\n",
              "      <th>3</th>\n",
              "      <td>Arkansas</td>\n",
              "      <td>22.4</td>\n",
              "      <td>18</td>\n",
              "      <td>26</td>\n",
              "      <td>95</td>\n",
              "    </tr>\n",
              "    <tr>\n",
              "      <th>4</th>\n",
              "      <td>California</td>\n",
              "      <td>12.0</td>\n",
              "      <td>35</td>\n",
              "      <td>28</td>\n",
              "      <td>89</td>\n",
              "    </tr>\n",
              "  </tbody>\n",
              "</table>\n",
              "</div>"
            ],
            "text/plain": [
              "        state  drvr_fatl_col_bmiles  ...  perc_fatl_alcohol  perc_fatl_1st_time\n",
              "0     Alabama                  18.8  ...                 30                  80\n",
              "1      Alaska                  18.1  ...                 25                  94\n",
              "2     Arizona                  18.6  ...                 28                  96\n",
              "3    Arkansas                  22.4  ...                 26                  95\n",
              "4  California                  12.0  ...                 28                  89\n",
              "\n",
              "[5 rows x 5 columns]"
            ]
          },
          "metadata": {
            "tags": []
          },
          "execution_count": 77
        }
      ]
    },
    {
      "cell_type": "code",
      "metadata": {
        "id": "tXxdBR4PchCx",
        "colab_type": "code",
        "colab": {
          "base_uri": "https://localhost:8080/",
          "height": 51
        },
        "outputId": "b816b044-09db-4fd2-8bc6-620aae8bdf6d"
      },
      "source": [
        "print(road_data.state.value_counts().sum())\n",
        "print(miles_data.state.value_counts().sum())"
      ],
      "execution_count": 17,
      "outputs": [
        {
          "output_type": "stream",
          "text": [
            "51\n",
            "51\n"
          ],
          "name": "stdout"
        }
      ]
    },
    {
      "cell_type": "code",
      "metadata": {
        "id": "FWVQCQlfc6uy",
        "colab_type": "code",
        "colab": {
          "base_uri": "https://localhost:8080/",
          "height": 204
        },
        "outputId": "6e03902b-a137-4169-c22b-9bbfd65d9719"
      },
      "source": [
        "all_data = road_data \n",
        "all_data['million_miles_annually']=miles_data['million_miles_annually']\n",
        "all_data.head()"
      ],
      "execution_count": 78,
      "outputs": [
        {
          "output_type": "execute_result",
          "data": {
            "text/html": [
              "<div>\n",
              "<style scoped>\n",
              "    .dataframe tbody tr th:only-of-type {\n",
              "        vertical-align: middle;\n",
              "    }\n",
              "\n",
              "    .dataframe tbody tr th {\n",
              "        vertical-align: top;\n",
              "    }\n",
              "\n",
              "    .dataframe thead th {\n",
              "        text-align: right;\n",
              "    }\n",
              "</style>\n",
              "<table border=\"1\" class=\"dataframe\">\n",
              "  <thead>\n",
              "    <tr style=\"text-align: right;\">\n",
              "      <th></th>\n",
              "      <th>state</th>\n",
              "      <th>drvr_fatl_col_bmiles</th>\n",
              "      <th>perc_fatl_speed</th>\n",
              "      <th>perc_fatl_alcohol</th>\n",
              "      <th>perc_fatl_1st_time</th>\n",
              "      <th>million_miles_annually</th>\n",
              "    </tr>\n",
              "  </thead>\n",
              "  <tbody>\n",
              "    <tr>\n",
              "      <th>0</th>\n",
              "      <td>Alabama</td>\n",
              "      <td>18.8</td>\n",
              "      <td>39</td>\n",
              "      <td>30</td>\n",
              "      <td>80</td>\n",
              "      <td>64914</td>\n",
              "    </tr>\n",
              "    <tr>\n",
              "      <th>1</th>\n",
              "      <td>Alaska</td>\n",
              "      <td>18.1</td>\n",
              "      <td>41</td>\n",
              "      <td>25</td>\n",
              "      <td>94</td>\n",
              "      <td>4593</td>\n",
              "    </tr>\n",
              "    <tr>\n",
              "      <th>2</th>\n",
              "      <td>Arizona</td>\n",
              "      <td>18.6</td>\n",
              "      <td>35</td>\n",
              "      <td>28</td>\n",
              "      <td>96</td>\n",
              "      <td>59575</td>\n",
              "    </tr>\n",
              "    <tr>\n",
              "      <th>3</th>\n",
              "      <td>Arkansas</td>\n",
              "      <td>22.4</td>\n",
              "      <td>18</td>\n",
              "      <td>26</td>\n",
              "      <td>95</td>\n",
              "      <td>32953</td>\n",
              "    </tr>\n",
              "    <tr>\n",
              "      <th>4</th>\n",
              "      <td>California</td>\n",
              "      <td>12.0</td>\n",
              "      <td>35</td>\n",
              "      <td>28</td>\n",
              "      <td>89</td>\n",
              "      <td>320784</td>\n",
              "    </tr>\n",
              "  </tbody>\n",
              "</table>\n",
              "</div>"
            ],
            "text/plain": [
              "        state  drvr_fatl_col_bmiles  ...  perc_fatl_1st_time  million_miles_annually\n",
              "0     Alabama                  18.8  ...                  80                   64914\n",
              "1      Alaska                  18.1  ...                  94                    4593\n",
              "2     Arizona                  18.6  ...                  96                   59575\n",
              "3    Arkansas                  22.4  ...                  95                   32953\n",
              "4  California                  12.0  ...                  89                  320784\n",
              "\n",
              "[5 rows x 6 columns]"
            ]
          },
          "metadata": {
            "tags": []
          },
          "execution_count": 78
        }
      ]
    },
    {
      "cell_type": "code",
      "metadata": {
        "id": "m3Av8GspD16I",
        "colab_type": "code",
        "colab": {
          "base_uri": "https://localhost:8080/",
          "height": 359
        },
        "outputId": "da1b114b-3941-4caa-cd7f-19f348da03b4"
      },
      "source": [
        "all_data['target_var'] = all_data['drvr_fatl_col_bmiles'] * all_data['million_miles_annually']\n",
        "all_data.head(10)"
      ],
      "execution_count": 79,
      "outputs": [
        {
          "output_type": "execute_result",
          "data": {
            "text/html": [
              "<div>\n",
              "<style scoped>\n",
              "    .dataframe tbody tr th:only-of-type {\n",
              "        vertical-align: middle;\n",
              "    }\n",
              "\n",
              "    .dataframe tbody tr th {\n",
              "        vertical-align: top;\n",
              "    }\n",
              "\n",
              "    .dataframe thead th {\n",
              "        text-align: right;\n",
              "    }\n",
              "</style>\n",
              "<table border=\"1\" class=\"dataframe\">\n",
              "  <thead>\n",
              "    <tr style=\"text-align: right;\">\n",
              "      <th></th>\n",
              "      <th>state</th>\n",
              "      <th>drvr_fatl_col_bmiles</th>\n",
              "      <th>perc_fatl_speed</th>\n",
              "      <th>perc_fatl_alcohol</th>\n",
              "      <th>perc_fatl_1st_time</th>\n",
              "      <th>million_miles_annually</th>\n",
              "      <th>target_var</th>\n",
              "    </tr>\n",
              "  </thead>\n",
              "  <tbody>\n",
              "    <tr>\n",
              "      <th>0</th>\n",
              "      <td>Alabama</td>\n",
              "      <td>18.8</td>\n",
              "      <td>39</td>\n",
              "      <td>30</td>\n",
              "      <td>80</td>\n",
              "      <td>64914</td>\n",
              "      <td>1220383.2</td>\n",
              "    </tr>\n",
              "    <tr>\n",
              "      <th>1</th>\n",
              "      <td>Alaska</td>\n",
              "      <td>18.1</td>\n",
              "      <td>41</td>\n",
              "      <td>25</td>\n",
              "      <td>94</td>\n",
              "      <td>4593</td>\n",
              "      <td>83133.3</td>\n",
              "    </tr>\n",
              "    <tr>\n",
              "      <th>2</th>\n",
              "      <td>Arizona</td>\n",
              "      <td>18.6</td>\n",
              "      <td>35</td>\n",
              "      <td>28</td>\n",
              "      <td>96</td>\n",
              "      <td>59575</td>\n",
              "      <td>1108095.0</td>\n",
              "    </tr>\n",
              "    <tr>\n",
              "      <th>3</th>\n",
              "      <td>Arkansas</td>\n",
              "      <td>22.4</td>\n",
              "      <td>18</td>\n",
              "      <td>26</td>\n",
              "      <td>95</td>\n",
              "      <td>32953</td>\n",
              "      <td>738147.2</td>\n",
              "    </tr>\n",
              "    <tr>\n",
              "      <th>4</th>\n",
              "      <td>California</td>\n",
              "      <td>12.0</td>\n",
              "      <td>35</td>\n",
              "      <td>28</td>\n",
              "      <td>89</td>\n",
              "      <td>320784</td>\n",
              "      <td>3849408.0</td>\n",
              "    </tr>\n",
              "    <tr>\n",
              "      <th>5</th>\n",
              "      <td>Colorado</td>\n",
              "      <td>13.6</td>\n",
              "      <td>37</td>\n",
              "      <td>28</td>\n",
              "      <td>95</td>\n",
              "      <td>46606</td>\n",
              "      <td>633841.6</td>\n",
              "    </tr>\n",
              "    <tr>\n",
              "      <th>6</th>\n",
              "      <td>Connecticut</td>\n",
              "      <td>10.8</td>\n",
              "      <td>46</td>\n",
              "      <td>36</td>\n",
              "      <td>82</td>\n",
              "      <td>31197</td>\n",
              "      <td>336927.6</td>\n",
              "    </tr>\n",
              "    <tr>\n",
              "      <th>7</th>\n",
              "      <td>Delaware</td>\n",
              "      <td>16.2</td>\n",
              "      <td>38</td>\n",
              "      <td>30</td>\n",
              "      <td>99</td>\n",
              "      <td>9028</td>\n",
              "      <td>146253.6</td>\n",
              "    </tr>\n",
              "    <tr>\n",
              "      <th>8</th>\n",
              "      <td>District of Columbia</td>\n",
              "      <td>5.9</td>\n",
              "      <td>34</td>\n",
              "      <td>27</td>\n",
              "      <td>100</td>\n",
              "      <td>3568</td>\n",
              "      <td>21051.2</td>\n",
              "    </tr>\n",
              "    <tr>\n",
              "      <th>9</th>\n",
              "      <td>Florida</td>\n",
              "      <td>17.9</td>\n",
              "      <td>21</td>\n",
              "      <td>29</td>\n",
              "      <td>94</td>\n",
              "      <td>191855</td>\n",
              "      <td>3434204.5</td>\n",
              "    </tr>\n",
              "  </tbody>\n",
              "</table>\n",
              "</div>"
            ],
            "text/plain": [
              "                  state  ...  target_var\n",
              "0               Alabama  ...   1220383.2\n",
              "1                Alaska  ...     83133.3\n",
              "2               Arizona  ...   1108095.0\n",
              "3              Arkansas  ...    738147.2\n",
              "4            California  ...   3849408.0\n",
              "5              Colorado  ...    633841.6\n",
              "6           Connecticut  ...    336927.6\n",
              "7              Delaware  ...    146253.6\n",
              "8  District of Columbia  ...     21051.2\n",
              "9               Florida  ...   3434204.5\n",
              "\n",
              "[10 rows x 7 columns]"
            ]
          },
          "metadata": {
            "tags": []
          },
          "execution_count": 79
        }
      ]
    },
    {
      "cell_type": "code",
      "metadata": {
        "id": "ZNy0NFq6Zn07",
        "colab_type": "code",
        "colab": {
          "base_uri": "https://localhost:8080/",
          "height": 396
        },
        "outputId": "cd23aea7-13df-41df-94aa-e632ad782fd7"
      },
      "source": [
        "all_data['#speed']=(all_data['perc_fatl_speed']*all_data['target_var'])/100\n",
        "all_data['#alchol']=(all_data['perc_fatl_alcohol']*all_data['target_var'])/100\n",
        "all_data['#first']=(all_data['perc_fatl_1st_time']*all_data['target_var'])/100\n",
        "all_data.head(10)"
      ],
      "execution_count": 80,
      "outputs": [
        {
          "output_type": "execute_result",
          "data": {
            "text/html": [
              "<div>\n",
              "<style scoped>\n",
              "    .dataframe tbody tr th:only-of-type {\n",
              "        vertical-align: middle;\n",
              "    }\n",
              "\n",
              "    .dataframe tbody tr th {\n",
              "        vertical-align: top;\n",
              "    }\n",
              "\n",
              "    .dataframe thead th {\n",
              "        text-align: right;\n",
              "    }\n",
              "</style>\n",
              "<table border=\"1\" class=\"dataframe\">\n",
              "  <thead>\n",
              "    <tr style=\"text-align: right;\">\n",
              "      <th></th>\n",
              "      <th>state</th>\n",
              "      <th>drvr_fatl_col_bmiles</th>\n",
              "      <th>perc_fatl_speed</th>\n",
              "      <th>perc_fatl_alcohol</th>\n",
              "      <th>perc_fatl_1st_time</th>\n",
              "      <th>million_miles_annually</th>\n",
              "      <th>target_var</th>\n",
              "      <th>#speed</th>\n",
              "      <th>#alchol</th>\n",
              "      <th>#first</th>\n",
              "    </tr>\n",
              "  </thead>\n",
              "  <tbody>\n",
              "    <tr>\n",
              "      <th>0</th>\n",
              "      <td>Alabama</td>\n",
              "      <td>18.8</td>\n",
              "      <td>39</td>\n",
              "      <td>30</td>\n",
              "      <td>80</td>\n",
              "      <td>64914</td>\n",
              "      <td>1220383.2</td>\n",
              "      <td>475949.448</td>\n",
              "      <td>366114.960</td>\n",
              "      <td>976306.560</td>\n",
              "    </tr>\n",
              "    <tr>\n",
              "      <th>1</th>\n",
              "      <td>Alaska</td>\n",
              "      <td>18.1</td>\n",
              "      <td>41</td>\n",
              "      <td>25</td>\n",
              "      <td>94</td>\n",
              "      <td>4593</td>\n",
              "      <td>83133.3</td>\n",
              "      <td>34084.653</td>\n",
              "      <td>20783.325</td>\n",
              "      <td>78145.302</td>\n",
              "    </tr>\n",
              "    <tr>\n",
              "      <th>2</th>\n",
              "      <td>Arizona</td>\n",
              "      <td>18.6</td>\n",
              "      <td>35</td>\n",
              "      <td>28</td>\n",
              "      <td>96</td>\n",
              "      <td>59575</td>\n",
              "      <td>1108095.0</td>\n",
              "      <td>387833.250</td>\n",
              "      <td>310266.600</td>\n",
              "      <td>1063771.200</td>\n",
              "    </tr>\n",
              "    <tr>\n",
              "      <th>3</th>\n",
              "      <td>Arkansas</td>\n",
              "      <td>22.4</td>\n",
              "      <td>18</td>\n",
              "      <td>26</td>\n",
              "      <td>95</td>\n",
              "      <td>32953</td>\n",
              "      <td>738147.2</td>\n",
              "      <td>132866.496</td>\n",
              "      <td>191918.272</td>\n",
              "      <td>701239.840</td>\n",
              "    </tr>\n",
              "    <tr>\n",
              "      <th>4</th>\n",
              "      <td>California</td>\n",
              "      <td>12.0</td>\n",
              "      <td>35</td>\n",
              "      <td>28</td>\n",
              "      <td>89</td>\n",
              "      <td>320784</td>\n",
              "      <td>3849408.0</td>\n",
              "      <td>1347292.800</td>\n",
              "      <td>1077834.240</td>\n",
              "      <td>3425973.120</td>\n",
              "    </tr>\n",
              "    <tr>\n",
              "      <th>5</th>\n",
              "      <td>Colorado</td>\n",
              "      <td>13.6</td>\n",
              "      <td>37</td>\n",
              "      <td>28</td>\n",
              "      <td>95</td>\n",
              "      <td>46606</td>\n",
              "      <td>633841.6</td>\n",
              "      <td>234521.392</td>\n",
              "      <td>177475.648</td>\n",
              "      <td>602149.520</td>\n",
              "    </tr>\n",
              "    <tr>\n",
              "      <th>6</th>\n",
              "      <td>Connecticut</td>\n",
              "      <td>10.8</td>\n",
              "      <td>46</td>\n",
              "      <td>36</td>\n",
              "      <td>82</td>\n",
              "      <td>31197</td>\n",
              "      <td>336927.6</td>\n",
              "      <td>154986.696</td>\n",
              "      <td>121293.936</td>\n",
              "      <td>276280.632</td>\n",
              "    </tr>\n",
              "    <tr>\n",
              "      <th>7</th>\n",
              "      <td>Delaware</td>\n",
              "      <td>16.2</td>\n",
              "      <td>38</td>\n",
              "      <td>30</td>\n",
              "      <td>99</td>\n",
              "      <td>9028</td>\n",
              "      <td>146253.6</td>\n",
              "      <td>55576.368</td>\n",
              "      <td>43876.080</td>\n",
              "      <td>144791.064</td>\n",
              "    </tr>\n",
              "    <tr>\n",
              "      <th>8</th>\n",
              "      <td>District of Columbia</td>\n",
              "      <td>5.9</td>\n",
              "      <td>34</td>\n",
              "      <td>27</td>\n",
              "      <td>100</td>\n",
              "      <td>3568</td>\n",
              "      <td>21051.2</td>\n",
              "      <td>7157.408</td>\n",
              "      <td>5683.824</td>\n",
              "      <td>21051.200</td>\n",
              "    </tr>\n",
              "    <tr>\n",
              "      <th>9</th>\n",
              "      <td>Florida</td>\n",
              "      <td>17.9</td>\n",
              "      <td>21</td>\n",
              "      <td>29</td>\n",
              "      <td>94</td>\n",
              "      <td>191855</td>\n",
              "      <td>3434204.5</td>\n",
              "      <td>721182.945</td>\n",
              "      <td>995919.305</td>\n",
              "      <td>3228152.230</td>\n",
              "    </tr>\n",
              "  </tbody>\n",
              "</table>\n",
              "</div>"
            ],
            "text/plain": [
              "                  state  drvr_fatl_col_bmiles  ...      #alchol       #first\n",
              "0               Alabama                  18.8  ...   366114.960   976306.560\n",
              "1                Alaska                  18.1  ...    20783.325    78145.302\n",
              "2               Arizona                  18.6  ...   310266.600  1063771.200\n",
              "3              Arkansas                  22.4  ...   191918.272   701239.840\n",
              "4            California                  12.0  ...  1077834.240  3425973.120\n",
              "5              Colorado                  13.6  ...   177475.648   602149.520\n",
              "6           Connecticut                  10.8  ...   121293.936   276280.632\n",
              "7              Delaware                  16.2  ...    43876.080   144791.064\n",
              "8  District of Columbia                   5.9  ...     5683.824    21051.200\n",
              "9               Florida                  17.9  ...   995919.305  3228152.230\n",
              "\n",
              "[10 rows x 10 columns]"
            ]
          },
          "metadata": {
            "tags": []
          },
          "execution_count": 80
        }
      ]
    },
    {
      "cell_type": "markdown",
      "metadata": {
        "id": "hbsp1wrf3WM9",
        "colab_type": "text"
      },
      "source": [
        "# Visualizing the data\n",
        "\n",
        "\n",
        "*   Pair plot\n",
        "*   Plotting in map\n",
        "\n"
      ]
    },
    {
      "cell_type": "code",
      "metadata": {
        "id": "CHJqGI1jd4Ak",
        "colab_type": "code",
        "colab": {
          "base_uri": "https://localhost:8080/",
          "height": 764
        },
        "outputId": "13641a1a-f343-4875-84a7-87e287644efd"
      },
      "source": [
        "#scatter matrix plot\n",
        "import seaborn as sns\n",
        "sns.set(style=\"ticks\")\n",
        "sns.pairplot(all_data[['drvr_fatl_col_bmiles','perc_fatl_speed','perc_fatl_alcohol','perc_fatl_1st_time']])"
      ],
      "execution_count": 82,
      "outputs": [
        {
          "output_type": "execute_result",
          "data": {
            "text/plain": [
              "<seaborn.axisgrid.PairGrid at 0x7f643abd1e10>"
            ]
          },
          "metadata": {
            "tags": []
          },
          "execution_count": 82
        },
        {
          "output_type": "display_data",
          "data": {
            "image/png": "[encoded data removed]",
            "text/plain": [
              "<Figure size 720x720 with 20 Axes>"
            ]
          },
          "metadata": {
            "tags": []
          }
        }
      ]
    },
    {
      "cell_type": "code",
      "metadata": {
        "id": "1wf6kc_ypQ-d",
        "colab_type": "code",
        "colab": {
          "base_uri": "https://localhost:8080/",
          "height": 224
        },
        "outputId": "17e83bbb-e19e-442b-ad22-9a66dd44c588"
      },
      "source": [
        "l = pd.DataFrame((range(1,53)))\n",
        "all_data['id'] = l\n",
        "all_data.head()"
      ],
      "execution_count": 83,
      "outputs": [
        {
          "output_type": "execute_result",
          "data": {
            "text/html": [
              "<div>\n",
              "<style scoped>\n",
              "    .dataframe tbody tr th:only-of-type {\n",
              "        vertical-align: middle;\n",
              "    }\n",
              "\n",
              "    .dataframe tbody tr th {\n",
              "        vertical-align: top;\n",
              "    }\n",
              "\n",
              "    .dataframe thead th {\n",
              "        text-align: right;\n",
              "    }\n",
              "</style>\n",
              "<table border=\"1\" class=\"dataframe\">\n",
              "  <thead>\n",
              "    <tr style=\"text-align: right;\">\n",
              "      <th></th>\n",
              "      <th>state</th>\n",
              "      <th>drvr_fatl_col_bmiles</th>\n",
              "      <th>perc_fatl_speed</th>\n",
              "      <th>perc_fatl_alcohol</th>\n",
              "      <th>perc_fatl_1st_time</th>\n",
              "      <th>million_miles_annually</th>\n",
              "      <th>target_var</th>\n",
              "      <th>#speed</th>\n",
              "      <th>#alchol</th>\n",
              "      <th>#first</th>\n",
              "      <th>id</th>\n",
              "    </tr>\n",
              "  </thead>\n",
              "  <tbody>\n",
              "    <tr>\n",
              "      <th>0</th>\n",
              "      <td>Alabama</td>\n",
              "      <td>18.8</td>\n",
              "      <td>39</td>\n",
              "      <td>30</td>\n",
              "      <td>80</td>\n",
              "      <td>64914</td>\n",
              "      <td>1220383.2</td>\n",
              "      <td>475949.448</td>\n",
              "      <td>366114.960</td>\n",
              "      <td>976306.560</td>\n",
              "      <td>1</td>\n",
              "    </tr>\n",
              "    <tr>\n",
              "      <th>1</th>\n",
              "      <td>Alaska</td>\n",
              "      <td>18.1</td>\n",
              "      <td>41</td>\n",
              "      <td>25</td>\n",
              "      <td>94</td>\n",
              "      <td>4593</td>\n",
              "      <td>83133.3</td>\n",
              "      <td>34084.653</td>\n",
              "      <td>20783.325</td>\n",
              "      <td>78145.302</td>\n",
              "      <td>2</td>\n",
              "    </tr>\n",
              "    <tr>\n",
              "      <th>2</th>\n",
              "      <td>Arizona</td>\n",
              "      <td>18.6</td>\n",
              "      <td>35</td>\n",
              "      <td>28</td>\n",
              "      <td>96</td>\n",
              "      <td>59575</td>\n",
              "      <td>1108095.0</td>\n",
              "      <td>387833.250</td>\n",
              "      <td>310266.600</td>\n",
              "      <td>1063771.200</td>\n",
              "      <td>3</td>\n",
              "    </tr>\n",
              "    <tr>\n",
              "      <th>3</th>\n",
              "      <td>Arkansas</td>\n",
              "      <td>22.4</td>\n",
              "      <td>18</td>\n",
              "      <td>26</td>\n",
              "      <td>95</td>\n",
              "      <td>32953</td>\n",
              "      <td>738147.2</td>\n",
              "      <td>132866.496</td>\n",
              "      <td>191918.272</td>\n",
              "      <td>701239.840</td>\n",
              "      <td>4</td>\n",
              "    </tr>\n",
              "    <tr>\n",
              "      <th>4</th>\n",
              "      <td>California</td>\n",
              "      <td>12.0</td>\n",
              "      <td>35</td>\n",
              "      <td>28</td>\n",
              "      <td>89</td>\n",
              "      <td>320784</td>\n",
              "      <td>3849408.0</td>\n",
              "      <td>1347292.800</td>\n",
              "      <td>1077834.240</td>\n",
              "      <td>3425973.120</td>\n",
              "      <td>5</td>\n",
              "    </tr>\n",
              "  </tbody>\n",
              "</table>\n",
              "</div>"
            ],
            "text/plain": [
              "        state  drvr_fatl_col_bmiles  ...       #first  id\n",
              "0     Alabama                  18.8  ...   976306.560   1\n",
              "1      Alaska                  18.1  ...    78145.302   2\n",
              "2     Arizona                  18.6  ...  1063771.200   3\n",
              "3    Arkansas                  22.4  ...   701239.840   4\n",
              "4  California                  12.0  ...  3425973.120   5\n",
              "\n",
              "[5 rows x 11 columns]"
            ]
          },
          "metadata": {
            "tags": []
          },
          "execution_count": 83
        }
      ]
    },
    {
      "cell_type": "code",
      "metadata": {
        "id": "5Zab8rbgpdfw",
        "colab_type": "code",
        "colab": {
          "base_uri": "https://localhost:8080/",
          "height": 331
        },
        "outputId": "7f75fca3-7b63-4171-8ca4-a0c8808f0318"
      },
      "source": [
        "states = alt.topo_feature(data.us_10m.url, 'states')\n",
        "variable_list = ['perc_fatl_speed', 'perc_fatl_alcohol', 'perc_fatl_1st_time']\n",
        "alt.Chart(states).mark_geoshape().encode(\n",
        "    color='perc_fatl_speed:Q'\n",
        ").transform_lookup(\n",
        "    lookup='id',\n",
        "    from_=alt.LookupData(all_data, key = 'id', fields = ['perc_fatl_speed'])\n",
        ").properties(\n",
        "    width=500,\n",
        "    height=300\n",
        ").project(\n",
        "    type='albersUsa'\n",
        ")"
      ],
      "execution_count": 65,
      "outputs": [
        {
          "output_type": "execute_result",
          "data": {
            "text/plain": [
              "alt.Chart(...)"
            ],
            "text/html": [
              "\n",
              "<div id=\"altair-viz-52a8065a81d64714b6be570e2270976b\"></div>\n",
              "<script type=\"text/javascript\">\n",
              "  (function(spec, embedOpt){\n",
              "    let outputDiv = document.currentScript.previousElementSibling;\n",
              "    if (outputDiv.id !== \"altair-viz-52a8065a81d64714b6be570e2270976b\") {\n",
              "      outputDiv = document.getElementById(\"altair-viz-52a8065a81d64714b6be570e2270976b\");\n",
              "    }\n",
              "    const paths = {\n",
              "      \"vega\": \"https://cdn.jsdelivr.net/npm//vega@5?noext\",\n",
              "      \"vega-lib\": \"https://cdn.jsdelivr.net/npm//vega-lib?noext\",\n",
              "      \"vega-lite\": \"https://cdn.jsdelivr.net/npm//vega-lite@4.8.1?noext\",\n",
              "      \"vega-embed\": \"https://cdn.jsdelivr.net/npm//vega-embed@6?noext\",\n",
              "    };\n",
              "\n",
              "    function loadScript(lib) {\n",
              "      return new Promise(function(resolve, reject) {\n",
              "        var s = document.createElement('script');\n",
              "        s.src = paths[lib];\n",
              "        s.async = true;\n",
              "        s.onload = () => resolve(paths[lib]);\n",
              "        s.onerror = () => reject(`Error loading script: ${paths[lib]}`);\n",
              "        document.getElementsByTagName(\"head\")[0].appendChild(s);\n",
              "      });\n",
              "    }\n",
              "\n",
              "    function showError(err) {\n",
              "      outputDiv.innerHTML = `<div class=\"error\" style=\"color:red;\">${err}</div>`;\n",
              "      throw err;\n",
              "    }\n",
              "\n",
              "    function displayChart(vegaEmbed) {\n",
              "      vegaEmbed(outputDiv, spec, embedOpt)\n",
              "        .catch(err => showError(`Javascript Error: ${err.message}<br>This usually means there's a typo in your chart specification. See the javascript console for the full traceback.`));\n",
              "    }\n",
              "\n",
              "    if(typeof define === \"function\" && define.amd) {\n",
              "      requirejs.config({paths});\n",
              "      require([\"vega-embed\"], displayChart, err => showError(`Error loading script: ${err.message}`));\n",
              "    } else if (typeof vegaEmbed === \"function\") {\n",
              "      displayChart(vegaEmbed);\n",
              "    } else {\n",
              "      loadScript(\"vega\")\n",
              "        .then(() => loadScript(\"vega-lite\"))\n",
              "        .then(() => loadScript(\"vega-embed\"))\n",
              "        .catch(showError)\n",
              "        .then(() => displayChart(vegaEmbed));\n",
              "    }\n",
              "  })({\"config\": {\"view\": {\"continuousWidth\": 400, \"continuousHeight\": 300}}, \"data\": {\"url\": \"https://vega.github.io/vega-datasets/data/us-10m.json\", \"format\": {\"feature\": \"states\", \"type\": \"topojson\"}}, \"mark\": \"geoshape\", \"encoding\": {\"color\": {\"type\": \"quantitative\", \"field\": \"perc_fatl_speed\"}}, \"height\": 300, \"projection\": {\"type\": \"albersUsa\"}, \"transform\": [{\"lookup\": \"id\", \"from\": {\"data\": {\"name\": \"data-487e81cdb4ec7291fea0d66f133a0779\"}, \"key\": \"id\", \"fields\": [\"perc_fatl_speed\"]}}], \"width\": 500, \"$schema\": \"https://vega.github.io/schema/vega-lite/v4.8.1.json\", \"datasets\": {\"data-487e81cdb4ec7291fea0d66f133a0779\": [{\"state\": \"Alabama\", \"drvr_fatl_col_bmiles\": 18.8, \"perc_fatl_speed\": 39, \"perc_fatl_alcohol\": 30, \"perc_fatl_1st_time\": 80, \"million_miles_annually\": 64914, \"id\": 1, \"target_var\": 1220383.2}, {\"state\": \"Alaska\", \"drvr_fatl_col_bmiles\": 18.1, \"perc_fatl_speed\": 41, \"perc_fatl_alcohol\": 25, \"perc_fatl_1st_time\": 94, \"million_miles_annually\": 4593, \"id\": 2, \"target_var\": 83133.3}, {\"state\": \"Arizona\", \"drvr_fatl_col_bmiles\": 18.6, \"perc_fatl_speed\": 35, \"perc_fatl_alcohol\": 28, \"perc_fatl_1st_time\": 96, \"million_miles_annually\": 59575, \"id\": 3, \"target_var\": 1108095.0}, {\"state\": \"Arkansas\", \"drvr_fatl_col_bmiles\": 22.4, \"perc_fatl_speed\": 18, \"perc_fatl_alcohol\": 26, \"perc_fatl_1st_time\": 95, \"million_miles_annually\": 32953, \"id\": 4, \"target_var\": 738147.2}, {\"state\": \"California\", \"drvr_fatl_col_bmiles\": 12.0, \"perc_fatl_speed\": 35, \"perc_fatl_alcohol\": 28, \"perc_fatl_1st_time\": 89, \"million_miles_annually\": 320784, \"id\": 5, \"target_var\": 3849408.0}, {\"state\": \"Colorado\", \"drvr_fatl_col_bmiles\": 13.6, \"perc_fatl_speed\": 37, \"perc_fatl_alcohol\": 28, \"perc_fatl_1st_time\": 95, \"million_miles_annually\": 46606, \"id\": 6, \"target_var\": 633841.6}, {\"state\": \"Connecticut\", \"drvr_fatl_col_bmiles\": 10.8, \"perc_fatl_speed\": 46, \"perc_fatl_alcohol\": 36, \"perc_fatl_1st_time\": 82, \"million_miles_annually\": 31197, \"id\": 7, \"target_var\": 336927.60000000003}, {\"state\": \"Delaware\", \"drvr_fatl_col_bmiles\": 16.2, \"perc_fatl_speed\": 38, \"perc_fatl_alcohol\": 30, \"perc_fatl_1st_time\": 99, \"million_miles_annually\": 9028, \"id\": 8, \"target_var\": 146253.6}, {\"state\": \"District of Columbia\", \"drvr_fatl_col_bmiles\": 5.9, \"perc_fatl_speed\": 34, \"perc_fatl_alcohol\": 27, \"perc_fatl_1st_time\": 100, \"million_miles_annually\": 3568, \"id\": 9, \"target_var\": 21051.2}, {\"state\": \"Florida\", \"drvr_fatl_col_bmiles\": 17.9, \"perc_fatl_speed\": 21, \"perc_fatl_alcohol\": 29, \"perc_fatl_1st_time\": 94, \"million_miles_annually\": 191855, \"id\": 10, \"target_var\": 3434204.4999999995}, {\"state\": \"Georgia\", \"drvr_fatl_col_bmiles\": 15.6, \"perc_fatl_speed\": 19, \"perc_fatl_alcohol\": 25, \"perc_fatl_1st_time\": 93, \"million_miles_annually\": 108454, \"id\": 11, \"target_var\": 1691882.4}, {\"state\": \"Hawaii\", \"drvr_fatl_col_bmiles\": 17.5, \"perc_fatl_speed\": 54, \"perc_fatl_alcohol\": 41, \"perc_fatl_1st_time\": 87, \"million_miles_annually\": 10066, \"id\": 12, \"target_var\": 176155.0}, {\"state\": \"Idaho\", \"drvr_fatl_col_bmiles\": 15.3, \"perc_fatl_speed\": 36, \"perc_fatl_alcohol\": 29, \"perc_fatl_1st_time\": 98, \"million_miles_annually\": 15937, \"id\": 13, \"target_var\": 243836.1}, {\"state\": \"Illinois\", \"drvr_fatl_col_bmiles\": 12.8, \"perc_fatl_speed\": 36, \"perc_fatl_alcohol\": 34, \"perc_fatl_1st_time\": 96, \"million_miles_annually\": 103234, \"id\": 14, \"target_var\": 1321395.2000000002}, {\"state\": \"Indiana\", \"drvr_fatl_col_bmiles\": 14.5, \"perc_fatl_speed\": 25, \"perc_fatl_alcohol\": 29, \"perc_fatl_1st_time\": 95, \"million_miles_annually\": 76485, \"id\": 15, \"target_var\": 1109032.5}, {\"state\": \"Iowa\", \"drvr_fatl_col_bmiles\": 15.7, \"perc_fatl_speed\": 17, \"perc_fatl_alcohol\": 25, \"perc_fatl_1st_time\": 87, \"million_miles_annually\": 31274, \"id\": 16, \"target_var\": 491001.8}, {\"state\": \"Kansas\", \"drvr_fatl_col_bmiles\": 17.8, \"perc_fatl_speed\": 27, \"perc_fatl_alcohol\": 24, \"perc_fatl_1st_time\": 85, \"million_miles_annually\": 30021, \"id\": 17, \"target_var\": 534373.8}, {\"state\": \"Kentucky\", \"drvr_fatl_col_bmiles\": 21.4, \"perc_fatl_speed\": 19, \"perc_fatl_alcohol\": 23, \"perc_fatl_1st_time\": 76, \"million_miles_annually\": 48061, \"id\": 18, \"target_var\": 1028505.3999999999}, {\"state\": \"Louisiana\", \"drvr_fatl_col_bmiles\": 20.5, \"perc_fatl_speed\": 35, \"perc_fatl_alcohol\": 33, \"perc_fatl_1st_time\": 98, \"million_miles_annually\": 46513, \"id\": 19, \"target_var\": 953516.5}, {\"state\": \"Maine\", \"drvr_fatl_col_bmiles\": 15.1, \"perc_fatl_speed\": 38, \"perc_fatl_alcohol\": 30, \"perc_fatl_1st_time\": 84, \"million_miles_annually\": 14248, \"id\": 20, \"target_var\": 215144.8}, {\"state\": \"Maryland\", \"drvr_fatl_col_bmiles\": 12.5, \"perc_fatl_speed\": 34, \"perc_fatl_alcohol\": 32, \"perc_fatl_1st_time\": 99, \"million_miles_annually\": 56221, \"id\": 21, \"target_var\": 702762.5}, {\"state\": \"Massachusetts\", \"drvr_fatl_col_bmiles\": 8.2, \"perc_fatl_speed\": 23, \"perc_fatl_alcohol\": 35, \"perc_fatl_1st_time\": 80, \"million_miles_annually\": 54792, \"id\": 22, \"target_var\": 449294.39999999997}, {\"state\": \"Michigan\", \"drvr_fatl_col_bmiles\": 14.1, \"perc_fatl_speed\": 24, \"perc_fatl_alcohol\": 28, \"perc_fatl_1st_time\": 77, \"million_miles_annually\": 94754, \"id\": 23, \"target_var\": 1336031.4}, {\"state\": \"Minnesota\", \"drvr_fatl_col_bmiles\": 9.6, \"perc_fatl_speed\": 23, \"perc_fatl_alcohol\": 29, \"perc_fatl_1st_time\": 88, \"million_miles_annually\": 56685, \"id\": 24, \"target_var\": 544176.0}, {\"state\": \"Mississippi\", \"drvr_fatl_col_bmiles\": 17.6, \"perc_fatl_speed\": 15, \"perc_fatl_alcohol\": 31, \"perc_fatl_1st_time\": 100, \"million_miles_annually\": 38851, \"id\": 25, \"target_var\": 683777.6000000001}, {\"state\": \"Missouri\", \"drvr_fatl_col_bmiles\": 16.1, \"perc_fatl_speed\": 43, \"perc_fatl_alcohol\": 34, \"perc_fatl_1st_time\": 84, \"million_miles_annually\": 68789, \"id\": 26, \"target_var\": 1107502.9000000001}, {\"state\": \"Montana\", \"drvr_fatl_col_bmiles\": 21.4, \"perc_fatl_speed\": 39, \"perc_fatl_alcohol\": 44, \"perc_fatl_1st_time\": 85, \"million_miles_annually\": 11660, \"id\": 27, \"target_var\": 249523.99999999997}, {\"state\": \"Nebraska\", \"drvr_fatl_col_bmiles\": 14.9, \"perc_fatl_speed\": 13, \"perc_fatl_alcohol\": 35, \"perc_fatl_1st_time\": 90, \"million_miles_annually\": 19093, \"id\": 28, \"target_var\": 284485.7}, {\"state\": \"Nevada\", \"drvr_fatl_col_bmiles\": 14.7, \"perc_fatl_speed\": 37, \"perc_fatl_alcohol\": 32, \"perc_fatl_1st_time\": 99, \"million_miles_annually\": 24189, \"id\": 29, \"target_var\": 355578.3}, {\"state\": \"New Hampshire\", \"drvr_fatl_col_bmiles\": 11.6, \"perc_fatl_speed\": 35, \"perc_fatl_alcohol\": 30, \"perc_fatl_1st_time\": 83, \"million_miles_annually\": 12720, \"id\": 30, \"target_var\": 147552.0}, {\"state\": \"New Jersey\", \"drvr_fatl_col_bmiles\": 11.2, \"perc_fatl_speed\": 16, \"perc_fatl_alcohol\": 28, \"perc_fatl_1st_time\": 78, \"million_miles_annually\": 73094, \"id\": 31, \"target_var\": 818652.7999999999}, {\"state\": \"New Mexico\", \"drvr_fatl_col_bmiles\": 18.4, \"perc_fatl_speed\": 19, \"perc_fatl_alcohol\": 27, \"perc_fatl_1st_time\": 98, \"million_miles_annually\": 25650, \"id\": 32, \"target_var\": 471959.99999999994}, {\"state\": \"New York\", \"drvr_fatl_col_bmiles\": 12.3, \"perc_fatl_speed\": 32, \"perc_fatl_alcohol\": 29, \"perc_fatl_1st_time\": 80, \"million_miles_annually\": 127726, \"id\": 33, \"target_var\": 1571029.8}, {\"state\": \"North Carolina\", \"drvr_fatl_col_bmiles\": 16.8, \"perc_fatl_speed\": 39, \"perc_fatl_alcohol\": 31, \"perc_fatl_1st_time\": 81, \"million_miles_annually\": 103772, \"id\": 34, \"target_var\": 1743369.6}, {\"state\": \"North Dakota\", \"drvr_fatl_col_bmiles\": 23.9, \"perc_fatl_speed\": 23, \"perc_fatl_alcohol\": 42, \"perc_fatl_1st_time\": 86, \"million_miles_annually\": 9131, \"id\": 35, \"target_var\": 218230.9}, {\"state\": \"Ohio\", \"drvr_fatl_col_bmiles\": 14.1, \"perc_fatl_speed\": 28, \"perc_fatl_alcohol\": 34, \"perc_fatl_1st_time\": 82, \"million_miles_annually\": 111990, \"id\": 36, \"target_var\": 1579059.0}, {\"state\": \"Oklahoma\", \"drvr_fatl_col_bmiles\": 19.9, \"perc_fatl_speed\": 32, \"perc_fatl_alcohol\": 29, \"perc_fatl_1st_time\": 94, \"million_miles_annually\": 47464, \"id\": 37, \"target_var\": 944533.6}, {\"state\": \"Oregon\", \"drvr_fatl_col_bmiles\": 12.8, \"perc_fatl_speed\": 33, \"perc_fatl_alcohol\": 26, \"perc_fatl_1st_time\": 90, \"million_miles_annually\": 33373, \"id\": 38, \"target_var\": 427174.4}, {\"state\": \"Pennsylvania\", \"drvr_fatl_col_bmiles\": 18.2, \"perc_fatl_speed\": 50, \"perc_fatl_alcohol\": 31, \"perc_fatl_1st_time\": 88, \"million_miles_annually\": 99204, \"id\": 39, \"target_var\": 1805512.7999999998}, {\"state\": \"Rhode Island\", \"drvr_fatl_col_bmiles\": 11.1, \"perc_fatl_speed\": 34, \"perc_fatl_alcohol\": 38, \"perc_fatl_1st_time\": 79, \"million_miles_annually\": 7901, \"id\": 40, \"target_var\": 87701.09999999999}, {\"state\": \"South Carolina\", \"drvr_fatl_col_bmiles\": 23.9, \"perc_fatl_speed\": 38, \"perc_fatl_alcohol\": 41, \"perc_fatl_1st_time\": 81, \"million_miles_annually\": 48730, \"id\": 41, \"target_var\": 1164647.0}, {\"state\": \"South Dakota\", \"drvr_fatl_col_bmiles\": 19.4, \"perc_fatl_speed\": 31, \"perc_fatl_alcohol\": 33, \"perc_fatl_1st_time\": 86, \"million_miles_annually\": 9002, \"id\": 42, \"target_var\": 174638.8}, {\"state\": \"Tennessee\", \"drvr_fatl_col_bmiles\": 19.5, \"perc_fatl_speed\": 21, \"perc_fatl_alcohol\": 29, \"perc_fatl_1st_time\": 81, \"million_miles_annually\": 70751, \"id\": 43, \"target_var\": 1379644.5}, {\"state\": \"Texas\", \"drvr_fatl_col_bmiles\": 19.4, \"perc_fatl_speed\": 40, \"perc_fatl_alcohol\": 38, \"perc_fatl_1st_time\": 87, \"million_miles_annually\": 237440, \"id\": 44, \"target_var\": 4606336.0}, {\"state\": \"Utah\", \"drvr_fatl_col_bmiles\": 11.3, \"perc_fatl_speed\": 43, \"perc_fatl_alcohol\": 16, \"perc_fatl_1st_time\": 96, \"million_miles_annually\": 26222, \"id\": 45, \"target_var\": 296308.60000000003}, {\"state\": \"Vermont\", \"drvr_fatl_col_bmiles\": 13.6, \"perc_fatl_speed\": 30, \"perc_fatl_alcohol\": 30, \"perc_fatl_1st_time\": 95, \"million_miles_annually\": 7141, \"id\": 46, \"target_var\": 97117.59999999999}, {\"state\": \"Virginia\", \"drvr_fatl_col_bmiles\": 12.7, \"perc_fatl_speed\": 19, \"perc_fatl_alcohol\": 27, \"perc_fatl_1st_time\": 88, \"million_miles_annually\": 80974, \"id\": 47, \"target_var\": 1028369.7999999999}, {\"state\": \"Washington\", \"drvr_fatl_col_bmiles\": 10.6, \"perc_fatl_speed\": 42, \"perc_fatl_alcohol\": 33, \"perc_fatl_1st_time\": 86, \"million_miles_annually\": 56955, \"id\": 48, \"target_var\": 603723.0}, {\"state\": \"West Virginia\", \"drvr_fatl_col_bmiles\": 23.8, \"perc_fatl_speed\": 34, \"perc_fatl_alcohol\": 28, \"perc_fatl_1st_time\": 87, \"million_miles_annually\": 18963, \"id\": 49, \"target_var\": 451319.4}, {\"state\": \"Wisconsin\", \"drvr_fatl_col_bmiles\": 13.8, \"perc_fatl_speed\": 36, \"perc_fatl_alcohol\": 33, \"perc_fatl_1st_time\": 84, \"million_miles_annually\": 58554, \"id\": 50, \"target_var\": 808045.2000000001}, {\"state\": \"Wyoming\", \"drvr_fatl_col_bmiles\": 17.4, \"perc_fatl_speed\": 42, \"perc_fatl_alcohol\": 32, \"perc_fatl_1st_time\": 90, \"million_miles_annually\": 9245, \"id\": 51, \"target_var\": 160863.0}]}}, {\"mode\": \"vega-lite\"});\n",
              "</script>"
            ]
          },
          "metadata": {
            "tags": []
          },
          "execution_count": 65
        }
      ]
    },
    {
      "cell_type": "code",
      "metadata": {
        "id": "l5lNBLYW1vDX",
        "colab_type": "code",
        "colab": {
          "base_uri": "https://localhost:8080/",
          "height": 331
        },
        "outputId": "b8c6010b-a74e-44ef-d8b1-744ef2ad4e41"
      },
      "source": [
        "states = alt.topo_feature(data.us_10m.url, 'states')\n",
        "variable_list = ['perc_fatl_speed', 'perc_fatl_alcohol', 'perc_fatl_1st_time']\n",
        "alt.Chart(states).mark_geoshape().encode(\n",
        "    color='perc_fatl_alcohol:Q'\n",
        ").transform_lookup(\n",
        "    lookup='id',\n",
        "    from_=alt.LookupData(all_data, key = 'id', fields = ['perc_fatl_alcohol'])\n",
        ").properties(\n",
        "    width=500,\n",
        "    height=300\n",
        ").project(\n",
        "    type='albersUsa'\n",
        ")"
      ],
      "execution_count": 66,
      "outputs": [
        {
          "output_type": "execute_result",
          "data": {
            "text/plain": [
              "alt.Chart(...)"
            ],
            "text/html": [
              "\n",
              "<div id=\"altair-viz-ff7c7b002dc640d883a6e8d9c006b747\"></div>\n",
              "<script type=\"text/javascript\">\n",
              "  (function(spec, embedOpt){\n",
              "    let outputDiv = document.currentScript.previousElementSibling;\n",
              "    if (outputDiv.id !== \"altair-viz-ff7c7b002dc640d883a6e8d9c006b747\") {\n",
              "      outputDiv = document.getElementById(\"altair-viz-ff7c7b002dc640d883a6e8d9c006b747\");\n",
              "    }\n",
              "    const paths = {\n",
              "      \"vega\": \"https://cdn.jsdelivr.net/npm//vega@5?noext\",\n",
              "      \"vega-lib\": \"https://cdn.jsdelivr.net/npm//vega-lib?noext\",\n",
              "      \"vega-lite\": \"https://cdn.jsdelivr.net/npm//vega-lite@4.8.1?noext\",\n",
              "      \"vega-embed\": \"https://cdn.jsdelivr.net/npm//vega-embed@6?noext\",\n",
              "    };\n",
              "\n",
              "    function loadScript(lib) {\n",
              "      return new Promise(function(resolve, reject) {\n",
              "        var s = document.createElement('script');\n",
              "        s.src = paths[lib];\n",
              "        s.async = true;\n",
              "        s.onload = () => resolve(paths[lib]);\n",
              "        s.onerror = () => reject(`Error loading script: ${paths[lib]}`);\n",
              "        document.getElementsByTagName(\"head\")[0].appendChild(s);\n",
              "      });\n",
              "    }\n",
              "\n",
              "    function showError(err) {\n",
              "      outputDiv.innerHTML = `<div class=\"error\" style=\"color:red;\">${err}</div>`;\n",
              "      throw err;\n",
              "    }\n",
              "\n",
              "    function displayChart(vegaEmbed) {\n",
              "      vegaEmbed(outputDiv, spec, embedOpt)\n",
              "        .catch(err => showError(`Javascript Error: ${err.message}<br>This usually means there's a typo in your chart specification. See the javascript console for the full traceback.`));\n",
              "    }\n",
              "\n",
              "    if(typeof define === \"function\" && define.amd) {\n",
              "      requirejs.config({paths});\n",
              "      require([\"vega-embed\"], displayChart, err => showError(`Error loading script: ${err.message}`));\n",
              "    } else if (typeof vegaEmbed === \"function\") {\n",
              "      displayChart(vegaEmbed);\n",
              "    } else {\n",
              "      loadScript(\"vega\")\n",
              "        .then(() => loadScript(\"vega-lite\"))\n",
              "        .then(() => loadScript(\"vega-embed\"))\n",
              "        .catch(showError)\n",
              "        .then(() => displayChart(vegaEmbed));\n",
              "    }\n",
              "  })({\"config\": {\"view\": {\"continuousWidth\": 400, \"continuousHeight\": 300}}, \"data\": {\"url\": \"https://vega.github.io/vega-datasets/data/us-10m.json\", \"format\": {\"feature\": \"states\", \"type\": \"topojson\"}}, \"mark\": \"geoshape\", \"encoding\": {\"color\": {\"type\": \"quantitative\", \"field\": \"perc_fatl_alcohol\"}}, \"height\": 300, \"projection\": {\"type\": \"albersUsa\"}, \"transform\": [{\"lookup\": \"id\", \"from\": {\"data\": {\"name\": \"data-487e81cdb4ec7291fea0d66f133a0779\"}, \"key\": \"id\", \"fields\": [\"perc_fatl_alcohol\"]}}], \"width\": 500, \"$schema\": \"https://vega.github.io/schema/vega-lite/v4.8.1.json\", \"datasets\": {\"data-487e81cdb4ec7291fea0d66f133a0779\": [{\"state\": \"Alabama\", \"drvr_fatl_col_bmiles\": 18.8, \"perc_fatl_speed\": 39, \"perc_fatl_alcohol\": 30, \"perc_fatl_1st_time\": 80, \"million_miles_annually\": 64914, \"id\": 1, \"target_var\": 1220383.2}, {\"state\": \"Alaska\", \"drvr_fatl_col_bmiles\": 18.1, \"perc_fatl_speed\": 41, \"perc_fatl_alcohol\": 25, \"perc_fatl_1st_time\": 94, \"million_miles_annually\": 4593, \"id\": 2, \"target_var\": 83133.3}, {\"state\": \"Arizona\", \"drvr_fatl_col_bmiles\": 18.6, \"perc_fatl_speed\": 35, \"perc_fatl_alcohol\": 28, \"perc_fatl_1st_time\": 96, \"million_miles_annually\": 59575, \"id\": 3, \"target_var\": 1108095.0}, {\"state\": \"Arkansas\", \"drvr_fatl_col_bmiles\": 22.4, \"perc_fatl_speed\": 18, \"perc_fatl_alcohol\": 26, \"perc_fatl_1st_time\": 95, \"million_miles_annually\": 32953, \"id\": 4, \"target_var\": 738147.2}, {\"state\": \"California\", \"drvr_fatl_col_bmiles\": 12.0, \"perc_fatl_speed\": 35, \"perc_fatl_alcohol\": 28, \"perc_fatl_1st_time\": 89, \"million_miles_annually\": 320784, \"id\": 5, \"target_var\": 3849408.0}, {\"state\": \"Colorado\", \"drvr_fatl_col_bmiles\": 13.6, \"perc_fatl_speed\": 37, \"perc_fatl_alcohol\": 28, \"perc_fatl_1st_time\": 95, \"million_miles_annually\": 46606, \"id\": 6, \"target_var\": 633841.6}, {\"state\": \"Connecticut\", \"drvr_fatl_col_bmiles\": 10.8, \"perc_fatl_speed\": 46, \"perc_fatl_alcohol\": 36, \"perc_fatl_1st_time\": 82, \"million_miles_annually\": 31197, \"id\": 7, \"target_var\": 336927.60000000003}, {\"state\": \"Delaware\", \"drvr_fatl_col_bmiles\": 16.2, \"perc_fatl_speed\": 38, \"perc_fatl_alcohol\": 30, \"perc_fatl_1st_time\": 99, \"million_miles_annually\": 9028, \"id\": 8, \"target_var\": 146253.6}, {\"state\": \"District of Columbia\", \"drvr_fatl_col_bmiles\": 5.9, \"perc_fatl_speed\": 34, \"perc_fatl_alcohol\": 27, \"perc_fatl_1st_time\": 100, \"million_miles_annually\": 3568, \"id\": 9, \"target_var\": 21051.2}, {\"state\": \"Florida\", \"drvr_fatl_col_bmiles\": 17.9, \"perc_fatl_speed\": 21, \"perc_fatl_alcohol\": 29, \"perc_fatl_1st_time\": 94, \"million_miles_annually\": 191855, \"id\": 10, \"target_var\": 3434204.4999999995}, {\"state\": \"Georgia\", \"drvr_fatl_col_bmiles\": 15.6, \"perc_fatl_speed\": 19, \"perc_fatl_alcohol\": 25, \"perc_fatl_1st_time\": 93, \"million_miles_annually\": 108454, \"id\": 11, \"target_var\": 1691882.4}, {\"state\": \"Hawaii\", \"drvr_fatl_col_bmiles\": 17.5, \"perc_fatl_speed\": 54, \"perc_fatl_alcohol\": 41, \"perc_fatl_1st_time\": 87, \"million_miles_annually\": 10066, \"id\": 12, \"target_var\": 176155.0}, {\"state\": \"Idaho\", \"drvr_fatl_col_bmiles\": 15.3, \"perc_fatl_speed\": 36, \"perc_fatl_alcohol\": 29, \"perc_fatl_1st_time\": 98, \"million_miles_annually\": 15937, \"id\": 13, \"target_var\": 243836.1}, {\"state\": \"Illinois\", \"drvr_fatl_col_bmiles\": 12.8, \"perc_fatl_speed\": 36, \"perc_fatl_alcohol\": 34, \"perc_fatl_1st_time\": 96, \"million_miles_annually\": 103234, \"id\": 14, \"target_var\": 1321395.2000000002}, {\"state\": \"Indiana\", \"drvr_fatl_col_bmiles\": 14.5, \"perc_fatl_speed\": 25, \"perc_fatl_alcohol\": 29, \"perc_fatl_1st_time\": 95, \"million_miles_annually\": 76485, \"id\": 15, \"target_var\": 1109032.5}, {\"state\": \"Iowa\", \"drvr_fatl_col_bmiles\": 15.7, \"perc_fatl_speed\": 17, \"perc_fatl_alcohol\": 25, \"perc_fatl_1st_time\": 87, \"million_miles_annually\": 31274, \"id\": 16, \"target_var\": 491001.8}, {\"state\": \"Kansas\", \"drvr_fatl_col_bmiles\": 17.8, \"perc_fatl_speed\": 27, \"perc_fatl_alcohol\": 24, \"perc_fatl_1st_time\": 85, \"million_miles_annually\": 30021, \"id\": 17, \"target_var\": 534373.8}, {\"state\": \"Kentucky\", \"drvr_fatl_col_bmiles\": 21.4, \"perc_fatl_speed\": 19, \"perc_fatl_alcohol\": 23, \"perc_fatl_1st_time\": 76, \"million_miles_annually\": 48061, \"id\": 18, \"target_var\": 1028505.3999999999}, {\"state\": \"Louisiana\", \"drvr_fatl_col_bmiles\": 20.5, \"perc_fatl_speed\": 35, \"perc_fatl_alcohol\": 33, \"perc_fatl_1st_time\": 98, \"million_miles_annually\": 46513, \"id\": 19, \"target_var\": 953516.5}, {\"state\": \"Maine\", \"drvr_fatl_col_bmiles\": 15.1, \"perc_fatl_speed\": 38, \"perc_fatl_alcohol\": 30, \"perc_fatl_1st_time\": 84, \"million_miles_annually\": 14248, \"id\": 20, \"target_var\": 215144.8}, {\"state\": \"Maryland\", \"drvr_fatl_col_bmiles\": 12.5, \"perc_fatl_speed\": 34, \"perc_fatl_alcohol\": 32, \"perc_fatl_1st_time\": 99, \"million_miles_annually\": 56221, \"id\": 21, \"target_var\": 702762.5}, {\"state\": \"Massachusetts\", \"drvr_fatl_col_bmiles\": 8.2, \"perc_fatl_speed\": 23, \"perc_fatl_alcohol\": 35, \"perc_fatl_1st_time\": 80, \"million_miles_annually\": 54792, \"id\": 22, \"target_var\": 449294.39999999997}, {\"state\": \"Michigan\", \"drvr_fatl_col_bmiles\": 14.1, \"perc_fatl_speed\": 24, \"perc_fatl_alcohol\": 28, \"perc_fatl_1st_time\": 77, \"million_miles_annually\": 94754, \"id\": 23, \"target_var\": 1336031.4}, {\"state\": \"Minnesota\", \"drvr_fatl_col_bmiles\": 9.6, \"perc_fatl_speed\": 23, \"perc_fatl_alcohol\": 29, \"perc_fatl_1st_time\": 88, \"million_miles_annually\": 56685, \"id\": 24, \"target_var\": 544176.0}, {\"state\": \"Mississippi\", \"drvr_fatl_col_bmiles\": 17.6, \"perc_fatl_speed\": 15, \"perc_fatl_alcohol\": 31, \"perc_fatl_1st_time\": 100, \"million_miles_annually\": 38851, \"id\": 25, \"target_var\": 683777.6000000001}, {\"state\": \"Missouri\", \"drvr_fatl_col_bmiles\": 16.1, \"perc_fatl_speed\": 43, \"perc_fatl_alcohol\": 34, \"perc_fatl_1st_time\": 84, \"million_miles_annually\": 68789, \"id\": 26, \"target_var\": 1107502.9000000001}, {\"state\": \"Montana\", \"drvr_fatl_col_bmiles\": 21.4, \"perc_fatl_speed\": 39, \"perc_fatl_alcohol\": 44, \"perc_fatl_1st_time\": 85, \"million_miles_annually\": 11660, \"id\": 27, \"target_var\": 249523.99999999997}, {\"state\": \"Nebraska\", \"drvr_fatl_col_bmiles\": 14.9, \"perc_fatl_speed\": 13, \"perc_fatl_alcohol\": 35, \"perc_fatl_1st_time\": 90, \"million_miles_annually\": 19093, \"id\": 28, \"target_var\": 284485.7}, {\"state\": \"Nevada\", \"drvr_fatl_col_bmiles\": 14.7, \"perc_fatl_speed\": 37, \"perc_fatl_alcohol\": 32, \"perc_fatl_1st_time\": 99, \"million_miles_annually\": 24189, \"id\": 29, \"target_var\": 355578.3}, {\"state\": \"New Hampshire\", \"drvr_fatl_col_bmiles\": 11.6, \"perc_fatl_speed\": 35, \"perc_fatl_alcohol\": 30, \"perc_fatl_1st_time\": 83, \"million_miles_annually\": 12720, \"id\": 30, \"target_var\": 147552.0}, {\"state\": \"New Jersey\", \"drvr_fatl_col_bmiles\": 11.2, \"perc_fatl_speed\": 16, \"perc_fatl_alcohol\": 28, \"perc_fatl_1st_time\": 78, \"million_miles_annually\": 73094, \"id\": 31, \"target_var\": 818652.7999999999}, {\"state\": \"New Mexico\", \"drvr_fatl_col_bmiles\": 18.4, \"perc_fatl_speed\": 19, \"perc_fatl_alcohol\": 27, \"perc_fatl_1st_time\": 98, \"million_miles_annually\": 25650, \"id\": 32, \"target_var\": 471959.99999999994}, {\"state\": \"New York\", \"drvr_fatl_col_bmiles\": 12.3, \"perc_fatl_speed\": 32, \"perc_fatl_alcohol\": 29, \"perc_fatl_1st_time\": 80, \"million_miles_annually\": 127726, \"id\": 33, \"target_var\": 1571029.8}, {\"state\": \"North Carolina\", \"drvr_fatl_col_bmiles\": 16.8, \"perc_fatl_speed\": 39, \"perc_fatl_alcohol\": 31, \"perc_fatl_1st_time\": 81, \"million_miles_annually\": 103772, \"id\": 34, \"target_var\": 1743369.6}, {\"state\": \"North Dakota\", \"drvr_fatl_col_bmiles\": 23.9, \"perc_fatl_speed\": 23, \"perc_fatl_alcohol\": 42, \"perc_fatl_1st_time\": 86, \"million_miles_annually\": 9131, \"id\": 35, \"target_var\": 218230.9}, {\"state\": \"Ohio\", \"drvr_fatl_col_bmiles\": 14.1, \"perc_fatl_speed\": 28, \"perc_fatl_alcohol\": 34, \"perc_fatl_1st_time\": 82, \"million_miles_annually\": 111990, \"id\": 36, \"target_var\": 1579059.0}, {\"state\": \"Oklahoma\", \"drvr_fatl_col_bmiles\": 19.9, \"perc_fatl_speed\": 32, \"perc_fatl_alcohol\": 29, \"perc_fatl_1st_time\": 94, \"million_miles_annually\": 47464, \"id\": 37, \"target_var\": 944533.6}, {\"state\": \"Oregon\", \"drvr_fatl_col_bmiles\": 12.8, \"perc_fatl_speed\": 33, \"perc_fatl_alcohol\": 26, \"perc_fatl_1st_time\": 90, \"million_miles_annually\": 33373, \"id\": 38, \"target_var\": 427174.4}, {\"state\": \"Pennsylvania\", \"drvr_fatl_col_bmiles\": 18.2, \"perc_fatl_speed\": 50, \"perc_fatl_alcohol\": 31, \"perc_fatl_1st_time\": 88, \"million_miles_annually\": 99204, \"id\": 39, \"target_var\": 1805512.7999999998}, {\"state\": \"Rhode Island\", \"drvr_fatl_col_bmiles\": 11.1, \"perc_fatl_speed\": 34, \"perc_fatl_alcohol\": 38, \"perc_fatl_1st_time\": 79, \"million_miles_annually\": 7901, \"id\": 40, \"target_var\": 87701.09999999999}, {\"state\": \"South Carolina\", \"drvr_fatl_col_bmiles\": 23.9, \"perc_fatl_speed\": 38, \"perc_fatl_alcohol\": 41, \"perc_fatl_1st_time\": 81, \"million_miles_annually\": 48730, \"id\": 41, \"target_var\": 1164647.0}, {\"state\": \"South Dakota\", \"drvr_fatl_col_bmiles\": 19.4, \"perc_fatl_speed\": 31, \"perc_fatl_alcohol\": 33, \"perc_fatl_1st_time\": 86, \"million_miles_annually\": 9002, \"id\": 42, \"target_var\": 174638.8}, {\"state\": \"Tennessee\", \"drvr_fatl_col_bmiles\": 19.5, \"perc_fatl_speed\": 21, \"perc_fatl_alcohol\": 29, \"perc_fatl_1st_time\": 81, \"million_miles_annually\": 70751, \"id\": 43, \"target_var\": 1379644.5}, {\"state\": \"Texas\", \"drvr_fatl_col_bmiles\": 19.4, \"perc_fatl_speed\": 40, \"perc_fatl_alcohol\": 38, \"perc_fatl_1st_time\": 87, \"million_miles_annually\": 237440, \"id\": 44, \"target_var\": 4606336.0}, {\"state\": \"Utah\", \"drvr_fatl_col_bmiles\": 11.3, \"perc_fatl_speed\": 43, \"perc_fatl_alcohol\": 16, \"perc_fatl_1st_time\": 96, \"million_miles_annually\": 26222, \"id\": 45, \"target_var\": 296308.60000000003}, {\"state\": \"Vermont\", \"drvr_fatl_col_bmiles\": 13.6, \"perc_fatl_speed\": 30, \"perc_fatl_alcohol\": 30, \"perc_fatl_1st_time\": 95, \"million_miles_annually\": 7141, \"id\": 46, \"target_var\": 97117.59999999999}, {\"state\": \"Virginia\", \"drvr_fatl_col_bmiles\": 12.7, \"perc_fatl_speed\": 19, \"perc_fatl_alcohol\": 27, \"perc_fatl_1st_time\": 88, \"million_miles_annually\": 80974, \"id\": 47, \"target_var\": 1028369.7999999999}, {\"state\": \"Washington\", \"drvr_fatl_col_bmiles\": 10.6, \"perc_fatl_speed\": 42, \"perc_fatl_alcohol\": 33, \"perc_fatl_1st_time\": 86, \"million_miles_annually\": 56955, \"id\": 48, \"target_var\": 603723.0}, {\"state\": \"West Virginia\", \"drvr_fatl_col_bmiles\": 23.8, \"perc_fatl_speed\": 34, \"perc_fatl_alcohol\": 28, \"perc_fatl_1st_time\": 87, \"million_miles_annually\": 18963, \"id\": 49, \"target_var\": 451319.4}, {\"state\": \"Wisconsin\", \"drvr_fatl_col_bmiles\": 13.8, \"perc_fatl_speed\": 36, \"perc_fatl_alcohol\": 33, \"perc_fatl_1st_time\": 84, \"million_miles_annually\": 58554, \"id\": 50, \"target_var\": 808045.2000000001}, {\"state\": \"Wyoming\", \"drvr_fatl_col_bmiles\": 17.4, \"perc_fatl_speed\": 42, \"perc_fatl_alcohol\": 32, \"perc_fatl_1st_time\": 90, \"million_miles_annually\": 9245, \"id\": 51, \"target_var\": 160863.0}]}}, {\"mode\": \"vega-lite\"});\n",
              "</script>"
            ]
          },
          "metadata": {
            "tags": []
          },
          "execution_count": 66
        }
      ]
    },
    {
      "cell_type": "code",
      "metadata": {
        "id": "hPd-clMR28Iz",
        "colab_type": "code",
        "colab": {
          "base_uri": "https://localhost:8080/",
          "height": 331
        },
        "outputId": "e6cba23e-72a2-47da-927b-bc7297751c39"
      },
      "source": [
        "states = alt.topo_feature(data.us_10m.url, 'states')\n",
        "variable_list = ['perc_fatl_speed', 'perc_fatl_alcohol', 'perc_fatl_1st_time']\n",
        "alt.Chart(states).mark_geoshape().encode(\n",
        "    color='perc_fatl_1st_time:Q'\n",
        ").transform_lookup(\n",
        "    lookup='id',\n",
        "    from_=alt.LookupData(all_data, key = 'id', fields = ['perc_fatl_1st_time'])\n",
        ").properties(\n",
        "    width=500,\n",
        "    height=300\n",
        ").project(\n",
        "    type='albersUsa'\n",
        ")"
      ],
      "execution_count": 67,
      "outputs": [
        {
          "output_type": "execute_result",
          "data": {
            "text/plain": [
              "alt.Chart(...)"
            ],
            "text/html": [
              "\n",
              "<div id=\"altair-viz-522da4e4a6d94b08bd77e09c7801cc0a\"></div>\n",
              "<script type=\"text/javascript\">\n",
              "  (function(spec, embedOpt){\n",
              "    let outputDiv = document.currentScript.previousElementSibling;\n",
              "    if (outputDiv.id !== \"altair-viz-522da4e4a6d94b08bd77e09c7801cc0a\") {\n",
              "      outputDiv = document.getElementById(\"altair-viz-522da4e4a6d94b08bd77e09c7801cc0a\");\n",
              "    }\n",
              "    const paths = {\n",
              "      \"vega\": \"https://cdn.jsdelivr.net/npm//vega@5?noext\",\n",
              "      \"vega-lib\": \"https://cdn.jsdelivr.net/npm//vega-lib?noext\",\n",
              "      \"vega-lite\": \"https://cdn.jsdelivr.net/npm//vega-lite@4.8.1?noext\",\n",
              "      \"vega-embed\": \"https://cdn.jsdelivr.net/npm//vega-embed@6?noext\",\n",
              "    };\n",
              "\n",
              "    function loadScript(lib) {\n",
              "      return new Promise(function(resolve, reject) {\n",
              "        var s = document.createElement('script');\n",
              "        s.src = paths[lib];\n",
              "        s.async = true;\n",
              "        s.onload = () => resolve(paths[lib]);\n",
              "        s.onerror = () => reject(`Error loading script: ${paths[lib]}`);\n",
              "        document.getElementsByTagName(\"head\")[0].appendChild(s);\n",
              "      });\n",
              "    }\n",
              "\n",
              "    function showError(err) {\n",
              "      outputDiv.innerHTML = `<div class=\"error\" style=\"color:red;\">${err}</div>`;\n",
              "      throw err;\n",
              "    }\n",
              "\n",
              "    function displayChart(vegaEmbed) {\n",
              "      vegaEmbed(outputDiv, spec, embedOpt)\n",
              "        .catch(err => showError(`Javascript Error: ${err.message}<br>This usually means there's a typo in your chart specification. See the javascript console for the full traceback.`));\n",
              "    }\n",
              "\n",
              "    if(typeof define === \"function\" && define.amd) {\n",
              "      requirejs.config({paths});\n",
              "      require([\"vega-embed\"], displayChart, err => showError(`Error loading script: ${err.message}`));\n",
              "    } else if (typeof vegaEmbed === \"function\") {\n",
              "      displayChart(vegaEmbed);\n",
              "    } else {\n",
              "      loadScript(\"vega\")\n",
              "        .then(() => loadScript(\"vega-lite\"))\n",
              "        .then(() => loadScript(\"vega-embed\"))\n",
              "        .catch(showError)\n",
              "        .then(() => displayChart(vegaEmbed));\n",
              "    }\n",
              "  })({\"config\": {\"view\": {\"continuousWidth\": 400, \"continuousHeight\": 300}}, \"data\": {\"url\": \"https://vega.github.io/vega-datasets/data/us-10m.json\", \"format\": {\"feature\": \"states\", \"type\": \"topojson\"}}, \"mark\": \"geoshape\", \"encoding\": {\"color\": {\"type\": \"quantitative\", \"field\": \"perc_fatl_1st_time\"}}, \"height\": 300, \"projection\": {\"type\": \"albersUsa\"}, \"transform\": [{\"lookup\": \"id\", \"from\": {\"data\": {\"name\": \"data-487e81cdb4ec7291fea0d66f133a0779\"}, \"key\": \"id\", \"fields\": [\"perc_fatl_1st_time\"]}}], \"width\": 500, \"$schema\": \"https://vega.github.io/schema/vega-lite/v4.8.1.json\", \"datasets\": {\"data-487e81cdb4ec7291fea0d66f133a0779\": [{\"state\": \"Alabama\", \"drvr_fatl_col_bmiles\": 18.8, \"perc_fatl_speed\": 39, \"perc_fatl_alcohol\": 30, \"perc_fatl_1st_time\": 80, \"million_miles_annually\": 64914, \"id\": 1, \"target_var\": 1220383.2}, {\"state\": \"Alaska\", \"drvr_fatl_col_bmiles\": 18.1, \"perc_fatl_speed\": 41, \"perc_fatl_alcohol\": 25, \"perc_fatl_1st_time\": 94, \"million_miles_annually\": 4593, \"id\": 2, \"target_var\": 83133.3}, {\"state\": \"Arizona\", \"drvr_fatl_col_bmiles\": 18.6, \"perc_fatl_speed\": 35, \"perc_fatl_alcohol\": 28, \"perc_fatl_1st_time\": 96, \"million_miles_annually\": 59575, \"id\": 3, \"target_var\": 1108095.0}, {\"state\": \"Arkansas\", \"drvr_fatl_col_bmiles\": 22.4, \"perc_fatl_speed\": 18, \"perc_fatl_alcohol\": 26, \"perc_fatl_1st_time\": 95, \"million_miles_annually\": 32953, \"id\": 4, \"target_var\": 738147.2}, {\"state\": \"California\", \"drvr_fatl_col_bmiles\": 12.0, \"perc_fatl_speed\": 35, \"perc_fatl_alcohol\": 28, \"perc_fatl_1st_time\": 89, \"million_miles_annually\": 320784, \"id\": 5, \"target_var\": 3849408.0}, {\"state\": \"Colorado\", \"drvr_fatl_col_bmiles\": 13.6, \"perc_fatl_speed\": 37, \"perc_fatl_alcohol\": 28, \"perc_fatl_1st_time\": 95, \"million_miles_annually\": 46606, \"id\": 6, \"target_var\": 633841.6}, {\"state\": \"Connecticut\", \"drvr_fatl_col_bmiles\": 10.8, \"perc_fatl_speed\": 46, \"perc_fatl_alcohol\": 36, \"perc_fatl_1st_time\": 82, \"million_miles_annually\": 31197, \"id\": 7, \"target_var\": 336927.60000000003}, {\"state\": \"Delaware\", \"drvr_fatl_col_bmiles\": 16.2, \"perc_fatl_speed\": 38, \"perc_fatl_alcohol\": 30, \"perc_fatl_1st_time\": 99, \"million_miles_annually\": 9028, \"id\": 8, \"target_var\": 146253.6}, {\"state\": \"District of Columbia\", \"drvr_fatl_col_bmiles\": 5.9, \"perc_fatl_speed\": 34, \"perc_fatl_alcohol\": 27, \"perc_fatl_1st_time\": 100, \"million_miles_annually\": 3568, \"id\": 9, \"target_var\": 21051.2}, {\"state\": \"Florida\", \"drvr_fatl_col_bmiles\": 17.9, \"perc_fatl_speed\": 21, \"perc_fatl_alcohol\": 29, \"perc_fatl_1st_time\": 94, \"million_miles_annually\": 191855, \"id\": 10, \"target_var\": 3434204.4999999995}, {\"state\": \"Georgia\", \"drvr_fatl_col_bmiles\": 15.6, \"perc_fatl_speed\": 19, \"perc_fatl_alcohol\": 25, \"perc_fatl_1st_time\": 93, \"million_miles_annually\": 108454, \"id\": 11, \"target_var\": 1691882.4}, {\"state\": \"Hawaii\", \"drvr_fatl_col_bmiles\": 17.5, \"perc_fatl_speed\": 54, \"perc_fatl_alcohol\": 41, \"perc_fatl_1st_time\": 87, \"million_miles_annually\": 10066, \"id\": 12, \"target_var\": 176155.0}, {\"state\": \"Idaho\", \"drvr_fatl_col_bmiles\": 15.3, \"perc_fatl_speed\": 36, \"perc_fatl_alcohol\": 29, \"perc_fatl_1st_time\": 98, \"million_miles_annually\": 15937, \"id\": 13, \"target_var\": 243836.1}, {\"state\": \"Illinois\", \"drvr_fatl_col_bmiles\": 12.8, \"perc_fatl_speed\": 36, \"perc_fatl_alcohol\": 34, \"perc_fatl_1st_time\": 96, \"million_miles_annually\": 103234, \"id\": 14, \"target_var\": 1321395.2000000002}, {\"state\": \"Indiana\", \"drvr_fatl_col_bmiles\": 14.5, \"perc_fatl_speed\": 25, \"perc_fatl_alcohol\": 29, \"perc_fatl_1st_time\": 95, \"million_miles_annually\": 76485, \"id\": 15, \"target_var\": 1109032.5}, {\"state\": \"Iowa\", \"drvr_fatl_col_bmiles\": 15.7, \"perc_fatl_speed\": 17, \"perc_fatl_alcohol\": 25, \"perc_fatl_1st_time\": 87, \"million_miles_annually\": 31274, \"id\": 16, \"target_var\": 491001.8}, {\"state\": \"Kansas\", \"drvr_fatl_col_bmiles\": 17.8, \"perc_fatl_speed\": 27, \"perc_fatl_alcohol\": 24, \"perc_fatl_1st_time\": 85, \"million_miles_annually\": 30021, \"id\": 17, \"target_var\": 534373.8}, {\"state\": \"Kentucky\", \"drvr_fatl_col_bmiles\": 21.4, \"perc_fatl_speed\": 19, \"perc_fatl_alcohol\": 23, \"perc_fatl_1st_time\": 76, \"million_miles_annually\": 48061, \"id\": 18, \"target_var\": 1028505.3999999999}, {\"state\": \"Louisiana\", \"drvr_fatl_col_bmiles\": 20.5, \"perc_fatl_speed\": 35, \"perc_fatl_alcohol\": 33, \"perc_fatl_1st_time\": 98, \"million_miles_annually\": 46513, \"id\": 19, \"target_var\": 953516.5}, {\"state\": \"Maine\", \"drvr_fatl_col_bmiles\": 15.1, \"perc_fatl_speed\": 38, \"perc_fatl_alcohol\": 30, \"perc_fatl_1st_time\": 84, \"million_miles_annually\": 14248, \"id\": 20, \"target_var\": 215144.8}, {\"state\": \"Maryland\", \"drvr_fatl_col_bmiles\": 12.5, \"perc_fatl_speed\": 34, \"perc_fatl_alcohol\": 32, \"perc_fatl_1st_time\": 99, \"million_miles_annually\": 56221, \"id\": 21, \"target_var\": 702762.5}, {\"state\": \"Massachusetts\", \"drvr_fatl_col_bmiles\": 8.2, \"perc_fatl_speed\": 23, \"perc_fatl_alcohol\": 35, \"perc_fatl_1st_time\": 80, \"million_miles_annually\": 54792, \"id\": 22, \"target_var\": 449294.39999999997}, {\"state\": \"Michigan\", \"drvr_fatl_col_bmiles\": 14.1, \"perc_fatl_speed\": 24, \"perc_fatl_alcohol\": 28, \"perc_fatl_1st_time\": 77, \"million_miles_annually\": 94754, \"id\": 23, \"target_var\": 1336031.4}, {\"state\": \"Minnesota\", \"drvr_fatl_col_bmiles\": 9.6, \"perc_fatl_speed\": 23, \"perc_fatl_alcohol\": 29, \"perc_fatl_1st_time\": 88, \"million_miles_annually\": 56685, \"id\": 24, \"target_var\": 544176.0}, {\"state\": \"Mississippi\", \"drvr_fatl_col_bmiles\": 17.6, \"perc_fatl_speed\": 15, \"perc_fatl_alcohol\": 31, \"perc_fatl_1st_time\": 100, \"million_miles_annually\": 38851, \"id\": 25, \"target_var\": 683777.6000000001}, {\"state\": \"Missouri\", \"drvr_fatl_col_bmiles\": 16.1, \"perc_fatl_speed\": 43, \"perc_fatl_alcohol\": 34, \"perc_fatl_1st_time\": 84, \"million_miles_annually\": 68789, \"id\": 26, \"target_var\": 1107502.9000000001}, {\"state\": \"Montana\", \"drvr_fatl_col_bmiles\": 21.4, \"perc_fatl_speed\": 39, \"perc_fatl_alcohol\": 44, \"perc_fatl_1st_time\": 85, \"million_miles_annually\": 11660, \"id\": 27, \"target_var\": 249523.99999999997}, {\"state\": \"Nebraska\", \"drvr_fatl_col_bmiles\": 14.9, \"perc_fatl_speed\": 13, \"perc_fatl_alcohol\": 35, \"perc_fatl_1st_time\": 90, \"million_miles_annually\": 19093, \"id\": 28, \"target_var\": 284485.7}, {\"state\": \"Nevada\", \"drvr_fatl_col_bmiles\": 14.7, \"perc_fatl_speed\": 37, \"perc_fatl_alcohol\": 32, \"perc_fatl_1st_time\": 99, \"million_miles_annually\": 24189, \"id\": 29, \"target_var\": 355578.3}, {\"state\": \"New Hampshire\", \"drvr_fatl_col_bmiles\": 11.6, \"perc_fatl_speed\": 35, \"perc_fatl_alcohol\": 30, \"perc_fatl_1st_time\": 83, \"million_miles_annually\": 12720, \"id\": 30, \"target_var\": 147552.0}, {\"state\": \"New Jersey\", \"drvr_fatl_col_bmiles\": 11.2, \"perc_fatl_speed\": 16, \"perc_fatl_alcohol\": 28, \"perc_fatl_1st_time\": 78, \"million_miles_annually\": 73094, \"id\": 31, \"target_var\": 818652.7999999999}, {\"state\": \"New Mexico\", \"drvr_fatl_col_bmiles\": 18.4, \"perc_fatl_speed\": 19, \"perc_fatl_alcohol\": 27, \"perc_fatl_1st_time\": 98, \"million_miles_annually\": 25650, \"id\": 32, \"target_var\": 471959.99999999994}, {\"state\": \"New York\", \"drvr_fatl_col_bmiles\": 12.3, \"perc_fatl_speed\": 32, \"perc_fatl_alcohol\": 29, \"perc_fatl_1st_time\": 80, \"million_miles_annually\": 127726, \"id\": 33, \"target_var\": 1571029.8}, {\"state\": \"North Carolina\", \"drvr_fatl_col_bmiles\": 16.8, \"perc_fatl_speed\": 39, \"perc_fatl_alcohol\": 31, \"perc_fatl_1st_time\": 81, \"million_miles_annually\": 103772, \"id\": 34, \"target_var\": 1743369.6}, {\"state\": \"North Dakota\", \"drvr_fatl_col_bmiles\": 23.9, \"perc_fatl_speed\": 23, \"perc_fatl_alcohol\": 42, \"perc_fatl_1st_time\": 86, \"million_miles_annually\": 9131, \"id\": 35, \"target_var\": 218230.9}, {\"state\": \"Ohio\", \"drvr_fatl_col_bmiles\": 14.1, \"perc_fatl_speed\": 28, \"perc_fatl_alcohol\": 34, \"perc_fatl_1st_time\": 82, \"million_miles_annually\": 111990, \"id\": 36, \"target_var\": 1579059.0}, {\"state\": \"Oklahoma\", \"drvr_fatl_col_bmiles\": 19.9, \"perc_fatl_speed\": 32, \"perc_fatl_alcohol\": 29, \"perc_fatl_1st_time\": 94, \"million_miles_annually\": 47464, \"id\": 37, \"target_var\": 944533.6}, {\"state\": \"Oregon\", \"drvr_fatl_col_bmiles\": 12.8, \"perc_fatl_speed\": 33, \"perc_fatl_alcohol\": 26, \"perc_fatl_1st_time\": 90, \"million_miles_annually\": 33373, \"id\": 38, \"target_var\": 427174.4}, {\"state\": \"Pennsylvania\", \"drvr_fatl_col_bmiles\": 18.2, \"perc_fatl_speed\": 50, \"perc_fatl_alcohol\": 31, \"perc_fatl_1st_time\": 88, \"million_miles_annually\": 99204, \"id\": 39, \"target_var\": 1805512.7999999998}, {\"state\": \"Rhode Island\", \"drvr_fatl_col_bmiles\": 11.1, \"perc_fatl_speed\": 34, \"perc_fatl_alcohol\": 38, \"perc_fatl_1st_time\": 79, \"million_miles_annually\": 7901, \"id\": 40, \"target_var\": 87701.09999999999}, {\"state\": \"South Carolina\", \"drvr_fatl_col_bmiles\": 23.9, \"perc_fatl_speed\": 38, \"perc_fatl_alcohol\": 41, \"perc_fatl_1st_time\": 81, \"million_miles_annually\": 48730, \"id\": 41, \"target_var\": 1164647.0}, {\"state\": \"South Dakota\", \"drvr_fatl_col_bmiles\": 19.4, \"perc_fatl_speed\": 31, \"perc_fatl_alcohol\": 33, \"perc_fatl_1st_time\": 86, \"million_miles_annually\": 9002, \"id\": 42, \"target_var\": 174638.8}, {\"state\": \"Tennessee\", \"drvr_fatl_col_bmiles\": 19.5, \"perc_fatl_speed\": 21, \"perc_fatl_alcohol\": 29, \"perc_fatl_1st_time\": 81, \"million_miles_annually\": 70751, \"id\": 43, \"target_var\": 1379644.5}, {\"state\": \"Texas\", \"drvr_fatl_col_bmiles\": 19.4, \"perc_fatl_speed\": 40, \"perc_fatl_alcohol\": 38, \"perc_fatl_1st_time\": 87, \"million_miles_annually\": 237440, \"id\": 44, \"target_var\": 4606336.0}, {\"state\": \"Utah\", \"drvr_fatl_col_bmiles\": 11.3, \"perc_fatl_speed\": 43, \"perc_fatl_alcohol\": 16, \"perc_fatl_1st_time\": 96, \"million_miles_annually\": 26222, \"id\": 45, \"target_var\": 296308.60000000003}, {\"state\": \"Vermont\", \"drvr_fatl_col_bmiles\": 13.6, \"perc_fatl_speed\": 30, \"perc_fatl_alcohol\": 30, \"perc_fatl_1st_time\": 95, \"million_miles_annually\": 7141, \"id\": 46, \"target_var\": 97117.59999999999}, {\"state\": \"Virginia\", \"drvr_fatl_col_bmiles\": 12.7, \"perc_fatl_speed\": 19, \"perc_fatl_alcohol\": 27, \"perc_fatl_1st_time\": 88, \"million_miles_annually\": 80974, \"id\": 47, \"target_var\": 1028369.7999999999}, {\"state\": \"Washington\", \"drvr_fatl_col_bmiles\": 10.6, \"perc_fatl_speed\": 42, \"perc_fatl_alcohol\": 33, \"perc_fatl_1st_time\": 86, \"million_miles_annually\": 56955, \"id\": 48, \"target_var\": 603723.0}, {\"state\": \"West Virginia\", \"drvr_fatl_col_bmiles\": 23.8, \"perc_fatl_speed\": 34, \"perc_fatl_alcohol\": 28, \"perc_fatl_1st_time\": 87, \"million_miles_annually\": 18963, \"id\": 49, \"target_var\": 451319.4}, {\"state\": \"Wisconsin\", \"drvr_fatl_col_bmiles\": 13.8, \"perc_fatl_speed\": 36, \"perc_fatl_alcohol\": 33, \"perc_fatl_1st_time\": 84, \"million_miles_annually\": 58554, \"id\": 50, \"target_var\": 808045.2000000001}, {\"state\": \"Wyoming\", \"drvr_fatl_col_bmiles\": 17.4, \"perc_fatl_speed\": 42, \"perc_fatl_alcohol\": 32, \"perc_fatl_1st_time\": 90, \"million_miles_annually\": 9245, \"id\": 51, \"target_var\": 160863.0}]}}, {\"mode\": \"vega-lite\"});\n",
              "</script>"
            ]
          },
          "metadata": {
            "tags": []
          },
          "execution_count": 67
        }
      ]
    },
    {
      "cell_type": "markdown",
      "metadata": {
        "id": "4NdgGQ533vXl",
        "colab_type": "text"
      },
      "source": [
        "# Quantify the association of features and accidents\n",
        "We can already see some potentially interesting relationships between the target variable (the number of fatal accidents) and the feature variables (the remaining three columns).\n",
        "To quantify the pairwise relationships that we observed in the scatter plots, we can compute the Pearson correlation coefficient matrix. The Pearson correlation coefficient is one of the most common methods to quantify correlation between variables, and by convention, the following thresholds are usually used:\n",
        "*   0.2 = weak\n",
        "*   0.5 = medium\n",
        "*   0.8 = strong\n",
        "*   0.9 = very strong\n",
        "\n",
        "\n",
        "\n"
      ]
    },
    {
      "cell_type": "code",
      "metadata": {
        "id": "x9Kd-2Cs4DwK",
        "colab_type": "code",
        "colab": {}
      },
      "source": [
        "from numpy import mean\n",
        "from numpy import std\n",
        "from numpy.random import randn\n",
        "from numpy.random import seed\n",
        "from numpy import cov\n",
        "from scipy.stats import pearsonr\n",
        "def pearson_coefficient(data1,data2,lab1,lab2):\n",
        "  print('data1: mean=%.3f stdv=%.3f' % (mean(data1), std(data1)))\n",
        "  print('data2: mean=%.3f stdv=%.3f' % (mean(data2), std(data2)))\n",
        "# plot\n",
        "  plt.scatter(data1, data2)\n",
        "  plt.show()\n",
        "  plt.title('data1 vs data2')\n",
        "#calculating covariance\n",
        "  covariance = cov(data1, data2)\n",
        "  print(\"The covariance matrix:\",covariance)\n",
        "  # calculate Pearson's correlation\n",
        "  corr, _ = pearsonr(data1, data2)\n",
        "  print('Pearson correlation coeficient between {} and {} is {}'.format(lab1,lab2,corr),end='\\n Strength of correlation:')\n",
        "  if corr<=0.2:\n",
        "    print(\"weak\")\n",
        "  elif corr>0.2 and corr<=0.5:\n",
        "    print('medium')\n",
        "  elif corr>0.5 and corr<=0.8:\n",
        "    print('strong')\n",
        "  else:\n",
        "    print('very strong')\n",
        "  print('*******************************************')\n",
        "  return"
      ],
      "execution_count": 84,
      "outputs": []
    },
    {
      "cell_type": "code",
      "metadata": {
        "id": "UyfT4hXMXhWA",
        "colab_type": "code",
        "colab": {}
      },
      "source": [
        "from sklearn.preprocessing import MinMaxScaler\n",
        "scaler = MinMaxScaler()\n",
        "def normalize(dataset,c):\n",
        "    dataset[c] = scaler.fit_transform(dataset[c].values.reshape(-1,1))\n",
        "    return\n",
        "\n",
        "cols = ['perc_fatl_speed','perc_fatl_alcohol','perc_fatl_1st_time','drvr_fatl_col_bmiles']\n",
        "for col in cols:\n",
        "  normalize(all_data,col)"
      ],
      "execution_count": 71,
      "outputs": []
    },
    {
      "cell_type": "code",
      "metadata": {
        "id": "uUFtLFqDEtGS",
        "colab_type": "code",
        "colab": {
          "base_uri": "https://localhost:8080/",
          "height": 1000
        },
        "outputId": "b88977b6-03d2-4ea8-beac-a0be939e1aa1"
      },
      "source": [
        "cols = ['perc_fatl_speed','perc_fatl_alcohol','perc_fatl_1st_time']\n",
        "for c in cols:\n",
        "  pearson_coefficient(all_data['drvr_fatl_col_bmiles'],all_data[c],'target_var',c)\n"
      ],
      "execution_count": 147,
      "outputs": [
        {
          "output_type": "stream",
          "text": [
            "data1: mean=15.790 stdv=4.081\n",
            "data2: mean=31.725 stdv=9.539\n"
          ],
          "name": "stdout"
        },
        {
          "output_type": "display_data",
          "data": {
            "image/png": "[encoded data removed]",
            "text/plain": [
              "<Figure size 432x288 with 1 Axes>"
            ]
          },
          "metadata": {
            "tags": []
          }
        },
        {
          "output_type": "stream",
          "text": [
            "The covariance matrix: [[16.99090196 -1.1547451 ]\n",
            " [-1.1547451  92.80313725]]\n",
            "Pearson correlation coeficient between target_var and perc_fatl_speed is -0.02908014591399068\n",
            " Strength of correlation:weak\n",
            "*******************************************\n",
            "data1: mean=15.790 stdv=4.081\n",
            "data2: mean=30.686 stdv=5.082\n"
          ],
          "name": "stdout"
        },
        {
          "output_type": "display_data",
          "data": {
            "image/png": "[encoded data removed]",
            "text/plain": [
              "<Figure size 432x288 with 1 Axes>"
            ]
          },
          "metadata": {
            "tags": []
          }
        },
        {
          "output_type": "stream",
          "text": [
            "The covariance matrix: [[16.99090196  4.21886275]\n",
            " [ 4.21886275 26.33960784]]\n",
            "Pearson correlation coeficient between target_var and perc_fatl_alcohol is 0.19942634378011184\n",
            " Strength of correlation:weak\n",
            "*******************************************\n",
            "data1: mean=15.790 stdv=4.081\n",
            "data2: mean=88.725 stdv=6.892\n"
          ],
          "name": "stdout"
        },
        {
          "output_type": "display_data",
          "data": {
            "image/png": "[encoded data removed]",
            "text/plain": [
              "<Figure size 432x288 with 1 Axes>"
            ]
          },
          "metadata": {
            "tags": []
          }
        },
        {
          "output_type": "stream",
          "text": [
            "The covariance matrix: [[16.99090196 -0.5147451 ]\n",
            " [-0.5147451  48.44313725]]\n",
            "Pearson correlation coeficient between target_var and perc_fatl_1st_time is -0.017941876874043666\n",
            " Strength of correlation:weak\n",
            "*******************************************\n"
          ],
          "name": "stdout"
        },
        {
          "output_type": "display_data",
          "data": {
            "image/png": "[encoded data removed]",
            "text/plain": [
              "<Figure size 432x288 with 1 Axes>"
            ]
          },
          "metadata": {
            "tags": []
          }
        }
      ]
    },
    {
      "cell_type": "code",
      "metadata": {
        "id": "HausVy7OGwQt",
        "colab_type": "code",
        "colab": {
          "base_uri": "https://localhost:8080/",
          "height": 190
        },
        "outputId": "d3384ad2-2096-4270-bfb5-0150501dbcf5"
      },
      "source": [
        "print(\"Correlation between all the columns\")\n",
        "cr = all_data[['#speed','#alchol','#first','target_var']].corr()\n",
        "cr"
      ],
      "execution_count": 87,
      "outputs": [
        {
          "output_type": "stream",
          "text": [
            "Correlation between all the columns\n"
          ],
          "name": "stdout"
        },
        {
          "output_type": "execute_result",
          "data": {
            "text/html": [
              "<div>\n",
              "<style scoped>\n",
              "    .dataframe tbody tr th:only-of-type {\n",
              "        vertical-align: middle;\n",
              "    }\n",
              "\n",
              "    .dataframe tbody tr th {\n",
              "        vertical-align: top;\n",
              "    }\n",
              "\n",
              "    .dataframe thead th {\n",
              "        text-align: right;\n",
              "    }\n",
              "</style>\n",
              "<table border=\"1\" class=\"dataframe\">\n",
              "  <thead>\n",
              "    <tr style=\"text-align: right;\">\n",
              "      <th></th>\n",
              "      <th>#speed</th>\n",
              "      <th>#alchol</th>\n",
              "      <th>#first</th>\n",
              "      <th>target_var</th>\n",
              "    </tr>\n",
              "  </thead>\n",
              "  <tbody>\n",
              "    <tr>\n",
              "      <th>#speed</th>\n",
              "      <td>1.000000</td>\n",
              "      <td>0.962503</td>\n",
              "      <td>0.932976</td>\n",
              "      <td>0.942785</td>\n",
              "    </tr>\n",
              "    <tr>\n",
              "      <th>#alchol</th>\n",
              "      <td>0.962503</td>\n",
              "      <td>1.000000</td>\n",
              "      <td>0.975681</td>\n",
              "      <td>0.982053</td>\n",
              "    </tr>\n",
              "    <tr>\n",
              "      <th>#first</th>\n",
              "      <td>0.932976</td>\n",
              "      <td>0.975681</td>\n",
              "      <td>1.000000</td>\n",
              "      <td>0.996625</td>\n",
              "    </tr>\n",
              "    <tr>\n",
              "      <th>target_var</th>\n",
              "      <td>0.942785</td>\n",
              "      <td>0.982053</td>\n",
              "      <td>0.996625</td>\n",
              "      <td>1.000000</td>\n",
              "    </tr>\n",
              "  </tbody>\n",
              "</table>\n",
              "</div>"
            ],
            "text/plain": [
              "              #speed   #alchol    #first  target_var\n",
              "#speed      1.000000  0.962503  0.932976    0.942785\n",
              "#alchol     0.962503  1.000000  0.975681    0.982053\n",
              "#first      0.932976  0.975681  1.000000    0.996625\n",
              "target_var  0.942785  0.982053  0.996625    1.000000"
            ]
          },
          "metadata": {
            "tags": []
          },
          "execution_count": 87
        }
      ]
    },
    {
      "cell_type": "markdown",
      "metadata": {
        "id": "YrArZGouHYac",
        "colab_type": "text"
      },
      "source": [
        "# Fit a multivariate linear regression\n"
      ]
    },
    {
      "cell_type": "code",
      "metadata": {
        "id": "6mm2MLGHeac1",
        "colab_type": "code",
        "colab": {
          "base_uri": "https://localhost:8080/",
          "height": 34
        },
        "outputId": "8511baf4-171f-46a0-fbcf-9e7aecff31ed"
      },
      "source": [
        "from sklearn import linear_model\n",
        "\n",
        "# Create the features and target DataFrames\n",
        "features = all_data[[\"perc_fatl_speed\",\"perc_fatl_alcohol\",\"perc_fatl_1st_time\"]]\n",
        "target = all_data[\"drvr_fatl_col_bmiles\"]\n",
        "\n",
        "# Create a linear regression object\n",
        "reg = linear_model.LinearRegression()\n",
        "\n",
        "# Fit a multivariate linear regression model\n",
        "reg.fit(features, target)\n",
        "\n",
        "# Retrieve the regression coefficients\n",
        "fit_coef = reg.coef_\n",
        "fit_coef"
      ],
      "execution_count": 94,
      "outputs": [
        {
          "output_type": "execute_result",
          "data": {
            "text/plain": [
              "array([-0.04180041,  0.19086404,  0.02473301])"
            ]
          },
          "metadata": {
            "tags": []
          },
          "execution_count": 94
        }
      ]
    },
    {
      "cell_type": "markdown",
      "metadata": {
        "id": "w9oirLQ6gL6Q",
        "colab_type": "text"
      },
      "source": [
        "# Standardization of Data"
      ]
    },
    {
      "cell_type": "code",
      "metadata": {
        "id": "U6OZxkbwgPO8",
        "colab_type": "code",
        "colab": {
          "base_uri": "https://localhost:8080/",
          "height": 884
        },
        "outputId": "c4a36f08-7e8c-4dce-ccbe-d99dd448d130"
      },
      "source": [
        "from sklearn.preprocessing import StandardScaler\n",
        "scaler = StandardScaler()\n",
        "features_scaled = scaler.fit_transform(features)\n",
        "features_scaled"
      ],
      "execution_count": 96,
      "outputs": [
        {
          "output_type": "execute_result",
          "data": {
            "text/plain": [
              "array([[ 0.76264511, -0.1350496 , -1.26611685],\n",
              "       [ 0.97232113, -1.1189824 ,  0.76536053],\n",
              "       [ 0.34329308, -0.52862272,  1.05557158],\n",
              "       [-1.43895304, -0.92219584,  0.91046605],\n",
              "       [ 0.34329308, -0.52862272,  0.03983289],\n",
              "       [ 0.5529691 , -0.52862272,  0.91046605],\n",
              "       [ 1.49651116,  1.04566976, -0.9759058 ],\n",
              "       [ 0.6578071 , -0.1350496 ,  1.49088816],\n",
              "       [ 0.23845508, -0.72540928,  1.63599369],\n",
              "       [-1.12443902, -0.33183616,  0.76536053],\n",
              "       [-1.33411503, -1.1189824 ,  0.620255  ],\n",
              "       [ 2.33521522,  2.02960256, -0.25037816],\n",
              "       [ 0.44813109, -0.33183616,  1.34578263],\n",
              "       [ 0.44813109,  0.65209664,  1.05557158],\n",
              "       [-0.70508699, -0.33183616,  0.91046605],\n",
              "       [-1.54379105, -1.1189824 , -0.25037816],\n",
              "       [-0.49541097, -1.31576896, -0.54058922],\n",
              "       [-1.33411503, -1.51255552, -1.84653896],\n",
              "       [ 0.34329308,  0.45531008,  1.34578263],\n",
              "       [ 0.6578071 , -0.1350496 , -0.68569475],\n",
              "       [ 0.23845508,  0.25852352,  1.49088816],\n",
              "       [-0.914763  ,  0.8488832 , -1.26611685],\n",
              "       [-0.809925  , -0.52862272, -1.70143344],\n",
              "       [-0.914763  , -0.33183616, -0.10527264],\n",
              "       [-1.75346706,  0.06173696,  1.63599369],\n",
              "       [ 1.18199714,  0.65209664, -0.68569475],\n",
              "       [ 0.76264511,  2.61996224, -0.54058922],\n",
              "       [-1.96314307,  0.8488832 ,  0.18493842],\n",
              "       [ 0.5529691 ,  0.25852352,  1.49088816],\n",
              "       [ 0.34329308, -0.1350496 , -0.83080027],\n",
              "       [-1.64862905, -0.52862272, -1.55632791],\n",
              "       [-1.33411503, -0.72540928,  1.34578263],\n",
              "       [ 0.02877906, -0.33183616, -1.26611685],\n",
              "       [ 0.76264511,  0.06173696, -1.12101133],\n",
              "       [-0.914763  ,  2.22638912, -0.39548369],\n",
              "       [-0.39057297,  0.65209664, -0.9759058 ],\n",
              "       [ 0.02877906, -0.33183616,  0.76536053],\n",
              "       [ 0.13361707, -0.92219584,  0.18493842],\n",
              "       [ 1.91586319,  0.06173696, -0.10527264],\n",
              "       [ 0.23845508,  1.43924288, -1.41122238],\n",
              "       [ 0.6578071 ,  2.02960256, -1.12101133],\n",
              "       [-0.07605895,  0.45531008, -0.39548369],\n",
              "       [-1.12443902, -0.33183616, -1.12101133],\n",
              "       [ 0.86748312,  1.43924288, -0.25037816],\n",
              "       [ 1.18199714, -2.89006144,  1.05557158],\n",
              "       [-0.18089695, -0.1350496 ,  0.91046605],\n",
              "       [-1.33411503, -0.72540928, -0.10527264],\n",
              "       [ 1.07715913,  0.45531008, -0.39548369],\n",
              "       [ 0.23845508, -0.52862272, -0.25037816],\n",
              "       [ 0.44813109,  0.45531008, -0.68569475],\n",
              "       [ 1.07715913,  0.25852352,  0.18493842]])"
            ]
          },
          "metadata": {
            "tags": []
          },
          "execution_count": 96
        }
      ]
    },
    {
      "cell_type": "markdown",
      "metadata": {
        "id": "1ZL0CVluhIhk",
        "colab_type": "text"
      },
      "source": [
        "#Performing PCA"
      ]
    },
    {
      "cell_type": "code",
      "metadata": {
        "id": "k47VBSkhhMge",
        "colab_type": "code",
        "colab": {
          "base_uri": "https://localhost:8080/",
          "height": 51
        },
        "outputId": "3bb8aa0a-5283-4566-8035-f002cd5dae04"
      },
      "source": [
        "from sklearn.decomposition import PCA\n",
        "pca = PCA()\n",
        "# Fit the standardized data to the pca\n",
        "pca.fit(features_scaled)"
      ],
      "execution_count": 97,
      "outputs": [
        {
          "output_type": "execute_result",
          "data": {
            "text/plain": [
              "PCA(copy=True, iterated_power='auto', n_components=None, random_state=None,\n",
              "    svd_solver='auto', tol=0.0, whiten=False)"
            ]
          },
          "metadata": {
            "tags": []
          },
          "execution_count": 97
        }
      ]
    },
    {
      "cell_type": "markdown",
      "metadata": {
        "id": "9BYErriAhgCV",
        "colab_type": "text"
      },
      "source": [
        "#Visualize the first two principal components\n",
        "We will create a scatter plot of the first principle components and explore how the states cluster together in this visualization."
      ]
    },
    {
      "cell_type": "code",
      "metadata": {
        "id": "Y88Jx7vmho1n",
        "colab_type": "code",
        "colab": {
          "base_uri": "https://localhost:8080/",
          "height": 34
        },
        "outputId": "912b26a1-ca49-45b2-9dc4-ca50028114cd"
      },
      "source": [
        "\n",
        "# Compute the cumulative proportion of variance explained by the first two principal components\n",
        "two_first_comp_var_exp = pca.explained_variance_ratio_.cumsum()[1]\n",
        "print(\"The cumulative variance of the first two principal components is {}\".format(\n",
        "    round(two_first_comp_var_exp, 5)))"
      ],
      "execution_count": 101,
      "outputs": [
        {
          "output_type": "stream",
          "text": [
            "The cumulative variance of the first two principal components is 0.7947\n"
          ],
          "name": "stdout"
        }
      ]
    },
    {
      "cell_type": "code",
      "metadata": {
        "id": "WdEn-aQ9isAa",
        "colab_type": "code",
        "colab": {
          "base_uri": "https://localhost:8080/",
          "height": 884
        },
        "outputId": "86c21c27-57f8-4a07-bc7e-11353f6c4d50"
      },
      "source": [
        "# two principal components\n",
        "pca = PCA(n_components=2)\n",
        "p_comps = pca.fit_transform(features_scaled)\n",
        "p_comps"
      ],
      "execution_count": 102,
      "outputs": [
        {
          "output_type": "execute_result",
          "data": {
            "text/plain": [
              "array([[ 0.88463912,  0.46421102],\n",
              "       [-0.62529903, -1.22024698],\n",
              "       [-0.67169596, -1.02786253],\n",
              "       [-1.83954608,  0.23991011],\n",
              "       [-0.21174283, -0.25666671],\n",
              "       [-0.49390467, -1.05414432],\n",
              "       [ 1.98805561, -0.22697834],\n",
              "       [-0.41984695, -1.56080846],\n",
              "       [-1.13099129, -1.40144229],\n",
              "       [-1.18444358,  0.14877025],\n",
              "       [-1.79251216,  0.39090271],\n",
              "       [ 2.80996806, -1.31802924],\n",
              "       [-0.60664618, -1.31530775],\n",
              "       [ 0.2268846 , -1.08935235],\n",
              "       [-1.02598376, -0.23430583],\n",
              "       [-1.51035032,  1.18838032],\n",
              "       [-0.95893975,  0.72533611],\n",
              "       [-0.95632936,  2.26156134],\n",
              "       [-0.10099555, -1.24259045],\n",
              "       [ 0.56576691,  0.091754  ],\n",
              "       [-0.36316811, -1.28565771],\n",
              "       [ 0.6900851 ,  1.56144575],\n",
              "       [-0.03971211,  1.81587269],\n",
              "       [-0.67811433,  0.67334261],\n",
              "       [-1.63409399, -0.10065137],\n",
              "       [ 1.40766864, -0.24488656],\n",
              "       [ 2.52202483, -0.07092466],\n",
              "       [-0.52740931,  1.14200056],\n",
              "       [-0.19504256, -1.49033665],\n",
              "       [ 0.46334895,  0.40660377],\n",
              "       [-0.5537545 ,  2.25151236],\n",
              "       [-1.84020388, -0.15770595],\n",
              "       [ 0.35192305,  0.94067245],\n",
              "       [ 0.95935465,  0.35516293],\n",
              "       [ 1.27880139,  0.90828   ],\n",
              "       [ 0.69845606,  0.99884978],\n",
              "       [-0.56798322, -0.60171918],\n",
              "       [-0.67038036, -0.23263042],\n",
              "       [ 1.11586188, -1.16652231],\n",
              "       [ 1.79352241,  0.9244954 ],\n",
              "       [ 2.30754399,  0.43461673],\n",
              "       [ 0.46332813,  0.35236477],\n",
              "       [-0.3302449 ,  1.58099105],\n",
              "       [ 1.60411279, -0.36622912],\n",
              "       [-1.90843858, -1.58714601],\n",
              "       [-0.60535139, -0.57431464],\n",
              "       [-1.18312797,  0.94400236],\n",
              "       [ 1.07978849, -0.39812466],\n",
              "       [-0.1363695 ,  0.03190126],\n",
              "       [ 0.87495256,  0.23157487],\n",
              "       [ 0.67653501, -0.83993073]])"
            ]
          },
          "metadata": {
            "tags": []
          },
          "execution_count": 102
        }
      ]
    },
    {
      "cell_type": "code",
      "metadata": {
        "id": "7H_I7XQhi_GQ",
        "colab_type": "code",
        "colab": {
          "base_uri": "https://localhost:8080/",
          "height": 34
        },
        "outputId": "7df706c6-3b66-42c4-8856-598c07f3a910"
      },
      "source": [
        "p_comps.shape"
      ],
      "execution_count": 104,
      "outputs": [
        {
          "output_type": "execute_result",
          "data": {
            "text/plain": [
              "(51, 2)"
            ]
          },
          "metadata": {
            "tags": []
          },
          "execution_count": 104
        }
      ]
    },
    {
      "cell_type": "code",
      "metadata": {
        "id": "RGSkrG1IixiI",
        "colab_type": "code",
        "colab": {
          "base_uri": "https://localhost:8080/",
          "height": 285
        },
        "outputId": "1e750ca7-a63a-4ce1-f367-856b166715e6"
      },
      "source": [
        "p_comp1 = p_comps[:,0]\n",
        "p_comp2 = p_comps[:,1]\n",
        "plt.scatter(p_comp1,p_comp2)"
      ],
      "execution_count": 103,
      "outputs": [
        {
          "output_type": "execute_result",
          "data": {
            "text/plain": [
              "<matplotlib.collections.PathCollection at 0x7f6437d5f2e8>"
            ]
          },
          "metadata": {
            "tags": []
          },
          "execution_count": 103
        },
        {
          "output_type": "display_data",
          "data": {
            "image/png": "[encoded data removed]",
            "text/plain": [
              "<Figure size 432x288 with 1 Axes>"
            ]
          },
          "metadata": {
            "tags": []
          }
        }
      ]
    },
    {
      "cell_type": "markdown",
      "metadata": {
        "id": "vX6IfZyQjrRp",
        "colab_type": "text"
      },
      "source": [
        "#KMEANS clustering with Elbow method"
      ]
    },
    {
      "cell_type": "code",
      "metadata": {
        "id": "NkyaUWykj1Kr",
        "colab_type": "code",
        "colab": {}
      },
      "source": [
        "from sklearn.cluster import KMeans\n",
        "\n",
        "wcss = [] \n",
        "#within custers sum of squares\n",
        "\n",
        "\n",
        "for c in range(1,10):\n",
        "  kmeans = KMeans(n_clusters=c, init='k-means++',max_iter=300,n_init=10,random_state=0)\n",
        "  kmeans.fit(p_comps)\n",
        "  wcss.append(kmeans.inertia_)"
      ],
      "execution_count": 105,
      "outputs": []
    },
    {
      "cell_type": "code",
      "metadata": {
        "id": "Xpo6utglkCob",
        "colab_type": "code",
        "colab": {
          "base_uri": "https://localhost:8080/",
          "height": 301
        },
        "outputId": "19ca189d-cc3d-49f9-a5ed-aed453e05caa"
      },
      "source": [
        "#plotting the elbow method\n",
        "plt.plot(range(1,10),wcss)\n",
        "plt.title('Elbow method')\n",
        "plt.xlabel('Number of clusters')\n",
        "plt.ylabel('Within cluster sum of squares')\n",
        "plt.xticks(range(1,10))\n",
        "plt.grid()\n",
        "plt.show()"
      ],
      "execution_count": 106,
      "outputs": [
        {
          "output_type": "display_data",
          "data": {
            "image/png": "[encoded data removed]",
            "text/plain": [
              "<Figure size 432x288 with 1 Axes>"
            ]
          },
          "metadata": {
            "tags": []
          }
        }
      ]
    },
    {
      "cell_type": "markdown",
      "metadata": {
        "id": "NC2pJBAwkSMU",
        "colab_type": "text"
      },
      "source": [
        "### *In the elbow method the number of clusters 3 is found to be optimal as the elbow ocurs at 3*\n",
        "\n",
        "---\n",
        "\n"
      ]
    },
    {
      "cell_type": "code",
      "metadata": {
        "id": "VMkMDArekXyq",
        "colab_type": "code",
        "colab": {
          "base_uri": "https://localhost:8080/",
          "height": 301
        },
        "outputId": "c657b1b3-05cb-436e-8d0f-66f944fb8a0e"
      },
      "source": [
        "sc = []\n",
        "from sklearn.metrics import silhouette_score\n",
        "#for silhouette coefficient we begin the number ofclusters as 2\n",
        "for c in range(2,10):\n",
        "  kmeans = KMeans(n_clusters=c, init='k-means++',max_iter=300,n_init=10,random_state=0)\n",
        "  kmeans.fit(p_comps)\n",
        "  score = silhouette_score(p_comps, kmeans.labels_)\n",
        "  sc.append(score)\n",
        "plt.plot(range(2,10),sc)\n",
        "plt.title('Silhoutte method')\n",
        "plt.xlabel('Number of clusters')\n",
        "plt.ylabel('Silhoutte Score')\n",
        "plt.xticks(range(1,10))\n",
        "plt.grid()\n",
        "plt.show()"
      ],
      "execution_count": 108,
      "outputs": [
        {
          "output_type": "display_data",
          "data": {
            "image/png": "[encoded data removed]",
            "text/plain": [
              "<Figure size 432x288 with 1 Axes>"
            ]
          },
          "metadata": {
            "tags": []
          }
        }
      ]
    },
    {
      "cell_type": "markdown",
      "metadata": {
        "id": "C5bT0hpFkn4T",
        "colab_type": "text"
      },
      "source": [
        "## *Even by using Silhoutte method the number of clusters was found to be 3*\n",
        "\n",
        "---\n",
        "\n"
      ]
    },
    {
      "cell_type": "markdown",
      "metadata": {
        "id": "UX5Ouehsk2Vk",
        "colab_type": "text"
      },
      "source": [
        "#K-Means clustering using 3 clusters"
      ]
    },
    {
      "cell_type": "code",
      "metadata": {
        "id": "TMl7NY2Ak1dq",
        "colab_type": "code",
        "colab": {}
      },
      "source": [
        "km = KMeans(n_clusters=3, random_state=8)\n",
        "fit_data = km.fit_transform(p_comps)"
      ],
      "execution_count": 109,
      "outputs": []
    },
    {
      "cell_type": "code",
      "metadata": {
        "id": "0o-TDGk_lzGr",
        "colab_type": "code",
        "colab": {
          "base_uri": "https://localhost:8080/",
          "height": 884
        },
        "outputId": "bd83f012-5fbc-4a20-9805-e0c090369d3e"
      },
      "source": [
        "fit_data"
      ],
      "execution_count": 110,
      "outputs": [
        {
          "output_type": "execute_result",
          "data": {
            "text/plain": [
              "array([[2.0608972 , 0.60464523, 1.67027699],\n",
              "       [0.54224419, 2.29988177, 2.5938492 ],\n",
              "       [0.34618683, 2.24204882, 2.4041665 ],\n",
              "       [1.40160577, 3.1517649 , 1.7398799 ],\n",
              "       [0.74984786, 1.54376066, 1.6565622 ],\n",
              "       [0.46655053, 2.10041074, 2.42563651],\n",
              "       [2.83845547, 0.7295299 , 2.97222527],\n",
              "       [0.93552006, 2.34644991, 2.93381898],\n",
              "       [0.76268583, 2.82550875, 2.83980565],\n",
              "       [0.93731654, 2.492492  , 1.39253483],\n",
              "       [1.47629452, 3.11869602, 1.60815897],\n",
              "       [3.66966907, 2.02013171, 4.27867238],\n",
              "       [0.63817138, 2.33762302, 2.68815019],\n",
              "       [1.10312899, 1.55411313, 2.57094429],\n",
              "       [0.52290774, 2.34610312, 1.68417439],\n",
              "       [2.02385727, 3.04461606, 1.00926284],\n",
              "       [1.44321114, 2.36857353, 0.78227595],\n",
              "       [2.97527572, 3.17731555, 0.99233412],\n",
              "       [0.88591144, 1.89640917, 2.64698905],\n",
              "       [1.59149783, 0.74203167, 1.6767766 ],\n",
              "       [0.72805523, 2.12459143, 2.66152873],\n",
              "       [2.72157652, 1.65055536, 1.22276403],\n",
              "       [2.64048145, 2.23581884, 0.65281084],\n",
              "       [1.38958327, 2.08511856, 0.716201  ],\n",
              "       [1.02575926, 2.94219431, 1.84741347],\n",
              "       [2.26494159, 0.29316825, 2.51391921],\n",
              "       [3.391777  , 1.22097886, 3.36464824],\n",
              "       [1.8733472 , 2.14370875, 0.2295743 ],\n",
              "       [0.99285229, 2.13577756, 2.8798563 ],\n",
              "       [1.69286448, 0.92234001, 1.37603292],\n",
              "       [2.97255418, 2.89685556, 0.88087146],\n",
              "       [1.16983062, 3.15099459, 2.02158269],\n",
              "       [2.01808   , 1.31850319, 0.97054102],\n",
              "       [2.0643999 , 0.47484638, 1.79296355],\n",
              "       [2.64157246, 0.87888301, 1.85534091],\n",
              "       [2.27876635, 1.1433357 , 1.27204241],\n",
              "       [0.26423909, 1.97677791, 1.97373118],\n",
              "       [0.49714689, 1.9929407 , 1.61124397],\n",
              "       [1.97823272, 1.21120758, 3.01824822],\n",
              "       [3.07324729, 1.01928542, 2.35414217],\n",
              "       [3.32010101, 1.08099986, 2.97660428],\n",
              "       [1.65757207, 0.9015611 , 1.41457555],\n",
              "       [2.34054021, 2.25408886, 0.28128639],\n",
              "       [2.4374745 , 0.49616396, 2.74259857],\n",
              "       [1.40643618, 3.59750099, 3.26904789],\n",
              "       [0.24473675, 2.00379167, 1.94765706],\n",
              "       [1.69585235, 2.65096006, 0.79075092],\n",
              "       [1.91436307, 0.48366079, 2.38400216],\n",
              "       [1.00146347, 1.44157823, 1.39272733],\n",
              "       [1.92933726, 0.47522065, 1.79970738],\n",
              "       [1.49118965, 1.07314929, 2.51323378]])"
            ]
          },
          "metadata": {
            "tags": []
          },
          "execution_count": 110
        }
      ]
    },
    {
      "cell_type": "code",
      "metadata": {
        "id": "DpcFDETTl6Pd",
        "colab_type": "code",
        "colab": {
          "base_uri": "https://localhost:8080/",
          "height": 284
        },
        "outputId": "715fa4d9-4e0e-477e-8eb5-7cd11c04aef4"
      },
      "source": [
        "plt.scatter(fit_data[:,0],fit_data[:,1],c = km.labels_)\n",
        "plt.title('K-means clustering of pca')\n",
        "plt.show()"
      ],
      "execution_count": 115,
      "outputs": [
        {
          "output_type": "display_data",
          "data": {
            "image/png": "[encoded data removed]",
            "text/plain": [
              "<Figure size 432x288 with 1 Axes>"
            ]
          },
          "metadata": {
            "tags": []
          }
        }
      ]
    },
    {
      "cell_type": "code",
      "metadata": {
        "id": "ViU-y0Kdmr9Q",
        "colab_type": "code",
        "colab": {
          "base_uri": "https://localhost:8080/",
          "height": 396
        },
        "outputId": "923a804a-9321-4173-9227-53183e37048f"
      },
      "source": [
        "all_data['cluster'] = km.labels_\n",
        "all_data.head(10)"
      ],
      "execution_count": 117,
      "outputs": [
        {
          "output_type": "execute_result",
          "data": {
            "text/html": [
              "<div>\n",
              "<style scoped>\n",
              "    .dataframe tbody tr th:only-of-type {\n",
              "        vertical-align: middle;\n",
              "    }\n",
              "\n",
              "    .dataframe tbody tr th {\n",
              "        vertical-align: top;\n",
              "    }\n",
              "\n",
              "    .dataframe thead th {\n",
              "        text-align: right;\n",
              "    }\n",
              "</style>\n",
              "<table border=\"1\" class=\"dataframe\">\n",
              "  <thead>\n",
              "    <tr style=\"text-align: right;\">\n",
              "      <th></th>\n",
              "      <th>state</th>\n",
              "      <th>drvr_fatl_col_bmiles</th>\n",
              "      <th>perc_fatl_speed</th>\n",
              "      <th>perc_fatl_alcohol</th>\n",
              "      <th>perc_fatl_1st_time</th>\n",
              "      <th>million_miles_annually</th>\n",
              "      <th>target_var</th>\n",
              "      <th>#speed</th>\n",
              "      <th>#alchol</th>\n",
              "      <th>#first</th>\n",
              "      <th>id</th>\n",
              "      <th>cluster</th>\n",
              "    </tr>\n",
              "  </thead>\n",
              "  <tbody>\n",
              "    <tr>\n",
              "      <th>0</th>\n",
              "      <td>Alabama</td>\n",
              "      <td>18.8</td>\n",
              "      <td>39</td>\n",
              "      <td>30</td>\n",
              "      <td>80</td>\n",
              "      <td>64914</td>\n",
              "      <td>1220383.2</td>\n",
              "      <td>475949.448</td>\n",
              "      <td>366114.960</td>\n",
              "      <td>976306.560</td>\n",
              "      <td>1</td>\n",
              "      <td>1</td>\n",
              "    </tr>\n",
              "    <tr>\n",
              "      <th>1</th>\n",
              "      <td>Alaska</td>\n",
              "      <td>18.1</td>\n",
              "      <td>41</td>\n",
              "      <td>25</td>\n",
              "      <td>94</td>\n",
              "      <td>4593</td>\n",
              "      <td>83133.3</td>\n",
              "      <td>34084.653</td>\n",
              "      <td>20783.325</td>\n",
              "      <td>78145.302</td>\n",
              "      <td>2</td>\n",
              "      <td>0</td>\n",
              "    </tr>\n",
              "    <tr>\n",
              "      <th>2</th>\n",
              "      <td>Arizona</td>\n",
              "      <td>18.6</td>\n",
              "      <td>35</td>\n",
              "      <td>28</td>\n",
              "      <td>96</td>\n",
              "      <td>59575</td>\n",
              "      <td>1108095.0</td>\n",
              "      <td>387833.250</td>\n",
              "      <td>310266.600</td>\n",
              "      <td>1063771.200</td>\n",
              "      <td>3</td>\n",
              "      <td>0</td>\n",
              "    </tr>\n",
              "    <tr>\n",
              "      <th>3</th>\n",
              "      <td>Arkansas</td>\n",
              "      <td>22.4</td>\n",
              "      <td>18</td>\n",
              "      <td>26</td>\n",
              "      <td>95</td>\n",
              "      <td>32953</td>\n",
              "      <td>738147.2</td>\n",
              "      <td>132866.496</td>\n",
              "      <td>191918.272</td>\n",
              "      <td>701239.840</td>\n",
              "      <td>4</td>\n",
              "      <td>0</td>\n",
              "    </tr>\n",
              "    <tr>\n",
              "      <th>4</th>\n",
              "      <td>California</td>\n",
              "      <td>12.0</td>\n",
              "      <td>35</td>\n",
              "      <td>28</td>\n",
              "      <td>89</td>\n",
              "      <td>320784</td>\n",
              "      <td>3849408.0</td>\n",
              "      <td>1347292.800</td>\n",
              "      <td>1077834.240</td>\n",
              "      <td>3425973.120</td>\n",
              "      <td>5</td>\n",
              "      <td>0</td>\n",
              "    </tr>\n",
              "    <tr>\n",
              "      <th>5</th>\n",
              "      <td>Colorado</td>\n",
              "      <td>13.6</td>\n",
              "      <td>37</td>\n",
              "      <td>28</td>\n",
              "      <td>95</td>\n",
              "      <td>46606</td>\n",
              "      <td>633841.6</td>\n",
              "      <td>234521.392</td>\n",
              "      <td>177475.648</td>\n",
              "      <td>602149.520</td>\n",
              "      <td>6</td>\n",
              "      <td>0</td>\n",
              "    </tr>\n",
              "    <tr>\n",
              "      <th>6</th>\n",
              "      <td>Connecticut</td>\n",
              "      <td>10.8</td>\n",
              "      <td>46</td>\n",
              "      <td>36</td>\n",
              "      <td>82</td>\n",
              "      <td>31197</td>\n",
              "      <td>336927.6</td>\n",
              "      <td>154986.696</td>\n",
              "      <td>121293.936</td>\n",
              "      <td>276280.632</td>\n",
              "      <td>7</td>\n",
              "      <td>1</td>\n",
              "    </tr>\n",
              "    <tr>\n",
              "      <th>7</th>\n",
              "      <td>Delaware</td>\n",
              "      <td>16.2</td>\n",
              "      <td>38</td>\n",
              "      <td>30</td>\n",
              "      <td>99</td>\n",
              "      <td>9028</td>\n",
              "      <td>146253.6</td>\n",
              "      <td>55576.368</td>\n",
              "      <td>43876.080</td>\n",
              "      <td>144791.064</td>\n",
              "      <td>8</td>\n",
              "      <td>0</td>\n",
              "    </tr>\n",
              "    <tr>\n",
              "      <th>8</th>\n",
              "      <td>District of Columbia</td>\n",
              "      <td>5.9</td>\n",
              "      <td>34</td>\n",
              "      <td>27</td>\n",
              "      <td>100</td>\n",
              "      <td>3568</td>\n",
              "      <td>21051.2</td>\n",
              "      <td>7157.408</td>\n",
              "      <td>5683.824</td>\n",
              "      <td>21051.200</td>\n",
              "      <td>9</td>\n",
              "      <td>0</td>\n",
              "    </tr>\n",
              "    <tr>\n",
              "      <th>9</th>\n",
              "      <td>Florida</td>\n",
              "      <td>17.9</td>\n",
              "      <td>21</td>\n",
              "      <td>29</td>\n",
              "      <td>94</td>\n",
              "      <td>191855</td>\n",
              "      <td>3434204.5</td>\n",
              "      <td>721182.945</td>\n",
              "      <td>995919.305</td>\n",
              "      <td>3228152.230</td>\n",
              "      <td>10</td>\n",
              "      <td>0</td>\n",
              "    </tr>\n",
              "  </tbody>\n",
              "</table>\n",
              "</div>"
            ],
            "text/plain": [
              "                  state  drvr_fatl_col_bmiles  ...  id  cluster\n",
              "0               Alabama                  18.8  ...   1        1\n",
              "1                Alaska                  18.1  ...   2        0\n",
              "2               Arizona                  18.6  ...   3        0\n",
              "3              Arkansas                  22.4  ...   4        0\n",
              "4            California                  12.0  ...   5        0\n",
              "5              Colorado                  13.6  ...   6        0\n",
              "6           Connecticut                  10.8  ...   7        1\n",
              "7              Delaware                  16.2  ...   8        0\n",
              "8  District of Columbia                   5.9  ...   9        0\n",
              "9               Florida                  17.9  ...  10        0\n",
              "\n",
              "[10 rows x 12 columns]"
            ]
          },
          "metadata": {
            "tags": []
          },
          "execution_count": 117
        }
      ]
    },
    {
      "cell_type": "markdown",
      "metadata": {
        "id": "EP0a_OvHopbJ",
        "colab_type": "text"
      },
      "source": [
        "#Visualize the feature differences between the clusters"
      ]
    },
    {
      "cell_type": "code",
      "metadata": {
        "id": "pxIPDiy1nCZ-",
        "colab_type": "code",
        "colab": {
          "base_uri": "https://localhost:8080/",
          "height": 302
        },
        "outputId": "d6ec46e2-5c6f-41a4-b3e9-2ba88164dd4e"
      },
      "source": [
        "new_df = pd.melt(all_data, id_vars=\"cluster\", var_name=\"measurement\", value_name=\"percent_fatal\", value_vars=features)\n",
        "sns.violinplot(x=new_df[\"percent_fatal\"], y=new_df[\"measurement\"], hue=new_df[\"cluster\"])"
      ],
      "execution_count": 127,
      "outputs": [
        {
          "output_type": "execute_result",
          "data": {
            "text/plain": [
              "<matplotlib.axes._subplots.AxesSubplot at 0x7f643acaea58>"
            ]
          },
          "metadata": {
            "tags": []
          },
          "execution_count": 127
        },
        {
          "output_type": "display_data",
          "data": {
            "image/png": "[encoded data removed]",
            "text/plain": [
              "<Figure size 432x288 with 1 Axes>"
            ]
          },
          "metadata": {
            "tags": []
          }
        }
      ]
    },
    {
      "cell_type": "code",
      "metadata": {
        "id": "aKdBK7q2pewA",
        "colab_type": "code",
        "colab": {}
      },
      "source": [
        "all_data['target_var'] /= 1000\n"
      ],
      "execution_count": 129,
      "outputs": []
    },
    {
      "cell_type": "code",
      "metadata": {
        "id": "3eEnoOVbqutn",
        "colab_type": "code",
        "colab": {}
      },
      "source": [
        "all_data['#speed'] /= 1000\n",
        "all_data['#alchol'] /= 1000\n",
        "all_data['#first'] /= 1000"
      ],
      "execution_count": 131,
      "outputs": []
    },
    {
      "cell_type": "code",
      "metadata": {
        "id": "sNramcFJpc6n",
        "colab_type": "code",
        "colab": {
          "base_uri": "https://localhost:8080/",
          "height": 396
        },
        "outputId": "c03f40f3-0c2f-4c4a-b67b-b10583b28297"
      },
      "source": [
        "all_data.head(10)"
      ],
      "execution_count": 132,
      "outputs": [
        {
          "output_type": "execute_result",
          "data": {
            "text/html": [
              "<div>\n",
              "<style scoped>\n",
              "    .dataframe tbody tr th:only-of-type {\n",
              "        vertical-align: middle;\n",
              "    }\n",
              "\n",
              "    .dataframe tbody tr th {\n",
              "        vertical-align: top;\n",
              "    }\n",
              "\n",
              "    .dataframe thead th {\n",
              "        text-align: right;\n",
              "    }\n",
              "</style>\n",
              "<table border=\"1\" class=\"dataframe\">\n",
              "  <thead>\n",
              "    <tr style=\"text-align: right;\">\n",
              "      <th></th>\n",
              "      <th>state</th>\n",
              "      <th>drvr_fatl_col_bmiles</th>\n",
              "      <th>perc_fatl_speed</th>\n",
              "      <th>perc_fatl_alcohol</th>\n",
              "      <th>perc_fatl_1st_time</th>\n",
              "      <th>million_miles_annually</th>\n",
              "      <th>target_var</th>\n",
              "      <th>#speed</th>\n",
              "      <th>#alchol</th>\n",
              "      <th>#first</th>\n",
              "      <th>id</th>\n",
              "      <th>cluster</th>\n",
              "    </tr>\n",
              "  </thead>\n",
              "  <tbody>\n",
              "    <tr>\n",
              "      <th>0</th>\n",
              "      <td>Alabama</td>\n",
              "      <td>18.8</td>\n",
              "      <td>39</td>\n",
              "      <td>30</td>\n",
              "      <td>80</td>\n",
              "      <td>64914</td>\n",
              "      <td>1220.3832</td>\n",
              "      <td>475.949448</td>\n",
              "      <td>366.114960</td>\n",
              "      <td>976.306560</td>\n",
              "      <td>1</td>\n",
              "      <td>1</td>\n",
              "    </tr>\n",
              "    <tr>\n",
              "      <th>1</th>\n",
              "      <td>Alaska</td>\n",
              "      <td>18.1</td>\n",
              "      <td>41</td>\n",
              "      <td>25</td>\n",
              "      <td>94</td>\n",
              "      <td>4593</td>\n",
              "      <td>83.1333</td>\n",
              "      <td>34.084653</td>\n",
              "      <td>20.783325</td>\n",
              "      <td>78.145302</td>\n",
              "      <td>2</td>\n",
              "      <td>0</td>\n",
              "    </tr>\n",
              "    <tr>\n",
              "      <th>2</th>\n",
              "      <td>Arizona</td>\n",
              "      <td>18.6</td>\n",
              "      <td>35</td>\n",
              "      <td>28</td>\n",
              "      <td>96</td>\n",
              "      <td>59575</td>\n",
              "      <td>1108.0950</td>\n",
              "      <td>387.833250</td>\n",
              "      <td>310.266600</td>\n",
              "      <td>1063.771200</td>\n",
              "      <td>3</td>\n",
              "      <td>0</td>\n",
              "    </tr>\n",
              "    <tr>\n",
              "      <th>3</th>\n",
              "      <td>Arkansas</td>\n",
              "      <td>22.4</td>\n",
              "      <td>18</td>\n",
              "      <td>26</td>\n",
              "      <td>95</td>\n",
              "      <td>32953</td>\n",
              "      <td>738.1472</td>\n",
              "      <td>132.866496</td>\n",
              "      <td>191.918272</td>\n",
              "      <td>701.239840</td>\n",
              "      <td>4</td>\n",
              "      <td>0</td>\n",
              "    </tr>\n",
              "    <tr>\n",
              "      <th>4</th>\n",
              "      <td>California</td>\n",
              "      <td>12.0</td>\n",
              "      <td>35</td>\n",
              "      <td>28</td>\n",
              "      <td>89</td>\n",
              "      <td>320784</td>\n",
              "      <td>3849.4080</td>\n",
              "      <td>1347.292800</td>\n",
              "      <td>1077.834240</td>\n",
              "      <td>3425.973120</td>\n",
              "      <td>5</td>\n",
              "      <td>0</td>\n",
              "    </tr>\n",
              "    <tr>\n",
              "      <th>5</th>\n",
              "      <td>Colorado</td>\n",
              "      <td>13.6</td>\n",
              "      <td>37</td>\n",
              "      <td>28</td>\n",
              "      <td>95</td>\n",
              "      <td>46606</td>\n",
              "      <td>633.8416</td>\n",
              "      <td>234.521392</td>\n",
              "      <td>177.475648</td>\n",
              "      <td>602.149520</td>\n",
              "      <td>6</td>\n",
              "      <td>0</td>\n",
              "    </tr>\n",
              "    <tr>\n",
              "      <th>6</th>\n",
              "      <td>Connecticut</td>\n",
              "      <td>10.8</td>\n",
              "      <td>46</td>\n",
              "      <td>36</td>\n",
              "      <td>82</td>\n",
              "      <td>31197</td>\n",
              "      <td>336.9276</td>\n",
              "      <td>154.986696</td>\n",
              "      <td>121.293936</td>\n",
              "      <td>276.280632</td>\n",
              "      <td>7</td>\n",
              "      <td>1</td>\n",
              "    </tr>\n",
              "    <tr>\n",
              "      <th>7</th>\n",
              "      <td>Delaware</td>\n",
              "      <td>16.2</td>\n",
              "      <td>38</td>\n",
              "      <td>30</td>\n",
              "      <td>99</td>\n",
              "      <td>9028</td>\n",
              "      <td>146.2536</td>\n",
              "      <td>55.576368</td>\n",
              "      <td>43.876080</td>\n",
              "      <td>144.791064</td>\n",
              "      <td>8</td>\n",
              "      <td>0</td>\n",
              "    </tr>\n",
              "    <tr>\n",
              "      <th>8</th>\n",
              "      <td>District of Columbia</td>\n",
              "      <td>5.9</td>\n",
              "      <td>34</td>\n",
              "      <td>27</td>\n",
              "      <td>100</td>\n",
              "      <td>3568</td>\n",
              "      <td>21.0512</td>\n",
              "      <td>7.157408</td>\n",
              "      <td>5.683824</td>\n",
              "      <td>21.051200</td>\n",
              "      <td>9</td>\n",
              "      <td>0</td>\n",
              "    </tr>\n",
              "    <tr>\n",
              "      <th>9</th>\n",
              "      <td>Florida</td>\n",
              "      <td>17.9</td>\n",
              "      <td>21</td>\n",
              "      <td>29</td>\n",
              "      <td>94</td>\n",
              "      <td>191855</td>\n",
              "      <td>3434.2045</td>\n",
              "      <td>721.182945</td>\n",
              "      <td>995.919305</td>\n",
              "      <td>3228.152230</td>\n",
              "      <td>10</td>\n",
              "      <td>0</td>\n",
              "    </tr>\n",
              "  </tbody>\n",
              "</table>\n",
              "</div>"
            ],
            "text/plain": [
              "                  state  drvr_fatl_col_bmiles  ...  id  cluster\n",
              "0               Alabama                  18.8  ...   1        1\n",
              "1                Alaska                  18.1  ...   2        0\n",
              "2               Arizona                  18.6  ...   3        0\n",
              "3              Arkansas                  22.4  ...   4        0\n",
              "4            California                  12.0  ...   5        0\n",
              "5              Colorado                  13.6  ...   6        0\n",
              "6           Connecticut                  10.8  ...   7        1\n",
              "7              Delaware                  16.2  ...   8        0\n",
              "8  District of Columbia                   5.9  ...   9        0\n",
              "9               Florida                  17.9  ...  10        0\n",
              "\n",
              "[10 rows x 12 columns]"
            ]
          },
          "metadata": {
            "tags": []
          },
          "execution_count": 132
        }
      ]
    },
    {
      "cell_type": "markdown",
      "metadata": {
        "id": "iJD_nJ13rFs-",
        "colab_type": "text"
      },
      "source": [
        "#Compute the number of accidents within each cluster"
      ]
    },
    {
      "cell_type": "code",
      "metadata": {
        "id": "eTsY2NrIrHyx",
        "colab_type": "code",
        "colab": {
          "base_uri": "https://localhost:8080/",
          "height": 102
        },
        "outputId": "7e635499-e177-4682-a2cc-eef139e8ed0b"
      },
      "source": [
        "all_data.groupby('cluster').target_var.size()"
      ],
      "execution_count": 135,
      "outputs": [
        {
          "output_type": "execute_result",
          "data": {
            "text/plain": [
              "cluster\n",
              "0    22\n",
              "1    18\n",
              "2    11\n",
              "Name: target_var, dtype: int64"
            ]
          },
          "metadata": {
            "tags": []
          },
          "execution_count": 135
        }
      ]
    },
    {
      "cell_type": "markdown",
      "metadata": {
        "id": "xorRyZB1r6zh",
        "colab_type": "text"
      },
      "source": [
        "#Make a decision when there is no clear right choice"
      ]
    },
    {
      "cell_type": "code",
      "metadata": {
        "id": "EH8qXAnur8Pf",
        "colab_type": "code",
        "colab": {
          "base_uri": "https://localhost:8080/",
          "height": 173
        },
        "outputId": "878ded29-189a-4a10-a6d8-e9f97c4920e9"
      },
      "source": [
        "all_data.groupby('cluster').target_var.agg(['sum','mean'])"
      ],
      "execution_count": 136,
      "outputs": [
        {
          "output_type": "execute_result",
          "data": {
            "text/html": [
              "<div>\n",
              "<style scoped>\n",
              "    .dataframe tbody tr th:only-of-type {\n",
              "        vertical-align: middle;\n",
              "    }\n",
              "\n",
              "    .dataframe tbody tr th {\n",
              "        vertical-align: top;\n",
              "    }\n",
              "\n",
              "    .dataframe thead th {\n",
              "        text-align: right;\n",
              "    }\n",
              "</style>\n",
              "<table border=\"1\" class=\"dataframe\">\n",
              "  <thead>\n",
              "    <tr style=\"text-align: right;\">\n",
              "      <th></th>\n",
              "      <th>sum</th>\n",
              "      <th>mean</th>\n",
              "    </tr>\n",
              "    <tr>\n",
              "      <th>cluster</th>\n",
              "      <th></th>\n",
              "      <th></th>\n",
              "    </tr>\n",
              "  </thead>\n",
              "  <tbody>\n",
              "    <tr>\n",
              "      <th>0</th>\n",
              "      <td>19764.3291</td>\n",
              "      <td>898.378595</td>\n",
              "    </tr>\n",
              "    <tr>\n",
              "      <th>1</th>\n",
              "      <td>16405.3159</td>\n",
              "      <td>911.406439</td>\n",
              "    </tr>\n",
              "    <tr>\n",
              "      <th>2</th>\n",
              "      <td>9465.5654</td>\n",
              "      <td>860.505945</td>\n",
              "    </tr>\n",
              "  </tbody>\n",
              "</table>\n",
              "</div>"
            ],
            "text/plain": [
              "                sum        mean\n",
              "cluster                        \n",
              "0        19764.3291  898.378595\n",
              "1        16405.3159  911.406439\n",
              "2         9465.5654  860.505945"
            ]
          },
          "metadata": {
            "tags": []
          },
          "execution_count": 136
        }
      ]
    },
    {
      "cell_type": "markdown",
      "metadata": {
        "id": "Jw5wPurxsJpo",
        "colab_type": "text"
      },
      "source": [
        "## It can be observed that we need to consider those states in CLUSTER 1 to reduce the accidents as they have a larger mean"
      ]
    },
    {
      "cell_type": "code",
      "metadata": {
        "id": "RtYvrliYsTsW",
        "colab_type": "code",
        "colab": {
          "base_uri": "https://localhost:8080/",
          "height": 697
        },
        "outputId": "ddac38e3-6b0f-41c7-b691-4c306f46f6f6"
      },
      "source": [
        "print('States in USA that belong to cluster 1 are:')\n",
        "print(all_data[all_data['cluster']==1].state)"
      ],
      "execution_count": 145,
      "outputs": [
        {
          "output_type": "stream",
          "text": [
            "States in USA that belong to cluster 1 are:\n",
            "0            Alabama\n",
            "6        Connecticut\n",
            "11            Hawaii\n",
            "19             Maine\n",
            "25          Missouri\n",
            "26           Montana\n",
            "29     New Hampshire\n",
            "33    North Carolina\n",
            "34      North Dakota\n",
            "35              Ohio\n",
            "38      Pennsylvania\n",
            "39      Rhode Island\n",
            "40    South Carolina\n",
            "41      South Dakota\n",
            "43             Texas\n",
            "47        Washington\n",
            "49         Wisconsin\n",
            "50           Wyoming\n",
            "Name: state, dtype: object\n",
            "States in USA that belong to cluster 1 are:\n",
            "0            Alabama\n",
            "6        Connecticut\n",
            "11            Hawaii\n",
            "19             Maine\n",
            "25          Missouri\n",
            "26           Montana\n",
            "29     New Hampshire\n",
            "33    North Carolina\n",
            "34      North Dakota\n",
            "35              Ohio\n",
            "38      Pennsylvania\n",
            "39      Rhode Island\n",
            "40    South Carolina\n",
            "41      South Dakota\n",
            "43             Texas\n",
            "47        Washington\n",
            "49         Wisconsin\n",
            "50           Wyoming\n",
            "Name: state, dtype: object\n"
          ],
          "name": "stdout"
        }
      ]
    }
  ]
}