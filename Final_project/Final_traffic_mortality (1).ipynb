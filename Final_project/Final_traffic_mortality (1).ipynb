{
  "nbformat": 4,
  "nbformat_minor": 0,
  "metadata": {
    "colab": {
      "name": "Final_traffic_mortality.ipynb",
      "provenance": []
    },
    "kernelspec": {
      "name": "python3",
      "display_name": "Python 3"
    }
  },
  "cells": [
    {
      "cell_type": "code",
      "metadata": {
        "id": "Osjmo-chaEVD",
        "colab_type": "code",
        "colab": {}
      },
      "source": [
        "import numpy as np\n",
        "import pandas as pd\n",
        "import matplotlib.pyplot as plt\n",
        "%matplotlib inline"
      ],
      "execution_count": 2,
      "outputs": []
    },
    {
      "cell_type": "markdown",
      "metadata": {
        "id": "Yv_OgYsxa_TR",
        "colab_type": "text"
      },
      "source": [
        "# Importing the data\n",
        "\n",
        "\n",
        "*   We read in the data file\n",
        "*   obtain data information\n",
        "*   Visualize the information\n",
        "\n",
        "\n",
        "\n",
        "\n"
      ]
    },
    {
      "cell_type": "code",
      "metadata": {
        "id": "lhqI0Kd_ayvN",
        "colab_type": "code",
        "colab": {}
      },
      "source": [
        "miles_data = pd.read_csv('miles-driven.csv',sep='|')"
      ],
      "execution_count": 3,
      "outputs": []
    },
    {
      "cell_type": "code",
      "metadata": {
        "id": "u3G7P95JcHxn",
        "colab_type": "code",
        "colab": {
          "base_uri": "https://localhost:8080/",
          "height": 204
        },
        "outputId": "376b93b9-b63f-414c-c6d9-04a141f51c1a"
      },
      "source": [
        "miles_data.head()"
      ],
      "execution_count": 4,
      "outputs": [
        {
          "output_type": "execute_result",
          "data": {
            "text/html": [
              "<div>\n",
              "<style scoped>\n",
              "    .dataframe tbody tr th:only-of-type {\n",
              "        vertical-align: middle;\n",
              "    }\n",
              "\n",
              "    .dataframe tbody tr th {\n",
              "        vertical-align: top;\n",
              "    }\n",
              "\n",
              "    .dataframe thead th {\n",
              "        text-align: right;\n",
              "    }\n",
              "</style>\n",
              "<table border=\"1\" class=\"dataframe\">\n",
              "  <thead>\n",
              "    <tr style=\"text-align: right;\">\n",
              "      <th></th>\n",
              "      <th>state</th>\n",
              "      <th>million_miles_annually</th>\n",
              "    </tr>\n",
              "  </thead>\n",
              "  <tbody>\n",
              "    <tr>\n",
              "      <th>0</th>\n",
              "      <td>Alabama</td>\n",
              "      <td>64914</td>\n",
              "    </tr>\n",
              "    <tr>\n",
              "      <th>1</th>\n",
              "      <td>Alaska</td>\n",
              "      <td>4593</td>\n",
              "    </tr>\n",
              "    <tr>\n",
              "      <th>2</th>\n",
              "      <td>Arizona</td>\n",
              "      <td>59575</td>\n",
              "    </tr>\n",
              "    <tr>\n",
              "      <th>3</th>\n",
              "      <td>Arkansas</td>\n",
              "      <td>32953</td>\n",
              "    </tr>\n",
              "    <tr>\n",
              "      <th>4</th>\n",
              "      <td>California</td>\n",
              "      <td>320784</td>\n",
              "    </tr>\n",
              "  </tbody>\n",
              "</table>\n",
              "</div>"
            ],
            "text/plain": [
              "        state  million_miles_annually\n",
              "0     Alabama                   64914\n",
              "1      Alaska                    4593\n",
              "2     Arizona                   59575\n",
              "3    Arkansas                   32953\n",
              "4  California                  320784"
            ]
          },
          "metadata": {
            "tags": []
          },
          "execution_count": 4
        }
      ]
    },
    {
      "cell_type": "code",
      "metadata": {
        "id": "F7YojIwqcKHG",
        "colab_type": "code",
        "colab": {}
      },
      "source": [
        "road_data = pd.read_csv('road-accidents.csv',comment='#',sep='|')"
      ],
      "execution_count": 5,
      "outputs": []
    },
    {
      "cell_type": "code",
      "metadata": {
        "id": "dVG0rq7ycfI2",
        "colab_type": "code",
        "colab": {
          "base_uri": "https://localhost:8080/",
          "height": 204
        },
        "outputId": "008ec5e1-0963-49e2-c70a-96f2120ac41f"
      },
      "source": [
        "road_data.head()"
      ],
      "execution_count": 6,
      "outputs": [
        {
          "output_type": "execute_result",
          "data": {
            "text/html": [
              "<div>\n",
              "<style scoped>\n",
              "    .dataframe tbody tr th:only-of-type {\n",
              "        vertical-align: middle;\n",
              "    }\n",
              "\n",
              "    .dataframe tbody tr th {\n",
              "        vertical-align: top;\n",
              "    }\n",
              "\n",
              "    .dataframe thead th {\n",
              "        text-align: right;\n",
              "    }\n",
              "</style>\n",
              "<table border=\"1\" class=\"dataframe\">\n",
              "  <thead>\n",
              "    <tr style=\"text-align: right;\">\n",
              "      <th></th>\n",
              "      <th>state</th>\n",
              "      <th>drvr_fatl_col_bmiles</th>\n",
              "      <th>perc_fatl_speed</th>\n",
              "      <th>perc_fatl_alcohol</th>\n",
              "      <th>perc_fatl_1st_time</th>\n",
              "    </tr>\n",
              "  </thead>\n",
              "  <tbody>\n",
              "    <tr>\n",
              "      <th>0</th>\n",
              "      <td>Alabama</td>\n",
              "      <td>18.8</td>\n",
              "      <td>39</td>\n",
              "      <td>30</td>\n",
              "      <td>80</td>\n",
              "    </tr>\n",
              "    <tr>\n",
              "      <th>1</th>\n",
              "      <td>Alaska</td>\n",
              "      <td>18.1</td>\n",
              "      <td>41</td>\n",
              "      <td>25</td>\n",
              "      <td>94</td>\n",
              "    </tr>\n",
              "    <tr>\n",
              "      <th>2</th>\n",
              "      <td>Arizona</td>\n",
              "      <td>18.6</td>\n",
              "      <td>35</td>\n",
              "      <td>28</td>\n",
              "      <td>96</td>\n",
              "    </tr>\n",
              "    <tr>\n",
              "      <th>3</th>\n",
              "      <td>Arkansas</td>\n",
              "      <td>22.4</td>\n",
              "      <td>18</td>\n",
              "      <td>26</td>\n",
              "      <td>95</td>\n",
              "    </tr>\n",
              "    <tr>\n",
              "      <th>4</th>\n",
              "      <td>California</td>\n",
              "      <td>12.0</td>\n",
              "      <td>35</td>\n",
              "      <td>28</td>\n",
              "      <td>89</td>\n",
              "    </tr>\n",
              "  </tbody>\n",
              "</table>\n",
              "</div>"
            ],
            "text/plain": [
              "        state  drvr_fatl_col_bmiles  ...  perc_fatl_alcohol  perc_fatl_1st_time\n",
              "0     Alabama                  18.8  ...                 30                  80\n",
              "1      Alaska                  18.1  ...                 25                  94\n",
              "2     Arizona                  18.6  ...                 28                  96\n",
              "3    Arkansas                  22.4  ...                 26                  95\n",
              "4  California                  12.0  ...                 28                  89\n",
              "\n",
              "[5 rows x 5 columns]"
            ]
          },
          "metadata": {
            "tags": []
          },
          "execution_count": 6
        }
      ]
    },
    {
      "cell_type": "code",
      "metadata": {
        "id": "tXxdBR4PchCx",
        "colab_type": "code",
        "colab": {
          "base_uri": "https://localhost:8080/",
          "height": 51
        },
        "outputId": "b816b044-09db-4fd2-8bc6-620aae8bdf6d"
      },
      "source": [
        "print(road_data.state.value_counts().sum())\n",
        "print(miles_data.state.value_counts().sum())"
      ],
      "execution_count": null,
      "outputs": [
        {
          "output_type": "stream",
          "text": [
            "51\n",
            "51\n"
          ],
          "name": "stdout"
        }
      ]
    },
    {
      "cell_type": "code",
      "metadata": {
        "id": "FWVQCQlfc6uy",
        "colab_type": "code",
        "colab": {
          "base_uri": "https://localhost:8080/",
          "height": 204
        },
        "outputId": "489009a1-e4f7-483d-9a38-dc8ef478ad61"
      },
      "source": [
        "all_data = road_data \n",
        "all_data['million_miles_annually']=miles_data['million_miles_annually']\n",
        "all_data.head()"
      ],
      "execution_count": 7,
      "outputs": [
        {
          "output_type": "execute_result",
          "data": {
            "text/html": [
              "<div>\n",
              "<style scoped>\n",
              "    .dataframe tbody tr th:only-of-type {\n",
              "        vertical-align: middle;\n",
              "    }\n",
              "\n",
              "    .dataframe tbody tr th {\n",
              "        vertical-align: top;\n",
              "    }\n",
              "\n",
              "    .dataframe thead th {\n",
              "        text-align: right;\n",
              "    }\n",
              "</style>\n",
              "<table border=\"1\" class=\"dataframe\">\n",
              "  <thead>\n",
              "    <tr style=\"text-align: right;\">\n",
              "      <th></th>\n",
              "      <th>state</th>\n",
              "      <th>drvr_fatl_col_bmiles</th>\n",
              "      <th>perc_fatl_speed</th>\n",
              "      <th>perc_fatl_alcohol</th>\n",
              "      <th>perc_fatl_1st_time</th>\n",
              "      <th>million_miles_annually</th>\n",
              "    </tr>\n",
              "  </thead>\n",
              "  <tbody>\n",
              "    <tr>\n",
              "      <th>0</th>\n",
              "      <td>Alabama</td>\n",
              "      <td>18.8</td>\n",
              "      <td>39</td>\n",
              "      <td>30</td>\n",
              "      <td>80</td>\n",
              "      <td>64914</td>\n",
              "    </tr>\n",
              "    <tr>\n",
              "      <th>1</th>\n",
              "      <td>Alaska</td>\n",
              "      <td>18.1</td>\n",
              "      <td>41</td>\n",
              "      <td>25</td>\n",
              "      <td>94</td>\n",
              "      <td>4593</td>\n",
              "    </tr>\n",
              "    <tr>\n",
              "      <th>2</th>\n",
              "      <td>Arizona</td>\n",
              "      <td>18.6</td>\n",
              "      <td>35</td>\n",
              "      <td>28</td>\n",
              "      <td>96</td>\n",
              "      <td>59575</td>\n",
              "    </tr>\n",
              "    <tr>\n",
              "      <th>3</th>\n",
              "      <td>Arkansas</td>\n",
              "      <td>22.4</td>\n",
              "      <td>18</td>\n",
              "      <td>26</td>\n",
              "      <td>95</td>\n",
              "      <td>32953</td>\n",
              "    </tr>\n",
              "    <tr>\n",
              "      <th>4</th>\n",
              "      <td>California</td>\n",
              "      <td>12.0</td>\n",
              "      <td>35</td>\n",
              "      <td>28</td>\n",
              "      <td>89</td>\n",
              "      <td>320784</td>\n",
              "    </tr>\n",
              "  </tbody>\n",
              "</table>\n",
              "</div>"
            ],
            "text/plain": [
              "        state  drvr_fatl_col_bmiles  ...  perc_fatl_1st_time  million_miles_annually\n",
              "0     Alabama                  18.8  ...                  80                   64914\n",
              "1      Alaska                  18.1  ...                  94                    4593\n",
              "2     Arizona                  18.6  ...                  96                   59575\n",
              "3    Arkansas                  22.4  ...                  95                   32953\n",
              "4  California                  12.0  ...                  89                  320784\n",
              "\n",
              "[5 rows x 6 columns]"
            ]
          },
          "metadata": {
            "tags": []
          },
          "execution_count": 7
        }
      ]
    },
    {
      "cell_type": "code",
      "metadata": {
        "id": "m3Av8GspD16I",
        "colab_type": "code",
        "colab": {
          "base_uri": "https://localhost:8080/",
          "height": 359
        },
        "outputId": "66cdf757-4c6d-4eb0-c40e-a38e8156ca5f"
      },
      "source": [
        "all_data['target_var'] = all_data['drvr_fatl_col_bmiles'] * all_data['million_miles_annually']\n",
        "all_data.head(10)"
      ],
      "execution_count": 8,
      "outputs": [
        {
          "output_type": "execute_result",
          "data": {
            "text/html": [
              "<div>\n",
              "<style scoped>\n",
              "    .dataframe tbody tr th:only-of-type {\n",
              "        vertical-align: middle;\n",
              "    }\n",
              "\n",
              "    .dataframe tbody tr th {\n",
              "        vertical-align: top;\n",
              "    }\n",
              "\n",
              "    .dataframe thead th {\n",
              "        text-align: right;\n",
              "    }\n",
              "</style>\n",
              "<table border=\"1\" class=\"dataframe\">\n",
              "  <thead>\n",
              "    <tr style=\"text-align: right;\">\n",
              "      <th></th>\n",
              "      <th>state</th>\n",
              "      <th>drvr_fatl_col_bmiles</th>\n",
              "      <th>perc_fatl_speed</th>\n",
              "      <th>perc_fatl_alcohol</th>\n",
              "      <th>perc_fatl_1st_time</th>\n",
              "      <th>million_miles_annually</th>\n",
              "      <th>target_var</th>\n",
              "    </tr>\n",
              "  </thead>\n",
              "  <tbody>\n",
              "    <tr>\n",
              "      <th>0</th>\n",
              "      <td>Alabama</td>\n",
              "      <td>18.8</td>\n",
              "      <td>39</td>\n",
              "      <td>30</td>\n",
              "      <td>80</td>\n",
              "      <td>64914</td>\n",
              "      <td>1220383.2</td>\n",
              "    </tr>\n",
              "    <tr>\n",
              "      <th>1</th>\n",
              "      <td>Alaska</td>\n",
              "      <td>18.1</td>\n",
              "      <td>41</td>\n",
              "      <td>25</td>\n",
              "      <td>94</td>\n",
              "      <td>4593</td>\n",
              "      <td>83133.3</td>\n",
              "    </tr>\n",
              "    <tr>\n",
              "      <th>2</th>\n",
              "      <td>Arizona</td>\n",
              "      <td>18.6</td>\n",
              "      <td>35</td>\n",
              "      <td>28</td>\n",
              "      <td>96</td>\n",
              "      <td>59575</td>\n",
              "      <td>1108095.0</td>\n",
              "    </tr>\n",
              "    <tr>\n",
              "      <th>3</th>\n",
              "      <td>Arkansas</td>\n",
              "      <td>22.4</td>\n",
              "      <td>18</td>\n",
              "      <td>26</td>\n",
              "      <td>95</td>\n",
              "      <td>32953</td>\n",
              "      <td>738147.2</td>\n",
              "    </tr>\n",
              "    <tr>\n",
              "      <th>4</th>\n",
              "      <td>California</td>\n",
              "      <td>12.0</td>\n",
              "      <td>35</td>\n",
              "      <td>28</td>\n",
              "      <td>89</td>\n",
              "      <td>320784</td>\n",
              "      <td>3849408.0</td>\n",
              "    </tr>\n",
              "    <tr>\n",
              "      <th>5</th>\n",
              "      <td>Colorado</td>\n",
              "      <td>13.6</td>\n",
              "      <td>37</td>\n",
              "      <td>28</td>\n",
              "      <td>95</td>\n",
              "      <td>46606</td>\n",
              "      <td>633841.6</td>\n",
              "    </tr>\n",
              "    <tr>\n",
              "      <th>6</th>\n",
              "      <td>Connecticut</td>\n",
              "      <td>10.8</td>\n",
              "      <td>46</td>\n",
              "      <td>36</td>\n",
              "      <td>82</td>\n",
              "      <td>31197</td>\n",
              "      <td>336927.6</td>\n",
              "    </tr>\n",
              "    <tr>\n",
              "      <th>7</th>\n",
              "      <td>Delaware</td>\n",
              "      <td>16.2</td>\n",
              "      <td>38</td>\n",
              "      <td>30</td>\n",
              "      <td>99</td>\n",
              "      <td>9028</td>\n",
              "      <td>146253.6</td>\n",
              "    </tr>\n",
              "    <tr>\n",
              "      <th>8</th>\n",
              "      <td>District of Columbia</td>\n",
              "      <td>5.9</td>\n",
              "      <td>34</td>\n",
              "      <td>27</td>\n",
              "      <td>100</td>\n",
              "      <td>3568</td>\n",
              "      <td>21051.2</td>\n",
              "    </tr>\n",
              "    <tr>\n",
              "      <th>9</th>\n",
              "      <td>Florida</td>\n",
              "      <td>17.9</td>\n",
              "      <td>21</td>\n",
              "      <td>29</td>\n",
              "      <td>94</td>\n",
              "      <td>191855</td>\n",
              "      <td>3434204.5</td>\n",
              "    </tr>\n",
              "  </tbody>\n",
              "</table>\n",
              "</div>"
            ],
            "text/plain": [
              "                  state  ...  target_var\n",
              "0               Alabama  ...   1220383.2\n",
              "1                Alaska  ...     83133.3\n",
              "2               Arizona  ...   1108095.0\n",
              "3              Arkansas  ...    738147.2\n",
              "4            California  ...   3849408.0\n",
              "5              Colorado  ...    633841.6\n",
              "6           Connecticut  ...    336927.6\n",
              "7              Delaware  ...    146253.6\n",
              "8  District of Columbia  ...     21051.2\n",
              "9               Florida  ...   3434204.5\n",
              "\n",
              "[10 rows x 7 columns]"
            ]
          },
          "metadata": {
            "tags": []
          },
          "execution_count": 8
        }
      ]
    },
    {
      "cell_type": "code",
      "metadata": {
        "id": "ZNy0NFq6Zn07",
        "colab_type": "code",
        "colab": {
          "base_uri": "https://localhost:8080/",
          "height": 396
        },
        "outputId": "48b80aff-5df5-40fc-ff51-cff285898b30"
      },
      "source": [
        "all_data['#speed']=(all_data['perc_fatl_speed']*all_data['target_var'])/100\n",
        "all_data['#alchol']=(all_data['perc_fatl_alcohol']*all_data['target_var'])/100\n",
        "all_data['#first']=(all_data['perc_fatl_1st_time']*all_data['target_var'])/100\n",
        "all_data.head(10)"
      ],
      "execution_count": 9,
      "outputs": [
        {
          "output_type": "execute_result",
          "data": {
            "text/html": [
              "<div>\n",
              "<style scoped>\n",
              "    .dataframe tbody tr th:only-of-type {\n",
              "        vertical-align: middle;\n",
              "    }\n",
              "\n",
              "    .dataframe tbody tr th {\n",
              "        vertical-align: top;\n",
              "    }\n",
              "\n",
              "    .dataframe thead th {\n",
              "        text-align: right;\n",
              "    }\n",
              "</style>\n",
              "<table border=\"1\" class=\"dataframe\">\n",
              "  <thead>\n",
              "    <tr style=\"text-align: right;\">\n",
              "      <th></th>\n",
              "      <th>state</th>\n",
              "      <th>drvr_fatl_col_bmiles</th>\n",
              "      <th>perc_fatl_speed</th>\n",
              "      <th>perc_fatl_alcohol</th>\n",
              "      <th>perc_fatl_1st_time</th>\n",
              "      <th>million_miles_annually</th>\n",
              "      <th>target_var</th>\n",
              "      <th>#speed</th>\n",
              "      <th>#alchol</th>\n",
              "      <th>#first</th>\n",
              "    </tr>\n",
              "  </thead>\n",
              "  <tbody>\n",
              "    <tr>\n",
              "      <th>0</th>\n",
              "      <td>Alabama</td>\n",
              "      <td>18.8</td>\n",
              "      <td>39</td>\n",
              "      <td>30</td>\n",
              "      <td>80</td>\n",
              "      <td>64914</td>\n",
              "      <td>1220383.2</td>\n",
              "      <td>475949.448</td>\n",
              "      <td>366114.960</td>\n",
              "      <td>976306.560</td>\n",
              "    </tr>\n",
              "    <tr>\n",
              "      <th>1</th>\n",
              "      <td>Alaska</td>\n",
              "      <td>18.1</td>\n",
              "      <td>41</td>\n",
              "      <td>25</td>\n",
              "      <td>94</td>\n",
              "      <td>4593</td>\n",
              "      <td>83133.3</td>\n",
              "      <td>34084.653</td>\n",
              "      <td>20783.325</td>\n",
              "      <td>78145.302</td>\n",
              "    </tr>\n",
              "    <tr>\n",
              "      <th>2</th>\n",
              "      <td>Arizona</td>\n",
              "      <td>18.6</td>\n",
              "      <td>35</td>\n",
              "      <td>28</td>\n",
              "      <td>96</td>\n",
              "      <td>59575</td>\n",
              "      <td>1108095.0</td>\n",
              "      <td>387833.250</td>\n",
              "      <td>310266.600</td>\n",
              "      <td>1063771.200</td>\n",
              "    </tr>\n",
              "    <tr>\n",
              "      <th>3</th>\n",
              "      <td>Arkansas</td>\n",
              "      <td>22.4</td>\n",
              "      <td>18</td>\n",
              "      <td>26</td>\n",
              "      <td>95</td>\n",
              "      <td>32953</td>\n",
              "      <td>738147.2</td>\n",
              "      <td>132866.496</td>\n",
              "      <td>191918.272</td>\n",
              "      <td>701239.840</td>\n",
              "    </tr>\n",
              "    <tr>\n",
              "      <th>4</th>\n",
              "      <td>California</td>\n",
              "      <td>12.0</td>\n",
              "      <td>35</td>\n",
              "      <td>28</td>\n",
              "      <td>89</td>\n",
              "      <td>320784</td>\n",
              "      <td>3849408.0</td>\n",
              "      <td>1347292.800</td>\n",
              "      <td>1077834.240</td>\n",
              "      <td>3425973.120</td>\n",
              "    </tr>\n",
              "    <tr>\n",
              "      <th>5</th>\n",
              "      <td>Colorado</td>\n",
              "      <td>13.6</td>\n",
              "      <td>37</td>\n",
              "      <td>28</td>\n",
              "      <td>95</td>\n",
              "      <td>46606</td>\n",
              "      <td>633841.6</td>\n",
              "      <td>234521.392</td>\n",
              "      <td>177475.648</td>\n",
              "      <td>602149.520</td>\n",
              "    </tr>\n",
              "    <tr>\n",
              "      <th>6</th>\n",
              "      <td>Connecticut</td>\n",
              "      <td>10.8</td>\n",
              "      <td>46</td>\n",
              "      <td>36</td>\n",
              "      <td>82</td>\n",
              "      <td>31197</td>\n",
              "      <td>336927.6</td>\n",
              "      <td>154986.696</td>\n",
              "      <td>121293.936</td>\n",
              "      <td>276280.632</td>\n",
              "    </tr>\n",
              "    <tr>\n",
              "      <th>7</th>\n",
              "      <td>Delaware</td>\n",
              "      <td>16.2</td>\n",
              "      <td>38</td>\n",
              "      <td>30</td>\n",
              "      <td>99</td>\n",
              "      <td>9028</td>\n",
              "      <td>146253.6</td>\n",
              "      <td>55576.368</td>\n",
              "      <td>43876.080</td>\n",
              "      <td>144791.064</td>\n",
              "    </tr>\n",
              "    <tr>\n",
              "      <th>8</th>\n",
              "      <td>District of Columbia</td>\n",
              "      <td>5.9</td>\n",
              "      <td>34</td>\n",
              "      <td>27</td>\n",
              "      <td>100</td>\n",
              "      <td>3568</td>\n",
              "      <td>21051.2</td>\n",
              "      <td>7157.408</td>\n",
              "      <td>5683.824</td>\n",
              "      <td>21051.200</td>\n",
              "    </tr>\n",
              "    <tr>\n",
              "      <th>9</th>\n",
              "      <td>Florida</td>\n",
              "      <td>17.9</td>\n",
              "      <td>21</td>\n",
              "      <td>29</td>\n",
              "      <td>94</td>\n",
              "      <td>191855</td>\n",
              "      <td>3434204.5</td>\n",
              "      <td>721182.945</td>\n",
              "      <td>995919.305</td>\n",
              "      <td>3228152.230</td>\n",
              "    </tr>\n",
              "  </tbody>\n",
              "</table>\n",
              "</div>"
            ],
            "text/plain": [
              "                  state  drvr_fatl_col_bmiles  ...      #alchol       #first\n",
              "0               Alabama                  18.8  ...   366114.960   976306.560\n",
              "1                Alaska                  18.1  ...    20783.325    78145.302\n",
              "2               Arizona                  18.6  ...   310266.600  1063771.200\n",
              "3              Arkansas                  22.4  ...   191918.272   701239.840\n",
              "4            California                  12.0  ...  1077834.240  3425973.120\n",
              "5              Colorado                  13.6  ...   177475.648   602149.520\n",
              "6           Connecticut                  10.8  ...   121293.936   276280.632\n",
              "7              Delaware                  16.2  ...    43876.080   144791.064\n",
              "8  District of Columbia                   5.9  ...     5683.824    21051.200\n",
              "9               Florida                  17.9  ...   995919.305  3228152.230\n",
              "\n",
              "[10 rows x 10 columns]"
            ]
          },
          "metadata": {
            "tags": []
          },
          "execution_count": 9
        }
      ]
    },
    {
      "cell_type": "markdown",
      "metadata": {
        "id": "hbsp1wrf3WM9",
        "colab_type": "text"
      },
      "source": [
        "# Visualizing the data\n",
        "\n",
        "\n",
        "*   Pair plot\n",
        "*   Plotting in map\n",
        "\n"
      ]
    },
    {
      "cell_type": "code",
      "metadata": {
        "id": "CHJqGI1jd4Ak",
        "colab_type": "code",
        "colab": {
          "base_uri": "https://localhost:8080/",
          "height": 818
        },
        "outputId": "61ba86f0-3577-4f95-e668-796f127c0b7d"
      },
      "source": [
        "#scatter matrix plot\n",
        "import seaborn as sns\n",
        "sns.set(style=\"ticks\")\n",
        "sns.pairplot(all_data[['drvr_fatl_col_bmiles','perc_fatl_speed','perc_fatl_alcohol','perc_fatl_1st_time']])"
      ],
      "execution_count": 10,
      "outputs": [
        {
          "output_type": "stream",
          "text": [
            "/usr/local/lib/python3.6/dist-packages/statsmodels/tools/_testing.py:19: FutureWarning: pandas.util.testing is deprecated. Use the functions in the public API at pandas.testing instead.\n",
            "  import pandas.util.testing as tm\n"
          ],
          "name": "stderr"
        },
        {
          "output_type": "execute_result",
          "data": {
            "text/plain": [
              "<seaborn.axisgrid.PairGrid at 0x7f21e42b4d68>"
            ]
          },
          "metadata": {
            "tags": []
          },
          "execution_count": 10
        },
        {
          "output_type": "display_data",
          "data": {
            "image/png": "[encoded data removed]",
            "text/plain": [
              "<Figure size 720x720 with 20 Axes>"
            ]
          },
          "metadata": {
            "tags": []
          }
        }
      ]
    },
    {
      "cell_type": "code",
      "metadata": {
        "id": "1wf6kc_ypQ-d",
        "colab_type": "code",
        "colab": {
          "base_uri": "https://localhost:8080/",
          "height": 224
        },
        "outputId": "d6e056b3-50ee-4cfd-fb91-7c8ebb9b3822"
      },
      "source": [
        "l = pd.DataFrame((range(1,53)))\n",
        "all_data['id'] = l\n",
        "all_data.head()"
      ],
      "execution_count": 11,
      "outputs": [
        {
          "output_type": "execute_result",
          "data": {
            "text/html": [
              "<div>\n",
              "<style scoped>\n",
              "    .dataframe tbody tr th:only-of-type {\n",
              "        vertical-align: middle;\n",
              "    }\n",
              "\n",
              "    .dataframe tbody tr th {\n",
              "        vertical-align: top;\n",
              "    }\n",
              "\n",
              "    .dataframe thead th {\n",
              "        text-align: right;\n",
              "    }\n",
              "</style>\n",
              "<table border=\"1\" class=\"dataframe\">\n",
              "  <thead>\n",
              "    <tr style=\"text-align: right;\">\n",
              "      <th></th>\n",
              "      <th>state</th>\n",
              "      <th>drvr_fatl_col_bmiles</th>\n",
              "      <th>perc_fatl_speed</th>\n",
              "      <th>perc_fatl_alcohol</th>\n",
              "      <th>perc_fatl_1st_time</th>\n",
              "      <th>million_miles_annually</th>\n",
              "      <th>target_var</th>\n",
              "      <th>#speed</th>\n",
              "      <th>#alchol</th>\n",
              "      <th>#first</th>\n",
              "      <th>id</th>\n",
              "    </tr>\n",
              "  </thead>\n",
              "  <tbody>\n",
              "    <tr>\n",
              "      <th>0</th>\n",
              "      <td>Alabama</td>\n",
              "      <td>18.8</td>\n",
              "      <td>39</td>\n",
              "      <td>30</td>\n",
              "      <td>80</td>\n",
              "      <td>64914</td>\n",
              "      <td>1220383.2</td>\n",
              "      <td>475949.448</td>\n",
              "      <td>366114.960</td>\n",
              "      <td>976306.560</td>\n",
              "      <td>1</td>\n",
              "    </tr>\n",
              "    <tr>\n",
              "      <th>1</th>\n",
              "      <td>Alaska</td>\n",
              "      <td>18.1</td>\n",
              "      <td>41</td>\n",
              "      <td>25</td>\n",
              "      <td>94</td>\n",
              "      <td>4593</td>\n",
              "      <td>83133.3</td>\n",
              "      <td>34084.653</td>\n",
              "      <td>20783.325</td>\n",
              "      <td>78145.302</td>\n",
              "      <td>2</td>\n",
              "    </tr>\n",
              "    <tr>\n",
              "      <th>2</th>\n",
              "      <td>Arizona</td>\n",
              "      <td>18.6</td>\n",
              "      <td>35</td>\n",
              "      <td>28</td>\n",
              "      <td>96</td>\n",
              "      <td>59575</td>\n",
              "      <td>1108095.0</td>\n",
              "      <td>387833.250</td>\n",
              "      <td>310266.600</td>\n",
              "      <td>1063771.200</td>\n",
              "      <td>3</td>\n",
              "    </tr>\n",
              "    <tr>\n",
              "      <th>3</th>\n",
              "      <td>Arkansas</td>\n",
              "      <td>22.4</td>\n",
              "      <td>18</td>\n",
              "      <td>26</td>\n",
              "      <td>95</td>\n",
              "      <td>32953</td>\n",
              "      <td>738147.2</td>\n",
              "      <td>132866.496</td>\n",
              "      <td>191918.272</td>\n",
              "      <td>701239.840</td>\n",
              "      <td>4</td>\n",
              "    </tr>\n",
              "    <tr>\n",
              "      <th>4</th>\n",
              "      <td>California</td>\n",
              "      <td>12.0</td>\n",
              "      <td>35</td>\n",
              "      <td>28</td>\n",
              "      <td>89</td>\n",
              "      <td>320784</td>\n",
              "      <td>3849408.0</td>\n",
              "      <td>1347292.800</td>\n",
              "      <td>1077834.240</td>\n",
              "      <td>3425973.120</td>\n",
              "      <td>5</td>\n",
              "    </tr>\n",
              "  </tbody>\n",
              "</table>\n",
              "</div>"
            ],
            "text/plain": [
              "        state  drvr_fatl_col_bmiles  ...       #first  id\n",
              "0     Alabama                  18.8  ...   976306.560   1\n",
              "1      Alaska                  18.1  ...    78145.302   2\n",
              "2     Arizona                  18.6  ...  1063771.200   3\n",
              "3    Arkansas                  22.4  ...   701239.840   4\n",
              "4  California                  12.0  ...  3425973.120   5\n",
              "\n",
              "[5 rows x 11 columns]"
            ]
          },
          "metadata": {
            "tags": []
          },
          "execution_count": 11
        }
      ]
    },
    {
      "cell_type": "code",
      "metadata": {
        "id": "3QGiTzN3yQ55",
        "colab_type": "code",
        "colab": {
          "base_uri": "https://localhost:8080/",
          "height": 34
        },
        "outputId": "f6934f61-cacc-442b-9546-9532913bd0dc"
      },
      "source": [
        "alt.renderers.enable('colab')"
      ],
      "execution_count": 14,
      "outputs": [
        {
          "output_type": "execute_result",
          "data": {
            "text/plain": [
              "RendererRegistry.enable('colab')"
            ]
          },
          "metadata": {
            "tags": []
          },
          "execution_count": 14
        }
      ]
    },
    {
      "cell_type": "code",
      "metadata": {
        "id": "5Zab8rbgpdfw",
        "colab_type": "code",
        "colab": {
          "base_uri": "https://localhost:8080/",
          "height": 331
        },
        "outputId": "c849cbca-c7db-4700-de0e-d444e453d83f"
      },
      "source": [
        "import altair as alt\n",
        "from vega_datasets import data\n",
        "\n",
        "states = alt.topo_feature(data.us_10m.url, 'states')\n",
        "variable_list = ['perc_fatl_speed', 'perc_fatl_alcohol', 'perc_fatl_1st_time']\n",
        "chart = alt.Chart(states).mark_geoshape().encode(\n",
        "    color='perc_fatl_speed:Q'\n",
        ").transform_lookup(\n",
        "    lookup='id',\n",
        "    from_=alt.LookupData(all_data, key = 'id', fields = ['perc_fatl_speed'])\n",
        ").properties(\n",
        "    width=500,\n",
        "    height=300\n",
        ").project(\n",
        "    type='albersUsa'\n",
        ")\n",
        "chart"
      ],
      "execution_count": 13,
      "outputs": [
        {
          "output_type": "execute_result",
          "data": {
            "text/plain": [
              "alt.Chart(...)"
            ],
            "text/html": [
              "\n",
              "<div id=\"altair-viz-e175d63780964b6ca9c4323c65af30a0\"></div>\n",
              "<script type=\"text/javascript\">\n",
              "  (function(spec, embedOpt){\n",
              "    let outputDiv = document.currentScript.previousElementSibling;\n",
              "    if (outputDiv.id !== \"altair-viz-e175d63780964b6ca9c4323c65af30a0\") {\n",
              "      outputDiv = document.getElementById(\"altair-viz-e175d63780964b6ca9c4323c65af30a0\");\n",
              "    }\n",
              "    const paths = {\n",
              "      \"vega\": \"https://cdn.jsdelivr.net/npm//vega@5?noext\",\n",
              "      \"vega-lib\": \"https://cdn.jsdelivr.net/npm//vega-lib?noext\",\n",
              "      \"vega-lite\": \"https://cdn.jsdelivr.net/npm//vega-lite@4.8.1?noext\",\n",
              "      \"vega-embed\": \"https://cdn.jsdelivr.net/npm//vega-embed@6?noext\",\n",
              "    };\n",
              "\n",
              "    function loadScript(lib) {\n",
              "      return new Promise(function(resolve, reject) {\n",
              "        var s = document.createElement('script');\n",
              "        s.src = paths[lib];\n",
              "        s.async = true;\n",
              "        s.onload = () => resolve(paths[lib]);\n",
              "        s.onerror = () => reject(`Error loading script: ${paths[lib]}`);\n",
              "        document.getElementsByTagName(\"head\")[0].appendChild(s);\n",
              "      });\n",
              "    }\n",
              "\n",
              "    function showError(err) {\n",
              "      outputDiv.innerHTML = `<div class=\"error\" style=\"color:red;\">${err}</div>`;\n",
              "      throw err;\n",
              "    }\n",
              "\n",
              "    function displayChart(vegaEmbed) {\n",
              "      vegaEmbed(outputDiv, spec, embedOpt)\n",
              "        .catch(err => showError(`Javascript Error: ${err.message}<br>This usually means there's a typo in your chart specification. See the javascript console for the full traceback.`));\n",
              "    }\n",
              "\n",
              "    if(typeof define === \"function\" && define.amd) {\n",
              "      requirejs.config({paths});\n",
              "      require([\"vega-embed\"], displayChart, err => showError(`Error loading script: ${err.message}`));\n",
              "    } else if (typeof vegaEmbed === \"function\") {\n",
              "      displayChart(vegaEmbed);\n",
              "    } else {\n",
              "      loadScript(\"vega\")\n",
              "        .then(() => loadScript(\"vega-lite\"))\n",
              "        .then(() => loadScript(\"vega-embed\"))\n",
              "        .catch(showError)\n",
              "        .then(() => displayChart(vegaEmbed));\n",
              "    }\n",
              "  })({\"config\": {\"view\": {\"continuousWidth\": 400, \"continuousHeight\": 300}}, \"data\": {\"url\": \"https://vega.github.io/vega-datasets/data/us-10m.json\", \"format\": {\"feature\": \"states\", \"type\": \"topojson\"}}, \"mark\": \"geoshape\", \"encoding\": {\"color\": {\"type\": \"quantitative\", \"field\": \"perc_fatl_speed\"}}, \"height\": 300, \"projection\": {\"type\": \"albersUsa\"}, \"transform\": [{\"lookup\": \"id\", \"from\": {\"data\": {\"name\": \"data-0449c7d64d64f832b8d653007c507f69\"}, \"key\": \"id\", \"fields\": [\"perc_fatl_speed\"]}}], \"width\": 500, \"$schema\": \"https://vega.github.io/schema/vega-lite/v4.8.1.json\", \"datasets\": {\"data-0449c7d64d64f832b8d653007c507f69\": [{\"state\": \"Alabama\", \"drvr_fatl_col_bmiles\": 18.8, \"perc_fatl_speed\": 39, \"perc_fatl_alcohol\": 30, \"perc_fatl_1st_time\": 80, \"million_miles_annually\": 64914, \"target_var\": 1220383.2, \"#speed\": 475949.448, \"#alchol\": 366114.96, \"#first\": 976306.56, \"id\": 1}, {\"state\": \"Alaska\", \"drvr_fatl_col_bmiles\": 18.1, \"perc_fatl_speed\": 41, \"perc_fatl_alcohol\": 25, \"perc_fatl_1st_time\": 94, \"million_miles_annually\": 4593, \"target_var\": 83133.3, \"#speed\": 34084.653000000006, \"#alchol\": 20783.325, \"#first\": 78145.302, \"id\": 2}, {\"state\": \"Arizona\", \"drvr_fatl_col_bmiles\": 18.6, \"perc_fatl_speed\": 35, \"perc_fatl_alcohol\": 28, \"perc_fatl_1st_time\": 96, \"million_miles_annually\": 59575, \"target_var\": 1108095.0, \"#speed\": 387833.25, \"#alchol\": 310266.6, \"#first\": 1063771.2, \"id\": 3}, {\"state\": \"Arkansas\", \"drvr_fatl_col_bmiles\": 22.4, \"perc_fatl_speed\": 18, \"perc_fatl_alcohol\": 26, \"perc_fatl_1st_time\": 95, \"million_miles_annually\": 32953, \"target_var\": 738147.2, \"#speed\": 132866.49599999998, \"#alchol\": 191918.272, \"#first\": 701239.84, \"id\": 4}, {\"state\": \"California\", \"drvr_fatl_col_bmiles\": 12.0, \"perc_fatl_speed\": 35, \"perc_fatl_alcohol\": 28, \"perc_fatl_1st_time\": 89, \"million_miles_annually\": 320784, \"target_var\": 3849408.0, \"#speed\": 1347292.8, \"#alchol\": 1077834.24, \"#first\": 3425973.12, \"id\": 5}, {\"state\": \"Colorado\", \"drvr_fatl_col_bmiles\": 13.6, \"perc_fatl_speed\": 37, \"perc_fatl_alcohol\": 28, \"perc_fatl_1st_time\": 95, \"million_miles_annually\": 46606, \"target_var\": 633841.6, \"#speed\": 234521.392, \"#alchol\": 177475.64800000002, \"#first\": 602149.52, \"id\": 6}, {\"state\": \"Connecticut\", \"drvr_fatl_col_bmiles\": 10.8, \"perc_fatl_speed\": 46, \"perc_fatl_alcohol\": 36, \"perc_fatl_1st_time\": 82, \"million_miles_annually\": 31197, \"target_var\": 336927.60000000003, \"#speed\": 154986.69600000003, \"#alchol\": 121293.93600000002, \"#first\": 276280.63200000004, \"id\": 7}, {\"state\": \"Delaware\", \"drvr_fatl_col_bmiles\": 16.2, \"perc_fatl_speed\": 38, \"perc_fatl_alcohol\": 30, \"perc_fatl_1st_time\": 99, \"million_miles_annually\": 9028, \"target_var\": 146253.6, \"#speed\": 55576.367999999995, \"#alchol\": 43876.08, \"#first\": 144791.064, \"id\": 8}, {\"state\": \"District of Columbia\", \"drvr_fatl_col_bmiles\": 5.9, \"perc_fatl_speed\": 34, \"perc_fatl_alcohol\": 27, \"perc_fatl_1st_time\": 100, \"million_miles_annually\": 3568, \"target_var\": 21051.2, \"#speed\": 7157.408, \"#alchol\": 5683.8240000000005, \"#first\": 21051.2, \"id\": 9}, {\"state\": \"Florida\", \"drvr_fatl_col_bmiles\": 17.9, \"perc_fatl_speed\": 21, \"perc_fatl_alcohol\": 29, \"perc_fatl_1st_time\": 94, \"million_miles_annually\": 191855, \"target_var\": 3434204.4999999995, \"#speed\": 721182.9449999998, \"#alchol\": 995919.3049999998, \"#first\": 3228152.2299999995, \"id\": 10}, {\"state\": \"Georgia\", \"drvr_fatl_col_bmiles\": 15.6, \"perc_fatl_speed\": 19, \"perc_fatl_alcohol\": 25, \"perc_fatl_1st_time\": 93, \"million_miles_annually\": 108454, \"target_var\": 1691882.4, \"#speed\": 321457.65599999996, \"#alchol\": 422970.6, \"#first\": 1573450.632, \"id\": 11}, {\"state\": \"Hawaii\", \"drvr_fatl_col_bmiles\": 17.5, \"perc_fatl_speed\": 54, \"perc_fatl_alcohol\": 41, \"perc_fatl_1st_time\": 87, \"million_miles_annually\": 10066, \"target_var\": 176155.0, \"#speed\": 95123.7, \"#alchol\": 72223.55, \"#first\": 153254.85, \"id\": 12}, {\"state\": \"Idaho\", \"drvr_fatl_col_bmiles\": 15.3, \"perc_fatl_speed\": 36, \"perc_fatl_alcohol\": 29, \"perc_fatl_1st_time\": 98, \"million_miles_annually\": 15937, \"target_var\": 243836.1, \"#speed\": 87780.996, \"#alchol\": 70712.469, \"#first\": 238959.378, \"id\": 13}, {\"state\": \"Illinois\", \"drvr_fatl_col_bmiles\": 12.8, \"perc_fatl_speed\": 36, \"perc_fatl_alcohol\": 34, \"perc_fatl_1st_time\": 96, \"million_miles_annually\": 103234, \"target_var\": 1321395.2000000002, \"#speed\": 475702.27200000006, \"#alchol\": 449274.368, \"#first\": 1268539.3920000002, \"id\": 14}, {\"state\": \"Indiana\", \"drvr_fatl_col_bmiles\": 14.5, \"perc_fatl_speed\": 25, \"perc_fatl_alcohol\": 29, \"perc_fatl_1st_time\": 95, \"million_miles_annually\": 76485, \"target_var\": 1109032.5, \"#speed\": 277258.125, \"#alchol\": 321619.425, \"#first\": 1053580.875, \"id\": 15}, {\"state\": \"Iowa\", \"drvr_fatl_col_bmiles\": 15.7, \"perc_fatl_speed\": 17, \"perc_fatl_alcohol\": 25, \"perc_fatl_1st_time\": 87, \"million_miles_annually\": 31274, \"target_var\": 491001.8, \"#speed\": 83470.306, \"#alchol\": 122750.45, \"#first\": 427171.566, \"id\": 16}, {\"state\": \"Kansas\", \"drvr_fatl_col_bmiles\": 17.8, \"perc_fatl_speed\": 27, \"perc_fatl_alcohol\": 24, \"perc_fatl_1st_time\": 85, \"million_miles_annually\": 30021, \"target_var\": 534373.8, \"#speed\": 144280.926, \"#alchol\": 128249.71200000001, \"#first\": 454217.7300000001, \"id\": 17}, {\"state\": \"Kentucky\", \"drvr_fatl_col_bmiles\": 21.4, \"perc_fatl_speed\": 19, \"perc_fatl_alcohol\": 23, \"perc_fatl_1st_time\": 76, \"million_miles_annually\": 48061, \"target_var\": 1028505.3999999999, \"#speed\": 195416.02599999998, \"#alchol\": 236556.242, \"#first\": 781664.1039999999, \"id\": 18}, {\"state\": \"Louisiana\", \"drvr_fatl_col_bmiles\": 20.5, \"perc_fatl_speed\": 35, \"perc_fatl_alcohol\": 33, \"perc_fatl_1st_time\": 98, \"million_miles_annually\": 46513, \"target_var\": 953516.5, \"#speed\": 333730.775, \"#alchol\": 314660.445, \"#first\": 934446.17, \"id\": 19}, {\"state\": \"Maine\", \"drvr_fatl_col_bmiles\": 15.1, \"perc_fatl_speed\": 38, \"perc_fatl_alcohol\": 30, \"perc_fatl_1st_time\": 84, \"million_miles_annually\": 14248, \"target_var\": 215144.8, \"#speed\": 81755.02399999999, \"#alchol\": 64543.44, \"#first\": 180721.63199999998, \"id\": 20}, {\"state\": \"Maryland\", \"drvr_fatl_col_bmiles\": 12.5, \"perc_fatl_speed\": 34, \"perc_fatl_alcohol\": 32, \"perc_fatl_1st_time\": 99, \"million_miles_annually\": 56221, \"target_var\": 702762.5, \"#speed\": 238939.25, \"#alchol\": 224884.0, \"#first\": 695734.875, \"id\": 21}, {\"state\": \"Massachusetts\", \"drvr_fatl_col_bmiles\": 8.2, \"perc_fatl_speed\": 23, \"perc_fatl_alcohol\": 35, \"perc_fatl_1st_time\": 80, \"million_miles_annually\": 54792, \"target_var\": 449294.39999999997, \"#speed\": 103337.712, \"#alchol\": 157253.03999999998, \"#first\": 359435.52, \"id\": 22}, {\"state\": \"Michigan\", \"drvr_fatl_col_bmiles\": 14.1, \"perc_fatl_speed\": 24, \"perc_fatl_alcohol\": 28, \"perc_fatl_1st_time\": 77, \"million_miles_annually\": 94754, \"target_var\": 1336031.4, \"#speed\": 320647.53599999996, \"#alchol\": 374088.79199999996, \"#first\": 1028744.178, \"id\": 23}, {\"state\": \"Minnesota\", \"drvr_fatl_col_bmiles\": 9.6, \"perc_fatl_speed\": 23, \"perc_fatl_alcohol\": 29, \"perc_fatl_1st_time\": 88, \"million_miles_annually\": 56685, \"target_var\": 544176.0, \"#speed\": 125160.48, \"#alchol\": 157811.04, \"#first\": 478874.88, \"id\": 24}, {\"state\": \"Mississippi\", \"drvr_fatl_col_bmiles\": 17.6, \"perc_fatl_speed\": 15, \"perc_fatl_alcohol\": 31, \"perc_fatl_1st_time\": 100, \"million_miles_annually\": 38851, \"target_var\": 683777.6000000001, \"#speed\": 102566.64000000001, \"#alchol\": 211971.056, \"#first\": 683777.6000000001, \"id\": 25}, {\"state\": \"Missouri\", \"drvr_fatl_col_bmiles\": 16.1, \"perc_fatl_speed\": 43, \"perc_fatl_alcohol\": 34, \"perc_fatl_1st_time\": 84, \"million_miles_annually\": 68789, \"target_var\": 1107502.9000000001, \"#speed\": 476226.24700000003, \"#alchol\": 376550.98600000003, \"#first\": 930302.4360000001, \"id\": 26}, {\"state\": \"Montana\", \"drvr_fatl_col_bmiles\": 21.4, \"perc_fatl_speed\": 39, \"perc_fatl_alcohol\": 44, \"perc_fatl_1st_time\": 85, \"million_miles_annually\": 11660, \"target_var\": 249523.99999999997, \"#speed\": 97314.35999999999, \"#alchol\": 109790.55999999998, \"#first\": 212095.39999999997, \"id\": 27}, {\"state\": \"Nebraska\", \"drvr_fatl_col_bmiles\": 14.9, \"perc_fatl_speed\": 13, \"perc_fatl_alcohol\": 35, \"perc_fatl_1st_time\": 90, \"million_miles_annually\": 19093, \"target_var\": 284485.7, \"#speed\": 36983.141, \"#alchol\": 99569.995, \"#first\": 256037.13, \"id\": 28}, {\"state\": \"Nevada\", \"drvr_fatl_col_bmiles\": 14.7, \"perc_fatl_speed\": 37, \"perc_fatl_alcohol\": 32, \"perc_fatl_1st_time\": 99, \"million_miles_annually\": 24189, \"target_var\": 355578.3, \"#speed\": 131563.971, \"#alchol\": 113785.056, \"#first\": 352022.51699999993, \"id\": 29}, {\"state\": \"New Hampshire\", \"drvr_fatl_col_bmiles\": 11.6, \"perc_fatl_speed\": 35, \"perc_fatl_alcohol\": 30, \"perc_fatl_1st_time\": 83, \"million_miles_annually\": 12720, \"target_var\": 147552.0, \"#speed\": 51643.2, \"#alchol\": 44265.6, \"#first\": 122468.16, \"id\": 30}, {\"state\": \"New Jersey\", \"drvr_fatl_col_bmiles\": 11.2, \"perc_fatl_speed\": 16, \"perc_fatl_alcohol\": 28, \"perc_fatl_1st_time\": 78, \"million_miles_annually\": 73094, \"target_var\": 818652.7999999999, \"#speed\": 130984.44799999999, \"#alchol\": 229222.78399999999, \"#first\": 638549.1839999999, \"id\": 31}, {\"state\": \"New Mexico\", \"drvr_fatl_col_bmiles\": 18.4, \"perc_fatl_speed\": 19, \"perc_fatl_alcohol\": 27, \"perc_fatl_1st_time\": 98, \"million_miles_annually\": 25650, \"target_var\": 471959.99999999994, \"#speed\": 89672.39999999998, \"#alchol\": 127429.19999999998, \"#first\": 462520.79999999993, \"id\": 32}, {\"state\": \"New York\", \"drvr_fatl_col_bmiles\": 12.3, \"perc_fatl_speed\": 32, \"perc_fatl_alcohol\": 29, \"perc_fatl_1st_time\": 80, \"million_miles_annually\": 127726, \"target_var\": 1571029.8, \"#speed\": 502729.536, \"#alchol\": 455598.64200000005, \"#first\": 1256823.84, \"id\": 33}, {\"state\": \"North Carolina\", \"drvr_fatl_col_bmiles\": 16.8, \"perc_fatl_speed\": 39, \"perc_fatl_alcohol\": 31, \"perc_fatl_1st_time\": 81, \"million_miles_annually\": 103772, \"target_var\": 1743369.6, \"#speed\": 679914.1440000001, \"#alchol\": 540444.576, \"#first\": 1412129.376, \"id\": 34}, {\"state\": \"North Dakota\", \"drvr_fatl_col_bmiles\": 23.9, \"perc_fatl_speed\": 23, \"perc_fatl_alcohol\": 42, \"perc_fatl_1st_time\": 86, \"million_miles_annually\": 9131, \"target_var\": 218230.9, \"#speed\": 50193.107, \"#alchol\": 91656.97799999999, \"#first\": 187678.574, \"id\": 35}, {\"state\": \"Ohio\", \"drvr_fatl_col_bmiles\": 14.1, \"perc_fatl_speed\": 28, \"perc_fatl_alcohol\": 34, \"perc_fatl_1st_time\": 82, \"million_miles_annually\": 111990, \"target_var\": 1579059.0, \"#speed\": 442136.52, \"#alchol\": 536880.06, \"#first\": 1294828.38, \"id\": 36}, {\"state\": \"Oklahoma\", \"drvr_fatl_col_bmiles\": 19.9, \"perc_fatl_speed\": 32, \"perc_fatl_alcohol\": 29, \"perc_fatl_1st_time\": 94, \"million_miles_annually\": 47464, \"target_var\": 944533.6, \"#speed\": 302250.752, \"#alchol\": 273914.744, \"#first\": 887861.5839999999, \"id\": 37}, {\"state\": \"Oregon\", \"drvr_fatl_col_bmiles\": 12.8, \"perc_fatl_speed\": 33, \"perc_fatl_alcohol\": 26, \"perc_fatl_1st_time\": 90, \"million_miles_annually\": 33373, \"target_var\": 427174.4, \"#speed\": 140967.55200000003, \"#alchol\": 111065.344, \"#first\": 384456.96, \"id\": 38}, {\"state\": \"Pennsylvania\", \"drvr_fatl_col_bmiles\": 18.2, \"perc_fatl_speed\": 50, \"perc_fatl_alcohol\": 31, \"perc_fatl_1st_time\": 88, \"million_miles_annually\": 99204, \"target_var\": 1805512.7999999998, \"#speed\": 902756.3999999999, \"#alchol\": 559708.968, \"#first\": 1588851.2639999997, \"id\": 39}, {\"state\": \"Rhode Island\", \"drvr_fatl_col_bmiles\": 11.1, \"perc_fatl_speed\": 34, \"perc_fatl_alcohol\": 38, \"perc_fatl_1st_time\": 79, \"million_miles_annually\": 7901, \"target_var\": 87701.09999999999, \"#speed\": 29818.374, \"#alchol\": 33326.418, \"#first\": 69283.86899999999, \"id\": 40}, {\"state\": \"South Carolina\", \"drvr_fatl_col_bmiles\": 23.9, \"perc_fatl_speed\": 38, \"perc_fatl_alcohol\": 41, \"perc_fatl_1st_time\": 81, \"million_miles_annually\": 48730, \"target_var\": 1164647.0, \"#speed\": 442565.86, \"#alchol\": 477505.27, \"#first\": 943364.07, \"id\": 41}, {\"state\": \"South Dakota\", \"drvr_fatl_col_bmiles\": 19.4, \"perc_fatl_speed\": 31, \"perc_fatl_alcohol\": 33, \"perc_fatl_1st_time\": 86, \"million_miles_annually\": 9002, \"target_var\": 174638.8, \"#speed\": 54138.028, \"#alchol\": 57630.804, \"#first\": 150189.368, \"id\": 42}, {\"state\": \"Tennessee\", \"drvr_fatl_col_bmiles\": 19.5, \"perc_fatl_speed\": 21, \"perc_fatl_alcohol\": 29, \"perc_fatl_1st_time\": 81, \"million_miles_annually\": 70751, \"target_var\": 1379644.5, \"#speed\": 289725.345, \"#alchol\": 400096.905, \"#first\": 1117512.045, \"id\": 43}, {\"state\": \"Texas\", \"drvr_fatl_col_bmiles\": 19.4, \"perc_fatl_speed\": 40, \"perc_fatl_alcohol\": 38, \"perc_fatl_1st_time\": 87, \"million_miles_annually\": 237440, \"target_var\": 4606336.0, \"#speed\": 1842534.4, \"#alchol\": 1750407.68, \"#first\": 4007512.32, \"id\": 44}, {\"state\": \"Utah\", \"drvr_fatl_col_bmiles\": 11.3, \"perc_fatl_speed\": 43, \"perc_fatl_alcohol\": 16, \"perc_fatl_1st_time\": 96, \"million_miles_annually\": 26222, \"target_var\": 296308.60000000003, \"#speed\": 127412.698, \"#alchol\": 47409.376000000004, \"#first\": 284456.256, \"id\": 45}, {\"state\": \"Vermont\", \"drvr_fatl_col_bmiles\": 13.6, \"perc_fatl_speed\": 30, \"perc_fatl_alcohol\": 30, \"perc_fatl_1st_time\": 95, \"million_miles_annually\": 7141, \"target_var\": 97117.59999999999, \"#speed\": 29135.279999999995, \"#alchol\": 29135.279999999995, \"#first\": 92261.72, \"id\": 46}, {\"state\": \"Virginia\", \"drvr_fatl_col_bmiles\": 12.7, \"perc_fatl_speed\": 19, \"perc_fatl_alcohol\": 27, \"perc_fatl_1st_time\": 88, \"million_miles_annually\": 80974, \"target_var\": 1028369.7999999999, \"#speed\": 195390.262, \"#alchol\": 277659.84599999996, \"#first\": 904965.4239999999, \"id\": 47}, {\"state\": \"Washington\", \"drvr_fatl_col_bmiles\": 10.6, \"perc_fatl_speed\": 42, \"perc_fatl_alcohol\": 33, \"perc_fatl_1st_time\": 86, \"million_miles_annually\": 56955, \"target_var\": 603723.0, \"#speed\": 253563.66, \"#alchol\": 199228.59, \"#first\": 519201.78, \"id\": 48}, {\"state\": \"West Virginia\", \"drvr_fatl_col_bmiles\": 23.8, \"perc_fatl_speed\": 34, \"perc_fatl_alcohol\": 28, \"perc_fatl_1st_time\": 87, \"million_miles_annually\": 18963, \"target_var\": 451319.4, \"#speed\": 153448.59600000002, \"#alchol\": 126369.43200000002, \"#first\": 392647.878, \"id\": 49}, {\"state\": \"Wisconsin\", \"drvr_fatl_col_bmiles\": 13.8, \"perc_fatl_speed\": 36, \"perc_fatl_alcohol\": 33, \"perc_fatl_1st_time\": 84, \"million_miles_annually\": 58554, \"target_var\": 808045.2000000001, \"#speed\": 290896.27200000006, \"#alchol\": 266654.916, \"#first\": 678757.9680000001, \"id\": 50}, {\"state\": \"Wyoming\", \"drvr_fatl_col_bmiles\": 17.4, \"perc_fatl_speed\": 42, \"perc_fatl_alcohol\": 32, \"perc_fatl_1st_time\": 90, \"million_miles_annually\": 9245, \"target_var\": 160863.0, \"#speed\": 67562.46, \"#alchol\": 51476.16, \"#first\": 144776.7, \"id\": 51}]}}, {\"mode\": \"vega-lite\"});\n",
              "</script>"
            ]
          },
          "metadata": {
            "tags": []
          },
          "execution_count": 13
        }
      ]
    },
    {
      "cell_type": "code",
      "metadata": {
        "id": "l5lNBLYW1vDX",
        "colab_type": "code",
        "colab": {
          "base_uri": "https://localhost:8080/",
          "height": 331
        },
        "outputId": "7126d2de-35fe-46c4-e828-522e1cc2b229"
      },
      "source": [
        "states = alt.topo_feature(data.us_10m.url, 'states')\n",
        "variable_list = ['perc_fatl_speed', 'perc_fatl_alcohol', 'perc_fatl_1st_time']\n",
        "chart2 = alt.Chart(states).mark_geoshape().encode(\n",
        "    color='perc_fatl_alcohol:Q'\n",
        ").transform_lookup(\n",
        "    lookup='id',\n",
        "    from_=alt.LookupData(all_data, key = 'id', fields = ['perc_fatl_alcohol'])\n",
        ").properties(\n",
        "    width=500,\n",
        "    height=300\n",
        ").project(\n",
        "    type='albersUsa'\n",
        ")\n",
        "chart2"
      ],
      "execution_count": 15,
      "outputs": [
        {
          "output_type": "execute_result",
          "data": {
            "text/plain": [
              "alt.Chart(...)"
            ],
            "text/html": [
              "\n",
              "<div id=\"altair-viz-fc73e5595ab74ad78f2f1cea2ebb5290\"></div>\n",
              "<script type=\"text/javascript\">\n",
              "  (function(spec, embedOpt){\n",
              "    let outputDiv = document.currentScript.previousElementSibling;\n",
              "    if (outputDiv.id !== \"altair-viz-fc73e5595ab74ad78f2f1cea2ebb5290\") {\n",
              "      outputDiv = document.getElementById(\"altair-viz-fc73e5595ab74ad78f2f1cea2ebb5290\");\n",
              "    }\n",
              "    const paths = {\n",
              "      \"vega\": \"https://cdn.jsdelivr.net/npm//vega@5?noext\",\n",
              "      \"vega-lib\": \"https://cdn.jsdelivr.net/npm//vega-lib?noext\",\n",
              "      \"vega-lite\": \"https://cdn.jsdelivr.net/npm//vega-lite@4.8.1?noext\",\n",
              "      \"vega-embed\": \"https://cdn.jsdelivr.net/npm//vega-embed@6?noext\",\n",
              "    };\n",
              "\n",
              "    function loadScript(lib) {\n",
              "      return new Promise(function(resolve, reject) {\n",
              "        var s = document.createElement('script');\n",
              "        s.src = paths[lib];\n",
              "        s.async = true;\n",
              "        s.onload = () => resolve(paths[lib]);\n",
              "        s.onerror = () => reject(`Error loading script: ${paths[lib]}`);\n",
              "        document.getElementsByTagName(\"head\")[0].appendChild(s);\n",
              "      });\n",
              "    }\n",
              "\n",
              "    function showError(err) {\n",
              "      outputDiv.innerHTML = `<div class=\"error\" style=\"color:red;\">${err}</div>`;\n",
              "      throw err;\n",
              "    }\n",
              "\n",
              "    function displayChart(vegaEmbed) {\n",
              "      vegaEmbed(outputDiv, spec, embedOpt)\n",
              "        .catch(err => showError(`Javascript Error: ${err.message}<br>This usually means there's a typo in your chart specification. See the javascript console for the full traceback.`));\n",
              "    }\n",
              "\n",
              "    if(typeof define === \"function\" && define.amd) {\n",
              "      requirejs.config({paths});\n",
              "      require([\"vega-embed\"], displayChart, err => showError(`Error loading script: ${err.message}`));\n",
              "    } else if (typeof vegaEmbed === \"function\") {\n",
              "      displayChart(vegaEmbed);\n",
              "    } else {\n",
              "      loadScript(\"vega\")\n",
              "        .then(() => loadScript(\"vega-lite\"))\n",
              "        .then(() => loadScript(\"vega-embed\"))\n",
              "        .catch(showError)\n",
              "        .then(() => displayChart(vegaEmbed));\n",
              "    }\n",
              "  })({\"config\": {\"view\": {\"continuousWidth\": 400, \"continuousHeight\": 300}}, \"data\": {\"url\": \"https://vega.github.io/vega-datasets/data/us-10m.json\", \"format\": {\"feature\": \"states\", \"type\": \"topojson\"}}, \"mark\": \"geoshape\", \"encoding\": {\"color\": {\"type\": \"quantitative\", \"field\": \"perc_fatl_alcohol\"}}, \"height\": 300, \"projection\": {\"type\": \"albersUsa\"}, \"transform\": [{\"lookup\": \"id\", \"from\": {\"data\": {\"name\": \"data-0449c7d64d64f832b8d653007c507f69\"}, \"key\": \"id\", \"fields\": [\"perc_fatl_alcohol\"]}}], \"width\": 500, \"$schema\": \"https://vega.github.io/schema/vega-lite/v4.8.1.json\", \"datasets\": {\"data-0449c7d64d64f832b8d653007c507f69\": [{\"state\": \"Alabama\", \"drvr_fatl_col_bmiles\": 18.8, \"perc_fatl_speed\": 39, \"perc_fatl_alcohol\": 30, \"perc_fatl_1st_time\": 80, \"million_miles_annually\": 64914, \"target_var\": 1220383.2, \"#speed\": 475949.448, \"#alchol\": 366114.96, \"#first\": 976306.56, \"id\": 1}, {\"state\": \"Alaska\", \"drvr_fatl_col_bmiles\": 18.1, \"perc_fatl_speed\": 41, \"perc_fatl_alcohol\": 25, \"perc_fatl_1st_time\": 94, \"million_miles_annually\": 4593, \"target_var\": 83133.3, \"#speed\": 34084.653000000006, \"#alchol\": 20783.325, \"#first\": 78145.302, \"id\": 2}, {\"state\": \"Arizona\", \"drvr_fatl_col_bmiles\": 18.6, \"perc_fatl_speed\": 35, \"perc_fatl_alcohol\": 28, \"perc_fatl_1st_time\": 96, \"million_miles_annually\": 59575, \"target_var\": 1108095.0, \"#speed\": 387833.25, \"#alchol\": 310266.6, \"#first\": 1063771.2, \"id\": 3}, {\"state\": \"Arkansas\", \"drvr_fatl_col_bmiles\": 22.4, \"perc_fatl_speed\": 18, \"perc_fatl_alcohol\": 26, \"perc_fatl_1st_time\": 95, \"million_miles_annually\": 32953, \"target_var\": 738147.2, \"#speed\": 132866.49599999998, \"#alchol\": 191918.272, \"#first\": 701239.84, \"id\": 4}, {\"state\": \"California\", \"drvr_fatl_col_bmiles\": 12.0, \"perc_fatl_speed\": 35, \"perc_fatl_alcohol\": 28, \"perc_fatl_1st_time\": 89, \"million_miles_annually\": 320784, \"target_var\": 3849408.0, \"#speed\": 1347292.8, \"#alchol\": 1077834.24, \"#first\": 3425973.12, \"id\": 5}, {\"state\": \"Colorado\", \"drvr_fatl_col_bmiles\": 13.6, \"perc_fatl_speed\": 37, \"perc_fatl_alcohol\": 28, \"perc_fatl_1st_time\": 95, \"million_miles_annually\": 46606, \"target_var\": 633841.6, \"#speed\": 234521.392, \"#alchol\": 177475.64800000002, \"#first\": 602149.52, \"id\": 6}, {\"state\": \"Connecticut\", \"drvr_fatl_col_bmiles\": 10.8, \"perc_fatl_speed\": 46, \"perc_fatl_alcohol\": 36, \"perc_fatl_1st_time\": 82, \"million_miles_annually\": 31197, \"target_var\": 336927.60000000003, \"#speed\": 154986.69600000003, \"#alchol\": 121293.93600000002, \"#first\": 276280.63200000004, \"id\": 7}, {\"state\": \"Delaware\", \"drvr_fatl_col_bmiles\": 16.2, \"perc_fatl_speed\": 38, \"perc_fatl_alcohol\": 30, \"perc_fatl_1st_time\": 99, \"million_miles_annually\": 9028, \"target_var\": 146253.6, \"#speed\": 55576.367999999995, \"#alchol\": 43876.08, \"#first\": 144791.064, \"id\": 8}, {\"state\": \"District of Columbia\", \"drvr_fatl_col_bmiles\": 5.9, \"perc_fatl_speed\": 34, \"perc_fatl_alcohol\": 27, \"perc_fatl_1st_time\": 100, \"million_miles_annually\": 3568, \"target_var\": 21051.2, \"#speed\": 7157.408, \"#alchol\": 5683.8240000000005, \"#first\": 21051.2, \"id\": 9}, {\"state\": \"Florida\", \"drvr_fatl_col_bmiles\": 17.9, \"perc_fatl_speed\": 21, \"perc_fatl_alcohol\": 29, \"perc_fatl_1st_time\": 94, \"million_miles_annually\": 191855, \"target_var\": 3434204.4999999995, \"#speed\": 721182.9449999998, \"#alchol\": 995919.3049999998, \"#first\": 3228152.2299999995, \"id\": 10}, {\"state\": \"Georgia\", \"drvr_fatl_col_bmiles\": 15.6, \"perc_fatl_speed\": 19, \"perc_fatl_alcohol\": 25, \"perc_fatl_1st_time\": 93, \"million_miles_annually\": 108454, \"target_var\": 1691882.4, \"#speed\": 321457.65599999996, \"#alchol\": 422970.6, \"#first\": 1573450.632, \"id\": 11}, {\"state\": \"Hawaii\", \"drvr_fatl_col_bmiles\": 17.5, \"perc_fatl_speed\": 54, \"perc_fatl_alcohol\": 41, \"perc_fatl_1st_time\": 87, \"million_miles_annually\": 10066, \"target_var\": 176155.0, \"#speed\": 95123.7, \"#alchol\": 72223.55, \"#first\": 153254.85, \"id\": 12}, {\"state\": \"Idaho\", \"drvr_fatl_col_bmiles\": 15.3, \"perc_fatl_speed\": 36, \"perc_fatl_alcohol\": 29, \"perc_fatl_1st_time\": 98, \"million_miles_annually\": 15937, \"target_var\": 243836.1, \"#speed\": 87780.996, \"#alchol\": 70712.469, \"#first\": 238959.378, \"id\": 13}, {\"state\": \"Illinois\", \"drvr_fatl_col_bmiles\": 12.8, \"perc_fatl_speed\": 36, \"perc_fatl_alcohol\": 34, \"perc_fatl_1st_time\": 96, \"million_miles_annually\": 103234, \"target_var\": 1321395.2000000002, \"#speed\": 475702.27200000006, \"#alchol\": 449274.368, \"#first\": 1268539.3920000002, \"id\": 14}, {\"state\": \"Indiana\", \"drvr_fatl_col_bmiles\": 14.5, \"perc_fatl_speed\": 25, \"perc_fatl_alcohol\": 29, \"perc_fatl_1st_time\": 95, \"million_miles_annually\": 76485, \"target_var\": 1109032.5, \"#speed\": 277258.125, \"#alchol\": 321619.425, \"#first\": 1053580.875, \"id\": 15}, {\"state\": \"Iowa\", \"drvr_fatl_col_bmiles\": 15.7, \"perc_fatl_speed\": 17, \"perc_fatl_alcohol\": 25, \"perc_fatl_1st_time\": 87, \"million_miles_annually\": 31274, \"target_var\": 491001.8, \"#speed\": 83470.306, \"#alchol\": 122750.45, \"#first\": 427171.566, \"id\": 16}, {\"state\": \"Kansas\", \"drvr_fatl_col_bmiles\": 17.8, \"perc_fatl_speed\": 27, \"perc_fatl_alcohol\": 24, \"perc_fatl_1st_time\": 85, \"million_miles_annually\": 30021, \"target_var\": 534373.8, \"#speed\": 144280.926, \"#alchol\": 128249.71200000001, \"#first\": 454217.7300000001, \"id\": 17}, {\"state\": \"Kentucky\", \"drvr_fatl_col_bmiles\": 21.4, \"perc_fatl_speed\": 19, \"perc_fatl_alcohol\": 23, \"perc_fatl_1st_time\": 76, \"million_miles_annually\": 48061, \"target_var\": 1028505.3999999999, \"#speed\": 195416.02599999998, \"#alchol\": 236556.242, \"#first\": 781664.1039999999, \"id\": 18}, {\"state\": \"Louisiana\", \"drvr_fatl_col_bmiles\": 20.5, \"perc_fatl_speed\": 35, \"perc_fatl_alcohol\": 33, \"perc_fatl_1st_time\": 98, \"million_miles_annually\": 46513, \"target_var\": 953516.5, \"#speed\": 333730.775, \"#alchol\": 314660.445, \"#first\": 934446.17, \"id\": 19}, {\"state\": \"Maine\", \"drvr_fatl_col_bmiles\": 15.1, \"perc_fatl_speed\": 38, \"perc_fatl_alcohol\": 30, \"perc_fatl_1st_time\": 84, \"million_miles_annually\": 14248, \"target_var\": 215144.8, \"#speed\": 81755.02399999999, \"#alchol\": 64543.44, \"#first\": 180721.63199999998, \"id\": 20}, {\"state\": \"Maryland\", \"drvr_fatl_col_bmiles\": 12.5, \"perc_fatl_speed\": 34, \"perc_fatl_alcohol\": 32, \"perc_fatl_1st_time\": 99, \"million_miles_annually\": 56221, \"target_var\": 702762.5, \"#speed\": 238939.25, \"#alchol\": 224884.0, \"#first\": 695734.875, \"id\": 21}, {\"state\": \"Massachusetts\", \"drvr_fatl_col_bmiles\": 8.2, \"perc_fatl_speed\": 23, \"perc_fatl_alcohol\": 35, \"perc_fatl_1st_time\": 80, \"million_miles_annually\": 54792, \"target_var\": 449294.39999999997, \"#speed\": 103337.712, \"#alchol\": 157253.03999999998, \"#first\": 359435.52, \"id\": 22}, {\"state\": \"Michigan\", \"drvr_fatl_col_bmiles\": 14.1, \"perc_fatl_speed\": 24, \"perc_fatl_alcohol\": 28, \"perc_fatl_1st_time\": 77, \"million_miles_annually\": 94754, \"target_var\": 1336031.4, \"#speed\": 320647.53599999996, \"#alchol\": 374088.79199999996, \"#first\": 1028744.178, \"id\": 23}, {\"state\": \"Minnesota\", \"drvr_fatl_col_bmiles\": 9.6, \"perc_fatl_speed\": 23, \"perc_fatl_alcohol\": 29, \"perc_fatl_1st_time\": 88, \"million_miles_annually\": 56685, \"target_var\": 544176.0, \"#speed\": 125160.48, \"#alchol\": 157811.04, \"#first\": 478874.88, \"id\": 24}, {\"state\": \"Mississippi\", \"drvr_fatl_col_bmiles\": 17.6, \"perc_fatl_speed\": 15, \"perc_fatl_alcohol\": 31, \"perc_fatl_1st_time\": 100, \"million_miles_annually\": 38851, \"target_var\": 683777.6000000001, \"#speed\": 102566.64000000001, \"#alchol\": 211971.056, \"#first\": 683777.6000000001, \"id\": 25}, {\"state\": \"Missouri\", \"drvr_fatl_col_bmiles\": 16.1, \"perc_fatl_speed\": 43, \"perc_fatl_alcohol\": 34, \"perc_fatl_1st_time\": 84, \"million_miles_annually\": 68789, \"target_var\": 1107502.9000000001, \"#speed\": 476226.24700000003, \"#alchol\": 376550.98600000003, \"#first\": 930302.4360000001, \"id\": 26}, {\"state\": \"Montana\", \"drvr_fatl_col_bmiles\": 21.4, \"perc_fatl_speed\": 39, \"perc_fatl_alcohol\": 44, \"perc_fatl_1st_time\": 85, \"million_miles_annually\": 11660, \"target_var\": 249523.99999999997, \"#speed\": 97314.35999999999, \"#alchol\": 109790.55999999998, \"#first\": 212095.39999999997, \"id\": 27}, {\"state\": \"Nebraska\", \"drvr_fatl_col_bmiles\": 14.9, \"perc_fatl_speed\": 13, \"perc_fatl_alcohol\": 35, \"perc_fatl_1st_time\": 90, \"million_miles_annually\": 19093, \"target_var\": 284485.7, \"#speed\": 36983.141, \"#alchol\": 99569.995, \"#first\": 256037.13, \"id\": 28}, {\"state\": \"Nevada\", \"drvr_fatl_col_bmiles\": 14.7, \"perc_fatl_speed\": 37, \"perc_fatl_alcohol\": 32, \"perc_fatl_1st_time\": 99, \"million_miles_annually\": 24189, \"target_var\": 355578.3, \"#speed\": 131563.971, \"#alchol\": 113785.056, \"#first\": 352022.51699999993, \"id\": 29}, {\"state\": \"New Hampshire\", \"drvr_fatl_col_bmiles\": 11.6, \"perc_fatl_speed\": 35, \"perc_fatl_alcohol\": 30, \"perc_fatl_1st_time\": 83, \"million_miles_annually\": 12720, \"target_var\": 147552.0, \"#speed\": 51643.2, \"#alchol\": 44265.6, \"#first\": 122468.16, \"id\": 30}, {\"state\": \"New Jersey\", \"drvr_fatl_col_bmiles\": 11.2, \"perc_fatl_speed\": 16, \"perc_fatl_alcohol\": 28, \"perc_fatl_1st_time\": 78, \"million_miles_annually\": 73094, \"target_var\": 818652.7999999999, \"#speed\": 130984.44799999999, \"#alchol\": 229222.78399999999, \"#first\": 638549.1839999999, \"id\": 31}, {\"state\": \"New Mexico\", \"drvr_fatl_col_bmiles\": 18.4, \"perc_fatl_speed\": 19, \"perc_fatl_alcohol\": 27, \"perc_fatl_1st_time\": 98, \"million_miles_annually\": 25650, \"target_var\": 471959.99999999994, \"#speed\": 89672.39999999998, \"#alchol\": 127429.19999999998, \"#first\": 462520.79999999993, \"id\": 32}, {\"state\": \"New York\", \"drvr_fatl_col_bmiles\": 12.3, \"perc_fatl_speed\": 32, \"perc_fatl_alcohol\": 29, \"perc_fatl_1st_time\": 80, \"million_miles_annually\": 127726, \"target_var\": 1571029.8, \"#speed\": 502729.536, \"#alchol\": 455598.64200000005, \"#first\": 1256823.84, \"id\": 33}, {\"state\": \"North Carolina\", \"drvr_fatl_col_bmiles\": 16.8, \"perc_fatl_speed\": 39, \"perc_fatl_alcohol\": 31, \"perc_fatl_1st_time\": 81, \"million_miles_annually\": 103772, \"target_var\": 1743369.6, \"#speed\": 679914.1440000001, \"#alchol\": 540444.576, \"#first\": 1412129.376, \"id\": 34}, {\"state\": \"North Dakota\", \"drvr_fatl_col_bmiles\": 23.9, \"perc_fatl_speed\": 23, \"perc_fatl_alcohol\": 42, \"perc_fatl_1st_time\": 86, \"million_miles_annually\": 9131, \"target_var\": 218230.9, \"#speed\": 50193.107, \"#alchol\": 91656.97799999999, \"#first\": 187678.574, \"id\": 35}, {\"state\": \"Ohio\", \"drvr_fatl_col_bmiles\": 14.1, \"perc_fatl_speed\": 28, \"perc_fatl_alcohol\": 34, \"perc_fatl_1st_time\": 82, \"million_miles_annually\": 111990, \"target_var\": 1579059.0, \"#speed\": 442136.52, \"#alchol\": 536880.06, \"#first\": 1294828.38, \"id\": 36}, {\"state\": \"Oklahoma\", \"drvr_fatl_col_bmiles\": 19.9, \"perc_fatl_speed\": 32, \"perc_fatl_alcohol\": 29, \"perc_fatl_1st_time\": 94, \"million_miles_annually\": 47464, \"target_var\": 944533.6, \"#speed\": 302250.752, \"#alchol\": 273914.744, \"#first\": 887861.5839999999, \"id\": 37}, {\"state\": \"Oregon\", \"drvr_fatl_col_bmiles\": 12.8, \"perc_fatl_speed\": 33, \"perc_fatl_alcohol\": 26, \"perc_fatl_1st_time\": 90, \"million_miles_annually\": 33373, \"target_var\": 427174.4, \"#speed\": 140967.55200000003, \"#alchol\": 111065.344, \"#first\": 384456.96, \"id\": 38}, {\"state\": \"Pennsylvania\", \"drvr_fatl_col_bmiles\": 18.2, \"perc_fatl_speed\": 50, \"perc_fatl_alcohol\": 31, \"perc_fatl_1st_time\": 88, \"million_miles_annually\": 99204, \"target_var\": 1805512.7999999998, \"#speed\": 902756.3999999999, \"#alchol\": 559708.968, \"#first\": 1588851.2639999997, \"id\": 39}, {\"state\": \"Rhode Island\", \"drvr_fatl_col_bmiles\": 11.1, \"perc_fatl_speed\": 34, \"perc_fatl_alcohol\": 38, \"perc_fatl_1st_time\": 79, \"million_miles_annually\": 7901, \"target_var\": 87701.09999999999, \"#speed\": 29818.374, \"#alchol\": 33326.418, \"#first\": 69283.86899999999, \"id\": 40}, {\"state\": \"South Carolina\", \"drvr_fatl_col_bmiles\": 23.9, \"perc_fatl_speed\": 38, \"perc_fatl_alcohol\": 41, \"perc_fatl_1st_time\": 81, \"million_miles_annually\": 48730, \"target_var\": 1164647.0, \"#speed\": 442565.86, \"#alchol\": 477505.27, \"#first\": 943364.07, \"id\": 41}, {\"state\": \"South Dakota\", \"drvr_fatl_col_bmiles\": 19.4, \"perc_fatl_speed\": 31, \"perc_fatl_alcohol\": 33, \"perc_fatl_1st_time\": 86, \"million_miles_annually\": 9002, \"target_var\": 174638.8, \"#speed\": 54138.028, \"#alchol\": 57630.804, \"#first\": 150189.368, \"id\": 42}, {\"state\": \"Tennessee\", \"drvr_fatl_col_bmiles\": 19.5, \"perc_fatl_speed\": 21, \"perc_fatl_alcohol\": 29, \"perc_fatl_1st_time\": 81, \"million_miles_annually\": 70751, \"target_var\": 1379644.5, \"#speed\": 289725.345, \"#alchol\": 400096.905, \"#first\": 1117512.045, \"id\": 43}, {\"state\": \"Texas\", \"drvr_fatl_col_bmiles\": 19.4, \"perc_fatl_speed\": 40, \"perc_fatl_alcohol\": 38, \"perc_fatl_1st_time\": 87, \"million_miles_annually\": 237440, \"target_var\": 4606336.0, \"#speed\": 1842534.4, \"#alchol\": 1750407.68, \"#first\": 4007512.32, \"id\": 44}, {\"state\": \"Utah\", \"drvr_fatl_col_bmiles\": 11.3, \"perc_fatl_speed\": 43, \"perc_fatl_alcohol\": 16, \"perc_fatl_1st_time\": 96, \"million_miles_annually\": 26222, \"target_var\": 296308.60000000003, \"#speed\": 127412.698, \"#alchol\": 47409.376000000004, \"#first\": 284456.256, \"id\": 45}, {\"state\": \"Vermont\", \"drvr_fatl_col_bmiles\": 13.6, \"perc_fatl_speed\": 30, \"perc_fatl_alcohol\": 30, \"perc_fatl_1st_time\": 95, \"million_miles_annually\": 7141, \"target_var\": 97117.59999999999, \"#speed\": 29135.279999999995, \"#alchol\": 29135.279999999995, \"#first\": 92261.72, \"id\": 46}, {\"state\": \"Virginia\", \"drvr_fatl_col_bmiles\": 12.7, \"perc_fatl_speed\": 19, \"perc_fatl_alcohol\": 27, \"perc_fatl_1st_time\": 88, \"million_miles_annually\": 80974, \"target_var\": 1028369.7999999999, \"#speed\": 195390.262, \"#alchol\": 277659.84599999996, \"#first\": 904965.4239999999, \"id\": 47}, {\"state\": \"Washington\", \"drvr_fatl_col_bmiles\": 10.6, \"perc_fatl_speed\": 42, \"perc_fatl_alcohol\": 33, \"perc_fatl_1st_time\": 86, \"million_miles_annually\": 56955, \"target_var\": 603723.0, \"#speed\": 253563.66, \"#alchol\": 199228.59, \"#first\": 519201.78, \"id\": 48}, {\"state\": \"West Virginia\", \"drvr_fatl_col_bmiles\": 23.8, \"perc_fatl_speed\": 34, \"perc_fatl_alcohol\": 28, \"perc_fatl_1st_time\": 87, \"million_miles_annually\": 18963, \"target_var\": 451319.4, \"#speed\": 153448.59600000002, \"#alchol\": 126369.43200000002, \"#first\": 392647.878, \"id\": 49}, {\"state\": \"Wisconsin\", \"drvr_fatl_col_bmiles\": 13.8, \"perc_fatl_speed\": 36, \"perc_fatl_alcohol\": 33, \"perc_fatl_1st_time\": 84, \"million_miles_annually\": 58554, \"target_var\": 808045.2000000001, \"#speed\": 290896.27200000006, \"#alchol\": 266654.916, \"#first\": 678757.9680000001, \"id\": 50}, {\"state\": \"Wyoming\", \"drvr_fatl_col_bmiles\": 17.4, \"perc_fatl_speed\": 42, \"perc_fatl_alcohol\": 32, \"perc_fatl_1st_time\": 90, \"million_miles_annually\": 9245, \"target_var\": 160863.0, \"#speed\": 67562.46, \"#alchol\": 51476.16, \"#first\": 144776.7, \"id\": 51}]}}, {\"mode\": \"vega-lite\"});\n",
              "</script>"
            ]
          },
          "metadata": {
            "tags": []
          },
          "execution_count": 15
        }
      ]
    },
    {
      "cell_type": "code",
      "metadata": {
        "id": "hPd-clMR28Iz",
        "colab_type": "code",
        "colab": {
          "base_uri": "https://localhost:8080/",
          "height": 331
        },
        "outputId": "612f2a56-0a22-4831-bf1b-9e33886880b2"
      },
      "source": [
        "states = alt.topo_feature(data.us_10m.url, 'states')\n",
        "variable_list = ['perc_fatl_speed', 'perc_fatl_alcohol', 'perc_fatl_1st_time']\n",
        "alt.Chart(states).mark_geoshape().encode(\n",
        "    color='perc_fatl_1st_time:Q'\n",
        ").transform_lookup(\n",
        "    lookup='id',\n",
        "    from_=alt.LookupData(all_data, key = 'id', fields = ['perc_fatl_1st_time'])\n",
        ").properties(\n",
        "    width=500,\n",
        "    height=300\n",
        ").project(\n",
        "    type='albersUsa'\n",
        ")"
      ],
      "execution_count": 16,
      "outputs": [
        {
          "output_type": "execute_result",
          "data": {
            "text/plain": [
              "alt.Chart(...)"
            ],
            "text/html": [
              "\n",
              "<div id=\"altair-viz-f511f036a4b44556b75487a091696763\"></div>\n",
              "<script type=\"text/javascript\">\n",
              "  (function(spec, embedOpt){\n",
              "    let outputDiv = document.currentScript.previousElementSibling;\n",
              "    if (outputDiv.id !== \"altair-viz-f511f036a4b44556b75487a091696763\") {\n",
              "      outputDiv = document.getElementById(\"altair-viz-f511f036a4b44556b75487a091696763\");\n",
              "    }\n",
              "    const paths = {\n",
              "      \"vega\": \"https://cdn.jsdelivr.net/npm//vega@5?noext\",\n",
              "      \"vega-lib\": \"https://cdn.jsdelivr.net/npm//vega-lib?noext\",\n",
              "      \"vega-lite\": \"https://cdn.jsdelivr.net/npm//vega-lite@4.8.1?noext\",\n",
              "      \"vega-embed\": \"https://cdn.jsdelivr.net/npm//vega-embed@6?noext\",\n",
              "    };\n",
              "\n",
              "    function loadScript(lib) {\n",
              "      return new Promise(function(resolve, reject) {\n",
              "        var s = document.createElement('script');\n",
              "        s.src = paths[lib];\n",
              "        s.async = true;\n",
              "        s.onload = () => resolve(paths[lib]);\n",
              "        s.onerror = () => reject(`Error loading script: ${paths[lib]}`);\n",
              "        document.getElementsByTagName(\"head\")[0].appendChild(s);\n",
              "      });\n",
              "    }\n",
              "\n",
              "    function showError(err) {\n",
              "      outputDiv.innerHTML = `<div class=\"error\" style=\"color:red;\">${err}</div>`;\n",
              "      throw err;\n",
              "    }\n",
              "\n",
              "    function displayChart(vegaEmbed) {\n",
              "      vegaEmbed(outputDiv, spec, embedOpt)\n",
              "        .catch(err => showError(`Javascript Error: ${err.message}<br>This usually means there's a typo in your chart specification. See the javascript console for the full traceback.`));\n",
              "    }\n",
              "\n",
              "    if(typeof define === \"function\" && define.amd) {\n",
              "      requirejs.config({paths});\n",
              "      require([\"vega-embed\"], displayChart, err => showError(`Error loading script: ${err.message}`));\n",
              "    } else if (typeof vegaEmbed === \"function\") {\n",
              "      displayChart(vegaEmbed);\n",
              "    } else {\n",
              "      loadScript(\"vega\")\n",
              "        .then(() => loadScript(\"vega-lite\"))\n",
              "        .then(() => loadScript(\"vega-embed\"))\n",
              "        .catch(showError)\n",
              "        .then(() => displayChart(vegaEmbed));\n",
              "    }\n",
              "  })({\"config\": {\"view\": {\"continuousWidth\": 400, \"continuousHeight\": 300}}, \"data\": {\"url\": \"https://vega.github.io/vega-datasets/data/us-10m.json\", \"format\": {\"feature\": \"states\", \"type\": \"topojson\"}}, \"mark\": \"geoshape\", \"encoding\": {\"color\": {\"type\": \"quantitative\", \"field\": \"perc_fatl_1st_time\"}}, \"height\": 300, \"projection\": {\"type\": \"albersUsa\"}, \"transform\": [{\"lookup\": \"id\", \"from\": {\"data\": {\"name\": \"data-0449c7d64d64f832b8d653007c507f69\"}, \"key\": \"id\", \"fields\": [\"perc_fatl_1st_time\"]}}], \"width\": 500, \"$schema\": \"https://vega.github.io/schema/vega-lite/v4.8.1.json\", \"datasets\": {\"data-0449c7d64d64f832b8d653007c507f69\": [{\"state\": \"Alabama\", \"drvr_fatl_col_bmiles\": 18.8, \"perc_fatl_speed\": 39, \"perc_fatl_alcohol\": 30, \"perc_fatl_1st_time\": 80, \"million_miles_annually\": 64914, \"target_var\": 1220383.2, \"#speed\": 475949.448, \"#alchol\": 366114.96, \"#first\": 976306.56, \"id\": 1}, {\"state\": \"Alaska\", \"drvr_fatl_col_bmiles\": 18.1, \"perc_fatl_speed\": 41, \"perc_fatl_alcohol\": 25, \"perc_fatl_1st_time\": 94, \"million_miles_annually\": 4593, \"target_var\": 83133.3, \"#speed\": 34084.653000000006, \"#alchol\": 20783.325, \"#first\": 78145.302, \"id\": 2}, {\"state\": \"Arizona\", \"drvr_fatl_col_bmiles\": 18.6, \"perc_fatl_speed\": 35, \"perc_fatl_alcohol\": 28, \"perc_fatl_1st_time\": 96, \"million_miles_annually\": 59575, \"target_var\": 1108095.0, \"#speed\": 387833.25, \"#alchol\": 310266.6, \"#first\": 1063771.2, \"id\": 3}, {\"state\": \"Arkansas\", \"drvr_fatl_col_bmiles\": 22.4, \"perc_fatl_speed\": 18, \"perc_fatl_alcohol\": 26, \"perc_fatl_1st_time\": 95, \"million_miles_annually\": 32953, \"target_var\": 738147.2, \"#speed\": 132866.49599999998, \"#alchol\": 191918.272, \"#first\": 701239.84, \"id\": 4}, {\"state\": \"California\", \"drvr_fatl_col_bmiles\": 12.0, \"perc_fatl_speed\": 35, \"perc_fatl_alcohol\": 28, \"perc_fatl_1st_time\": 89, \"million_miles_annually\": 320784, \"target_var\": 3849408.0, \"#speed\": 1347292.8, \"#alchol\": 1077834.24, \"#first\": 3425973.12, \"id\": 5}, {\"state\": \"Colorado\", \"drvr_fatl_col_bmiles\": 13.6, \"perc_fatl_speed\": 37, \"perc_fatl_alcohol\": 28, \"perc_fatl_1st_time\": 95, \"million_miles_annually\": 46606, \"target_var\": 633841.6, \"#speed\": 234521.392, \"#alchol\": 177475.64800000002, \"#first\": 602149.52, \"id\": 6}, {\"state\": \"Connecticut\", \"drvr_fatl_col_bmiles\": 10.8, \"perc_fatl_speed\": 46, \"perc_fatl_alcohol\": 36, \"perc_fatl_1st_time\": 82, \"million_miles_annually\": 31197, \"target_var\": 336927.60000000003, \"#speed\": 154986.69600000003, \"#alchol\": 121293.93600000002, \"#first\": 276280.63200000004, \"id\": 7}, {\"state\": \"Delaware\", \"drvr_fatl_col_bmiles\": 16.2, \"perc_fatl_speed\": 38, \"perc_fatl_alcohol\": 30, \"perc_fatl_1st_time\": 99, \"million_miles_annually\": 9028, \"target_var\": 146253.6, \"#speed\": 55576.367999999995, \"#alchol\": 43876.08, \"#first\": 144791.064, \"id\": 8}, {\"state\": \"District of Columbia\", \"drvr_fatl_col_bmiles\": 5.9, \"perc_fatl_speed\": 34, \"perc_fatl_alcohol\": 27, \"perc_fatl_1st_time\": 100, \"million_miles_annually\": 3568, \"target_var\": 21051.2, \"#speed\": 7157.408, \"#alchol\": 5683.8240000000005, \"#first\": 21051.2, \"id\": 9}, {\"state\": \"Florida\", \"drvr_fatl_col_bmiles\": 17.9, \"perc_fatl_speed\": 21, \"perc_fatl_alcohol\": 29, \"perc_fatl_1st_time\": 94, \"million_miles_annually\": 191855, \"target_var\": 3434204.4999999995, \"#speed\": 721182.9449999998, \"#alchol\": 995919.3049999998, \"#first\": 3228152.2299999995, \"id\": 10}, {\"state\": \"Georgia\", \"drvr_fatl_col_bmiles\": 15.6, \"perc_fatl_speed\": 19, \"perc_fatl_alcohol\": 25, \"perc_fatl_1st_time\": 93, \"million_miles_annually\": 108454, \"target_var\": 1691882.4, \"#speed\": 321457.65599999996, \"#alchol\": 422970.6, \"#first\": 1573450.632, \"id\": 11}, {\"state\": \"Hawaii\", \"drvr_fatl_col_bmiles\": 17.5, \"perc_fatl_speed\": 54, \"perc_fatl_alcohol\": 41, \"perc_fatl_1st_time\": 87, \"million_miles_annually\": 10066, \"target_var\": 176155.0, \"#speed\": 95123.7, \"#alchol\": 72223.55, \"#first\": 153254.85, \"id\": 12}, {\"state\": \"Idaho\", \"drvr_fatl_col_bmiles\": 15.3, \"perc_fatl_speed\": 36, \"perc_fatl_alcohol\": 29, \"perc_fatl_1st_time\": 98, \"million_miles_annually\": 15937, \"target_var\": 243836.1, \"#speed\": 87780.996, \"#alchol\": 70712.469, \"#first\": 238959.378, \"id\": 13}, {\"state\": \"Illinois\", \"drvr_fatl_col_bmiles\": 12.8, \"perc_fatl_speed\": 36, \"perc_fatl_alcohol\": 34, \"perc_fatl_1st_time\": 96, \"million_miles_annually\": 103234, \"target_var\": 1321395.2000000002, \"#speed\": 475702.27200000006, \"#alchol\": 449274.368, \"#first\": 1268539.3920000002, \"id\": 14}, {\"state\": \"Indiana\", \"drvr_fatl_col_bmiles\": 14.5, \"perc_fatl_speed\": 25, \"perc_fatl_alcohol\": 29, \"perc_fatl_1st_time\": 95, \"million_miles_annually\": 76485, \"target_var\": 1109032.5, \"#speed\": 277258.125, \"#alchol\": 321619.425, \"#first\": 1053580.875, \"id\": 15}, {\"state\": \"Iowa\", \"drvr_fatl_col_bmiles\": 15.7, \"perc_fatl_speed\": 17, \"perc_fatl_alcohol\": 25, \"perc_fatl_1st_time\": 87, \"million_miles_annually\": 31274, \"target_var\": 491001.8, \"#speed\": 83470.306, \"#alchol\": 122750.45, \"#first\": 427171.566, \"id\": 16}, {\"state\": \"Kansas\", \"drvr_fatl_col_bmiles\": 17.8, \"perc_fatl_speed\": 27, \"perc_fatl_alcohol\": 24, \"perc_fatl_1st_time\": 85, \"million_miles_annually\": 30021, \"target_var\": 534373.8, \"#speed\": 144280.926, \"#alchol\": 128249.71200000001, \"#first\": 454217.7300000001, \"id\": 17}, {\"state\": \"Kentucky\", \"drvr_fatl_col_bmiles\": 21.4, \"perc_fatl_speed\": 19, \"perc_fatl_alcohol\": 23, \"perc_fatl_1st_time\": 76, \"million_miles_annually\": 48061, \"target_var\": 1028505.3999999999, \"#speed\": 195416.02599999998, \"#alchol\": 236556.242, \"#first\": 781664.1039999999, \"id\": 18}, {\"state\": \"Louisiana\", \"drvr_fatl_col_bmiles\": 20.5, \"perc_fatl_speed\": 35, \"perc_fatl_alcohol\": 33, \"perc_fatl_1st_time\": 98, \"million_miles_annually\": 46513, \"target_var\": 953516.5, \"#speed\": 333730.775, \"#alchol\": 314660.445, \"#first\": 934446.17, \"id\": 19}, {\"state\": \"Maine\", \"drvr_fatl_col_bmiles\": 15.1, \"perc_fatl_speed\": 38, \"perc_fatl_alcohol\": 30, \"perc_fatl_1st_time\": 84, \"million_miles_annually\": 14248, \"target_var\": 215144.8, \"#speed\": 81755.02399999999, \"#alchol\": 64543.44, \"#first\": 180721.63199999998, \"id\": 20}, {\"state\": \"Maryland\", \"drvr_fatl_col_bmiles\": 12.5, \"perc_fatl_speed\": 34, \"perc_fatl_alcohol\": 32, \"perc_fatl_1st_time\": 99, \"million_miles_annually\": 56221, \"target_var\": 702762.5, \"#speed\": 238939.25, \"#alchol\": 224884.0, \"#first\": 695734.875, \"id\": 21}, {\"state\": \"Massachusetts\", \"drvr_fatl_col_bmiles\": 8.2, \"perc_fatl_speed\": 23, \"perc_fatl_alcohol\": 35, \"perc_fatl_1st_time\": 80, \"million_miles_annually\": 54792, \"target_var\": 449294.39999999997, \"#speed\": 103337.712, \"#alchol\": 157253.03999999998, \"#first\": 359435.52, \"id\": 22}, {\"state\": \"Michigan\", \"drvr_fatl_col_bmiles\": 14.1, \"perc_fatl_speed\": 24, \"perc_fatl_alcohol\": 28, \"perc_fatl_1st_time\": 77, \"million_miles_annually\": 94754, \"target_var\": 1336031.4, \"#speed\": 320647.53599999996, \"#alchol\": 374088.79199999996, \"#first\": 1028744.178, \"id\": 23}, {\"state\": \"Minnesota\", \"drvr_fatl_col_bmiles\": 9.6, \"perc_fatl_speed\": 23, \"perc_fatl_alcohol\": 29, \"perc_fatl_1st_time\": 88, \"million_miles_annually\": 56685, \"target_var\": 544176.0, \"#speed\": 125160.48, \"#alchol\": 157811.04, \"#first\": 478874.88, \"id\": 24}, {\"state\": \"Mississippi\", \"drvr_fatl_col_bmiles\": 17.6, \"perc_fatl_speed\": 15, \"perc_fatl_alcohol\": 31, \"perc_fatl_1st_time\": 100, \"million_miles_annually\": 38851, \"target_var\": 683777.6000000001, \"#speed\": 102566.64000000001, \"#alchol\": 211971.056, \"#first\": 683777.6000000001, \"id\": 25}, {\"state\": \"Missouri\", \"drvr_fatl_col_bmiles\": 16.1, \"perc_fatl_speed\": 43, \"perc_fatl_alcohol\": 34, \"perc_fatl_1st_time\": 84, \"million_miles_annually\": 68789, \"target_var\": 1107502.9000000001, \"#speed\": 476226.24700000003, \"#alchol\": 376550.98600000003, \"#first\": 930302.4360000001, \"id\": 26}, {\"state\": \"Montana\", \"drvr_fatl_col_bmiles\": 21.4, \"perc_fatl_speed\": 39, \"perc_fatl_alcohol\": 44, \"perc_fatl_1st_time\": 85, \"million_miles_annually\": 11660, \"target_var\": 249523.99999999997, \"#speed\": 97314.35999999999, \"#alchol\": 109790.55999999998, \"#first\": 212095.39999999997, \"id\": 27}, {\"state\": \"Nebraska\", \"drvr_fatl_col_bmiles\": 14.9, \"perc_fatl_speed\": 13, \"perc_fatl_alcohol\": 35, \"perc_fatl_1st_time\": 90, \"million_miles_annually\": 19093, \"target_var\": 284485.7, \"#speed\": 36983.141, \"#alchol\": 99569.995, \"#first\": 256037.13, \"id\": 28}, {\"state\": \"Nevada\", \"drvr_fatl_col_bmiles\": 14.7, \"perc_fatl_speed\": 37, \"perc_fatl_alcohol\": 32, \"perc_fatl_1st_time\": 99, \"million_miles_annually\": 24189, \"target_var\": 355578.3, \"#speed\": 131563.971, \"#alchol\": 113785.056, \"#first\": 352022.51699999993, \"id\": 29}, {\"state\": \"New Hampshire\", \"drvr_fatl_col_bmiles\": 11.6, \"perc_fatl_speed\": 35, \"perc_fatl_alcohol\": 30, \"perc_fatl_1st_time\": 83, \"million_miles_annually\": 12720, \"target_var\": 147552.0, \"#speed\": 51643.2, \"#alchol\": 44265.6, \"#first\": 122468.16, \"id\": 30}, {\"state\": \"New Jersey\", \"drvr_fatl_col_bmiles\": 11.2, \"perc_fatl_speed\": 16, \"perc_fatl_alcohol\": 28, \"perc_fatl_1st_time\": 78, \"million_miles_annually\": 73094, \"target_var\": 818652.7999999999, \"#speed\": 130984.44799999999, \"#alchol\": 229222.78399999999, \"#first\": 638549.1839999999, \"id\": 31}, {\"state\": \"New Mexico\", \"drvr_fatl_col_bmiles\": 18.4, \"perc_fatl_speed\": 19, \"perc_fatl_alcohol\": 27, \"perc_fatl_1st_time\": 98, \"million_miles_annually\": 25650, \"target_var\": 471959.99999999994, \"#speed\": 89672.39999999998, \"#alchol\": 127429.19999999998, \"#first\": 462520.79999999993, \"id\": 32}, {\"state\": \"New York\", \"drvr_fatl_col_bmiles\": 12.3, \"perc_fatl_speed\": 32, \"perc_fatl_alcohol\": 29, \"perc_fatl_1st_time\": 80, \"million_miles_annually\": 127726, \"target_var\": 1571029.8, \"#speed\": 502729.536, \"#alchol\": 455598.64200000005, \"#first\": 1256823.84, \"id\": 33}, {\"state\": \"North Carolina\", \"drvr_fatl_col_bmiles\": 16.8, \"perc_fatl_speed\": 39, \"perc_fatl_alcohol\": 31, \"perc_fatl_1st_time\": 81, \"million_miles_annually\": 103772, \"target_var\": 1743369.6, \"#speed\": 679914.1440000001, \"#alchol\": 540444.576, \"#first\": 1412129.376, \"id\": 34}, {\"state\": \"North Dakota\", \"drvr_fatl_col_bmiles\": 23.9, \"perc_fatl_speed\": 23, \"perc_fatl_alcohol\": 42, \"perc_fatl_1st_time\": 86, \"million_miles_annually\": 9131, \"target_var\": 218230.9, \"#speed\": 50193.107, \"#alchol\": 91656.97799999999, \"#first\": 187678.574, \"id\": 35}, {\"state\": \"Ohio\", \"drvr_fatl_col_bmiles\": 14.1, \"perc_fatl_speed\": 28, \"perc_fatl_alcohol\": 34, \"perc_fatl_1st_time\": 82, \"million_miles_annually\": 111990, \"target_var\": 1579059.0, \"#speed\": 442136.52, \"#alchol\": 536880.06, \"#first\": 1294828.38, \"id\": 36}, {\"state\": \"Oklahoma\", \"drvr_fatl_col_bmiles\": 19.9, \"perc_fatl_speed\": 32, \"perc_fatl_alcohol\": 29, \"perc_fatl_1st_time\": 94, \"million_miles_annually\": 47464, \"target_var\": 944533.6, \"#speed\": 302250.752, \"#alchol\": 273914.744, \"#first\": 887861.5839999999, \"id\": 37}, {\"state\": \"Oregon\", \"drvr_fatl_col_bmiles\": 12.8, \"perc_fatl_speed\": 33, \"perc_fatl_alcohol\": 26, \"perc_fatl_1st_time\": 90, \"million_miles_annually\": 33373, \"target_var\": 427174.4, \"#speed\": 140967.55200000003, \"#alchol\": 111065.344, \"#first\": 384456.96, \"id\": 38}, {\"state\": \"Pennsylvania\", \"drvr_fatl_col_bmiles\": 18.2, \"perc_fatl_speed\": 50, \"perc_fatl_alcohol\": 31, \"perc_fatl_1st_time\": 88, \"million_miles_annually\": 99204, \"target_var\": 1805512.7999999998, \"#speed\": 902756.3999999999, \"#alchol\": 559708.968, \"#first\": 1588851.2639999997, \"id\": 39}, {\"state\": \"Rhode Island\", \"drvr_fatl_col_bmiles\": 11.1, \"perc_fatl_speed\": 34, \"perc_fatl_alcohol\": 38, \"perc_fatl_1st_time\": 79, \"million_miles_annually\": 7901, \"target_var\": 87701.09999999999, \"#speed\": 29818.374, \"#alchol\": 33326.418, \"#first\": 69283.86899999999, \"id\": 40}, {\"state\": \"South Carolina\", \"drvr_fatl_col_bmiles\": 23.9, \"perc_fatl_speed\": 38, \"perc_fatl_alcohol\": 41, \"perc_fatl_1st_time\": 81, \"million_miles_annually\": 48730, \"target_var\": 1164647.0, \"#speed\": 442565.86, \"#alchol\": 477505.27, \"#first\": 943364.07, \"id\": 41}, {\"state\": \"South Dakota\", \"drvr_fatl_col_bmiles\": 19.4, \"perc_fatl_speed\": 31, \"perc_fatl_alcohol\": 33, \"perc_fatl_1st_time\": 86, \"million_miles_annually\": 9002, \"target_var\": 174638.8, \"#speed\": 54138.028, \"#alchol\": 57630.804, \"#first\": 150189.368, \"id\": 42}, {\"state\": \"Tennessee\", \"drvr_fatl_col_bmiles\": 19.5, \"perc_fatl_speed\": 21, \"perc_fatl_alcohol\": 29, \"perc_fatl_1st_time\": 81, \"million_miles_annually\": 70751, \"target_var\": 1379644.5, \"#speed\": 289725.345, \"#alchol\": 400096.905, \"#first\": 1117512.045, \"id\": 43}, {\"state\": \"Texas\", \"drvr_fatl_col_bmiles\": 19.4, \"perc_fatl_speed\": 40, \"perc_fatl_alcohol\": 38, \"perc_fatl_1st_time\": 87, \"million_miles_annually\": 237440, \"target_var\": 4606336.0, \"#speed\": 1842534.4, \"#alchol\": 1750407.68, \"#first\": 4007512.32, \"id\": 44}, {\"state\": \"Utah\", \"drvr_fatl_col_bmiles\": 11.3, \"perc_fatl_speed\": 43, \"perc_fatl_alcohol\": 16, \"perc_fatl_1st_time\": 96, \"million_miles_annually\": 26222, \"target_var\": 296308.60000000003, \"#speed\": 127412.698, \"#alchol\": 47409.376000000004, \"#first\": 284456.256, \"id\": 45}, {\"state\": \"Vermont\", \"drvr_fatl_col_bmiles\": 13.6, \"perc_fatl_speed\": 30, \"perc_fatl_alcohol\": 30, \"perc_fatl_1st_time\": 95, \"million_miles_annually\": 7141, \"target_var\": 97117.59999999999, \"#speed\": 29135.279999999995, \"#alchol\": 29135.279999999995, \"#first\": 92261.72, \"id\": 46}, {\"state\": \"Virginia\", \"drvr_fatl_col_bmiles\": 12.7, \"perc_fatl_speed\": 19, \"perc_fatl_alcohol\": 27, \"perc_fatl_1st_time\": 88, \"million_miles_annually\": 80974, \"target_var\": 1028369.7999999999, \"#speed\": 195390.262, \"#alchol\": 277659.84599999996, \"#first\": 904965.4239999999, \"id\": 47}, {\"state\": \"Washington\", \"drvr_fatl_col_bmiles\": 10.6, \"perc_fatl_speed\": 42, \"perc_fatl_alcohol\": 33, \"perc_fatl_1st_time\": 86, \"million_miles_annually\": 56955, \"target_var\": 603723.0, \"#speed\": 253563.66, \"#alchol\": 199228.59, \"#first\": 519201.78, \"id\": 48}, {\"state\": \"West Virginia\", \"drvr_fatl_col_bmiles\": 23.8, \"perc_fatl_speed\": 34, \"perc_fatl_alcohol\": 28, \"perc_fatl_1st_time\": 87, \"million_miles_annually\": 18963, \"target_var\": 451319.4, \"#speed\": 153448.59600000002, \"#alchol\": 126369.43200000002, \"#first\": 392647.878, \"id\": 49}, {\"state\": \"Wisconsin\", \"drvr_fatl_col_bmiles\": 13.8, \"perc_fatl_speed\": 36, \"perc_fatl_alcohol\": 33, \"perc_fatl_1st_time\": 84, \"million_miles_annually\": 58554, \"target_var\": 808045.2000000001, \"#speed\": 290896.27200000006, \"#alchol\": 266654.916, \"#first\": 678757.9680000001, \"id\": 50}, {\"state\": \"Wyoming\", \"drvr_fatl_col_bmiles\": 17.4, \"perc_fatl_speed\": 42, \"perc_fatl_alcohol\": 32, \"perc_fatl_1st_time\": 90, \"million_miles_annually\": 9245, \"target_var\": 160863.0, \"#speed\": 67562.46, \"#alchol\": 51476.16, \"#first\": 144776.7, \"id\": 51}]}}, {\"mode\": \"vega-lite\"});\n",
              "</script>"
            ]
          },
          "metadata": {
            "tags": []
          },
          "execution_count": 16
        }
      ]
    },
    {
      "cell_type": "markdown",
      "metadata": {
        "id": "KvCC_2M1MAfA",
        "colab_type": "text"
      },
      "source": [
        "#MAP Visualization\n",
        "![visualization (1).png](data:image/png;base64,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)"
      ]
    },
    {
      "cell_type": "markdown",
      "metadata": {
        "id": "_7cB48vFMJtg",
        "colab_type": "text"
      },
      "source": [
        "![visualization (2).png](data:image/png;base64,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)"
      ]
    },
    {
      "cell_type": "markdown",
      "metadata": {
        "id": "N7eCUJjBMO9Y",
        "colab_type": "text"
      },
      "source": [
        "![visualization (3).png](data:image/png;base64,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)"
      ]
    },
    {
      "cell_type": "markdown",
      "metadata": {
        "id": "4NdgGQ533vXl",
        "colab_type": "text"
      },
      "source": [
        "# Quantify the association of features and accidents\n",
        "We can already see some potentially interesting relationships between the target variable (the number of fatal accidents) and the feature variables (the remaining three columns).\n",
        "To quantify the pairwise relationships that we observed in the scatter plots, we can compute the Pearson correlation coefficient matrix. The Pearson correlation coefficient is one of the most common methods to quantify correlation between variables, and by convention, the following thresholds are usually used:\n",
        "*   0.2 = weak\n",
        "*   0.5 = medium\n",
        "*   0.8 = strong\n",
        "*   0.9 = very strong\n",
        "\n",
        "\n",
        "\n"
      ]
    },
    {
      "cell_type": "code",
      "metadata": {
        "id": "x9Kd-2Cs4DwK",
        "colab_type": "code",
        "colab": {}
      },
      "source": [
        "from numpy import mean\n",
        "from numpy import std\n",
        "from numpy.random import randn\n",
        "from numpy.random import seed\n",
        "from numpy import cov\n",
        "from scipy.stats import pearsonr\n",
        "def pearson_coefficient(data1,data2,lab1,lab2):\n",
        "  print('data1: mean=%.3f stdv=%.3f' % (mean(data1), std(data1)))\n",
        "  print('data2: mean=%.3f stdv=%.3f' % (mean(data2), std(data2)))\n",
        "# plot\n",
        "  plt.scatter(data1, data2)\n",
        "  plt.show()\n",
        "  plt.title('data1 vs data2')\n",
        "#calculating covariance\n",
        "  covariance = cov(data1, data2)\n",
        "  print(\"The covariance matrix:\",covariance)\n",
        "  # calculate Pearson's correlation\n",
        "  corr, _ = pearsonr(data1, data2)\n",
        "  print('Pearson correlation coeficient between {} and {} is {}'.format(lab1,lab2,corr),end='\\n Strength of correlation:')\n",
        "  if corr<=0.2:\n",
        "    print(\"weak\")\n",
        "  elif corr>0.2 and corr<=0.5:\n",
        "    print('medium')\n",
        "  elif corr>0.5 and corr<=0.8:\n",
        "    print('strong')\n",
        "  else:\n",
        "    print('very strong')\n",
        "  print('*******************************************')\n",
        "  return"
      ],
      "execution_count": 19,
      "outputs": []
    },
    {
      "cell_type": "code",
      "metadata": {
        "id": "UyfT4hXMXhWA",
        "colab_type": "code",
        "colab": {}
      },
      "source": [
        "from sklearn.preprocessing import MinMaxScaler\n",
        "scaler = MinMaxScaler()\n",
        "def normalize(dataset,c):\n",
        "    dataset[c] = scaler.fit_transform(dataset[c].values.reshape(-1,1))\n",
        "    return\n",
        "\n",
        "cols = ['perc_fatl_speed','perc_fatl_alcohol','perc_fatl_1st_time','drvr_fatl_col_bmiles']\n",
        "for col in cols:\n",
        "  normalize(all_data,col)"
      ],
      "execution_count": 20,
      "outputs": []
    },
    {
      "cell_type": "code",
      "metadata": {
        "id": "uUFtLFqDEtGS",
        "colab_type": "code",
        "colab": {
          "base_uri": "https://localhost:8080/",
          "height": 1000
        },
        "outputId": "b53b5699-d672-4a0d-cd66-a8d6fed9e53b"
      },
      "source": [
        "cols = ['perc_fatl_speed','perc_fatl_alcohol','perc_fatl_1st_time']\n",
        "for c in cols:\n",
        "  pearson_coefficient(all_data['drvr_fatl_col_bmiles'],all_data[c],'target_var',c)\n"
      ],
      "execution_count": 21,
      "outputs": [
        {
          "output_type": "stream",
          "text": [
            "data1: mean=0.549 stdv=0.227\n",
            "data2: mean=0.457 stdv=0.233\n"
          ],
          "name": "stdout"
        },
        {
          "output_type": "display_data",
          "data": {
            "image/png": "[encoded data removed]",
            "text/plain": [
              "<Figure size 432x288 with 1 Axes>"
            ]
          },
          "metadata": {
            "tags": []
          }
        },
        {
          "output_type": "stream",
          "text": [
            "The covariance matrix: [[ 0.05244106 -0.0015647 ]\n",
            " [-0.0015647   0.0552071 ]]\n",
            "Pearson correlation coeficient between target_var and perc_fatl_speed is -0.0290801459139906\n",
            " Strength of correlation:weak\n",
            "*******************************************\n",
            "data1: mean=0.549 stdv=0.227\n",
            "data2: mean=0.525 stdv=0.181\n"
          ],
          "name": "stdout"
        },
        {
          "output_type": "display_data",
          "data": {
            "image/png": "[encoded data removed]",
            "text/plain": [
              "<Figure size 432x288 with 1 Axes>"
            ]
          },
          "metadata": {
            "tags": []
          }
        },
        {
          "output_type": "stream",
          "text": [
            "The covariance matrix: [[0.05244106 0.00837076]\n",
            " [0.00837076 0.03359644]]\n",
            "Pearson correlation coeficient between target_var and perc_fatl_alcohol is 0.1994263437801119\n",
            " Strength of correlation:weak\n",
            "*******************************************\n",
            "data1: mean=0.549 stdv=0.227\n",
            "data2: mean=0.530 stdv=0.287\n"
          ],
          "name": "stdout"
        },
        {
          "output_type": "display_data",
          "data": {
            "image/png": "[encoded data removed]",
            "text/plain": [
              "<Figure size 432x288 with 1 Axes>"
            ]
          },
          "metadata": {
            "tags": []
          }
        },
        {
          "output_type": "stream",
          "text": [
            "The covariance matrix: [[ 0.05244106 -0.00119154]\n",
            " [-0.00119154  0.08410267]]\n",
            "Pearson correlation coeficient between target_var and perc_fatl_1st_time is -0.017941876874043555\n",
            " Strength of correlation:weak\n",
            "*******************************************\n"
          ],
          "name": "stdout"
        },
        {
          "output_type": "display_data",
          "data": {
            "image/png": "[encoded data removed]",
            "text/plain": [
              "<Figure size 432x288 with 1 Axes>"
            ]
          },
          "metadata": {
            "tags": []
          }
        }
      ]
    },
    {
      "cell_type": "code",
      "metadata": {
        "id": "HausVy7OGwQt",
        "colab_type": "code",
        "colab": {
          "base_uri": "https://localhost:8080/",
          "height": 190
        },
        "outputId": "90f5032c-8fea-4ae4-f43e-69894442cd05"
      },
      "source": [
        "print(\"Correlation between all the columns\")\n",
        "cr = all_data[['perc_fatl_speed','perc_fatl_alcohol','perc_fatl_1st_time','drvr_fatl_col_bmiles']].corr()\n",
        "cr"
      ],
      "execution_count": 23,
      "outputs": [
        {
          "output_type": "stream",
          "text": [
            "Correlation between all the columns\n"
          ],
          "name": "stdout"
        },
        {
          "output_type": "execute_result",
          "data": {
            "text/html": [
              "<div>\n",
              "<style scoped>\n",
              "    .dataframe tbody tr th:only-of-type {\n",
              "        vertical-align: middle;\n",
              "    }\n",
              "\n",
              "    .dataframe tbody tr th {\n",
              "        vertical-align: top;\n",
              "    }\n",
              "\n",
              "    .dataframe thead th {\n",
              "        text-align: right;\n",
              "    }\n",
              "</style>\n",
              "<table border=\"1\" class=\"dataframe\">\n",
              "  <thead>\n",
              "    <tr style=\"text-align: right;\">\n",
              "      <th></th>\n",
              "      <th>perc_fatl_speed</th>\n",
              "      <th>perc_fatl_alcohol</th>\n",
              "      <th>perc_fatl_1st_time</th>\n",
              "      <th>drvr_fatl_col_bmiles</th>\n",
              "    </tr>\n",
              "  </thead>\n",
              "  <tbody>\n",
              "    <tr>\n",
              "      <th>perc_fatl_speed</th>\n",
              "      <td>1.000000</td>\n",
              "      <td>0.286244</td>\n",
              "      <td>0.014066</td>\n",
              "      <td>-0.029080</td>\n",
              "    </tr>\n",
              "    <tr>\n",
              "      <th>perc_fatl_alcohol</th>\n",
              "      <td>0.286244</td>\n",
              "      <td>1.000000</td>\n",
              "      <td>-0.245455</td>\n",
              "      <td>0.199426</td>\n",
              "    </tr>\n",
              "    <tr>\n",
              "      <th>perc_fatl_1st_time</th>\n",
              "      <td>0.014066</td>\n",
              "      <td>-0.245455</td>\n",
              "      <td>1.000000</td>\n",
              "      <td>-0.017942</td>\n",
              "    </tr>\n",
              "    <tr>\n",
              "      <th>drvr_fatl_col_bmiles</th>\n",
              "      <td>-0.029080</td>\n",
              "      <td>0.199426</td>\n",
              "      <td>-0.017942</td>\n",
              "      <td>1.000000</td>\n",
              "    </tr>\n",
              "  </tbody>\n",
              "</table>\n",
              "</div>"
            ],
            "text/plain": [
              "                      perc_fatl_speed  ...  drvr_fatl_col_bmiles\n",
              "perc_fatl_speed              1.000000  ...             -0.029080\n",
              "perc_fatl_alcohol            0.286244  ...              0.199426\n",
              "perc_fatl_1st_time           0.014066  ...             -0.017942\n",
              "drvr_fatl_col_bmiles        -0.029080  ...              1.000000\n",
              "\n",
              "[4 rows x 4 columns]"
            ]
          },
          "metadata": {
            "tags": []
          },
          "execution_count": 23
        }
      ]
    },
    {
      "cell_type": "markdown",
      "metadata": {
        "id": "YrArZGouHYac",
        "colab_type": "text"
      },
      "source": [
        "# Fit a multivariate linear regression\n"
      ]
    },
    {
      "cell_type": "code",
      "metadata": {
        "id": "6mm2MLGHeac1",
        "colab_type": "code",
        "colab": {
          "base_uri": "https://localhost:8080/",
          "height": 34
        },
        "outputId": "48795bfe-b93d-4923-da59-17dbeab211cb"
      },
      "source": [
        "from sklearn import linear_model\n",
        "\n",
        "# Create the features and target DataFrames\n",
        "features = all_data[[\"perc_fatl_speed\",\"perc_fatl_alcohol\",\"perc_fatl_1st_time\"]]\n",
        "target = all_data[\"drvr_fatl_col_bmiles\"]\n",
        "\n",
        "# Create a linear regression object\n",
        "reg = linear_model.LinearRegression()\n",
        "\n",
        "# Fit a multivariate linear regression model\n",
        "reg.fit(features, target)\n",
        "\n",
        "# Retrieve the regression coefficients\n",
        "fit_coef = reg.coef_\n",
        "fit_coef"
      ],
      "execution_count": 24,
      "outputs": [
        {
          "output_type": "execute_result",
          "data": {
            "text/plain": [
              "array([-0.09521205,  0.29689961,  0.03297734])"
            ]
          },
          "metadata": {
            "tags": []
          },
          "execution_count": 24
        }
      ]
    },
    {
      "cell_type": "markdown",
      "metadata": {
        "id": "w9oirLQ6gL6Q",
        "colab_type": "text"
      },
      "source": [
        "# Standardization of Data"
      ]
    },
    {
      "cell_type": "code",
      "metadata": {
        "id": "U6OZxkbwgPO8",
        "colab_type": "code",
        "colab": {
          "base_uri": "https://localhost:8080/",
          "height": 884
        },
        "outputId": "c4a36f08-7e8c-4dce-ccbe-d99dd448d130"
      },
      "source": [
        "from sklearn.preprocessing import StandardScaler\n",
        "scaler = StandardScaler()\n",
        "features_scaled = scaler.fit_transform(features)\n",
        "features_scaled"
      ],
      "execution_count": null,
      "outputs": [
        {
          "output_type": "execute_result",
          "data": {
            "text/plain": [
              "array([[ 0.76264511, -0.1350496 , -1.26611685],\n",
              "       [ 0.97232113, -1.1189824 ,  0.76536053],\n",
              "       [ 0.34329308, -0.52862272,  1.05557158],\n",
              "       [-1.43895304, -0.92219584,  0.91046605],\n",
              "       [ 0.34329308, -0.52862272,  0.03983289],\n",
              "       [ 0.5529691 , -0.52862272,  0.91046605],\n",
              "       [ 1.49651116,  1.04566976, -0.9759058 ],\n",
              "       [ 0.6578071 , -0.1350496 ,  1.49088816],\n",
              "       [ 0.23845508, -0.72540928,  1.63599369],\n",
              "       [-1.12443902, -0.33183616,  0.76536053],\n",
              "       [-1.33411503, -1.1189824 ,  0.620255  ],\n",
              "       [ 2.33521522,  2.02960256, -0.25037816],\n",
              "       [ 0.44813109, -0.33183616,  1.34578263],\n",
              "       [ 0.44813109,  0.65209664,  1.05557158],\n",
              "       [-0.70508699, -0.33183616,  0.91046605],\n",
              "       [-1.54379105, -1.1189824 , -0.25037816],\n",
              "       [-0.49541097, -1.31576896, -0.54058922],\n",
              "       [-1.33411503, -1.51255552, -1.84653896],\n",
              "       [ 0.34329308,  0.45531008,  1.34578263],\n",
              "       [ 0.6578071 , -0.1350496 , -0.68569475],\n",
              "       [ 0.23845508,  0.25852352,  1.49088816],\n",
              "       [-0.914763  ,  0.8488832 , -1.26611685],\n",
              "       [-0.809925  , -0.52862272, -1.70143344],\n",
              "       [-0.914763  , -0.33183616, -0.10527264],\n",
              "       [-1.75346706,  0.06173696,  1.63599369],\n",
              "       [ 1.18199714,  0.65209664, -0.68569475],\n",
              "       [ 0.76264511,  2.61996224, -0.54058922],\n",
              "       [-1.96314307,  0.8488832 ,  0.18493842],\n",
              "       [ 0.5529691 ,  0.25852352,  1.49088816],\n",
              "       [ 0.34329308, -0.1350496 , -0.83080027],\n",
              "       [-1.64862905, -0.52862272, -1.55632791],\n",
              "       [-1.33411503, -0.72540928,  1.34578263],\n",
              "       [ 0.02877906, -0.33183616, -1.26611685],\n",
              "       [ 0.76264511,  0.06173696, -1.12101133],\n",
              "       [-0.914763  ,  2.22638912, -0.39548369],\n",
              "       [-0.39057297,  0.65209664, -0.9759058 ],\n",
              "       [ 0.02877906, -0.33183616,  0.76536053],\n",
              "       [ 0.13361707, -0.92219584,  0.18493842],\n",
              "       [ 1.91586319,  0.06173696, -0.10527264],\n",
              "       [ 0.23845508,  1.43924288, -1.41122238],\n",
              "       [ 0.6578071 ,  2.02960256, -1.12101133],\n",
              "       [-0.07605895,  0.45531008, -0.39548369],\n",
              "       [-1.12443902, -0.33183616, -1.12101133],\n",
              "       [ 0.86748312,  1.43924288, -0.25037816],\n",
              "       [ 1.18199714, -2.89006144,  1.05557158],\n",
              "       [-0.18089695, -0.1350496 ,  0.91046605],\n",
              "       [-1.33411503, -0.72540928, -0.10527264],\n",
              "       [ 1.07715913,  0.45531008, -0.39548369],\n",
              "       [ 0.23845508, -0.52862272, -0.25037816],\n",
              "       [ 0.44813109,  0.45531008, -0.68569475],\n",
              "       [ 1.07715913,  0.25852352,  0.18493842]])"
            ]
          },
          "metadata": {
            "tags": []
          },
          "execution_count": 96
        }
      ]
    },
    {
      "cell_type": "markdown",
      "metadata": {
        "id": "1ZL0CVluhIhk",
        "colab_type": "text"
      },
      "source": [
        "#Performing PCA"
      ]
    },
    {
      "cell_type": "code",
      "metadata": {
        "id": "k47VBSkhhMge",
        "colab_type": "code",
        "colab": {
          "base_uri": "https://localhost:8080/",
          "height": 51
        },
        "outputId": "3bb8aa0a-5283-4566-8035-f002cd5dae04"
      },
      "source": [
        "from sklearn.decomposition import PCA\n",
        "pca = PCA()\n",
        "# Fit the standardized data to the pca\n",
        "pca.fit(features_scaled)"
      ],
      "execution_count": null,
      "outputs": [
        {
          "output_type": "execute_result",
          "data": {
            "text/plain": [
              "PCA(copy=True, iterated_power='auto', n_components=None, random_state=None,\n",
              "    svd_solver='auto', tol=0.0, whiten=False)"
            ]
          },
          "metadata": {
            "tags": []
          },
          "execution_count": 97
        }
      ]
    },
    {
      "cell_type": "markdown",
      "metadata": {
        "id": "9BYErriAhgCV",
        "colab_type": "text"
      },
      "source": [
        "#Visualize the first two principal components\n",
        "We will create a scatter plot of the first principle components and explore how the states cluster together in this visualization."
      ]
    },
    {
      "cell_type": "code",
      "metadata": {
        "id": "Y88Jx7vmho1n",
        "colab_type": "code",
        "colab": {
          "base_uri": "https://localhost:8080/",
          "height": 34
        },
        "outputId": "912b26a1-ca49-45b2-9dc4-ca50028114cd"
      },
      "source": [
        "\n",
        "# Compute the cumulative proportion of variance explained by the first two principal components\n",
        "two_first_comp_var_exp = pca.explained_variance_ratio_.cumsum()[1]\n",
        "print(\"The cumulative variance of the first two principal components is {}\".format(\n",
        "    round(two_first_comp_var_exp, 5)))"
      ],
      "execution_count": null,
      "outputs": [
        {
          "output_type": "stream",
          "text": [
            "The cumulative variance of the first two principal components is 0.7947\n"
          ],
          "name": "stdout"
        }
      ]
    },
    {
      "cell_type": "code",
      "metadata": {
        "id": "WdEn-aQ9isAa",
        "colab_type": "code",
        "colab": {
          "base_uri": "https://localhost:8080/",
          "height": 884
        },
        "outputId": "86c21c27-57f8-4a07-bc7e-11353f6c4d50"
      },
      "source": [
        "# two principal components\n",
        "pca = PCA(n_components=2)\n",
        "p_comps = pca.fit_transform(features_scaled)\n",
        "p_comps"
      ],
      "execution_count": null,
      "outputs": [
        {
          "output_type": "execute_result",
          "data": {
            "text/plain": [
              "array([[ 0.88463912,  0.46421102],\n",
              "       [-0.62529903, -1.22024698],\n",
              "       [-0.67169596, -1.02786253],\n",
              "       [-1.83954608,  0.23991011],\n",
              "       [-0.21174283, -0.25666671],\n",
              "       [-0.49390467, -1.05414432],\n",
              "       [ 1.98805561, -0.22697834],\n",
              "       [-0.41984695, -1.56080846],\n",
              "       [-1.13099129, -1.40144229],\n",
              "       [-1.18444358,  0.14877025],\n",
              "       [-1.79251216,  0.39090271],\n",
              "       [ 2.80996806, -1.31802924],\n",
              "       [-0.60664618, -1.31530775],\n",
              "       [ 0.2268846 , -1.08935235],\n",
              "       [-1.02598376, -0.23430583],\n",
              "       [-1.51035032,  1.18838032],\n",
              "       [-0.95893975,  0.72533611],\n",
              "       [-0.95632936,  2.26156134],\n",
              "       [-0.10099555, -1.24259045],\n",
              "       [ 0.56576691,  0.091754  ],\n",
              "       [-0.36316811, -1.28565771],\n",
              "       [ 0.6900851 ,  1.56144575],\n",
              "       [-0.03971211,  1.81587269],\n",
              "       [-0.67811433,  0.67334261],\n",
              "       [-1.63409399, -0.10065137],\n",
              "       [ 1.40766864, -0.24488656],\n",
              "       [ 2.52202483, -0.07092466],\n",
              "       [-0.52740931,  1.14200056],\n",
              "       [-0.19504256, -1.49033665],\n",
              "       [ 0.46334895,  0.40660377],\n",
              "       [-0.5537545 ,  2.25151236],\n",
              "       [-1.84020388, -0.15770595],\n",
              "       [ 0.35192305,  0.94067245],\n",
              "       [ 0.95935465,  0.35516293],\n",
              "       [ 1.27880139,  0.90828   ],\n",
              "       [ 0.69845606,  0.99884978],\n",
              "       [-0.56798322, -0.60171918],\n",
              "       [-0.67038036, -0.23263042],\n",
              "       [ 1.11586188, -1.16652231],\n",
              "       [ 1.79352241,  0.9244954 ],\n",
              "       [ 2.30754399,  0.43461673],\n",
              "       [ 0.46332813,  0.35236477],\n",
              "       [-0.3302449 ,  1.58099105],\n",
              "       [ 1.60411279, -0.36622912],\n",
              "       [-1.90843858, -1.58714601],\n",
              "       [-0.60535139, -0.57431464],\n",
              "       [-1.18312797,  0.94400236],\n",
              "       [ 1.07978849, -0.39812466],\n",
              "       [-0.1363695 ,  0.03190126],\n",
              "       [ 0.87495256,  0.23157487],\n",
              "       [ 0.67653501, -0.83993073]])"
            ]
          },
          "metadata": {
            "tags": []
          },
          "execution_count": 102
        }
      ]
    },
    {
      "cell_type": "code",
      "metadata": {
        "id": "7H_I7XQhi_GQ",
        "colab_type": "code",
        "colab": {
          "base_uri": "https://localhost:8080/",
          "height": 34
        },
        "outputId": "7df706c6-3b66-42c4-8856-598c07f3a910"
      },
      "source": [
        "p_comps.shape"
      ],
      "execution_count": null,
      "outputs": [
        {
          "output_type": "execute_result",
          "data": {
            "text/plain": [
              "(51, 2)"
            ]
          },
          "metadata": {
            "tags": []
          },
          "execution_count": 104
        }
      ]
    },
    {
      "cell_type": "code",
      "metadata": {
        "id": "RGSkrG1IixiI",
        "colab_type": "code",
        "colab": {
          "base_uri": "https://localhost:8080/",
          "height": 285
        },
        "outputId": "1e750ca7-a63a-4ce1-f367-856b166715e6"
      },
      "source": [
        "p_comp1 = p_comps[:,0]\n",
        "p_comp2 = p_comps[:,1]\n",
        "plt.scatter(p_comp1,p_comp2)"
      ],
      "execution_count": null,
      "outputs": [
        {
          "output_type": "execute_result",
          "data": {
            "text/plain": [
              "<matplotlib.collections.PathCollection at 0x7f6437d5f2e8>"
            ]
          },
          "metadata": {
            "tags": []
          },
          "execution_count": 103
        },
        {
          "output_type": "display_data",
          "data": {
            "image/png": "[encoded data removed]",
            "text/plain": [
              "<Figure size 432x288 with 1 Axes>"
            ]
          },
          "metadata": {
            "tags": []
          }
        }
      ]
    },
    {
      "cell_type": "markdown",
      "metadata": {
        "id": "vX6IfZyQjrRp",
        "colab_type": "text"
      },
      "source": [
        "#KMEANS clustering with Elbow method"
      ]
    },
    {
      "cell_type": "code",
      "metadata": {
        "id": "NkyaUWykj1Kr",
        "colab_type": "code",
        "colab": {}
      },
      "source": [
        "from sklearn.cluster import KMeans\n",
        "\n",
        "wcss = [] \n",
        "#within custers sum of squares\n",
        "\n",
        "\n",
        "for c in range(1,10):\n",
        "  kmeans = KMeans(n_clusters=c, init='k-means++',max_iter=300,n_init=10,random_state=0)\n",
        "  kmeans.fit(p_comps)\n",
        "  wcss.append(kmeans.inertia_)"
      ],
      "execution_count": null,
      "outputs": []
    },
    {
      "cell_type": "code",
      "metadata": {
        "id": "Xpo6utglkCob",
        "colab_type": "code",
        "colab": {
          "base_uri": "https://localhost:8080/",
          "height": 301
        },
        "outputId": "19ca189d-cc3d-49f9-a5ed-aed453e05caa"
      },
      "source": [
        "#plotting the elbow method\n",
        "plt.plot(range(1,10),wcss)\n",
        "plt.title('Elbow method')\n",
        "plt.xlabel('Number of clusters')\n",
        "plt.ylabel('Within cluster sum of squares')\n",
        "plt.xticks(range(1,10))\n",
        "plt.grid()\n",
        "plt.show()"
      ],
      "execution_count": null,
      "outputs": [
        {
          "output_type": "display_data",
          "data": {
            "image/png": "[encoded data removed]",
            "text/plain": [
              "<Figure size 432x288 with 1 Axes>"
            ]
          },
          "metadata": {
            "tags": []
          }
        }
      ]
    },
    {
      "cell_type": "markdown",
      "metadata": {
        "id": "NC2pJBAwkSMU",
        "colab_type": "text"
      },
      "source": [
        "### *In the elbow method the number of clusters 3 is found to be optimal as the elbow ocurs at 3*\n",
        "\n",
        "---\n",
        "\n"
      ]
    },
    {
      "cell_type": "code",
      "metadata": {
        "id": "VMkMDArekXyq",
        "colab_type": "code",
        "colab": {
          "base_uri": "https://localhost:8080/",
          "height": 301
        },
        "outputId": "c657b1b3-05cb-436e-8d0f-66f944fb8a0e"
      },
      "source": [
        "sc = []\n",
        "from sklearn.metrics import silhouette_score\n",
        "#for silhouette coefficient we begin the number ofclusters as 2\n",
        "for c in range(2,10):\n",
        "  kmeans = KMeans(n_clusters=c, init='k-means++',max_iter=300,n_init=10,random_state=0)\n",
        "  kmeans.fit(p_comps)\n",
        "  score = silhouette_score(p_comps, kmeans.labels_)\n",
        "  sc.append(score)\n",
        "plt.plot(range(2,10),sc)\n",
        "plt.title('Silhoutte method')\n",
        "plt.xlabel('Number of clusters')\n",
        "plt.ylabel('Silhoutte Score')\n",
        "plt.xticks(range(1,10))\n",
        "plt.grid()\n",
        "plt.show()"
      ],
      "execution_count": null,
      "outputs": [
        {
          "output_type": "display_data",
          "data": {
            "image/png": "[encoded data removed]",
            "text/plain": [
              "<Figure size 432x288 with 1 Axes>"
            ]
          },
          "metadata": {
            "tags": []
          }
        }
      ]
    },
    {
      "cell_type": "markdown",
      "metadata": {
        "id": "C5bT0hpFkn4T",
        "colab_type": "text"
      },
      "source": [
        "## *Even by using Silhoutte method the number of clusters was found to be 3*\n",
        "\n",
        "---\n",
        "\n"
      ]
    },
    {
      "cell_type": "markdown",
      "metadata": {
        "id": "UX5Ouehsk2Vk",
        "colab_type": "text"
      },
      "source": [
        "#K-Means clustering using 3 clusters"
      ]
    },
    {
      "cell_type": "code",
      "metadata": {
        "id": "TMl7NY2Ak1dq",
        "colab_type": "code",
        "colab": {}
      },
      "source": [
        "km = KMeans(n_clusters=3, random_state=8)\n",
        "fit_data = km.fit_transform(p_comps)"
      ],
      "execution_count": null,
      "outputs": []
    },
    {
      "cell_type": "code",
      "metadata": {
        "id": "0o-TDGk_lzGr",
        "colab_type": "code",
        "colab": {
          "base_uri": "https://localhost:8080/",
          "height": 884
        },
        "outputId": "bd83f012-5fbc-4a20-9805-e0c090369d3e"
      },
      "source": [
        "fit_data"
      ],
      "execution_count": null,
      "outputs": [
        {
          "output_type": "execute_result",
          "data": {
            "text/plain": [
              "array([[2.0608972 , 0.60464523, 1.67027699],\n",
              "       [0.54224419, 2.29988177, 2.5938492 ],\n",
              "       [0.34618683, 2.24204882, 2.4041665 ],\n",
              "       [1.40160577, 3.1517649 , 1.7398799 ],\n",
              "       [0.74984786, 1.54376066, 1.6565622 ],\n",
              "       [0.46655053, 2.10041074, 2.42563651],\n",
              "       [2.83845547, 0.7295299 , 2.97222527],\n",
              "       [0.93552006, 2.34644991, 2.93381898],\n",
              "       [0.76268583, 2.82550875, 2.83980565],\n",
              "       [0.93731654, 2.492492  , 1.39253483],\n",
              "       [1.47629452, 3.11869602, 1.60815897],\n",
              "       [3.66966907, 2.02013171, 4.27867238],\n",
              "       [0.63817138, 2.33762302, 2.68815019],\n",
              "       [1.10312899, 1.55411313, 2.57094429],\n",
              "       [0.52290774, 2.34610312, 1.68417439],\n",
              "       [2.02385727, 3.04461606, 1.00926284],\n",
              "       [1.44321114, 2.36857353, 0.78227595],\n",
              "       [2.97527572, 3.17731555, 0.99233412],\n",
              "       [0.88591144, 1.89640917, 2.64698905],\n",
              "       [1.59149783, 0.74203167, 1.6767766 ],\n",
              "       [0.72805523, 2.12459143, 2.66152873],\n",
              "       [2.72157652, 1.65055536, 1.22276403],\n",
              "       [2.64048145, 2.23581884, 0.65281084],\n",
              "       [1.38958327, 2.08511856, 0.716201  ],\n",
              "       [1.02575926, 2.94219431, 1.84741347],\n",
              "       [2.26494159, 0.29316825, 2.51391921],\n",
              "       [3.391777  , 1.22097886, 3.36464824],\n",
              "       [1.8733472 , 2.14370875, 0.2295743 ],\n",
              "       [0.99285229, 2.13577756, 2.8798563 ],\n",
              "       [1.69286448, 0.92234001, 1.37603292],\n",
              "       [2.97255418, 2.89685556, 0.88087146],\n",
              "       [1.16983062, 3.15099459, 2.02158269],\n",
              "       [2.01808   , 1.31850319, 0.97054102],\n",
              "       [2.0643999 , 0.47484638, 1.79296355],\n",
              "       [2.64157246, 0.87888301, 1.85534091],\n",
              "       [2.27876635, 1.1433357 , 1.27204241],\n",
              "       [0.26423909, 1.97677791, 1.97373118],\n",
              "       [0.49714689, 1.9929407 , 1.61124397],\n",
              "       [1.97823272, 1.21120758, 3.01824822],\n",
              "       [3.07324729, 1.01928542, 2.35414217],\n",
              "       [3.32010101, 1.08099986, 2.97660428],\n",
              "       [1.65757207, 0.9015611 , 1.41457555],\n",
              "       [2.34054021, 2.25408886, 0.28128639],\n",
              "       [2.4374745 , 0.49616396, 2.74259857],\n",
              "       [1.40643618, 3.59750099, 3.26904789],\n",
              "       [0.24473675, 2.00379167, 1.94765706],\n",
              "       [1.69585235, 2.65096006, 0.79075092],\n",
              "       [1.91436307, 0.48366079, 2.38400216],\n",
              "       [1.00146347, 1.44157823, 1.39272733],\n",
              "       [1.92933726, 0.47522065, 1.79970738],\n",
              "       [1.49118965, 1.07314929, 2.51323378]])"
            ]
          },
          "metadata": {
            "tags": []
          },
          "execution_count": 110
        }
      ]
    },
    {
      "cell_type": "code",
      "metadata": {
        "id": "DpcFDETTl6Pd",
        "colab_type": "code",
        "colab": {
          "base_uri": "https://localhost:8080/",
          "height": 284
        },
        "outputId": "715fa4d9-4e0e-477e-8eb5-7cd11c04aef4"
      },
      "source": [
        "plt.scatter(fit_data[:,0],fit_data[:,1],c = km.labels_)\n",
        "plt.title('K-means clustering of pca')\n",
        "plt.show()"
      ],
      "execution_count": null,
      "outputs": [
        {
          "output_type": "display_data",
          "data": {
            "image/png": "[encoded data removed]",
            "text/plain": [
              "<Figure size 432x288 with 1 Axes>"
            ]
          },
          "metadata": {
            "tags": []
          }
        }
      ]
    },
    {
      "cell_type": "code",
      "metadata": {
        "id": "ViU-y0Kdmr9Q",
        "colab_type": "code",
        "colab": {
          "base_uri": "https://localhost:8080/",
          "height": 396
        },
        "outputId": "923a804a-9321-4173-9227-53183e37048f"
      },
      "source": [
        "all_data['cluster'] = km.labels_\n",
        "all_data.head(10)"
      ],
      "execution_count": null,
      "outputs": [
        {
          "output_type": "execute_result",
          "data": {
            "text/html": [
              "<div>\n",
              "<style scoped>\n",
              "    .dataframe tbody tr th:only-of-type {\n",
              "        vertical-align: middle;\n",
              "    }\n",
              "\n",
              "    .dataframe tbody tr th {\n",
              "        vertical-align: top;\n",
              "    }\n",
              "\n",
              "    .dataframe thead th {\n",
              "        text-align: right;\n",
              "    }\n",
              "</style>\n",
              "<table border=\"1\" class=\"dataframe\">\n",
              "  <thead>\n",
              "    <tr style=\"text-align: right;\">\n",
              "      <th></th>\n",
              "      <th>state</th>\n",
              "      <th>drvr_fatl_col_bmiles</th>\n",
              "      <th>perc_fatl_speed</th>\n",
              "      <th>perc_fatl_alcohol</th>\n",
              "      <th>perc_fatl_1st_time</th>\n",
              "      <th>million_miles_annually</th>\n",
              "      <th>target_var</th>\n",
              "      <th>#speed</th>\n",
              "      <th>#alchol</th>\n",
              "      <th>#first</th>\n",
              "      <th>id</th>\n",
              "      <th>cluster</th>\n",
              "    </tr>\n",
              "  </thead>\n",
              "  <tbody>\n",
              "    <tr>\n",
              "      <th>0</th>\n",
              "      <td>Alabama</td>\n",
              "      <td>18.8</td>\n",
              "      <td>39</td>\n",
              "      <td>30</td>\n",
              "      <td>80</td>\n",
              "      <td>64914</td>\n",
              "      <td>1220383.2</td>\n",
              "      <td>475949.448</td>\n",
              "      <td>366114.960</td>\n",
              "      <td>976306.560</td>\n",
              "      <td>1</td>\n",
              "      <td>1</td>\n",
              "    </tr>\n",
              "    <tr>\n",
              "      <th>1</th>\n",
              "      <td>Alaska</td>\n",
              "      <td>18.1</td>\n",
              "      <td>41</td>\n",
              "      <td>25</td>\n",
              "      <td>94</td>\n",
              "      <td>4593</td>\n",
              "      <td>83133.3</td>\n",
              "      <td>34084.653</td>\n",
              "      <td>20783.325</td>\n",
              "      <td>78145.302</td>\n",
              "      <td>2</td>\n",
              "      <td>0</td>\n",
              "    </tr>\n",
              "    <tr>\n",
              "      <th>2</th>\n",
              "      <td>Arizona</td>\n",
              "      <td>18.6</td>\n",
              "      <td>35</td>\n",
              "      <td>28</td>\n",
              "      <td>96</td>\n",
              "      <td>59575</td>\n",
              "      <td>1108095.0</td>\n",
              "      <td>387833.250</td>\n",
              "      <td>310266.600</td>\n",
              "      <td>1063771.200</td>\n",
              "      <td>3</td>\n",
              "      <td>0</td>\n",
              "    </tr>\n",
              "    <tr>\n",
              "      <th>3</th>\n",
              "      <td>Arkansas</td>\n",
              "      <td>22.4</td>\n",
              "      <td>18</td>\n",
              "      <td>26</td>\n",
              "      <td>95</td>\n",
              "      <td>32953</td>\n",
              "      <td>738147.2</td>\n",
              "      <td>132866.496</td>\n",
              "      <td>191918.272</td>\n",
              "      <td>701239.840</td>\n",
              "      <td>4</td>\n",
              "      <td>0</td>\n",
              "    </tr>\n",
              "    <tr>\n",
              "      <th>4</th>\n",
              "      <td>California</td>\n",
              "      <td>12.0</td>\n",
              "      <td>35</td>\n",
              "      <td>28</td>\n",
              "      <td>89</td>\n",
              "      <td>320784</td>\n",
              "      <td>3849408.0</td>\n",
              "      <td>1347292.800</td>\n",
              "      <td>1077834.240</td>\n",
              "      <td>3425973.120</td>\n",
              "      <td>5</td>\n",
              "      <td>0</td>\n",
              "    </tr>\n",
              "    <tr>\n",
              "      <th>5</th>\n",
              "      <td>Colorado</td>\n",
              "      <td>13.6</td>\n",
              "      <td>37</td>\n",
              "      <td>28</td>\n",
              "      <td>95</td>\n",
              "      <td>46606</td>\n",
              "      <td>633841.6</td>\n",
              "      <td>234521.392</td>\n",
              "      <td>177475.648</td>\n",
              "      <td>602149.520</td>\n",
              "      <td>6</td>\n",
              "      <td>0</td>\n",
              "    </tr>\n",
              "    <tr>\n",
              "      <th>6</th>\n",
              "      <td>Connecticut</td>\n",
              "      <td>10.8</td>\n",
              "      <td>46</td>\n",
              "      <td>36</td>\n",
              "      <td>82</td>\n",
              "      <td>31197</td>\n",
              "      <td>336927.6</td>\n",
              "      <td>154986.696</td>\n",
              "      <td>121293.936</td>\n",
              "      <td>276280.632</td>\n",
              "      <td>7</td>\n",
              "      <td>1</td>\n",
              "    </tr>\n",
              "    <tr>\n",
              "      <th>7</th>\n",
              "      <td>Delaware</td>\n",
              "      <td>16.2</td>\n",
              "      <td>38</td>\n",
              "      <td>30</td>\n",
              "      <td>99</td>\n",
              "      <td>9028</td>\n",
              "      <td>146253.6</td>\n",
              "      <td>55576.368</td>\n",
              "      <td>43876.080</td>\n",
              "      <td>144791.064</td>\n",
              "      <td>8</td>\n",
              "      <td>0</td>\n",
              "    </tr>\n",
              "    <tr>\n",
              "      <th>8</th>\n",
              "      <td>District of Columbia</td>\n",
              "      <td>5.9</td>\n",
              "      <td>34</td>\n",
              "      <td>27</td>\n",
              "      <td>100</td>\n",
              "      <td>3568</td>\n",
              "      <td>21051.2</td>\n",
              "      <td>7157.408</td>\n",
              "      <td>5683.824</td>\n",
              "      <td>21051.200</td>\n",
              "      <td>9</td>\n",
              "      <td>0</td>\n",
              "    </tr>\n",
              "    <tr>\n",
              "      <th>9</th>\n",
              "      <td>Florida</td>\n",
              "      <td>17.9</td>\n",
              "      <td>21</td>\n",
              "      <td>29</td>\n",
              "      <td>94</td>\n",
              "      <td>191855</td>\n",
              "      <td>3434204.5</td>\n",
              "      <td>721182.945</td>\n",
              "      <td>995919.305</td>\n",
              "      <td>3228152.230</td>\n",
              "      <td>10</td>\n",
              "      <td>0</td>\n",
              "    </tr>\n",
              "  </tbody>\n",
              "</table>\n",
              "</div>"
            ],
            "text/plain": [
              "                  state  drvr_fatl_col_bmiles  ...  id  cluster\n",
              "0               Alabama                  18.8  ...   1        1\n",
              "1                Alaska                  18.1  ...   2        0\n",
              "2               Arizona                  18.6  ...   3        0\n",
              "3              Arkansas                  22.4  ...   4        0\n",
              "4            California                  12.0  ...   5        0\n",
              "5              Colorado                  13.6  ...   6        0\n",
              "6           Connecticut                  10.8  ...   7        1\n",
              "7              Delaware                  16.2  ...   8        0\n",
              "8  District of Columbia                   5.9  ...   9        0\n",
              "9               Florida                  17.9  ...  10        0\n",
              "\n",
              "[10 rows x 12 columns]"
            ]
          },
          "metadata": {
            "tags": []
          },
          "execution_count": 117
        }
      ]
    },
    {
      "cell_type": "markdown",
      "metadata": {
        "id": "EP0a_OvHopbJ",
        "colab_type": "text"
      },
      "source": [
        "#Visualize the feature differences between the clusters"
      ]
    },
    {
      "cell_type": "code",
      "metadata": {
        "id": "pxIPDiy1nCZ-",
        "colab_type": "code",
        "colab": {
          "base_uri": "https://localhost:8080/",
          "height": 302
        },
        "outputId": "d6ec46e2-5c6f-41a4-b3e9-2ba88164dd4e"
      },
      "source": [
        "new_df = pd.melt(all_data, id_vars=\"cluster\", var_name=\"measurement\", value_name=\"percent_fatal\", value_vars=features)\n",
        "sns.violinplot(x=new_df[\"percent_fatal\"], y=new_df[\"measurement\"], hue=new_df[\"cluster\"])"
      ],
      "execution_count": null,
      "outputs": [
        {
          "output_type": "execute_result",
          "data": {
            "text/plain": [
              "<matplotlib.axes._subplots.AxesSubplot at 0x7f643acaea58>"
            ]
          },
          "metadata": {
            "tags": []
          },
          "execution_count": 127
        },
        {
          "output_type": "display_data",
          "data": {
            "image/png": "[encoded data removed]",
            "text/plain": [
              "<Figure size 432x288 with 1 Axes>"
            ]
          },
          "metadata": {
            "tags": []
          }
        }
      ]
    },
    {
      "cell_type": "code",
      "metadata": {
        "id": "aKdBK7q2pewA",
        "colab_type": "code",
        "colab": {}
      },
      "source": [
        "all_data['target_var'] /= 1000\n"
      ],
      "execution_count": null,
      "outputs": []
    },
    {
      "cell_type": "code",
      "metadata": {
        "id": "3eEnoOVbqutn",
        "colab_type": "code",
        "colab": {}
      },
      "source": [
        "all_data['#speed'] /= 1000\n",
        "all_data['#alchol'] /= 1000\n",
        "all_data['#first'] /= 1000"
      ],
      "execution_count": null,
      "outputs": []
    },
    {
      "cell_type": "code",
      "metadata": {
        "id": "sNramcFJpc6n",
        "colab_type": "code",
        "colab": {
          "base_uri": "https://localhost:8080/",
          "height": 396
        },
        "outputId": "c03f40f3-0c2f-4c4a-b67b-b10583b28297"
      },
      "source": [
        "all_data.head(10)"
      ],
      "execution_count": null,
      "outputs": [
        {
          "output_type": "execute_result",
          "data": {
            "text/html": [
              "<div>\n",
              "<style scoped>\n",
              "    .dataframe tbody tr th:only-of-type {\n",
              "        vertical-align: middle;\n",
              "    }\n",
              "\n",
              "    .dataframe tbody tr th {\n",
              "        vertical-align: top;\n",
              "    }\n",
              "\n",
              "    .dataframe thead th {\n",
              "        text-align: right;\n",
              "    }\n",
              "</style>\n",
              "<table border=\"1\" class=\"dataframe\">\n",
              "  <thead>\n",
              "    <tr style=\"text-align: right;\">\n",
              "      <th></th>\n",
              "      <th>state</th>\n",
              "      <th>drvr_fatl_col_bmiles</th>\n",
              "      <th>perc_fatl_speed</th>\n",
              "      <th>perc_fatl_alcohol</th>\n",
              "      <th>perc_fatl_1st_time</th>\n",
              "      <th>million_miles_annually</th>\n",
              "      <th>target_var</th>\n",
              "      <th>#speed</th>\n",
              "      <th>#alchol</th>\n",
              "      <th>#first</th>\n",
              "      <th>id</th>\n",
              "      <th>cluster</th>\n",
              "    </tr>\n",
              "  </thead>\n",
              "  <tbody>\n",
              "    <tr>\n",
              "      <th>0</th>\n",
              "      <td>Alabama</td>\n",
              "      <td>18.8</td>\n",
              "      <td>39</td>\n",
              "      <td>30</td>\n",
              "      <td>80</td>\n",
              "      <td>64914</td>\n",
              "      <td>1220.3832</td>\n",
              "      <td>475.949448</td>\n",
              "      <td>366.114960</td>\n",
              "      <td>976.306560</td>\n",
              "      <td>1</td>\n",
              "      <td>1</td>\n",
              "    </tr>\n",
              "    <tr>\n",
              "      <th>1</th>\n",
              "      <td>Alaska</td>\n",
              "      <td>18.1</td>\n",
              "      <td>41</td>\n",
              "      <td>25</td>\n",
              "      <td>94</td>\n",
              "      <td>4593</td>\n",
              "      <td>83.1333</td>\n",
              "      <td>34.084653</td>\n",
              "      <td>20.783325</td>\n",
              "      <td>78.145302</td>\n",
              "      <td>2</td>\n",
              "      <td>0</td>\n",
              "    </tr>\n",
              "    <tr>\n",
              "      <th>2</th>\n",
              "      <td>Arizona</td>\n",
              "      <td>18.6</td>\n",
              "      <td>35</td>\n",
              "      <td>28</td>\n",
              "      <td>96</td>\n",
              "      <td>59575</td>\n",
              "      <td>1108.0950</td>\n",
              "      <td>387.833250</td>\n",
              "      <td>310.266600</td>\n",
              "      <td>1063.771200</td>\n",
              "      <td>3</td>\n",
              "      <td>0</td>\n",
              "    </tr>\n",
              "    <tr>\n",
              "      <th>3</th>\n",
              "      <td>Arkansas</td>\n",
              "      <td>22.4</td>\n",
              "      <td>18</td>\n",
              "      <td>26</td>\n",
              "      <td>95</td>\n",
              "      <td>32953</td>\n",
              "      <td>738.1472</td>\n",
              "      <td>132.866496</td>\n",
              "      <td>191.918272</td>\n",
              "      <td>701.239840</td>\n",
              "      <td>4</td>\n",
              "      <td>0</td>\n",
              "    </tr>\n",
              "    <tr>\n",
              "      <th>4</th>\n",
              "      <td>California</td>\n",
              "      <td>12.0</td>\n",
              "      <td>35</td>\n",
              "      <td>28</td>\n",
              "      <td>89</td>\n",
              "      <td>320784</td>\n",
              "      <td>3849.4080</td>\n",
              "      <td>1347.292800</td>\n",
              "      <td>1077.834240</td>\n",
              "      <td>3425.973120</td>\n",
              "      <td>5</td>\n",
              "      <td>0</td>\n",
              "    </tr>\n",
              "    <tr>\n",
              "      <th>5</th>\n",
              "      <td>Colorado</td>\n",
              "      <td>13.6</td>\n",
              "      <td>37</td>\n",
              "      <td>28</td>\n",
              "      <td>95</td>\n",
              "      <td>46606</td>\n",
              "      <td>633.8416</td>\n",
              "      <td>234.521392</td>\n",
              "      <td>177.475648</td>\n",
              "      <td>602.149520</td>\n",
              "      <td>6</td>\n",
              "      <td>0</td>\n",
              "    </tr>\n",
              "    <tr>\n",
              "      <th>6</th>\n",
              "      <td>Connecticut</td>\n",
              "      <td>10.8</td>\n",
              "      <td>46</td>\n",
              "      <td>36</td>\n",
              "      <td>82</td>\n",
              "      <td>31197</td>\n",
              "      <td>336.9276</td>\n",
              "      <td>154.986696</td>\n",
              "      <td>121.293936</td>\n",
              "      <td>276.280632</td>\n",
              "      <td>7</td>\n",
              "      <td>1</td>\n",
              "    </tr>\n",
              "    <tr>\n",
              "      <th>7</th>\n",
              "      <td>Delaware</td>\n",
              "      <td>16.2</td>\n",
              "      <td>38</td>\n",
              "      <td>30</td>\n",
              "      <td>99</td>\n",
              "      <td>9028</td>\n",
              "      <td>146.2536</td>\n",
              "      <td>55.576368</td>\n",
              "      <td>43.876080</td>\n",
              "      <td>144.791064</td>\n",
              "      <td>8</td>\n",
              "      <td>0</td>\n",
              "    </tr>\n",
              "    <tr>\n",
              "      <th>8</th>\n",
              "      <td>District of Columbia</td>\n",
              "      <td>5.9</td>\n",
              "      <td>34</td>\n",
              "      <td>27</td>\n",
              "      <td>100</td>\n",
              "      <td>3568</td>\n",
              "      <td>21.0512</td>\n",
              "      <td>7.157408</td>\n",
              "      <td>5.683824</td>\n",
              "      <td>21.051200</td>\n",
              "      <td>9</td>\n",
              "      <td>0</td>\n",
              "    </tr>\n",
              "    <tr>\n",
              "      <th>9</th>\n",
              "      <td>Florida</td>\n",
              "      <td>17.9</td>\n",
              "      <td>21</td>\n",
              "      <td>29</td>\n",
              "      <td>94</td>\n",
              "      <td>191855</td>\n",
              "      <td>3434.2045</td>\n",
              "      <td>721.182945</td>\n",
              "      <td>995.919305</td>\n",
              "      <td>3228.152230</td>\n",
              "      <td>10</td>\n",
              "      <td>0</td>\n",
              "    </tr>\n",
              "  </tbody>\n",
              "</table>\n",
              "</div>"
            ],
            "text/plain": [
              "                  state  drvr_fatl_col_bmiles  ...  id  cluster\n",
              "0               Alabama                  18.8  ...   1        1\n",
              "1                Alaska                  18.1  ...   2        0\n",
              "2               Arizona                  18.6  ...   3        0\n",
              "3              Arkansas                  22.4  ...   4        0\n",
              "4            California                  12.0  ...   5        0\n",
              "5              Colorado                  13.6  ...   6        0\n",
              "6           Connecticut                  10.8  ...   7        1\n",
              "7              Delaware                  16.2  ...   8        0\n",
              "8  District of Columbia                   5.9  ...   9        0\n",
              "9               Florida                  17.9  ...  10        0\n",
              "\n",
              "[10 rows x 12 columns]"
            ]
          },
          "metadata": {
            "tags": []
          },
          "execution_count": 132
        }
      ]
    },
    {
      "cell_type": "markdown",
      "metadata": {
        "id": "iJD_nJ13rFs-",
        "colab_type": "text"
      },
      "source": [
        "#Compute the number of accidents within each cluster"
      ]
    },
    {
      "cell_type": "code",
      "metadata": {
        "id": "eTsY2NrIrHyx",
        "colab_type": "code",
        "colab": {
          "base_uri": "https://localhost:8080/",
          "height": 102
        },
        "outputId": "7e635499-e177-4682-a2cc-eef139e8ed0b"
      },
      "source": [
        "all_data.groupby('cluster').target_var.size()"
      ],
      "execution_count": null,
      "outputs": [
        {
          "output_type": "execute_result",
          "data": {
            "text/plain": [
              "cluster\n",
              "0    22\n",
              "1    18\n",
              "2    11\n",
              "Name: target_var, dtype: int64"
            ]
          },
          "metadata": {
            "tags": []
          },
          "execution_count": 135
        }
      ]
    },
    {
      "cell_type": "markdown",
      "metadata": {
        "id": "xorRyZB1r6zh",
        "colab_type": "text"
      },
      "source": [
        "#Make a decision when there is no clear right choice"
      ]
    },
    {
      "cell_type": "code",
      "metadata": {
        "id": "EH8qXAnur8Pf",
        "colab_type": "code",
        "colab": {
          "base_uri": "https://localhost:8080/",
          "height": 173
        },
        "outputId": "878ded29-189a-4a10-a6d8-e9f97c4920e9"
      },
      "source": [
        "all_data.groupby('cluster').target_var.agg(['sum','mean'])"
      ],
      "execution_count": null,
      "outputs": [
        {
          "output_type": "execute_result",
          "data": {
            "text/html": [
              "<div>\n",
              "<style scoped>\n",
              "    .dataframe tbody tr th:only-of-type {\n",
              "        vertical-align: middle;\n",
              "    }\n",
              "\n",
              "    .dataframe tbody tr th {\n",
              "        vertical-align: top;\n",
              "    }\n",
              "\n",
              "    .dataframe thead th {\n",
              "        text-align: right;\n",
              "    }\n",
              "</style>\n",
              "<table border=\"1\" class=\"dataframe\">\n",
              "  <thead>\n",
              "    <tr style=\"text-align: right;\">\n",
              "      <th></th>\n",
              "      <th>sum</th>\n",
              "      <th>mean</th>\n",
              "    </tr>\n",
              "    <tr>\n",
              "      <th>cluster</th>\n",
              "      <th></th>\n",
              "      <th></th>\n",
              "    </tr>\n",
              "  </thead>\n",
              "  <tbody>\n",
              "    <tr>\n",
              "      <th>0</th>\n",
              "      <td>19764.3291</td>\n",
              "      <td>898.378595</td>\n",
              "    </tr>\n",
              "    <tr>\n",
              "      <th>1</th>\n",
              "      <td>16405.3159</td>\n",
              "      <td>911.406439</td>\n",
              "    </tr>\n",
              "    <tr>\n",
              "      <th>2</th>\n",
              "      <td>9465.5654</td>\n",
              "      <td>860.505945</td>\n",
              "    </tr>\n",
              "  </tbody>\n",
              "</table>\n",
              "</div>"
            ],
            "text/plain": [
              "                sum        mean\n",
              "cluster                        \n",
              "0        19764.3291  898.378595\n",
              "1        16405.3159  911.406439\n",
              "2         9465.5654  860.505945"
            ]
          },
          "metadata": {
            "tags": []
          },
          "execution_count": 136
        }
      ]
    },
    {
      "cell_type": "markdown",
      "metadata": {
        "id": "Jw5wPurxsJpo",
        "colab_type": "text"
      },
      "source": [
        "## It can be observed that we need to consider those states in CLUSTER 1 to reduce the accidents as they have a larger mean"
      ]
    },
    {
      "cell_type": "code",
      "metadata": {
        "id": "RtYvrliYsTsW",
        "colab_type": "code",
        "colab": {
          "base_uri": "https://localhost:8080/",
          "height": 697
        },
        "outputId": "ddac38e3-6b0f-41c7-b691-4c306f46f6f6"
      },
      "source": [
        "print('States in USA that belong to cluster 1 are:')\n",
        "print(all_data[all_data['cluster']==1].state)"
      ],
      "execution_count": null,
      "outputs": [
        {
          "output_type": "stream",
          "text": [
            "States in USA that belong to cluster 1 are:\n",
            "0            Alabama\n",
            "6        Connecticut\n",
            "11            Hawaii\n",
            "19             Maine\n",
            "25          Missouri\n",
            "26           Montana\n",
            "29     New Hampshire\n",
            "33    North Carolina\n",
            "34      North Dakota\n",
            "35              Ohio\n",
            "38      Pennsylvania\n",
            "39      Rhode Island\n",
            "40    South Carolina\n",
            "41      South Dakota\n",
            "43             Texas\n",
            "47        Washington\n",
            "49         Wisconsin\n",
            "50           Wyoming\n",
            "Name: state, dtype: object\n",
            "States in USA that belong to cluster 1 are:\n",
            "0            Alabama\n",
            "6        Connecticut\n",
            "11            Hawaii\n",
            "19             Maine\n",
            "25          Missouri\n",
            "26           Montana\n",
            "29     New Hampshire\n",
            "33    North Carolina\n",
            "34      North Dakota\n",
            "35              Ohio\n",
            "38      Pennsylvania\n",
            "39      Rhode Island\n",
            "40    South Carolina\n",
            "41      South Dakota\n",
            "43             Texas\n",
            "47        Washington\n",
            "49         Wisconsin\n",
            "50           Wyoming\n",
            "Name: state, dtype: object\n"
          ],
          "name": "stdout"
        }
      ]
    }
  ]
}